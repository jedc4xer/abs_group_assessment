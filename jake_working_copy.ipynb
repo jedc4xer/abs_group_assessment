{
 "cells": [
  {
   "cell_type": "markdown",
   "id": "784a4563-2aca-4022-90ef-bfbb3d518f7e",
   "metadata": {},
   "source": [
    "# Characteristics of Businesses - Group Exercise"
   ]
  },
  {
   "cell_type": "code",
   "execution_count": 1,
   "id": "ba6382de-0e6d-4039-922a-8ef29d824568",
   "metadata": {},
   "outputs": [],
   "source": [
    "import pandas as pd\n",
    "import requests\n",
    "import matplotlib.pyplot as plt\n",
    "import seaborn as sns\n",
    "from textwrap import wrap\n",
    "import numpy as np\n",
    "\n",
    "tech_variables = 'https://api.census.gov/data/2018/abstcb/variables.html'\n",
    "owner_variables = 'https://api.census.gov/data/2018/abscbo/variables.html'\n",
    "characteristics_variables = 'https://api.census.gov/data/2018/abscb/variables.html'\n",
    "company_summary_variables = 'https://api.census.gov/data/2018/abscs/variables.html'\n"
   ]
  },
  {
   "cell_type": "markdown",
   "id": "8cf9d2c7-de27-4f04-89a3-841448a80583",
   "metadata": {},
   "source": [
    "### Get Tables of Variables"
   ]
  },
  {
   "cell_type": "code",
   "execution_count": 2,
   "id": "fa3bde3f-8107-4bc0-aa21-9e7f18d67437",
   "metadata": {},
   "outputs": [],
   "source": [
    "tech_vars = pd.read_html(tech_variables)[0]\n",
    "owner_vars = pd.read_html(owner_variables)[0]\n",
    "characteristic_vars = pd.read_html(characteristics_variables)[0]\n",
    "company_summary_vars = pd.read_html(company_summary_variables)[0]\n",
    "\n",
    "tech_vars = tech_vars[[_ for _ in tech_vars.columns[:2]]]\n",
    "owner_vars = owner_vars[[_ for _ in owner_vars.columns[:2]]]\n",
    "characteristic_vars = characteristic_vars[[_ for _ in characteristic_vars.columns[:2]]]\n",
    "company_summary_vars = company_summary_vars[[_ for _ in company_summary_vars.columns[:2]]] \n",
    "\n",
    "tech_vars.rename(columns = {'Label': 'Tech Labels'}, inplace = True)\n",
    "owner_vars.rename(columns = {'Label': 'Owner Labels'}, inplace = True)\n",
    "characteristic_vars.rename(columns = {'Label': 'Characteristic Labels'}, inplace = True)\n",
    "company_summary_vars.rename(columns = {'Label': 'Company Summary Labels'}, inplace = True)"
   ]
  },
  {
   "cell_type": "code",
   "execution_count": 3,
   "id": "0ab83092-c85f-423a-870f-0b436d102e1e",
   "metadata": {},
   "outputs": [],
   "source": [
    "grouped_tables = pd.merge(tech_vars, owner_vars, left_on = 'Name', right_on = 'Name', how = 'outer')\n",
    "grouped_tables = pd.merge(grouped_tables, characteristic_vars, left_on = 'Name', right_on = 'Name', how = 'outer')\n",
    "grouped_tables = pd.merge(grouped_tables, company_summary_vars , left_on = 'Name', right_on = 'Name', how = 'outer')\n",
    "grouped_tables.fillna(\"-\", inplace = True)\n",
    "grouped_tables = grouped_tables[(~grouped_tables['Tech Labels'].str.contains('Standard error|standard error'))]\n",
    "grouped_tables = grouped_tables[(~grouped_tables['Owner Labels'].str.contains('Standard error|standard error'))]\n",
    "grouped_tables = grouped_tables[(~grouped_tables['Characteristic Labels'].str.contains('Standard error|standard error'))]\n",
    "grouped_tables = grouped_tables[(~grouped_tables['Company Summary Labels'].str.contains('Standard error|standard error'))]\n",
    "\n",
    "grouped_tables.reset_index(drop = True, inplace = True)\n",
    "grouped_tables = grouped_tables[:-2]"
   ]
  },
  {
   "cell_type": "code",
   "execution_count": 4,
   "id": "c5ba33c4-e741-4ac6-a29c-24627bce46bd",
   "metadata": {},
   "outputs": [],
   "source": [
    "# grouped_tables.sort_values(by = 'Name', ascending = False)\n",
    "vars_of_interest = [\n",
    "    'NAICS2017',\n",
    "    'YIBSZFI',\n",
    "    'SEX',\n",
    "    'QDESC',\n",
    "    'NSFSZFI',\n",
    "    'GEO_ID',\n",
    "    'RACE_GROUP',\n",
    "    'BUSCHAR',\n",
    "    'OWNER_RACE',\n",
    "    'OWNER_SEX']\n",
    "target_subset = grouped_tables[(grouped_tables['Name'].isin(vars_of_interest))]\n",
    "target_subset = target_subset[['Name','Company Summary Labels','Characteristic Labels','Owner Labels','Tech Labels']]"
   ]
  },
  {
   "cell_type": "markdown",
   "id": "b499f283-812a-41ba-903b-2f5c7a7fc4e7",
   "metadata": {},
   "source": [
    "### Build variable strings to pass to api call\n"
   ]
  },
  {
   "cell_type": "code",
   "execution_count": 5,
   "id": "5ad0e9b9-b4c8-42d4-ac89-5170e2f3edd3",
   "metadata": {},
   "outputs": [],
   "source": [
    "variable_dict = {}\n",
    "for i,label in enumerate(target_subset.columns[1:]):\n",
    "    variable_list = []\n",
    "    for item in target_subset[(target_subset[label] != \"-\")].Name.tolist():\n",
    "        variable_list.append(item)\n",
    "        variable_list.append(f'{item}_LABEL')\n",
    "    variable_list = [_ for _ in variable_list if _ not in ['GEO_ID_LABEL']]#, 'QDESC_LABEL']]\n",
    "    in_table = \"NAME,\" + \",\".join(variable_list)\n",
    "    variable_dict[i] = in_table"
   ]
  },
  {
   "cell_type": "code",
   "execution_count": 6,
   "id": "3815b474-ad8c-4636-a450-1aab7828ef18",
   "metadata": {},
   "outputs": [
    {
     "name": "stdout",
     "output_type": "stream",
     "text": [
      "https://api.census.gov/data/2018/abscs?get=NAME,GEO_ID,NAICS2017,NAICS2017_LABEL,RACE_GROUP,RACE_GROUP_LABEL,SEX,SEX_LABEL,YIBSZFI,YIBSZFI_LABEL,FIRMPDEMP&for=us:*\n",
      "\n",
      "https://api.census.gov/data/2018/abscb?get=NAME,GEO_ID,NAICS2017,NAICS2017_LABEL,RACE_GROUP,RACE_GROUP_LABEL,SEX,SEX_LABEL,QDESC,QDESC_LABEL,BUSCHAR,BUSCHAR_LABEL,YIBSZFI,YIBSZFI_LABEL,FIRMPDEMP&for=state:*\n",
      "\n",
      "https://api.census.gov/data/2018/abscbo?get=NAME,GEO_ID,NAICS2017,NAICS2017_LABEL,OWNER_RACE,OWNER_RACE_LABEL,OWNER_SEX,OWNER_SEX_LABEL,QDESC,QDESC_LABEL,OWNCHAR,OWNCHAR_LABEL&for=us:*&for=QDESC_LABEL=YRACQBUS\n",
      "\n",
      "https://api.census.gov/data/2018/abstcb?get=NAME,GEO_ID,NAICS2017,NAICS2017_LABEL,NSFSZFI,NSFSZFI_LABEL,RACE_GROUP,RACE_GROUP_LABEL,SEX,SEX_LABEL,FIRMPDEMP,TECHUSE&for=state:*\n",
      "\n"
     ]
    }
   ],
   "source": [
    "industry_code = '61'\n",
    "qdesc1 = 'B27'\n",
    "links = [\n",
    "    f'https://api.census.gov/data/2018/abscs?get={variable_dict[0]},FIRMPDEMP&for=us:*', #I CHANGED THIS from for=state:*\n",
    "    f'https://api.census.gov/data/2018/abscb?get={variable_dict[1]},FIRMPDEMP&for=state:*',\n",
    "    f'https://api.census.gov/data/2018/abscbo?get={variable_dict[2]},OWNCHAR,OWNCHAR_LABEL&for=us:*&for=QDESC_LABEL=YRACQBUS',\n",
    "    f'https://api.census.gov/data/2018/abstcb?get={variable_dict[3]},FIRMPDEMP,TECHUSE&for=state:*',\n",
    "]\n",
    "\n",
    "def get_data_frame(url):\n",
    "    return pd.read_csv(url)\n",
    "    \n",
    "for link in links:\n",
    "    print(link)\n",
    "    print(\"\")"
   ]
  },
  {
   "cell_type": "markdown",
   "id": "cecf9f81-56ce-4f09-989c-ef175c478977",
   "metadata": {},
   "source": [
    "### The cell below is where the dataframes are first stored."
   ]
  },
  {
   "cell_type": "code",
   "execution_count": 7,
   "id": "e1be9681-bae6-49a4-9ce5-26b8fca1c276",
   "metadata": {},
   "outputs": [],
   "source": [
    "comp_sum_df = get_data_frame(links[0]) # Company Summary\n",
    "bus_char_df = business_char_df = get_data_frame(links[1]) # Business Characteristics\n",
    "bus_own_df = business_own_df = get_data_frame(links[2]) # Business Owners\n",
    "bus_tech_df = get_data_frame(links[3]) # Business Tech   \n",
    "\n"
   ]
  },
  {
   "cell_type": "code",
   "execution_count": 8,
   "id": "a1bfdc01-d8e7-46c6-ab2b-77ca924c8598",
   "metadata": {},
   "outputs": [],
   "source": [
    "df_collection = [comp_sum_df, bus_char_df, bus_own_df, bus_tech_df]    \n",
    "df_names = ['comp_sum_df', 'bus_char_df', 'bus_own_df', 'bus_tech_df']   "
   ]
  },
  {
   "cell_type": "markdown",
   "id": "afe0a9a6-75e3-4756-a944-a8c01f687021",
   "metadata": {},
   "source": [
    "### Clean DataFrames"
   ]
  },
  {
   "cell_type": "code",
   "execution_count": 9,
   "id": "3e313959-08d8-4272-bd5b-d20d7b744be3",
   "metadata": {},
   "outputs": [],
   "source": [
    "drop_list = [\n",
    "    'race_group','sex','yibszfi','qdesc','buschar',\n",
    "    'owner_race','owner_sex','us','ownchar'\n",
    "]\n",
    "\n",
    "for df in df_collection:\n",
    "    column_names = [_ for _ in df.columns.tolist()]\n",
    "    new_column_names = [_.replace(\"[[\",\"\").replace('\"',\"\").replace(\"]\",\"\").lower() for _ in column_names]\n",
    "\n",
    "    df.columns = new_column_names\n",
    "    df.drop(columns = [_ for _ in new_column_names if ('unnamed' in _ or _ in drop_list)],inplace = True)\n",
    "    df['name'] = df['name'].apply(lambda x: x.replace(\"[\",\"\").replace('\"',\"\"))\n",
    "    \n",
    "    if 'sex_label' in df.columns:\n",
    "        df.rename(columns = {'sex_label': 'gender'}, inplace = True)\n",
    "    \n",
    "    if 'owner_sex_label' in df.columns:\n",
    "        df.rename(columns = {'owner_sex_label': 'gender'}, inplace = True)\n",
    "    \n",
    "    if 'naics2017_label' in df.columns:\n",
    "        df.rename(columns = {'naics2017_label': 'industry'}, inplace = True)\n",
    "        \n",
    "    if 'naics2017' in df.columns:\n",
    "        df.rename(columns = {'naics2017': 'industry_code'}, inplace = True)"
   ]
  },
  {
   "cell_type": "markdown",
   "id": "8c6d9be3-f371-4e29-b3ab-a625f1d2a02c",
   "metadata": {},
   "source": [
    "### Display some info about dataframes."
   ]
  },
  {
   "cell_type": "code",
   "execution_count": 10,
   "id": "14a99328-662e-4daa-9995-fb54c457c978",
   "metadata": {},
   "outputs": [],
   "source": [
    "#for i,df in enumerate(df_collection):\n",
    "#    print('\\n############# NEW DATAFRAME ################')\n",
    "#    print('Displaying column value counts where there are fewer than 10 unique values in the column.')\n",
    "#    print(f'\\n---  DataFrame: {df_names[i]} ---------------------')\n",
    "#    print(f'Columns: {\", \".join(df.columns.tolist())}')\n",
    "#    for column in df:\n",
    "#        if len(df[column].unique().tolist()) < 10:\n",
    "#            print(df[column].value_counts())\n",
    "#            print(\"\")\n",
    "#    print('############# END OF DATAFRAME INFO ################\\n')"
   ]
  },
  {
   "cell_type": "code",
   "execution_count": 11,
   "id": "ae91d546-9d72-4ab2-b106-ff1338a509ed",
   "metadata": {},
   "outputs": [],
   "source": [
    "comp_sum_df[['industry_code','industry']].drop_duplicates();"
   ]
  },
  {
   "cell_type": "code",
   "execution_count": 12,
   "id": "79e15eed-15ca-4efe-b189-1df6216d3f6c",
   "metadata": {},
   "outputs": [],
   "source": [
    "gender_by_state_cs = comp_sum_df[\n",
    "    (comp_sum_df['industry_code'].isin(['54','52']))\n",
    "    ].groupby(by = ['name','industry','gender']\n",
    "             )[['gender']].agg('count').rename(columns = {'gender': 'gender_count'}).reset_index()\n",
    "\n",
    "gender_by_state_cs.sort_values(by = ['name', 'industry', 'gender'], inplace = True)\n",
    "gs = gender_by_state_cs\n"
   ]
  },
  {
   "cell_type": "code",
   "execution_count": 13,
   "id": "65e9b15d-962f-4459-b7f9-05467c932808",
   "metadata": {},
   "outputs": [
    {
     "name": "stdout",
     "output_type": "stream",
     "text": [
      "0.3333333333333333\n"
     ]
    }
   ],
   "source": [
    "print(len(comp_sum_df.name.unique())/3)"
   ]
  },
  {
   "cell_type": "code",
   "execution_count": 14,
   "id": "d72a927b-375b-4e99-a593-d107136289f3",
   "metadata": {},
   "outputs": [],
   "source": [
    "#Cleaning for first visual\n",
    "workingDF = df_collection[0]\n",
    "workingDF = workingDF[workingDF['firmpdemp'] != 0]\n",
    "workingDF = workingDF[workingDF['yibszfi_label'] == 'All firms']\n",
    "workingDF = workingDF[workingDF['race_group_label'] == 'Total']\n",
    "\n",
    "workingDF = workingDF[workingDF['industry'] != 'Industries not classified']\n",
    "\n",
    "workingDF.drop(['geo_id', 'name', 'industry_code', 'race_group_label', 'yibszfi_label'], axis = 1, inplace = True)"
   ]
  },
  {
   "cell_type": "code",
   "execution_count": 15,
   "id": "d2e6d71b-779b-4bae-8b7a-a32c50d2bfad",
   "metadata": {},
   "outputs": [],
   "source": [
    "workingDF = workingDF[workingDF['gender'] != 'Total']\n",
    "workingDF = workingDF[workingDF['industry'] != 'Total for all sectors']\n",
    "\n",
    "workingDF = workingDF.sort_values(by = 'firmpdemp', ascending = False)\n",
    "labels = workingDF['industry'].unique()\n",
    "labels = [ '\\n'.join(wrap(l, 30)) for l in labels ]"
   ]
  },
  {
   "cell_type": "code",
   "execution_count": null,
   "id": "4f2bf19a-097a-4c57-8750-f771358abbc5",
   "metadata": {},
   "outputs": [],
   "source": []
  },
  {
   "cell_type": "code",
   "execution_count": 16,
   "id": "e8327e54-841f-4e4c-b8ed-5440bbac41ad",
   "metadata": {},
   "outputs": [
    {
     "data": {
      "image/png": "[encoded data removed]",
      "text/plain": [
       "<Figure size 720x720 with 1 Axes>"
      ]
     },
     "metadata": {
      "needs_background": "light"
     },
     "output_type": "display_data"
    }
   ],
   "source": [
    "plt.figure(figsize=(10, 10))\n",
    "\n",
    "ax = sns.barplot(data = workingDF, y = 'industry', x = 'firmpdemp', hue = 'gender')\n",
    "ax.set(xlabel =\"Number of Firms\", ylabel = \"Industry\", title ='Majority Ownership of US Firms by Industry and Gender')\n",
    "ax.set_yticklabels(labels)\n",
    "plt.tight_layout()\n",
    "plt.show()\n",
    "ax.figure.savefig('visual1.png')\n",
    "#plt.xticks(rotation = 90)\n",
    "#Education Services has the highest female ownership:male ownership ratio, followed by health care and social services\n",
    "#The most male-dominated industry tracked is construction\n",
    "#The industry with the greatest occurrence of equal male/female ownership was in retail trade\n",
    "#US population is ~50.5% female"
   ]
  },
  {
   "cell_type": "code",
   "execution_count": 17,
   "id": "d068e507-17f0-4730-a212-476162108bdf",
   "metadata": {},
   "outputs": [],
   "source": [
    "#Investigate construction gender disparity by state\n",
    "#Do a lambda to calculate ratio of male:female "
   ]
  },
  {
   "cell_type": "code",
   "execution_count": 18,
   "id": "a1ca82b4-ceca-46c4-b2e6-ead88de2c7be",
   "metadata": {},
   "outputs": [],
   "source": [
    "workingDF2 = df_collection[0]\n",
    "workingDF2 = workingDF2[workingDF2['firmpdemp'] != 0]\n",
    "workingDF2 = workingDF2[workingDF2['yibszfi_label'] == 'All firms']\n",
    "workingDF2 = workingDF2[workingDF2['gender'] == 'Total']\n",
    "\n",
    "workingDF2 = workingDF2[workingDF2['industry'] != 'Industries not classified']\n",
    "\n",
    "workingDF2.drop(['geo_id', 'name', 'industry_code', 'gender', 'yibszfi_label'], axis = 1, inplace = True)\n",
    "workingDF2 = workingDF2.query('race_group_label not in (\"Total\", \"Nonminority\", \"Minority\", \"Equally minority/nonminority\")')\n",
    "workingDF2 = workingDF2[workingDF2['industry'] != 'Total for all sectors']"
   ]
  },
  {
   "cell_type": "code",
   "execution_count": 19,
   "id": "744ba830-7abd-43c5-9078-cae6848f1fb7",
   "metadata": {},
   "outputs": [],
   "source": [
    "workingDF2 = workingDF2.sort_values(by = 'firmpdemp', ascending = False)"
   ]
  },
  {
   "cell_type": "code",
   "execution_count": 20,
   "id": "2167862f-638c-41c1-98f8-256f55c720b1",
   "metadata": {},
   "outputs": [],
   "source": [
    "#plt.figure(figsize=(20, 10))\n",
    "\n",
    "#ax2 = sns.barplot(data = workingDF2, x = 'industry', y = 'firmpdemp', hue = 'race_group_label')\n",
    "#ax2.set(xlabel =\"Industry\", ylabel = \"Number of Firms\", title ='Majority Ownership of US Firms by Industry and Racial Group')\n",
    "#plt.xticks(rotation = 90);"
   ]
  },
  {
   "cell_type": "markdown",
   "id": "d7997158-e014-4e54-838a-838daefb905c",
   "metadata": {},
   "source": [
    "Note that for this breakdown, whether the respondents identify as hispanic is not considered (the census categorizes being hispanic as an ethnic category rather than a racial one.) People that identify as hispanic would also made a selection for their race.\n",
    "In 2020 the racial breakdown of the US is as follows\n",
    "\n",
    "White 61.6%\n",
    "\n",
    "Black or African American 12.4%\n",
    "\n",
    "Two or more races 10.2%\n",
    "\n",
    "Some other race 8.4%\n",
    "\n",
    "Asian 6.0%\n",
    "\n",
    "Native Americans and Alaska Natives 1.1%\n",
    "\n",
    "Native Hawaiians and Other Pacific Islanders 0.2%\n",
    "\n",
    "Data is gathered from https://www.census.gov/library/visualizations/interactive/race-and-ethnicity-in-the-united-state-2010-and-2020-census.html\n"
   ]
  },
  {
   "cell_type": "code",
   "execution_count": 21,
   "id": "14988596-ccc7-4465-936b-968e0e10ee8c",
   "metadata": {},
   "outputs": [],
   "source": [
    "workingDF3 = df_collection[0]\n",
    "workingDF3 = workingDF3[workingDF3['firmpdemp'] != 0]\n",
    "workingDF3 = workingDF3[workingDF3['yibszfi_label'] == 'All firms']\n",
    "workingDF3 = workingDF3[workingDF3['gender'] == 'Total']\n",
    "\n",
    "workingDF3 = workingDF3[workingDF3['industry'] != 'Industries not classified']\n",
    "\n",
    "workingDF3.drop(['geo_id', 'name', 'industry_code', 'gender', 'yibszfi_label'], axis = 1, inplace = True)\n",
    "workingDF3 = workingDF3.query('race_group_label  in (\"Nonminority\", \"Minority\")') #, \"Equally minority/nonminority\"\n",
    "workingDF3 = workingDF3[workingDF3['industry'] != 'Total for all sectors']\n",
    "\n",
    "workingDF3 = workingDF3.sort_values(by = 'firmpdemp', ascending = False)\n",
    "\n",
    "labels3 = workingDF3['industry'].unique()\n",
    "labels3 = [ '\\n'.join(wrap(l, 30)) for l in labels ]"
   ]
  },
  {
   "cell_type": "code",
   "execution_count": 22,
   "id": "839a8e3e-b4a6-46fd-aef5-7cb85c0ae73d",
   "metadata": {},
   "outputs": [
    {
     "data": {
      "image/png": "[encoded data removed]",
      "text/plain": [
       "<Figure size 720x720 with 1 Axes>"
      ]
     },
     "metadata": {
      "needs_background": "light"
     },
     "output_type": "display_data"
    }
   ],
   "source": [
    "plt.figure(figsize=(10, 10))\n",
    "\n",
    "\n",
    "ax3 = sns.barplot(data = workingDF3, y = 'industry', x = 'firmpdemp', hue = 'race_group_label')\n",
    "ax3.set_yticklabels(labels3)   #This is the line that causes all the output\n",
    "ax3.set(xlabel =\"Number of Firms\", ylabel = \"Industry\", title ='Majority Ownership of US Firms by Industry and Minority Status')\n",
    "#plt.xticks(rotation = 90)\n",
    "plt.legend(loc = 'lower right')\n",
    "plt.tight_layout()\n",
    "plt.show()\n",
    "ax3.figure.savefig('visual2.png')"
   ]
  },
  {
   "cell_type": "markdown",
   "id": "9c19cc5e-533c-4333-8c04-73859e398d95",
   "metadata": {},
   "source": [
    "Accommodation and food services is (319,257 / 514,076) = 62.1% Nonminority owned, which nearly matches the 61.6% of the US population that is white. However, this was the industry with the highest proportion of minority to nonminority ownership, implying minorities are underrepresented in all other tracked industries."
   ]
  },
  {
   "cell_type": "code",
   "execution_count": 23,
   "id": "d84bdaaa-70bc-4fd5-a9e4-d48429be7d28",
   "metadata": {},
   "outputs": [],
   "source": [
    "#Grabbing the state-specific version of the business summary table and doing basic cleaning\n",
    "state_df = requests.request(\"GET\", f'https://api.census.gov/data/2018/abscs?get={variable_dict[0]},FIRMPDEMP&for=state:*').json()\n",
    "state_df = pd.DataFrame(state_df)\n",
    "state_df.columns = state_df.iloc[0]\n",
    "state_df.drop(index=df.index[0],axis=0,inplace=True)\n",
    "#state_df.drop(['GEO_ID', 'NAICS2017', 'NAICS2017_LABEL', 'RACE_GROUP', 'RACE_GROUP_LABEL', 'SEX', 'YIBSZFI', 'YIBSZFI_LABEL', 'state'], axis = 1, inplace=True)\n"
   ]
  },
  {
   "cell_type": "code",
   "execution_count": null,
   "id": "e9724af1-c33a-4d2b-bee9-ffe2fe47a11e",
   "metadata": {},
   "outputs": [],
   "source": []
  },
  {
   "cell_type": "code",
   "execution_count": 24,
   "id": "f8f6ea47-fbcf-4773-99b8-612d8bdc9bf6",
   "metadata": {},
   "outputs": [],
   "source": [
    "state_df = state_df[state_df['NAICS2017_LABEL'] == 'Construction']\n",
    "state_df = state_df[state_df['SEX_LABEL'] != 'Total']\n",
    "state_df = state_df[state_df['RACE_GROUP_LABEL'] == 'Total']\n",
    "\n",
    "state_df = state_df[state_df['YIBSZFI_LABEL'] == 'All firms']\n",
    "state_df = state_df[state_df['SEX_LABEL'] != 'Equally male/female']\n",
    "state_df.drop(['GEO_ID', 'NAICS2017', 'NAICS2017_LABEL', 'RACE_GROUP', 'RACE_GROUP_LABEL', 'SEX', 'YIBSZFI', 'YIBSZFI_LABEL', 'state'], axis = 1, inplace=True)\n"
   ]
  },
  {
   "cell_type": "code",
   "execution_count": 25,
   "id": "f6a324c6-6630-441d-a8fe-d1f76f6d70cd",
   "metadata": {},
   "outputs": [
    {
     "data": {
      "text/plain": [
       "(51, 3)"
      ]
     },
     "execution_count": 25,
     "metadata": {},
     "output_type": "execute_result"
    }
   ],
   "source": [
    "state_df.sort_values('NAME', inplace=True)\n",
    "male_df = state_df[state_df['SEX_LABEL'] == 'Male'].copy()\n",
    "female_df = state_df[state_df['SEX_LABEL'] == 'Female'].copy()\n",
    "male_df.reset_index(inplace=True)\n",
    "female_df.reset_index(inplace=True)\n",
    "male_df.drop('index', axis = 1, inplace=True)\n",
    "female_df.drop('index', axis = 1, inplace=True)\n",
    "male_df.shape"
   ]
  },
  {
   "cell_type": "code",
   "execution_count": 26,
   "id": "98a845de-b932-401d-a2ff-012325f79412",
   "metadata": {},
   "outputs": [],
   "source": [
    "newdf = male_df.copy()\n",
    "newdf.drop('SEX_LABEL', axis = 1, inplace=True)\n",
    "female_df.drop('SEX_LABEL', axis = 1, inplace=True)\n",
    "newdf.rename(columns = {'FIRMPDEMP':'Male'}, inplace = True)\n",
    "female_df.rename(columns = {'FIRMPDEMP':'Female'}, inplace = True)\n",
    "newdf = newdf.merge(female_df, on = 'NAME')"
   ]
  },
  {
   "cell_type": "code",
   "execution_count": 27,
   "id": "5f222df6-adcf-47f9-a3cd-83a74720b768",
   "metadata": {},
   "outputs": [],
   "source": [
    "newdf = newdf[newdf['Male'] != '0']\n",
    "newdf = newdf.astype({'Male':int,'Female':int}, copy=True, errors='raise')\n"
   ]
  },
  {
   "cell_type": "code",
   "execution_count": 28,
   "id": "ac6f01d9-a317-497f-8c16-a51095ff29a0",
   "metadata": {},
   "outputs": [
    {
     "data": {
      "text/html": [
       "<div>\n",
       "<style scoped>\n",
       "    .dataframe tbody tr th:only-of-type {\n",
       "        vertical-align: middle;\n",
       "    }\n",
       "\n",
       "    .dataframe tbody tr th {\n",
       "        vertical-align: top;\n",
       "    }\n",
       "\n",
       "    .dataframe thead th {\n",
       "        text-align: right;\n",
       "    }\n",
       "</style>\n",
       "<table border=\"1\" class=\"dataframe\">\n",
       "  <thead>\n",
       "    <tr style=\"text-align: right;\">\n",
       "      <th></th>\n",
       "      <th>NAME</th>\n",
       "      <th>RatioFemaleToMale</th>\n",
       "    </tr>\n",
       "  </thead>\n",
       "  <tbody>\n",
       "    <tr>\n",
       "      <th>43</th>\n",
       "      <td>Texas</td>\n",
       "      <td>0.189970</td>\n",
       "    </tr>\n",
       "    <tr>\n",
       "      <th>13</th>\n",
       "      <td>Illinois</td>\n",
       "      <td>0.172453</td>\n",
       "    </tr>\n",
       "    <tr>\n",
       "      <th>35</th>\n",
       "      <td>Ohio</td>\n",
       "      <td>0.171025</td>\n",
       "    </tr>\n",
       "    <tr>\n",
       "      <th>33</th>\n",
       "      <td>North Carolina</td>\n",
       "      <td>0.168343</td>\n",
       "    </tr>\n",
       "    <tr>\n",
       "      <th>2</th>\n",
       "      <td>Arizona</td>\n",
       "      <td>0.164843</td>\n",
       "    </tr>\n",
       "    <tr>\n",
       "      <th>46</th>\n",
       "      <td>Virginia</td>\n",
       "      <td>0.145903</td>\n",
       "    </tr>\n",
       "    <tr>\n",
       "      <th>32</th>\n",
       "      <td>New York</td>\n",
       "      <td>0.140585</td>\n",
       "    </tr>\n",
       "    <tr>\n",
       "      <th>25</th>\n",
       "      <td>Missouri</td>\n",
       "      <td>0.132201</td>\n",
       "    </tr>\n",
       "    <tr>\n",
       "      <th>20</th>\n",
       "      <td>Maryland</td>\n",
       "      <td>0.131548</td>\n",
       "    </tr>\n",
       "    <tr>\n",
       "      <th>9</th>\n",
       "      <td>Florida</td>\n",
       "      <td>0.120580</td>\n",
       "    </tr>\n",
       "    <tr>\n",
       "      <th>10</th>\n",
       "      <td>Georgia</td>\n",
       "      <td>0.119716</td>\n",
       "    </tr>\n",
       "    <tr>\n",
       "      <th>30</th>\n",
       "      <td>New Jersey</td>\n",
       "      <td>0.099544</td>\n",
       "    </tr>\n",
       "    <tr>\n",
       "      <th>4</th>\n",
       "      <td>California</td>\n",
       "      <td>0.095140</td>\n",
       "    </tr>\n",
       "    <tr>\n",
       "      <th>38</th>\n",
       "      <td>Pennsylvania</td>\n",
       "      <td>0.089503</td>\n",
       "    </tr>\n",
       "    <tr>\n",
       "      <th>3</th>\n",
       "      <td>Arkansas</td>\n",
       "      <td>0.073157</td>\n",
       "    </tr>\n",
       "    <tr>\n",
       "      <th>27</th>\n",
       "      <td>Nebraska</td>\n",
       "      <td>0.060417</td>\n",
       "    </tr>\n",
       "    <tr>\n",
       "      <th>31</th>\n",
       "      <td>New Mexico</td>\n",
       "      <td>0.000000</td>\n",
       "    </tr>\n",
       "    <tr>\n",
       "      <th>0</th>\n",
       "      <td>Alabama</td>\n",
       "      <td>0.000000</td>\n",
       "    </tr>\n",
       "    <tr>\n",
       "      <th>36</th>\n",
       "      <td>Oklahoma</td>\n",
       "      <td>0.000000</td>\n",
       "    </tr>\n",
       "    <tr>\n",
       "      <th>37</th>\n",
       "      <td>Oregon</td>\n",
       "      <td>0.000000</td>\n",
       "    </tr>\n",
       "    <tr>\n",
       "      <th>40</th>\n",
       "      <td>South Carolina</td>\n",
       "      <td>0.000000</td>\n",
       "    </tr>\n",
       "    <tr>\n",
       "      <th>29</th>\n",
       "      <td>New Hampshire</td>\n",
       "      <td>0.000000</td>\n",
       "    </tr>\n",
       "    <tr>\n",
       "      <th>44</th>\n",
       "      <td>Utah</td>\n",
       "      <td>0.000000</td>\n",
       "    </tr>\n",
       "    <tr>\n",
       "      <th>47</th>\n",
       "      <td>Washington</td>\n",
       "      <td>0.000000</td>\n",
       "    </tr>\n",
       "    <tr>\n",
       "      <th>49</th>\n",
       "      <td>Wisconsin</td>\n",
       "      <td>0.000000</td>\n",
       "    </tr>\n",
       "    <tr>\n",
       "      <th>42</th>\n",
       "      <td>Tennessee</td>\n",
       "      <td>0.000000</td>\n",
       "    </tr>\n",
       "    <tr>\n",
       "      <th>23</th>\n",
       "      <td>Minnesota</td>\n",
       "      <td>0.000000</td>\n",
       "    </tr>\n",
       "    <tr>\n",
       "      <th>28</th>\n",
       "      <td>Nevada</td>\n",
       "      <td>0.000000</td>\n",
       "    </tr>\n",
       "    <tr>\n",
       "      <th>15</th>\n",
       "      <td>Iowa</td>\n",
       "      <td>0.000000</td>\n",
       "    </tr>\n",
       "    <tr>\n",
       "      <th>5</th>\n",
       "      <td>Colorado</td>\n",
       "      <td>0.000000</td>\n",
       "    </tr>\n",
       "    <tr>\n",
       "      <th>6</th>\n",
       "      <td>Connecticut</td>\n",
       "      <td>0.000000</td>\n",
       "    </tr>\n",
       "    <tr>\n",
       "      <th>7</th>\n",
       "      <td>Delaware</td>\n",
       "      <td>0.000000</td>\n",
       "    </tr>\n",
       "    <tr>\n",
       "      <th>11</th>\n",
       "      <td>Hawaii</td>\n",
       "      <td>0.000000</td>\n",
       "    </tr>\n",
       "    <tr>\n",
       "      <th>12</th>\n",
       "      <td>Idaho</td>\n",
       "      <td>0.000000</td>\n",
       "    </tr>\n",
       "    <tr>\n",
       "      <th>14</th>\n",
       "      <td>Indiana</td>\n",
       "      <td>0.000000</td>\n",
       "    </tr>\n",
       "    <tr>\n",
       "      <th>16</th>\n",
       "      <td>Kansas</td>\n",
       "      <td>0.000000</td>\n",
       "    </tr>\n",
       "    <tr>\n",
       "      <th>24</th>\n",
       "      <td>Mississippi</td>\n",
       "      <td>0.000000</td>\n",
       "    </tr>\n",
       "    <tr>\n",
       "      <th>17</th>\n",
       "      <td>Kentucky</td>\n",
       "      <td>0.000000</td>\n",
       "    </tr>\n",
       "    <tr>\n",
       "      <th>18</th>\n",
       "      <td>Louisiana</td>\n",
       "      <td>0.000000</td>\n",
       "    </tr>\n",
       "    <tr>\n",
       "      <th>19</th>\n",
       "      <td>Maine</td>\n",
       "      <td>0.000000</td>\n",
       "    </tr>\n",
       "    <tr>\n",
       "      <th>21</th>\n",
       "      <td>Massachusetts</td>\n",
       "      <td>0.000000</td>\n",
       "    </tr>\n",
       "    <tr>\n",
       "      <th>22</th>\n",
       "      <td>Michigan</td>\n",
       "      <td>0.000000</td>\n",
       "    </tr>\n",
       "    <tr>\n",
       "      <th>1</th>\n",
       "      <td>Alaska</td>\n",
       "      <td>0.000000</td>\n",
       "    </tr>\n",
       "    <tr>\n",
       "      <th>50</th>\n",
       "      <td>Wyoming</td>\n",
       "      <td>0.000000</td>\n",
       "    </tr>\n",
       "  </tbody>\n",
       "</table>\n",
       "</div>"
      ],
      "text/plain": [
       "0             NAME  RatioFemaleToMale\n",
       "43           Texas           0.189970\n",
       "13        Illinois           0.172453\n",
       "35            Ohio           0.171025\n",
       "33  North Carolina           0.168343\n",
       "2          Arizona           0.164843\n",
       "46        Virginia           0.145903\n",
       "32        New York           0.140585\n",
       "25        Missouri           0.132201\n",
       "20        Maryland           0.131548\n",
       "9          Florida           0.120580\n",
       "10         Georgia           0.119716\n",
       "30      New Jersey           0.099544\n",
       "4       California           0.095140\n",
       "38    Pennsylvania           0.089503\n",
       "3         Arkansas           0.073157\n",
       "27        Nebraska           0.060417\n",
       "31      New Mexico           0.000000\n",
       "0          Alabama           0.000000\n",
       "36        Oklahoma           0.000000\n",
       "37          Oregon           0.000000\n",
       "40  South Carolina           0.000000\n",
       "29   New Hampshire           0.000000\n",
       "44            Utah           0.000000\n",
       "47      Washington           0.000000\n",
       "49       Wisconsin           0.000000\n",
       "42       Tennessee           0.000000\n",
       "23       Minnesota           0.000000\n",
       "28          Nevada           0.000000\n",
       "15            Iowa           0.000000\n",
       "5         Colorado           0.000000\n",
       "6      Connecticut           0.000000\n",
       "7         Delaware           0.000000\n",
       "11          Hawaii           0.000000\n",
       "12           Idaho           0.000000\n",
       "14         Indiana           0.000000\n",
       "16          Kansas           0.000000\n",
       "24     Mississippi           0.000000\n",
       "17        Kentucky           0.000000\n",
       "18       Louisiana           0.000000\n",
       "19           Maine           0.000000\n",
       "21   Massachusetts           0.000000\n",
       "22        Michigan           0.000000\n",
       "1           Alaska           0.000000\n",
       "50         Wyoming           0.000000"
      ]
     },
     "execution_count": 28,
     "metadata": {},
     "output_type": "execute_result"
    }
   ],
   "source": [
    "newdf = newdf.assign(RatioFemaleToMale=lambda y: (y['Female'] / y['Male']))\n",
    "newdf.sort_values('RatioFemaleToMale', ascending = False, inplace = True)\n",
    "newdf.drop(['Male', 'Female'], axis = 1, inplace = True)\n",
    "newdf# = newdf.head(16)"
   ]
  },
  {
   "cell_type": "code",
   "execution_count": 29,
   "id": "7c5cf2a9-7367-45c0-a187-8652f7c3ca09",
   "metadata": {},
   "outputs": [
    {
     "data": {
      "image/png": "[encoded data removed]",
      "text/plain": [
       "<Figure size 720x360 with 1 Axes>"
      ]
     },
     "metadata": {
      "needs_background": "light"
     },
     "output_type": "display_data"
    }
   ],
   "source": [
    "plt.figure(figsize=(10, 5))\n",
    "ax4 = sns.barplot(data = newdf, y = 'NAME', x = 'RatioFemaleToMale', color = 'orange')\n",
    "ax4.set(xlabel =\"Ratio of Female Owned Firms to Male Owned Firms\", \n",
    "        ylabel = \"State\", title ='Majority Ownership of US Construction Firms by Gender and State')\n",
    "plt.tight_layout()\n",
    "\n",
    "plt.show()\n",
    "ax4.figure.savefig('visual3.png')"
   ]
  },
  {
   "cell_type": "code",
   "execution_count": 30,
   "id": "41428a6e-34c2-4078-b902-f7bea395abd6",
   "metadata": {},
   "outputs": [],
   "source": [
    "#Dropped states where male owned firms = 0\n",
    "#NOTE: Montana had 387 female-owned firms and 0 male owned firms\n",
    "#South Dakota had 374 female-owned firms\n",
    "#Construction:\n",
    "#63052 Female firms\n",
    "#543,262 male firms\n",
    "#.116 Ratio "
   ]
  },
  {
   "cell_type": "code",
   "execution_count": null,
   "id": "c37faa39-9131-4489-ba00-fb6d17e59b6c",
   "metadata": {},
   "outputs": [],
   "source": []
  },
  {
   "cell_type": "code",
   "execution_count": null,
   "id": "fa40de81-8f03-4ac5-82ca-173e38ed9dc8",
   "metadata": {},
   "outputs": [],
   "source": []
  }
 ],
 "metadata": {
  "kernelspec": {
   "display_name": "Python 3 (ipykernel)",
   "language": "python",
   "name": "python3"
  },
  "language_info": {
   "codemirror_mode": {
    "name": "ipython",
    "version": 3
   },
   "file_extension": ".py",
   "mimetype": "text/x-python",
   "name": "python",
   "nbconvert_exporter": "python",
   "pygments_lexer": "ipython3",
   "version": "3.9.7"
  }
 },
 "nbformat": 4,
 "nbformat_minor": 5
}
