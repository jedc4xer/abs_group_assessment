{
 "cells": [
  {
   "cell_type": "code",
   "execution_count": 161,
   "id": "da7a57cf-60a8-4a28-adcb-06f2a9a0cb4d",
   "metadata": {},
   "outputs": [],
   "source": [
    "import os\n",
    "\n",
    "import pandas as pd\n",
    "import seaborn as sns\n",
    "import matplotlib.pyplot as plt\n",
    "import plotly.express as px\n",
    "import datetime as dt\n",
    "\n",
    "from utils import explain"
   ]
  },
  {
   "cell_type": "markdown",
   "id": "443d7572-3ac4-41e8-b151-d574e7032bcd",
   "metadata": {},
   "source": [
    "#### Create Dataframes"
   ]
  },
  {
   "cell_type": "code",
   "execution_count": 84,
   "id": "3fe0d157-f745-46c8-8485-8b968ca6372d",
   "metadata": {},
   "outputs": [
    {
     "name": "stdout",
     "output_type": "stream",
     "text": [
      "['data/bus_char_df.csv', 'data/bus_own_df.csv', 'data/bus_tech_df.csv', 'data/comp_sum_df.csv', 'data/slbo.csv', 'data/state_codes.csv']\n"
     ]
    }
   ],
   "source": [
    "files = sorted(['data/' + _ for _ in os.listdir('data/') if '.txt' not in _])"
   ]
  },
  {
   "cell_type": "code",
   "execution_count": 85,
   "id": "762e5348-b31f-44bd-a605-e3349d165652",
   "metadata": {},
   "outputs": [],
   "source": [
    "bus_char_df = pd.read_csv(files[0])\n",
    "bus_own_df = pd.read_csv(files[1])\n",
    "bus_tech_df = pd.read_csv(files[2])\n",
    "comp_sum_df = pd.read_csv(files[3])\n",
    "slbo = pd.read_csv(files[4])\n",
    "\n",
    "state_codes = pd.read_csv(files[5])\n"
   ]
  },
  {
   "cell_type": "code",
   "execution_count": 190,
   "id": "ca6e06ec-0ed0-4a72-81e6-83ac547f4ef1",
   "metadata": {},
   "outputs": [
    {
     "data": {
      "text/html": [
       "<div>\n",
       "<style scoped>\n",
       "    .dataframe tbody tr th:only-of-type {\n",
       "        vertical-align: middle;\n",
       "    }\n",
       "\n",
       "    .dataframe tbody tr th {\n",
       "        vertical-align: top;\n",
       "    }\n",
       "\n",
       "    .dataframe thead th {\n",
       "        text-align: right;\n",
       "    }\n",
       "</style>\n",
       "<table border=\"1\" class=\"dataframe\">\n",
       "  <thead>\n",
       "    <tr style=\"text-align: right;\">\n",
       "      <th></th>\n",
       "      <th>name</th>\n",
       "      <th>emp</th>\n",
       "      <th>firmpdemp</th>\n",
       "      <th>geo_id</th>\n",
       "      <th>industry_code</th>\n",
       "      <th>industry</th>\n",
       "      <th>payann</th>\n",
       "      <th>race_group_label</th>\n",
       "      <th>rcppdemp</th>\n",
       "      <th>gender</th>\n",
       "      <th>yibszfi_label</th>\n",
       "      <th>state</th>\n",
       "    </tr>\n",
       "  </thead>\n",
       "  <tbody>\n",
       "    <tr>\n",
       "      <th>0</th>\n",
       "      <td>Mississippi</td>\n",
       "      <td>0</td>\n",
       "      <td>0</td>\n",
       "      <td>0400000US28</td>\n",
       "      <td>21</td>\n",
       "      <td>Mining, quarrying, and oil and gas extraction</td>\n",
       "      <td>0</td>\n",
       "      <td>Minority</td>\n",
       "      <td>0</td>\n",
       "      <td>Total</td>\n",
       "      <td>Firms with less than 2 years in business</td>\n",
       "      <td>28]</td>\n",
       "    </tr>\n",
       "    <tr>\n",
       "      <th>1</th>\n",
       "      <td>Mississippi</td>\n",
       "      <td>0</td>\n",
       "      <td>0</td>\n",
       "      <td>0400000US28</td>\n",
       "      <td>21</td>\n",
       "      <td>Mining, quarrying, and oil and gas extraction</td>\n",
       "      <td>0</td>\n",
       "      <td>Minority</td>\n",
       "      <td>0</td>\n",
       "      <td>Total</td>\n",
       "      <td>Firms with 2 to 3 years in business</td>\n",
       "      <td>28]</td>\n",
       "    </tr>\n",
       "    <tr>\n",
       "      <th>2</th>\n",
       "      <td>Mississippi</td>\n",
       "      <td>0</td>\n",
       "      <td>0</td>\n",
       "      <td>0400000US28</td>\n",
       "      <td>21</td>\n",
       "      <td>Mining, quarrying, and oil and gas extraction</td>\n",
       "      <td>0</td>\n",
       "      <td>Minority</td>\n",
       "      <td>0</td>\n",
       "      <td>Male</td>\n",
       "      <td>All firms</td>\n",
       "      <td>28]</td>\n",
       "    </tr>\n",
       "    <tr>\n",
       "      <th>3</th>\n",
       "      <td>Mississippi</td>\n",
       "      <td>0</td>\n",
       "      <td>0</td>\n",
       "      <td>0400000US28</td>\n",
       "      <td>21</td>\n",
       "      <td>Mining, quarrying, and oil and gas extraction</td>\n",
       "      <td>0</td>\n",
       "      <td>Equally minority/nonminority</td>\n",
       "      <td>0</td>\n",
       "      <td>Total</td>\n",
       "      <td>All firms</td>\n",
       "      <td>28]</td>\n",
       "    </tr>\n",
       "    <tr>\n",
       "      <th>4</th>\n",
       "      <td>Mississippi</td>\n",
       "      <td>0</td>\n",
       "      <td>0</td>\n",
       "      <td>0400000US28</td>\n",
       "      <td>21</td>\n",
       "      <td>Mining, quarrying, and oil and gas extraction</td>\n",
       "      <td>0</td>\n",
       "      <td>Equally minority/nonminority</td>\n",
       "      <td>0</td>\n",
       "      <td>Total</td>\n",
       "      <td>Firms with 4 to 5 years in business</td>\n",
       "      <td>28]</td>\n",
       "    </tr>\n",
       "    <tr>\n",
       "      <th>...</th>\n",
       "      <td>...</td>\n",
       "      <td>...</td>\n",
       "      <td>...</td>\n",
       "      <td>...</td>\n",
       "      <td>...</td>\n",
       "      <td>...</td>\n",
       "      <td>...</td>\n",
       "      <td>...</td>\n",
       "      <td>...</td>\n",
       "      <td>...</td>\n",
       "      <td>...</td>\n",
       "      <td>...</td>\n",
       "    </tr>\n",
       "    <tr>\n",
       "      <th>86187</th>\n",
       "      <td>Minnesota</td>\n",
       "      <td>0</td>\n",
       "      <td>0</td>\n",
       "      <td>0400000US27</td>\n",
       "      <td>55</td>\n",
       "      <td>Management of companies and enterprises</td>\n",
       "      <td>0</td>\n",
       "      <td>Total</td>\n",
       "      <td>0</td>\n",
       "      <td>Total</td>\n",
       "      <td>Firms with 2 to 3 years in business</td>\n",
       "      <td>27]</td>\n",
       "    </tr>\n",
       "    <tr>\n",
       "      <th>86188</th>\n",
       "      <td>Minnesota</td>\n",
       "      <td>0</td>\n",
       "      <td>0</td>\n",
       "      <td>0400000US27</td>\n",
       "      <td>55</td>\n",
       "      <td>Management of companies and enterprises</td>\n",
       "      <td>0</td>\n",
       "      <td>Total</td>\n",
       "      <td>0</td>\n",
       "      <td>Total</td>\n",
       "      <td>Firms with 6 to 10 years in business</td>\n",
       "      <td>27]</td>\n",
       "    </tr>\n",
       "    <tr>\n",
       "      <th>86189</th>\n",
       "      <td>Minnesota</td>\n",
       "      <td>0</td>\n",
       "      <td>0</td>\n",
       "      <td>0400000US27</td>\n",
       "      <td>55</td>\n",
       "      <td>Management of companies and enterprises</td>\n",
       "      <td>0</td>\n",
       "      <td>Total</td>\n",
       "      <td>0</td>\n",
       "      <td>Total</td>\n",
       "      <td>Firms with 11 to 15 years in business</td>\n",
       "      <td>27]</td>\n",
       "    </tr>\n",
       "    <tr>\n",
       "      <th>86190</th>\n",
       "      <td>Minnesota</td>\n",
       "      <td>132660</td>\n",
       "      <td>824</td>\n",
       "      <td>0400000US27</td>\n",
       "      <td>55</td>\n",
       "      <td>Management of companies and enterprises</td>\n",
       "      <td>13205288</td>\n",
       "      <td>Total</td>\n",
       "      <td>0</td>\n",
       "      <td>Total</td>\n",
       "      <td>Firms with 16 or more years in business</td>\n",
       "      <td>27]</td>\n",
       "    </tr>\n",
       "    <tr>\n",
       "      <th>86191</th>\n",
       "      <td>Minnesota</td>\n",
       "      <td>820</td>\n",
       "      <td>49</td>\n",
       "      <td>0400000US27</td>\n",
       "      <td>55</td>\n",
       "      <td>Management of companies and enterprises</td>\n",
       "      <td>55388</td>\n",
       "      <td>Total</td>\n",
       "      <td>0</td>\n",
       "      <td>Female</td>\n",
       "      <td>All firms</td>\n",
       "      <td>27]]</td>\n",
       "    </tr>\n",
       "  </tbody>\n",
       "</table>\n",
       "<p>86192 rows × 12 columns</p>\n",
       "</div>"
      ],
      "text/plain": [
       "              name     emp  firmpdemp       geo_id industry_code  \\\n",
       "0      Mississippi       0          0  0400000US28            21   \n",
       "1      Mississippi       0          0  0400000US28            21   \n",
       "2      Mississippi       0          0  0400000US28            21   \n",
       "3      Mississippi       0          0  0400000US28            21   \n",
       "4      Mississippi       0          0  0400000US28            21   \n",
       "...            ...     ...        ...          ...           ...   \n",
       "86187    Minnesota       0          0  0400000US27            55   \n",
       "86188    Minnesota       0          0  0400000US27            55   \n",
       "86189    Minnesota       0          0  0400000US27            55   \n",
       "86190    Minnesota  132660        824  0400000US27            55   \n",
       "86191    Minnesota     820         49  0400000US27            55   \n",
       "\n",
       "                                            industry    payann  \\\n",
       "0      Mining, quarrying, and oil and gas extraction         0   \n",
       "1      Mining, quarrying, and oil and gas extraction         0   \n",
       "2      Mining, quarrying, and oil and gas extraction         0   \n",
       "3      Mining, quarrying, and oil and gas extraction         0   \n",
       "4      Mining, quarrying, and oil and gas extraction         0   \n",
       "...                                              ...       ...   \n",
       "86187        Management of companies and enterprises         0   \n",
       "86188        Management of companies and enterprises         0   \n",
       "86189        Management of companies and enterprises         0   \n",
       "86190        Management of companies and enterprises  13205288   \n",
       "86191        Management of companies and enterprises     55388   \n",
       "\n",
       "                   race_group_label  rcppdemp  gender  \\\n",
       "0                          Minority         0   Total   \n",
       "1                          Minority         0   Total   \n",
       "2                          Minority         0    Male   \n",
       "3      Equally minority/nonminority         0   Total   \n",
       "4      Equally minority/nonminority         0   Total   \n",
       "...                             ...       ...     ...   \n",
       "86187                         Total         0   Total   \n",
       "86188                         Total         0   Total   \n",
       "86189                         Total         0   Total   \n",
       "86190                         Total         0   Total   \n",
       "86191                         Total         0  Female   \n",
       "\n",
       "                                  yibszfi_label state  \n",
       "0      Firms with less than 2 years in business   28]  \n",
       "1           Firms with 2 to 3 years in business   28]  \n",
       "2                                     All firms   28]  \n",
       "3                                     All firms   28]  \n",
       "4           Firms with 4 to 5 years in business   28]  \n",
       "...                                         ...   ...  \n",
       "86187       Firms with 2 to 3 years in business   27]  \n",
       "86188      Firms with 6 to 10 years in business   27]  \n",
       "86189     Firms with 11 to 15 years in business   27]  \n",
       "86190   Firms with 16 or more years in business   27]  \n",
       "86191                                 All firms  27]]  \n",
       "\n",
       "[86192 rows x 12 columns]"
      ]
     },
     "execution_count": 190,
     "metadata": {},
     "output_type": "execute_result"
    }
   ],
   "source": [
    "comp_sum_df"
   ]
  },
  {
   "cell_type": "code",
   "execution_count": 192,
   "id": "267f47f0-641a-41ac-9a50-e6f9cac0d580",
   "metadata": {},
   "outputs": [],
   "source": [
    "def clean_for_map(df, target = 'industry'):\n",
    "    if target not in ['gender','race_group_label','industry']:\n",
    "        possible = \", \".join(['gender','race_group_label','industry'])\n",
    "        print(f'You must choose one of: {possible}')\n",
    "        return\n",
    "    label = {'gender': 'Gender','race_group_label': 'Race','industry':'Industry'}[target]\n",
    "    \n",
    "    subset = df[(df.payann != 0) & (df.gender != 'Total') & (df.race_group_label != 'Total') & (df.industry_code != '00')]\n",
    "    subset = subset[['name','geo_id',target,'payann','firmpdemp','emp']]\n",
    "    subset['payann'] = subset['payann'] * 1000\n",
    "    subset['avg_pay'] = subset.apply(lambda row: row.payann/row.emp, axis = 1)\n",
    "\n",
    "    subset_agg = subset.groupby(\n",
    "        by = ['name']\n",
    "            )[['avg_pay']].agg(max_pay = ('avg_pay','max'))\n",
    "\n",
    "    subset_agg.reset_index(inplace = True)\n",
    "\n",
    "    grouped = pd.merge(subset, subset_agg, left_on = 'name', right_on = 'name', how = 'left')\n",
    "    \n",
    "    grouped = grouped[(grouped.avg_pay == grouped.max_pay)].reset_index(drop = True)\n",
    "    grouped = grouped.sort_values(by = 'name').reset_index(drop = True)\n",
    "    grouped = grouped.drop_duplicates().reset_index(drop = True)\n",
    "\n",
    "    grouped = pd.merge(grouped,state_codes, left_on = 'name', right_on = 'State', how = 'left')\n",
    "\n",
    "    grouped = grouped[['name',target,'avg_pay','Postal Abbr.']]\n",
    "\n",
    "    diffs = set(subset_agg.name.tolist()) - set(grouped.name.tolist())\n",
    "    if len(diffs) > 0:\n",
    "        print('There are some states missing.')\n",
    "    return grouped, target, label\n",
    "grouped, target, label = clean_for_map(comp_sum_df, 'gender')"
   ]
  },
  {
   "cell_type": "code",
   "execution_count": 194,
   "id": "314d9116-7e03-47ba-bd17-d18420455632",
   "metadata": {},
   "outputs": [
    {
     "data": {
      "application/vnd.plotly.v1+json": {
       "config": {
        "plotlyServerURL": "https://plot.ly"
       },
       "data": [
        {
         "colorscale": [
          [
           0,
           "rgb(127, 60, 141)"
          ],
          [
           1,
           "rgb(127, 60, 141)"
          ]
         ],
         "customdata": [
          [
           "Alabama",
           "Male",
           98009.1407678245
          ],
          [
           "Arizona",
           "Male",
           117559.8918736273
          ],
          [
           "Arkansas",
           "Male",
           86929.8013245033
          ],
          [
           "California",
           "Male",
           173478.22603921845
          ],
          [
           "District of Columbia",
           "Male",
           124865.9649122807
          ],
          [
           "Florida",
           "Male",
           141800.32271077047
          ],
          [
           "Hawaii",
           "Male",
           109974.42922374429
          ],
          [
           "Idaho",
           "Male",
           58190.625
          ],
          [
           "Illinois",
           "Male",
           90254.64871236203
          ],
          [
           "Indiana",
           "Male",
           100264.32653061225
          ],
          [
           "Kansas",
           "Male",
           88450.69337442219
          ],
          [
           "Maine",
           "Male",
           78292.68292682926
          ],
          [
           "Massachusetts",
           "Male",
           210903.84615384616
          ],
          [
           "Michigan",
           "Male",
           85666.57110091743
          ],
          [
           "Minnesota",
           "Male",
           94484.64163822525
          ],
          [
           "Mississippi",
           "Male",
           66480.24786986833
          ],
          [
           "Montana",
           "Male",
           83771.88940092166
          ],
          [
           "Nebraska",
           "Male",
           98224.55573505654
          ],
          [
           "Nevada",
           "Male",
           240047.24409448818
          ],
          [
           "New Hampshire",
           "Male",
           165677.9661016949
          ],
          [
           "North Carolina",
           "Male",
           130366.79536679537
          ],
          [
           "Ohio",
           "Male",
           97277.26255196673
          ],
          [
           "Oklahoma",
           "Male",
           130549.66887417219
          ],
          [
           "South Carolina",
           "Male",
           80907.96146044624
          ],
          [
           "South Dakota",
           "Male",
           77914.96899911427
          ],
          [
           "Texas",
           "Male",
           119122.71540469975
          ],
          [
           "Utah",
           "Male",
           132297.26890756303
          ],
          [
           "Vermont",
           "Male",
           65551.94123819517
          ],
          [
           "Virginia",
           "Male",
           700149.0196078431
          ],
          [
           "West Virginia",
           "Male",
           131112.06896551725
          ],
          [
           "Wyoming",
           "Male",
           91150
          ]
         ],
         "geo": "geo",
         "hovertemplate": "gender=%{customdata[1]}<br>Postal Abbr.=%{location}<br>name=%{customdata[0]}<br>avg_pay=%{customdata[2]}<extra></extra>",
         "locationmode": "USA-states",
         "locations": [
          "AL",
          "AZ",
          "AR",
          "CA",
          "DC",
          "FL",
          "HI",
          "ID",
          "IL",
          "IN",
          "KS",
          "ME",
          "MA",
          "MI",
          "MN",
          "MS",
          "MT",
          "NE",
          "NV",
          "NH",
          "NC",
          "OH",
          "OK",
          "SC",
          "SD",
          "TX",
          "UT",
          "VT",
          "VA",
          "WV",
          "WY"
         ],
         "name": "Male",
         "showlegend": true,
         "showscale": false,
         "type": "choropleth",
         "z": [
          1,
          1,
          1,
          1,
          1,
          1,
          1,
          1,
          1,
          1,
          1,
          1,
          1,
          1,
          1,
          1,
          1,
          1,
          1,
          1,
          1,
          1,
          1,
          1,
          1,
          1,
          1,
          1,
          1,
          1,
          1
         ]
        },
        {
         "colorscale": [
          [
           0,
           "rgb(17, 165, 121)"
          ],
          [
           1,
           "rgb(17, 165, 121)"
          ]
         ],
         "customdata": [
          [
           "Alaska",
           "Female",
           225833.33333333334
          ],
          [
           "Georgia",
           "Female",
           110145.25139664805
          ],
          [
           "Iowa",
           "Female",
           118480.97412480974
          ],
          [
           "Kentucky",
           "Female",
           68563.82252559726
          ],
          [
           "Louisiana",
           "Female",
           208294.11764705883
          ],
          [
           "Maryland",
           "Female",
           102454.54545454546
          ],
          [
           "Missouri",
           "Female",
           181472
          ],
          [
           "New Jersey",
           "Female",
           155200
          ],
          [
           "New Mexico",
           "Female",
           101801.04712041885
          ],
          [
           "Tennessee",
           "Female",
           111042.1052631579
          ],
          [
           "Wisconsin",
           "Female",
           105780.75037305479
          ]
         ],
         "geo": "geo",
         "hovertemplate": "gender=%{customdata[1]}<br>Postal Abbr.=%{location}<br>name=%{customdata[0]}<br>avg_pay=%{customdata[2]}<extra></extra>",
         "locationmode": "USA-states",
         "locations": [
          "AK",
          "GA",
          "IA",
          "KY",
          "LA",
          "MD",
          "MO",
          "NJ",
          "NM",
          "TN",
          "WI"
         ],
         "name": "Female",
         "showlegend": true,
         "showscale": false,
         "type": "choropleth",
         "z": [
          1,
          1,
          1,
          1,
          1,
          1,
          1,
          1,
          1,
          1,
          1
         ]
        },
        {
         "colorscale": [
          [
           0,
           "rgb(57, 105, 172)"
          ],
          [
           1,
           "rgb(57, 105, 172)"
          ]
         ],
         "customdata": [
          [
           "Colorado",
           "Equally male/female",
           94266.66666666667
          ],
          [
           "Connecticut",
           "Equally male/female",
           215863.27185244588
          ],
          [
           "Delaware",
           "Equally male/female",
           109482.75862068965
          ],
          [
           "New York",
           "Equally male/female",
           835569.1699604744
          ],
          [
           "North Dakota",
           "Equally male/female",
           123423.79182156133
          ],
          [
           "Oregon",
           "Equally male/female",
           115562.28373702422
          ],
          [
           "Pennsylvania",
           "Equally male/female",
           166500
          ],
          [
           "Rhode Island",
           "Equally male/female",
           81778.84615384616
          ],
          [
           "Washington",
           "Equally male/female",
           194701.90156599553
          ]
         ],
         "geo": "geo",
         "hovertemplate": "gender=%{customdata[1]}<br>Postal Abbr.=%{location}<br>name=%{customdata[0]}<br>avg_pay=%{customdata[2]}<extra></extra>",
         "locationmode": "USA-states",
         "locations": [
          "CO",
          "CT",
          "DE",
          "NY",
          "ND",
          "OR",
          "PA",
          "RI",
          "WA"
         ],
         "name": "Equally male/female",
         "showlegend": true,
         "showscale": false,
         "type": "choropleth",
         "z": [
          1,
          1,
          1,
          1,
          1,
          1,
          1,
          1,
          1
         ]
        }
       ],
       "layout": {
        "annotations": [
         {
          "align": "left",
          "font": {
           "color": "grey",
           "size": 10
          },
          "showarrow": false,
          "text": "Created by: Jed Dryer<br>Apr 23, 2022<br>Source: US Census - 2019 ABS",
          "x": 0,
          "xanchor": "left",
          "xref": "paper",
          "xshift": -1,
          "y": -0.15,
          "yanchor": "bottom",
          "yref": "paper",
          "yshift": -5
         }
        ],
        "geo": {
         "center": {},
         "domain": {
          "x": [
           0,
           1
          ],
          "y": [
           0,
           1
          ]
         },
         "scope": "usa"
        },
        "height": 500,
        "legend": {
         "title": {
          "text": "gender"
         },
         "tracegroupgap": 0
        },
        "template": {
         "data": {
          "bar": [
           {
            "error_x": {
             "color": "#2a3f5f"
            },
            "error_y": {
             "color": "#2a3f5f"
            },
            "marker": {
             "line": {
              "color": "#E5ECF6",
              "width": 0.5
             },
             "pattern": {
              "fillmode": "overlay",
              "size": 10,
              "solidity": 0.2
             }
            },
            "type": "bar"
           }
          ],
          "barpolar": [
           {
            "marker": {
             "line": {
              "color": "#E5ECF6",
              "width": 0.5
             },
             "pattern": {
              "fillmode": "overlay",
              "size": 10,
              "solidity": 0.2
             }
            },
            "type": "barpolar"
           }
          ],
          "carpet": [
           {
            "aaxis": {
             "endlinecolor": "#2a3f5f",
             "gridcolor": "white",
             "linecolor": "white",
             "minorgridcolor": "white",
             "startlinecolor": "#2a3f5f"
            },
            "baxis": {
             "endlinecolor": "#2a3f5f",
             "gridcolor": "white",
             "linecolor": "white",
             "minorgridcolor": "white",
             "startlinecolor": "#2a3f5f"
            },
            "type": "carpet"
           }
          ],
          "choropleth": [
           {
            "colorbar": {
             "outlinewidth": 0,
             "ticks": ""
            },
            "type": "choropleth"
           }
          ],
          "contour": [
           {
            "colorbar": {
             "outlinewidth": 0,
             "ticks": ""
            },
            "colorscale": [
             [
              0,
              "#0d0887"
             ],
             [
              0.1111111111111111,
              "#46039f"
             ],
             [
              0.2222222222222222,
              "#7201a8"
             ],
             [
              0.3333333333333333,
              "#9c179e"
             ],
             [
              0.4444444444444444,
              "#bd3786"
             ],
             [
              0.5555555555555556,
              "#d8576b"
             ],
             [
              0.6666666666666666,
              "#ed7953"
             ],
             [
              0.7777777777777778,
              "#fb9f3a"
             ],
             [
              0.8888888888888888,
              "#fdca26"
             ],
             [
              1,
              "#f0f921"
             ]
            ],
            "type": "contour"
           }
          ],
          "contourcarpet": [
           {
            "colorbar": {
             "outlinewidth": 0,
             "ticks": ""
            },
            "type": "contourcarpet"
           }
          ],
          "heatmap": [
           {
            "colorbar": {
             "outlinewidth": 0,
             "ticks": ""
            },
            "colorscale": [
             [
              0,
              "#0d0887"
             ],
             [
              0.1111111111111111,
              "#46039f"
             ],
             [
              0.2222222222222222,
              "#7201a8"
             ],
             [
              0.3333333333333333,
              "#9c179e"
             ],
             [
              0.4444444444444444,
              "#bd3786"
             ],
             [
              0.5555555555555556,
              "#d8576b"
             ],
             [
              0.6666666666666666,
              "#ed7953"
             ],
             [
              0.7777777777777778,
              "#fb9f3a"
             ],
             [
              0.8888888888888888,
              "#fdca26"
             ],
             [
              1,
              "#f0f921"
             ]
            ],
            "type": "heatmap"
           }
          ],
          "heatmapgl": [
           {
            "colorbar": {
             "outlinewidth": 0,
             "ticks": ""
            },
            "colorscale": [
             [
              0,
              "#0d0887"
             ],
             [
              0.1111111111111111,
              "#46039f"
             ],
             [
              0.2222222222222222,
              "#7201a8"
             ],
             [
              0.3333333333333333,
              "#9c179e"
             ],
             [
              0.4444444444444444,
              "#bd3786"
             ],
             [
              0.5555555555555556,
              "#d8576b"
             ],
             [
              0.6666666666666666,
              "#ed7953"
             ],
             [
              0.7777777777777778,
              "#fb9f3a"
             ],
             [
              0.8888888888888888,
              "#fdca26"
             ],
             [
              1,
              "#f0f921"
             ]
            ],
            "type": "heatmapgl"
           }
          ],
          "histogram": [
           {
            "marker": {
             "pattern": {
              "fillmode": "overlay",
              "size": 10,
              "solidity": 0.2
             }
            },
            "type": "histogram"
           }
          ],
          "histogram2d": [
           {
            "colorbar": {
             "outlinewidth": 0,
             "ticks": ""
            },
            "colorscale": [
             [
              0,
              "#0d0887"
             ],
             [
              0.1111111111111111,
              "#46039f"
             ],
             [
              0.2222222222222222,
              "#7201a8"
             ],
             [
              0.3333333333333333,
              "#9c179e"
             ],
             [
              0.4444444444444444,
              "#bd3786"
             ],
             [
              0.5555555555555556,
              "#d8576b"
             ],
             [
              0.6666666666666666,
              "#ed7953"
             ],
             [
              0.7777777777777778,
              "#fb9f3a"
             ],
             [
              0.8888888888888888,
              "#fdca26"
             ],
             [
              1,
              "#f0f921"
             ]
            ],
            "type": "histogram2d"
           }
          ],
          "histogram2dcontour": [
           {
            "colorbar": {
             "outlinewidth": 0,
             "ticks": ""
            },
            "colorscale": [
             [
              0,
              "#0d0887"
             ],
             [
              0.1111111111111111,
              "#46039f"
             ],
             [
              0.2222222222222222,
              "#7201a8"
             ],
             [
              0.3333333333333333,
              "#9c179e"
             ],
             [
              0.4444444444444444,
              "#bd3786"
             ],
             [
              0.5555555555555556,
              "#d8576b"
             ],
             [
              0.6666666666666666,
              "#ed7953"
             ],
             [
              0.7777777777777778,
              "#fb9f3a"
             ],
             [
              0.8888888888888888,
              "#fdca26"
             ],
             [
              1,
              "#f0f921"
             ]
            ],
            "type": "histogram2dcontour"
           }
          ],
          "mesh3d": [
           {
            "colorbar": {
             "outlinewidth": 0,
             "ticks": ""
            },
            "type": "mesh3d"
           }
          ],
          "parcoords": [
           {
            "line": {
             "colorbar": {
              "outlinewidth": 0,
              "ticks": ""
             }
            },
            "type": "parcoords"
           }
          ],
          "pie": [
           {
            "automargin": true,
            "type": "pie"
           }
          ],
          "scatter": [
           {
            "marker": {
             "colorbar": {
              "outlinewidth": 0,
              "ticks": ""
             }
            },
            "type": "scatter"
           }
          ],
          "scatter3d": [
           {
            "line": {
             "colorbar": {
              "outlinewidth": 0,
              "ticks": ""
             }
            },
            "marker": {
             "colorbar": {
              "outlinewidth": 0,
              "ticks": ""
             }
            },
            "type": "scatter3d"
           }
          ],
          "scattercarpet": [
           {
            "marker": {
             "colorbar": {
              "outlinewidth": 0,
              "ticks": ""
             }
            },
            "type": "scattercarpet"
           }
          ],
          "scattergeo": [
           {
            "marker": {
             "colorbar": {
              "outlinewidth": 0,
              "ticks": ""
             }
            },
            "type": "scattergeo"
           }
          ],
          "scattergl": [
           {
            "marker": {
             "colorbar": {
              "outlinewidth": 0,
              "ticks": ""
             }
            },
            "type": "scattergl"
           }
          ],
          "scattermapbox": [
           {
            "marker": {
             "colorbar": {
              "outlinewidth": 0,
              "ticks": ""
             }
            },
            "type": "scattermapbox"
           }
          ],
          "scatterpolar": [
           {
            "marker": {
             "colorbar": {
              "outlinewidth": 0,
              "ticks": ""
             }
            },
            "type": "scatterpolar"
           }
          ],
          "scatterpolargl": [
           {
            "marker": {
             "colorbar": {
              "outlinewidth": 0,
              "ticks": ""
             }
            },
            "type": "scatterpolargl"
           }
          ],
          "scatterternary": [
           {
            "marker": {
             "colorbar": {
              "outlinewidth": 0,
              "ticks": ""
             }
            },
            "type": "scatterternary"
           }
          ],
          "surface": [
           {
            "colorbar": {
             "outlinewidth": 0,
             "ticks": ""
            },
            "colorscale": [
             [
              0,
              "#0d0887"
             ],
             [
              0.1111111111111111,
              "#46039f"
             ],
             [
              0.2222222222222222,
              "#7201a8"
             ],
             [
              0.3333333333333333,
              "#9c179e"
             ],
             [
              0.4444444444444444,
              "#bd3786"
             ],
             [
              0.5555555555555556,
              "#d8576b"
             ],
             [
              0.6666666666666666,
              "#ed7953"
             ],
             [
              0.7777777777777778,
              "#fb9f3a"
             ],
             [
              0.8888888888888888,
              "#fdca26"
             ],
             [
              1,
              "#f0f921"
             ]
            ],
            "type": "surface"
           }
          ],
          "table": [
           {
            "cells": {
             "fill": {
              "color": "#EBF0F8"
             },
             "line": {
              "color": "white"
             }
            },
            "header": {
             "fill": {
              "color": "#C8D4E3"
             },
             "line": {
              "color": "white"
             }
            },
            "type": "table"
           }
          ]
         },
         "layout": {
          "annotationdefaults": {
           "arrowcolor": "#2a3f5f",
           "arrowhead": 0,
           "arrowwidth": 1
          },
          "autotypenumbers": "strict",
          "coloraxis": {
           "colorbar": {
            "outlinewidth": 0,
            "ticks": ""
           }
          },
          "colorscale": {
           "diverging": [
            [
             0,
             "#8e0152"
            ],
            [
             0.1,
             "#c51b7d"
            ],
            [
             0.2,
             "#de77ae"
            ],
            [
             0.3,
             "#f1b6da"
            ],
            [
             0.4,
             "#fde0ef"
            ],
            [
             0.5,
             "#f7f7f7"
            ],
            [
             0.6,
             "#e6f5d0"
            ],
            [
             0.7,
             "#b8e186"
            ],
            [
             0.8,
             "#7fbc41"
            ],
            [
             0.9,
             "#4d9221"
            ],
            [
             1,
             "#276419"
            ]
           ],
           "sequential": [
            [
             0,
             "#0d0887"
            ],
            [
             0.1111111111111111,
             "#46039f"
            ],
            [
             0.2222222222222222,
             "#7201a8"
            ],
            [
             0.3333333333333333,
             "#9c179e"
            ],
            [
             0.4444444444444444,
             "#bd3786"
            ],
            [
             0.5555555555555556,
             "#d8576b"
            ],
            [
             0.6666666666666666,
             "#ed7953"
            ],
            [
             0.7777777777777778,
             "#fb9f3a"
            ],
            [
             0.8888888888888888,
             "#fdca26"
            ],
            [
             1,
             "#f0f921"
            ]
           ],
           "sequentialminus": [
            [
             0,
             "#0d0887"
            ],
            [
             0.1111111111111111,
             "#46039f"
            ],
            [
             0.2222222222222222,
             "#7201a8"
            ],
            [
             0.3333333333333333,
             "#9c179e"
            ],
            [
             0.4444444444444444,
             "#bd3786"
            ],
            [
             0.5555555555555556,
             "#d8576b"
            ],
            [
             0.6666666666666666,
             "#ed7953"
            ],
            [
             0.7777777777777778,
             "#fb9f3a"
            ],
            [
             0.8888888888888888,
             "#fdca26"
            ],
            [
             1,
             "#f0f921"
            ]
           ]
          },
          "colorway": [
           "#636efa",
           "#EF553B",
           "#00cc96",
           "#ab63fa",
           "#FFA15A",
           "#19d3f3",
           "#FF6692",
           "#B6E880",
           "#FF97FF",
           "#FECB52"
          ],
          "font": {
           "color": "#2a3f5f"
          },
          "geo": {
           "bgcolor": "white",
           "lakecolor": "white",
           "landcolor": "#E5ECF6",
           "showlakes": true,
           "showland": true,
           "subunitcolor": "white"
          },
          "hoverlabel": {
           "align": "left"
          },
          "hovermode": "closest",
          "mapbox": {
           "style": "light"
          },
          "paper_bgcolor": "white",
          "plot_bgcolor": "#E5ECF6",
          "polar": {
           "angularaxis": {
            "gridcolor": "white",
            "linecolor": "white",
            "ticks": ""
           },
           "bgcolor": "#E5ECF6",
           "radialaxis": {
            "gridcolor": "white",
            "linecolor": "white",
            "ticks": ""
           }
          },
          "scene": {
           "xaxis": {
            "backgroundcolor": "#E5ECF6",
            "gridcolor": "white",
            "gridwidth": 2,
            "linecolor": "white",
            "showbackground": true,
            "ticks": "",
            "zerolinecolor": "white"
           },
           "yaxis": {
            "backgroundcolor": "#E5ECF6",
            "gridcolor": "white",
            "gridwidth": 2,
            "linecolor": "white",
            "showbackground": true,
            "ticks": "",
            "zerolinecolor": "white"
           },
           "zaxis": {
            "backgroundcolor": "#E5ECF6",
            "gridcolor": "white",
            "gridwidth": 2,
            "linecolor": "white",
            "showbackground": true,
            "ticks": "",
            "zerolinecolor": "white"
           }
          },
          "shapedefaults": {
           "line": {
            "color": "#2a3f5f"
           }
          },
          "ternary": {
           "aaxis": {
            "gridcolor": "white",
            "linecolor": "white",
            "ticks": ""
           },
           "baxis": {
            "gridcolor": "white",
            "linecolor": "white",
            "ticks": ""
           },
           "bgcolor": "#E5ECF6",
           "caxis": {
            "gridcolor": "white",
            "linecolor": "white",
            "ticks": ""
           }
          },
          "title": {
           "x": 0.05
          },
          "xaxis": {
           "automargin": true,
           "gridcolor": "white",
           "linecolor": "white",
           "ticks": "",
           "title": {
            "standoff": 15
           },
           "zerolinecolor": "white",
           "zerolinewidth": 2
          },
          "yaxis": {
           "automargin": true,
           "gridcolor": "white",
           "linecolor": "white",
           "ticks": "",
           "title": {
            "standoff": 15
           },
           "zerolinecolor": "white",
           "zerolinewidth": 2
          }
         }
        },
        "title": {
         "text": "Highest Average Pay by Gender"
        },
        "width": 1200
       }
      },
      "image/png": "[encoded data removed]",
      "text/html": [
       "<div>                            <div id=\"01b1731c-67f9-40ec-ab10-49f771b70c82\" class=\"plotly-graph-div\" style=\"height:500px; width:1200px;\"></div>            <script type=\"text/javascript\">                require([\"plotly\"], function(Plotly) {                    window.PLOTLYENV=window.PLOTLYENV || {};                                    if (document.getElementById(\"01b1731c-67f9-40ec-ab10-49f771b70c82\")) {                    Plotly.newPlot(                        \"01b1731c-67f9-40ec-ab10-49f771b70c82\",                        [{\"colorscale\":[[0.0,\"rgb(127, 60, 141)\"],[1.0,\"rgb(127, 60, 141)\"]],\"customdata\":[[\"Alabama\",\"Male\",98009.1407678245],[\"Arizona\",\"Male\",117559.8918736273],[\"Arkansas\",\"Male\",86929.8013245033],[\"California\",\"Male\",173478.22603921845],[\"District of Columbia\",\"Male\",124865.9649122807],[\"Florida\",\"Male\",141800.32271077047],[\"Hawaii\",\"Male\",109974.42922374429],[\"Idaho\",\"Male\",58190.625],[\"Illinois\",\"Male\",90254.64871236203],[\"Indiana\",\"Male\",100264.32653061225],[\"Kansas\",\"Male\",88450.69337442219],[\"Maine\",\"Male\",78292.68292682926],[\"Massachusetts\",\"Male\",210903.84615384616],[\"Michigan\",\"Male\",85666.57110091743],[\"Minnesota\",\"Male\",94484.64163822525],[\"Mississippi\",\"Male\",66480.24786986833],[\"Montana\",\"Male\",83771.88940092166],[\"Nebraska\",\"Male\",98224.55573505654],[\"Nevada\",\"Male\",240047.24409448818],[\"New Hampshire\",\"Male\",165677.9661016949],[\"North Carolina\",\"Male\",130366.79536679537],[\"Ohio\",\"Male\",97277.26255196673],[\"Oklahoma\",\"Male\",130549.66887417219],[\"South Carolina\",\"Male\",80907.96146044624],[\"South Dakota\",\"Male\",77914.96899911427],[\"Texas\",\"Male\",119122.71540469975],[\"Utah\",\"Male\",132297.26890756303],[\"Vermont\",\"Male\",65551.94123819517],[\"Virginia\",\"Male\",700149.0196078431],[\"West Virginia\",\"Male\",131112.06896551725],[\"Wyoming\",\"Male\",91150.0]],\"geo\":\"geo\",\"hovertemplate\":\"gender=%{customdata[1]}<br>Postal Abbr.=%{location}<br>name=%{customdata[0]}<br>avg_pay=%{customdata[2]}<extra></extra>\",\"locationmode\":\"USA-states\",\"locations\":[\"AL\",\"AZ\",\"AR\",\"CA\",\"DC\",\"FL\",\"HI\",\"ID\",\"IL\",\"IN\",\"KS\",\"ME\",\"MA\",\"MI\",\"MN\",\"MS\",\"MT\",\"NE\",\"NV\",\"NH\",\"NC\",\"OH\",\"OK\",\"SC\",\"SD\",\"TX\",\"UT\",\"VT\",\"VA\",\"WV\",\"WY\"],\"name\":\"Male\",\"showlegend\":true,\"showscale\":false,\"z\":[1,1,1,1,1,1,1,1,1,1,1,1,1,1,1,1,1,1,1,1,1,1,1,1,1,1,1,1,1,1,1],\"type\":\"choropleth\"},{\"colorscale\":[[0.0,\"rgb(17, 165, 121)\"],[1.0,\"rgb(17, 165, 121)\"]],\"customdata\":[[\"Alaska\",\"Female\",225833.33333333334],[\"Georgia\",\"Female\",110145.25139664805],[\"Iowa\",\"Female\",118480.97412480974],[\"Kentucky\",\"Female\",68563.82252559726],[\"Louisiana\",\"Female\",208294.11764705883],[\"Maryland\",\"Female\",102454.54545454546],[\"Missouri\",\"Female\",181472.0],[\"New Jersey\",\"Female\",155200.0],[\"New Mexico\",\"Female\",101801.04712041885],[\"Tennessee\",\"Female\",111042.1052631579],[\"Wisconsin\",\"Female\",105780.75037305479]],\"geo\":\"geo\",\"hovertemplate\":\"gender=%{customdata[1]}<br>Postal Abbr.=%{location}<br>name=%{customdata[0]}<br>avg_pay=%{customdata[2]}<extra></extra>\",\"locationmode\":\"USA-states\",\"locations\":[\"AK\",\"GA\",\"IA\",\"KY\",\"LA\",\"MD\",\"MO\",\"NJ\",\"NM\",\"TN\",\"WI\"],\"name\":\"Female\",\"showlegend\":true,\"showscale\":false,\"z\":[1,1,1,1,1,1,1,1,1,1,1],\"type\":\"choropleth\"},{\"colorscale\":[[0.0,\"rgb(57, 105, 172)\"],[1.0,\"rgb(57, 105, 172)\"]],\"customdata\":[[\"Colorado\",\"Equally male/female\",94266.66666666667],[\"Connecticut\",\"Equally male/female\",215863.27185244588],[\"Delaware\",\"Equally male/female\",109482.75862068965],[\"New York\",\"Equally male/female\",835569.1699604744],[\"North Dakota\",\"Equally male/female\",123423.79182156133],[\"Oregon\",\"Equally male/female\",115562.28373702422],[\"Pennsylvania\",\"Equally male/female\",166500.0],[\"Rhode Island\",\"Equally male/female\",81778.84615384616],[\"Washington\",\"Equally male/female\",194701.90156599553]],\"geo\":\"geo\",\"hovertemplate\":\"gender=%{customdata[1]}<br>Postal Abbr.=%{location}<br>name=%{customdata[0]}<br>avg_pay=%{customdata[2]}<extra></extra>\",\"locationmode\":\"USA-states\",\"locations\":[\"CO\",\"CT\",\"DE\",\"NY\",\"ND\",\"OR\",\"PA\",\"RI\",\"WA\"],\"name\":\"Equally male/female\",\"showlegend\":true,\"showscale\":false,\"z\":[1,1,1,1,1,1,1,1,1],\"type\":\"choropleth\"}],                        {\"template\":{\"data\":{\"bar\":[{\"error_x\":{\"color\":\"#2a3f5f\"},\"error_y\":{\"color\":\"#2a3f5f\"},\"marker\":{\"line\":{\"color\":\"#E5ECF6\",\"width\":0.5},\"pattern\":{\"fillmode\":\"overlay\",\"size\":10,\"solidity\":0.2}},\"type\":\"bar\"}],\"barpolar\":[{\"marker\":{\"line\":{\"color\":\"#E5ECF6\",\"width\":0.5},\"pattern\":{\"fillmode\":\"overlay\",\"size\":10,\"solidity\":0.2}},\"type\":\"barpolar\"}],\"carpet\":[{\"aaxis\":{\"endlinecolor\":\"#2a3f5f\",\"gridcolor\":\"white\",\"linecolor\":\"white\",\"minorgridcolor\":\"white\",\"startlinecolor\":\"#2a3f5f\"},\"baxis\":{\"endlinecolor\":\"#2a3f5f\",\"gridcolor\":\"white\",\"linecolor\":\"white\",\"minorgridcolor\":\"white\",\"startlinecolor\":\"#2a3f5f\"},\"type\":\"carpet\"}],\"choropleth\":[{\"colorbar\":{\"outlinewidth\":0,\"ticks\":\"\"},\"type\":\"choropleth\"}],\"contour\":[{\"colorbar\":{\"outlinewidth\":0,\"ticks\":\"\"},\"colorscale\":[[0.0,\"#0d0887\"],[0.1111111111111111,\"#46039f\"],[0.2222222222222222,\"#7201a8\"],[0.3333333333333333,\"#9c179e\"],[0.4444444444444444,\"#bd3786\"],[0.5555555555555556,\"#d8576b\"],[0.6666666666666666,\"#ed7953\"],[0.7777777777777778,\"#fb9f3a\"],[0.8888888888888888,\"#fdca26\"],[1.0,\"#f0f921\"]],\"type\":\"contour\"}],\"contourcarpet\":[{\"colorbar\":{\"outlinewidth\":0,\"ticks\":\"\"},\"type\":\"contourcarpet\"}],\"heatmap\":[{\"colorbar\":{\"outlinewidth\":0,\"ticks\":\"\"},\"colorscale\":[[0.0,\"#0d0887\"],[0.1111111111111111,\"#46039f\"],[0.2222222222222222,\"#7201a8\"],[0.3333333333333333,\"#9c179e\"],[0.4444444444444444,\"#bd3786\"],[0.5555555555555556,\"#d8576b\"],[0.6666666666666666,\"#ed7953\"],[0.7777777777777778,\"#fb9f3a\"],[0.8888888888888888,\"#fdca26\"],[1.0,\"#f0f921\"]],\"type\":\"heatmap\"}],\"heatmapgl\":[{\"colorbar\":{\"outlinewidth\":0,\"ticks\":\"\"},\"colorscale\":[[0.0,\"#0d0887\"],[0.1111111111111111,\"#46039f\"],[0.2222222222222222,\"#7201a8\"],[0.3333333333333333,\"#9c179e\"],[0.4444444444444444,\"#bd3786\"],[0.5555555555555556,\"#d8576b\"],[0.6666666666666666,\"#ed7953\"],[0.7777777777777778,\"#fb9f3a\"],[0.8888888888888888,\"#fdca26\"],[1.0,\"#f0f921\"]],\"type\":\"heatmapgl\"}],\"histogram\":[{\"marker\":{\"pattern\":{\"fillmode\":\"overlay\",\"size\":10,\"solidity\":0.2}},\"type\":\"histogram\"}],\"histogram2d\":[{\"colorbar\":{\"outlinewidth\":0,\"ticks\":\"\"},\"colorscale\":[[0.0,\"#0d0887\"],[0.1111111111111111,\"#46039f\"],[0.2222222222222222,\"#7201a8\"],[0.3333333333333333,\"#9c179e\"],[0.4444444444444444,\"#bd3786\"],[0.5555555555555556,\"#d8576b\"],[0.6666666666666666,\"#ed7953\"],[0.7777777777777778,\"#fb9f3a\"],[0.8888888888888888,\"#fdca26\"],[1.0,\"#f0f921\"]],\"type\":\"histogram2d\"}],\"histogram2dcontour\":[{\"colorbar\":{\"outlinewidth\":0,\"ticks\":\"\"},\"colorscale\":[[0.0,\"#0d0887\"],[0.1111111111111111,\"#46039f\"],[0.2222222222222222,\"#7201a8\"],[0.3333333333333333,\"#9c179e\"],[0.4444444444444444,\"#bd3786\"],[0.5555555555555556,\"#d8576b\"],[0.6666666666666666,\"#ed7953\"],[0.7777777777777778,\"#fb9f3a\"],[0.8888888888888888,\"#fdca26\"],[1.0,\"#f0f921\"]],\"type\":\"histogram2dcontour\"}],\"mesh3d\":[{\"colorbar\":{\"outlinewidth\":0,\"ticks\":\"\"},\"type\":\"mesh3d\"}],\"parcoords\":[{\"line\":{\"colorbar\":{\"outlinewidth\":0,\"ticks\":\"\"}},\"type\":\"parcoords\"}],\"pie\":[{\"automargin\":true,\"type\":\"pie\"}],\"scatter\":[{\"marker\":{\"colorbar\":{\"outlinewidth\":0,\"ticks\":\"\"}},\"type\":\"scatter\"}],\"scatter3d\":[{\"line\":{\"colorbar\":{\"outlinewidth\":0,\"ticks\":\"\"}},\"marker\":{\"colorbar\":{\"outlinewidth\":0,\"ticks\":\"\"}},\"type\":\"scatter3d\"}],\"scattercarpet\":[{\"marker\":{\"colorbar\":{\"outlinewidth\":0,\"ticks\":\"\"}},\"type\":\"scattercarpet\"}],\"scattergeo\":[{\"marker\":{\"colorbar\":{\"outlinewidth\":0,\"ticks\":\"\"}},\"type\":\"scattergeo\"}],\"scattergl\":[{\"marker\":{\"colorbar\":{\"outlinewidth\":0,\"ticks\":\"\"}},\"type\":\"scattergl\"}],\"scattermapbox\":[{\"marker\":{\"colorbar\":{\"outlinewidth\":0,\"ticks\":\"\"}},\"type\":\"scattermapbox\"}],\"scatterpolar\":[{\"marker\":{\"colorbar\":{\"outlinewidth\":0,\"ticks\":\"\"}},\"type\":\"scatterpolar\"}],\"scatterpolargl\":[{\"marker\":{\"colorbar\":{\"outlinewidth\":0,\"ticks\":\"\"}},\"type\":\"scatterpolargl\"}],\"scatterternary\":[{\"marker\":{\"colorbar\":{\"outlinewidth\":0,\"ticks\":\"\"}},\"type\":\"scatterternary\"}],\"surface\":[{\"colorbar\":{\"outlinewidth\":0,\"ticks\":\"\"},\"colorscale\":[[0.0,\"#0d0887\"],[0.1111111111111111,\"#46039f\"],[0.2222222222222222,\"#7201a8\"],[0.3333333333333333,\"#9c179e\"],[0.4444444444444444,\"#bd3786\"],[0.5555555555555556,\"#d8576b\"],[0.6666666666666666,\"#ed7953\"],[0.7777777777777778,\"#fb9f3a\"],[0.8888888888888888,\"#fdca26\"],[1.0,\"#f0f921\"]],\"type\":\"surface\"}],\"table\":[{\"cells\":{\"fill\":{\"color\":\"#EBF0F8\"},\"line\":{\"color\":\"white\"}},\"header\":{\"fill\":{\"color\":\"#C8D4E3\"},\"line\":{\"color\":\"white\"}},\"type\":\"table\"}]},\"layout\":{\"annotationdefaults\":{\"arrowcolor\":\"#2a3f5f\",\"arrowhead\":0,\"arrowwidth\":1},\"autotypenumbers\":\"strict\",\"coloraxis\":{\"colorbar\":{\"outlinewidth\":0,\"ticks\":\"\"}},\"colorscale\":{\"diverging\":[[0,\"#8e0152\"],[0.1,\"#c51b7d\"],[0.2,\"#de77ae\"],[0.3,\"#f1b6da\"],[0.4,\"#fde0ef\"],[0.5,\"#f7f7f7\"],[0.6,\"#e6f5d0\"],[0.7,\"#b8e186\"],[0.8,\"#7fbc41\"],[0.9,\"#4d9221\"],[1,\"#276419\"]],\"sequential\":[[0.0,\"#0d0887\"],[0.1111111111111111,\"#46039f\"],[0.2222222222222222,\"#7201a8\"],[0.3333333333333333,\"#9c179e\"],[0.4444444444444444,\"#bd3786\"],[0.5555555555555556,\"#d8576b\"],[0.6666666666666666,\"#ed7953\"],[0.7777777777777778,\"#fb9f3a\"],[0.8888888888888888,\"#fdca26\"],[1.0,\"#f0f921\"]],\"sequentialminus\":[[0.0,\"#0d0887\"],[0.1111111111111111,\"#46039f\"],[0.2222222222222222,\"#7201a8\"],[0.3333333333333333,\"#9c179e\"],[0.4444444444444444,\"#bd3786\"],[0.5555555555555556,\"#d8576b\"],[0.6666666666666666,\"#ed7953\"],[0.7777777777777778,\"#fb9f3a\"],[0.8888888888888888,\"#fdca26\"],[1.0,\"#f0f921\"]]},\"colorway\":[\"#636efa\",\"#EF553B\",\"#00cc96\",\"#ab63fa\",\"#FFA15A\",\"#19d3f3\",\"#FF6692\",\"#B6E880\",\"#FF97FF\",\"#FECB52\"],\"font\":{\"color\":\"#2a3f5f\"},\"geo\":{\"bgcolor\":\"white\",\"lakecolor\":\"white\",\"landcolor\":\"#E5ECF6\",\"showlakes\":true,\"showland\":true,\"subunitcolor\":\"white\"},\"hoverlabel\":{\"align\":\"left\"},\"hovermode\":\"closest\",\"mapbox\":{\"style\":\"light\"},\"paper_bgcolor\":\"white\",\"plot_bgcolor\":\"#E5ECF6\",\"polar\":{\"angularaxis\":{\"gridcolor\":\"white\",\"linecolor\":\"white\",\"ticks\":\"\"},\"bgcolor\":\"#E5ECF6\",\"radialaxis\":{\"gridcolor\":\"white\",\"linecolor\":\"white\",\"ticks\":\"\"}},\"scene\":{\"xaxis\":{\"backgroundcolor\":\"#E5ECF6\",\"gridcolor\":\"white\",\"gridwidth\":2,\"linecolor\":\"white\",\"showbackground\":true,\"ticks\":\"\",\"zerolinecolor\":\"white\"},\"yaxis\":{\"backgroundcolor\":\"#E5ECF6\",\"gridcolor\":\"white\",\"gridwidth\":2,\"linecolor\":\"white\",\"showbackground\":true,\"ticks\":\"\",\"zerolinecolor\":\"white\"},\"zaxis\":{\"backgroundcolor\":\"#E5ECF6\",\"gridcolor\":\"white\",\"gridwidth\":2,\"linecolor\":\"white\",\"showbackground\":true,\"ticks\":\"\",\"zerolinecolor\":\"white\"}},\"shapedefaults\":{\"line\":{\"color\":\"#2a3f5f\"}},\"ternary\":{\"aaxis\":{\"gridcolor\":\"white\",\"linecolor\":\"white\",\"ticks\":\"\"},\"baxis\":{\"gridcolor\":\"white\",\"linecolor\":\"white\",\"ticks\":\"\"},\"bgcolor\":\"#E5ECF6\",\"caxis\":{\"gridcolor\":\"white\",\"linecolor\":\"white\",\"ticks\":\"\"}},\"title\":{\"x\":0.05},\"xaxis\":{\"automargin\":true,\"gridcolor\":\"white\",\"linecolor\":\"white\",\"ticks\":\"\",\"title\":{\"standoff\":15},\"zerolinecolor\":\"white\",\"zerolinewidth\":2},\"yaxis\":{\"automargin\":true,\"gridcolor\":\"white\",\"linecolor\":\"white\",\"ticks\":\"\",\"title\":{\"standoff\":15},\"zerolinecolor\":\"white\",\"zerolinewidth\":2}}},\"geo\":{\"domain\":{\"x\":[0.0,1.0],\"y\":[0.0,1.0]},\"center\":{},\"scope\":\"usa\"},\"legend\":{\"title\":{\"text\":\"gender\"},\"tracegroupgap\":0},\"title\":{\"text\":\"Highest Average Pay by Gender\"},\"height\":500,\"width\":1200,\"annotations\":[{\"align\":\"left\",\"font\":{\"color\":\"grey\",\"size\":10},\"showarrow\":false,\"text\":\"Created by: Jed Dryer<br>Apr 23, 2022<br>Source: US Census - 2019 ABS\",\"x\":0,\"xanchor\":\"left\",\"xref\":\"paper\",\"xshift\":-1,\"y\":-0.15,\"yanchor\":\"bottom\",\"yref\":\"paper\",\"yshift\":-5}]},                        {\"responsive\": true}                    ).then(function(){\n",
       "                            \n",
       "var gd = document.getElementById('01b1731c-67f9-40ec-ab10-49f771b70c82');\n",
       "var x = new MutationObserver(function (mutations, observer) {{\n",
       "        var display = window.getComputedStyle(gd).display;\n",
       "        if (!display || display === 'none') {{\n",
       "            console.log([gd, 'removed!']);\n",
       "            Plotly.purge(gd);\n",
       "            observer.disconnect();\n",
       "        }}\n",
       "}});\n",
       "\n",
       "// Listen for the removal of the full notebook cells\n",
       "var notebookContainer = gd.closest('#notebook-container');\n",
       "if (notebookContainer) {{\n",
       "    x.observe(notebookContainer, {childList: true});\n",
       "}}\n",
       "\n",
       "// Listen for the clearing of the current output cell\n",
       "var outputEl = gd.closest('.output');\n",
       "if (outputEl) {{\n",
       "    x.observe(outputEl, {childList: true});\n",
       "}}\n",
       "\n",
       "                        })                };                });            </script>        </div>"
      ]
     },
     "metadata": {},
     "output_type": "display_data"
    }
   ],
   "source": [
    "today = dt.datetime.strftime(dt.datetime.today().date(), '%b %d, %Y')\n",
    "\n",
    "mapfig = px.choropleth(grouped, \n",
    "                       title = f'Highest Average Pay by {label}',\n",
    "                       locations = 'Postal Abbr.',\n",
    "                       locationmode = \"USA-states\",\n",
    "                       scope = 'usa',\n",
    "                       color = target,\n",
    "                       hover_data = ['name',target,'avg_pay'],\n",
    "                       color_discrete_sequence = px.colors.qualitative.Bold,\n",
    "                      height = 500,\n",
    "                      width = 1200)\n",
    "\n",
    "mapfig.add_annotation(\n",
    "    text = (f\"Created by: Jed Dryer<br>{today}<br>Source: US Census - 2019 ABS\")\n",
    "    , showarrow=False\n",
    "    , x = 0\n",
    "    , y = -0.15\n",
    "    , xref='paper'\n",
    "    , yref='paper' \n",
    "    , xanchor='left'\n",
    "    , yanchor='bottom'\n",
    "    , xshift=-1\n",
    "    , yshift=-5\n",
    "    , font=dict(size=10, color=\"grey\")\n",
    "    , align=\"left\"\n",
    "    ,)\n",
    "\n",
    "mapfig.write_html('test.html')\n",
    "mapfig.show()\n",
    "\n",
    "\n"
   ]
  },
  {
   "cell_type": "code",
   "execution_count": 138,
   "id": "db8fac88-5958-4aea-8b77-8cc173c499f2",
   "metadata": {},
   "outputs": [
    {
     "name": "stdout",
     "output_type": "stream",
     "text": [
      "Choropleth({\n",
      "    'colorscale': [[0.0, 'rgb(127, 60, 141)'], [1.0, 'rgb(127, 60, 141)']],\n",
      "    'customdata': array([['Alabama', 'Management of companies and enterprises', 'Male',\n",
      "                          98009.1407678245],\n",
      "                         ['Arizona', 'Management of companies and enterprises', 'Male',\n",
      "                          117559.8918736273],\n",
      "                         ['Hawaii', 'Management of companies and enterprises', 'Male',\n",
      "                          109974.42922374429],\n",
      "                         ['Indiana', 'Management of companies and enterprises', 'Male',\n",
      "                          100264.32653061225],\n",
      "                         ['Iowa', 'Management of companies and enterprises', 'Female',\n",
      "                          118480.97412480974],\n",
      "                         ['Kansas', 'Management of companies and enterprises', 'Male',\n",
      "                          88450.69337442219],\n",
      "                         ['Oregon', 'Management of companies and enterprises',\n",
      "                          'Equally male/female', 115562.28373702422],\n",
      "                         ['South Carolina', 'Management of companies and enterprises', 'Male',\n",
      "                          80907.96146044624],\n",
      "                         ['South Dakota', 'Management of companies and enterprises', 'Male',\n",
      "                          77914.96899911427],\n",
      "                         ['Washington', 'Management of companies and enterprises',\n",
      "                          'Equally male/female', 194701.90156599553]], dtype=object),\n",
      "    'geo': 'geo',\n",
      "    'hovertemplate': ('industry=%{customdata[1]}<br>P' ... '{customdata[3]}<extra></extra>'),\n",
      "    'locationmode': 'USA-states',\n",
      "    'locations': array(['AL', 'AZ', 'HI', 'IN', 'IA', 'KS', 'OR', 'SC', 'SD', 'WA'],\n",
      "                       dtype=object),\n",
      "    'name': 'Management of companies and enterprises',\n",
      "    'showlegend': True,\n",
      "    'showscale': False,\n",
      "    'z': [1, 1, 1, 1, 1, 1, 1, 1, 1, 1]\n",
      "}) \n",
      "\n",
      "Choropleth({\n",
      "    'colorscale': [[0.0, 'rgb(17, 165, 121)'], [1.0, 'rgb(17, 165, 121)']],\n",
      "    'customdata': array([['Alaska', 'Professional, scientific, and technical services',\n",
      "                          'Female', 225833.33333333334],\n",
      "                         ['Colorado', 'Professional, scientific, and technical services',\n",
      "                          'Equally male/female', 94266.66666666667],\n",
      "                         ['Illinois', 'Professional, scientific, and technical services',\n",
      "                          'Male', 90254.64871236203],\n",
      "                         ['Kentucky', 'Professional, scientific, and technical services',\n",
      "                          'Female', 68563.82252559726],\n",
      "                         ['Maine', 'Professional, scientific, and technical services', 'Male',\n",
      "                          78292.68292682926],\n",
      "                         ['Michigan', 'Professional, scientific, and technical services',\n",
      "                          'Male', 85666.57110091743],\n",
      "                         ['Nebraska', 'Professional, scientific, and technical services',\n",
      "                          'Male', 98224.55573505654],\n",
      "                         ['Nevada', 'Professional, scientific, and technical services', 'Male',\n",
      "                          240047.24409448818],\n",
      "                         ['New Hampshire', 'Professional, scientific, and technical services',\n",
      "                          'Male', 165677.9661016949],\n",
      "                         ['Rhode Island', 'Professional, scientific, and technical services',\n",
      "                          'Equally male/female', 81778.84615384616],\n",
      "                         ['Tennessee', 'Professional, scientific, and technical services',\n",
      "                          'Female', 111042.1052631579],\n",
      "                         ['Utah', 'Professional, scientific, and technical services', 'Male',\n",
      "                          132297.26890756303],\n",
      "                         ['West Virginia', 'Professional, scientific, and technical services',\n",
      "                          'Male', 131112.06896551725]], dtype=object),\n",
      "    'geo': 'geo',\n",
      "    'hovertemplate': ('industry=%{customdata[1]}<br>P' ... '{customdata[3]}<extra></extra>'),\n",
      "    'locationmode': 'USA-states',\n",
      "    'locations': array(['AK', 'CO', 'IL', 'KY', 'ME', 'MI', 'NE', 'NV', 'NH', 'RI', 'TN', 'UT',\n",
      "                        'WV'], dtype=object),\n",
      "    'name': 'Professional, scientific, and technical services',\n",
      "    'showlegend': True,\n",
      "    'showscale': False,\n",
      "    'z': [1, 1, 1, 1, 1, 1, 1, 1, 1, 1, 1, 1, 1]\n",
      "}) \n",
      "\n",
      "Choropleth({\n",
      "    'colorscale': [[0.0, 'rgb(57, 105, 172)'], [1.0, 'rgb(57, 105, 172)']],\n",
      "    'customdata': array([['Arkansas', 'Utilities', 'Male', 86929.8013245033],\n",
      "                         ['Idaho', 'Utilities', 'Male', 58190.625],\n",
      "                         ['Mississippi', 'Utilities', 'Male', 66480.24786986833],\n",
      "                         ['Oklahoma', 'Utilities', 'Male', 130549.66887417219]], dtype=object),\n",
      "    'geo': 'geo',\n",
      "    'hovertemplate': ('industry=%{customdata[1]}<br>P' ... '{customdata[3]}<extra></extra>'),\n",
      "    'locationmode': 'USA-states',\n",
      "    'locations': array(['AR', 'ID', 'MS', 'OK'], dtype=object),\n",
      "    'name': 'Utilities',\n",
      "    'showlegend': True,\n",
      "    'showscale': False,\n",
      "    'z': [1, 1, 1, 1]\n",
      "}) \n",
      "\n",
      "Choropleth({\n",
      "    'colorscale': [[0.0, 'rgb(242, 183, 1)'], [1.0, 'rgb(242, 183, 1)']],\n",
      "    'customdata': array([['California', 'Information', 'Male', 173478.22603921845],\n",
      "                         ['Delaware', 'Information', 'Equally male/female', 109482.75862068965],\n",
      "                         ['Georgia', 'Information', 'Female', 110145.25139664805],\n",
      "                         ['Maryland', 'Information', 'Female', 102454.54545454546],\n",
      "                         ['Vermont', 'Information', 'Male', 65551.94123819517],\n",
      "                         ['Wisconsin', 'Information', 'Female', 105780.75037305479]],\n",
      "                        dtype=object),\n",
      "    'geo': 'geo',\n",
      "    'hovertemplate': ('industry=%{customdata[1]}<br>P' ... '{customdata[3]}<extra></extra>'),\n",
      "    'locationmode': 'USA-states',\n",
      "    'locations': array(['CA', 'DE', 'GA', 'MD', 'VT', 'WI'], dtype=object),\n",
      "    'name': 'Information',\n",
      "    'showlegend': True,\n",
      "    'showscale': False,\n",
      "    'z': [1, 1, 1, 1, 1, 1]\n",
      "}) \n",
      "\n",
      "Choropleth({\n",
      "    'colorscale': [[0.0, 'rgb(231, 63, 116)'], [1.0, 'rgb(231, 63, 116)']],\n",
      "    'customdata': array([['Connecticut', 'Wholesale trade', 'Equally male/female',\n",
      "                          215863.27185244588]], dtype=object),\n",
      "    'geo': 'geo',\n",
      "    'hovertemplate': ('industry=%{customdata[1]}<br>P' ... '{customdata[3]}<extra></extra>'),\n",
      "    'locationmode': 'USA-states',\n",
      "    'locations': array(['CT'], dtype=object),\n",
      "    'name': 'Wholesale trade',\n",
      "    'showlegend': True,\n",
      "    'showscale': False,\n",
      "    'z': [1]\n",
      "}) \n",
      "\n",
      "Choropleth({\n",
      "    'colorscale': [[0.0, 'rgb(128, 186, 90)'], [1.0, 'rgb(128, 186, 90)']],\n",
      "    'customdata': array([['District of Columbia', 'Transportation and warehousing', 'Male',\n",
      "                          124865.9649122807]], dtype=object),\n",
      "    'geo': 'geo',\n",
      "    'hovertemplate': ('industry=%{customdata[1]}<br>P' ... '{customdata[3]}<extra></extra>'),\n",
      "    'locationmode': 'USA-states',\n",
      "    'locations': array(['DC'], dtype=object),\n",
      "    'name': 'Transportation and warehousing',\n",
      "    'showlegend': True,\n",
      "    'showscale': False,\n",
      "    'z': [1]\n",
      "}) \n",
      "\n",
      "Choropleth({\n",
      "    'colorscale': [[0.0, 'rgb(230, 131, 16)'], [1.0, 'rgb(230, 131, 16)']],\n",
      "    'customdata': array([['Florida', 'Arts, entertainment, and recreation', 'Male',\n",
      "                          141800.32271077047],\n",
      "                         ['Missouri', 'Arts, entertainment, and recreation', 'Female', 181472.0],\n",
      "                         ['New York', 'Arts, entertainment, and recreation',\n",
      "                          'Equally male/female', 835569.1699604744],\n",
      "                         ['North Carolina', 'Arts, entertainment, and recreation', 'Male',\n",
      "                          130366.79536679537]], dtype=object),\n",
      "    'geo': 'geo',\n",
      "    'hovertemplate': ('industry=%{customdata[1]}<br>P' ... '{customdata[3]}<extra></extra>'),\n",
      "    'locationmode': 'USA-states',\n",
      "    'locations': array(['FL', 'MO', 'NY', 'NC'], dtype=object),\n",
      "    'name': 'Arts, entertainment, and recreation',\n",
      "    'showlegend': True,\n",
      "    'showscale': False,\n",
      "    'z': [1, 1, 1, 1]\n",
      "}) \n",
      "\n",
      "Choropleth({\n",
      "    'colorscale': [[0.0, 'rgb(0, 134, 149)'], [1.0, 'rgb(0, 134, 149)']],\n",
      "    'customdata': array([['Louisiana', 'Educational services', 'Female', 208294.11764705883],\n",
      "                         ['Pennsylvania', 'Educational services', 'Equally male/female',\n",
      "                          166500.0]], dtype=object),\n",
      "    'geo': 'geo',\n",
      "    'hovertemplate': ('industry=%{customdata[1]}<br>P' ... '{customdata[3]}<extra></extra>'),\n",
      "    'locationmode': 'USA-states',\n",
      "    'locations': array(['LA', 'PA'], dtype=object),\n",
      "    'name': 'Educational services',\n",
      "    'showlegend': True,\n",
      "    'showscale': False,\n",
      "    'z': [1, 1]\n",
      "}) \n",
      "\n",
      "Choropleth({\n",
      "    'colorscale': [[0.0, 'rgb(207, 28, 144)'], [1.0, 'rgb(207, 28, 144)']],\n",
      "    'customdata': array([['Massachusetts', 'Industries not classified', 'Male',\n",
      "                          210903.84615384616],\n",
      "                         ['Virginia', 'Industries not classified', 'Male', 700149.0196078431]],\n",
      "                        dtype=object),\n",
      "    'geo': 'geo',\n",
      "    'hovertemplate': ('industry=%{customdata[1]}<br>P' ... '{customdata[3]}<extra></extra>'),\n",
      "    'locationmode': 'USA-states',\n",
      "    'locations': array(['MA', 'VA'], dtype=object),\n",
      "    'name': 'Industries not classified',\n",
      "    'showlegend': True,\n",
      "    'showscale': False,\n",
      "    'z': [1, 1]\n",
      "}) \n",
      "\n",
      "Choropleth({\n",
      "    'colorscale': [[0.0, 'rgb(249, 123, 114)'], [1.0, 'rgb(249, 123, 114)']],\n",
      "    'customdata': array([['Minnesota', 'Construction', 'Male', 94484.64163822525],\n",
      "                         ['Wyoming', 'Construction', 'Male', 91150.0]], dtype=object),\n",
      "    'geo': 'geo',\n",
      "    'hovertemplate': ('industry=%{customdata[1]}<br>P' ... '{customdata[3]}<extra></extra>'),\n",
      "    'locationmode': 'USA-states',\n",
      "    'locations': array(['MN', 'WY'], dtype=object),\n",
      "    'name': 'Construction',\n",
      "    'showlegend': True,\n",
      "    'showscale': False,\n",
      "    'z': [1, 1]\n",
      "}) \n",
      "\n",
      "Choropleth({\n",
      "    'colorscale': [[0.0, 'rgb(165, 170, 153)'], [1.0, 'rgb(165, 170, 153)']],\n",
      "    'customdata': array([['Montana', 'Mining, quarrying, and oil and gas extraction', 'Male',\n",
      "                          83771.88940092166],\n",
      "                         ['New Mexico', 'Mining, quarrying, and oil and gas extraction',\n",
      "                          'Female', 101801.04712041885],\n",
      "                         ['North Dakota', 'Mining, quarrying, and oil and gas extraction',\n",
      "                          'Equally male/female', 123423.79182156133],\n",
      "                         ['Ohio', 'Mining, quarrying, and oil and gas extraction', 'Male',\n",
      "                          97277.26255196673],\n",
      "                         ['Texas', 'Mining, quarrying, and oil and gas extraction', 'Male',\n",
      "                          119122.71540469975]], dtype=object),\n",
      "    'geo': 'geo',\n",
      "    'hovertemplate': ('industry=%{customdata[1]}<br>P' ... '{customdata[3]}<extra></extra>'),\n",
      "    'locationmode': 'USA-states',\n",
      "    'locations': array(['MT', 'NM', 'ND', 'OH', 'TX'], dtype=object),\n",
      "    'name': 'Mining, quarrying, and oil and gas extraction',\n",
      "    'showlegend': True,\n",
      "    'showscale': False,\n",
      "    'z': [1, 1, 1, 1, 1]\n",
      "}) \n",
      "\n",
      "Choropleth({\n",
      "    'colorscale': [[0.0, 'rgb(127, 60, 141)'], [1.0, 'rgb(127, 60, 141)']],\n",
      "    'customdata': array([['New Jersey', 'Real estate and rental and leasing', 'Female',\n",
      "                          155200.0]], dtype=object),\n",
      "    'geo': 'geo',\n",
      "    'hovertemplate': ('industry=%{customdata[1]}<br>P' ... '{customdata[3]}<extra></extra>'),\n",
      "    'locationmode': 'USA-states',\n",
      "    'locations': array(['NJ'], dtype=object),\n",
      "    'name': 'Real estate and rental and leasing',\n",
      "    'showlegend': True,\n",
      "    'showscale': False,\n",
      "    'z': [1]\n",
      "}) \n",
      "\n"
     ]
    }
   ],
   "source": [
    "for item in mapfig.data:\n",
    "    print(item,\"\\n\")"
   ]
  },
  {
   "cell_type": "code",
   "execution_count": 122,
   "id": "41db178d-b672-4a2b-bdd0-563cdc4c3808",
   "metadata": {},
   "outputs": [
    {
     "ename": "AttributeError",
     "evalue": "'Choropleth' object has no attribute 'mode'",
     "output_type": "error",
     "traceback": [
      "\u001b[1;31m---------------------------------------------------------------------------\u001b[0m",
      "\u001b[1;31mAttributeError\u001b[0m                            Traceback (most recent call last)",
      "\u001b[1;32m~\\AppData\\Local\\Temp/ipykernel_23740/3827603949.py\u001b[0m in \u001b[0;36m<module>\u001b[1;34m\u001b[0m\n\u001b[1;32m----> 1\u001b[1;33m \u001b[0mhover_scatter\u001b[0m \u001b[1;33m=\u001b[0m \u001b[1;33m[\u001b[0m\u001b[0mscatt\u001b[0m \u001b[1;32mfor\u001b[0m \u001b[0mscatt\u001b[0m \u001b[1;32min\u001b[0m \u001b[0mmapfig\u001b[0m\u001b[1;33m.\u001b[0m\u001b[0mdata\u001b[0m \u001b[1;32mif\u001b[0m \u001b[0mscatt\u001b[0m\u001b[1;33m.\u001b[0m\u001b[0mmode\u001b[0m \u001b[1;33m==\u001b[0m \u001b[1;34m'locations'\u001b[0m\u001b[1;33m]\u001b[0m\u001b[1;33m[\u001b[0m\u001b[1;36m0\u001b[0m\u001b[1;33m]\u001b[0m\u001b[1;33m\u001b[0m\u001b[1;33m\u001b[0m\u001b[0m\n\u001b[0m\u001b[0;32m      2\u001b[0m \u001b[0mprint\u001b[0m\u001b[1;33m(\u001b[0m\u001b[0mhover_scatter\u001b[0m\u001b[1;33m)\u001b[0m\u001b[1;33m\u001b[0m\u001b[1;33m\u001b[0m\u001b[0m\n",
      "\u001b[1;32m~\\AppData\\Local\\Temp/ipykernel_23740/3827603949.py\u001b[0m in \u001b[0;36m<listcomp>\u001b[1;34m(.0)\u001b[0m\n\u001b[1;32m----> 1\u001b[1;33m \u001b[0mhover_scatter\u001b[0m \u001b[1;33m=\u001b[0m \u001b[1;33m[\u001b[0m\u001b[0mscatt\u001b[0m \u001b[1;32mfor\u001b[0m \u001b[0mscatt\u001b[0m \u001b[1;32min\u001b[0m \u001b[0mmapfig\u001b[0m\u001b[1;33m.\u001b[0m\u001b[0mdata\u001b[0m \u001b[1;32mif\u001b[0m \u001b[0mscatt\u001b[0m\u001b[1;33m.\u001b[0m\u001b[0mmode\u001b[0m \u001b[1;33m==\u001b[0m \u001b[1;34m'locations'\u001b[0m\u001b[1;33m]\u001b[0m\u001b[1;33m[\u001b[0m\u001b[1;36m0\u001b[0m\u001b[1;33m]\u001b[0m\u001b[1;33m\u001b[0m\u001b[1;33m\u001b[0m\u001b[0m\n\u001b[0m\u001b[0;32m      2\u001b[0m \u001b[0mprint\u001b[0m\u001b[1;33m(\u001b[0m\u001b[0mhover_scatter\u001b[0m\u001b[1;33m)\u001b[0m\u001b[1;33m\u001b[0m\u001b[1;33m\u001b[0m\u001b[0m\n",
      "\u001b[1;31mAttributeError\u001b[0m: 'Choropleth' object has no attribute 'mode'"
     ]
    }
   ],
   "source": [
    "hover_scatter = [scatt for scatt in mapfig.data if scatt.mode == 'locations'][0]\n",
    "print(hover_scatter)"
   ]
  },
  {
   "cell_type": "code",
   "execution_count": 14,
   "id": "3ae0d7a9-57ee-4f74-b485-dc2ea6bc443a",
   "metadata": {
    "tags": []
   },
   "outputs": [],
   "source": [
    "def jeds_first_plot(comp_sum_df):\n",
    "    import matplotlib.pyplot as plt\n",
    "    import seaborn as sns\n",
    "\n",
    "    targ1 = 23\n",
    "    targ2 = 52\n",
    "    targ1,targ2 = str(targ1), str(targ2)\n",
    "\n",
    "    gender_by_state_cs = comp_sum_df[\n",
    "        (comp_sum_df['industry_code'].isin([targ1, targ2]))\n",
    "        ].groupby(by = ['name','industry','gender']\n",
    "                 )[['gender']].agg('count').rename(columns = {'gender': 'gender_count'}).reset_index()\n",
    "\n",
    "    gender_by_state_cs.sort_values(by = ['name', 'industry', 'gender'], inplace = True)\n",
    "    gs = gender_by_state_cs\n",
    "\n",
    "    print('NOTE: Ratios are for each set of observations and not industry specific.')\n",
    "    print('Building Plots... Please Wait...')\n",
    "    fig, axs = plt.subplots(51,1, figsize=(15,200), sharex = False)\n",
    "    fig.suptitle('Ownership Gender in a Subset of Industries by State', fontsize = 30)\n",
    "    colors = {'Female':'#FD6320','Male':'#9567FE', 'Equally male/female': '#919584'}\n",
    "\n",
    "    states = sorted(comp_sum_df.name.unique().tolist())\n",
    "    for i, state in enumerate(states):\n",
    "        axs[i].set_title(state, fontsize = 20)\n",
    "\n",
    "        subset = gs[\n",
    "                (gs['name'] == state) &\n",
    "                (gs['gender'] != 'Total')\n",
    "            ] \n",
    "        industries = sorted(subset.industry.unique().tolist())\n",
    "        sns.barplot(data = subset, x = 'industry', y = 'gender_count', \n",
    "                    ax = axs[i], hue = 'gender', \n",
    "                    palette = colors, \n",
    "                    edgecolor = 'black')\n",
    "\n",
    "        axs[i].set_ylabel('')\n",
    "        axs[i].set_xlabel('')\n",
    "\n",
    "        font = {'color': 'w',\n",
    "                'weight': 'bold',\n",
    "                'size': 14,\n",
    "               }\n",
    "        if i % 3 == 0:\n",
    "            axs[i].text(-0.36,0.65, \"Equal Gender\\nOwnership\", fontdict = font)\n",
    "            axs[i].text(-0.05,0.65, \"Female\", fontdict = font)\n",
    "            axs[i].text(0.23,0.65, \"Male\", fontdict = font)\n",
    "\n",
    "        axs[i].get_legend().remove()\n",
    "        axs[i].tick_params(left = False)\n",
    "        axs[i].set_yticklabels('')\n",
    "\n",
    "        gender_count = subset['gender_count'].sum()\n",
    "        for c in axs[i].containers:\n",
    "            labels = [\n",
    "                f'{(h/gender_count)*100:0.1f}%' if (\n",
    "                    h := v.get_height()) > 0 else \"\" for v in c\n",
    "            ]\n",
    "\n",
    "            axs[i].bar_label(c,labels=labels,label_type = 'edge',fontsize = 17,color= 'black')\n",
    "        axs[i].tick_params(axis = 'x', labelsize = 18)\n",
    "\n",
    "    plt.tight_layout()\n",
    "    plt.subplots_adjust(hspace = 1,top = 0.97)\n",
    "    sns.despine(left = True, bottom = True)\n",
    "    print('Done... Displaying Plots...')\n",
    "\n",
    "    #plt.savefig('gender_ownership_state.pdf')\n",
    "#jeds_first_plot(comp_sum_df)  ## Uncomment to run the plot"
   ]
  },
  {
   "cell_type": "code",
   "execution_count": 5,
   "id": "0321cef3-ffab-4366-bc8e-cec51d63e46d",
   "metadata": {},
   "outputs": [
    {
     "name": "stderr",
     "output_type": "stream",
     "text": [
      "C:\\Users\\Work\\anaconda3\\lib\\site-packages\\pandas\\core\\frame.py:3641: SettingWithCopyWarning:\n",
      "\n",
      "\n",
      "A value is trying to be set on a copy of a slice from a DataFrame.\n",
      "Try using .loc[row_indexer,col_indexer] = value instead\n",
      "\n",
      "See the caveats in the documentation: https://pandas.pydata.org/pandas-docs/stable/user_guide/indexing.html#returning-a-view-versus-a-copy\n",
      "\n",
      "C:\\Users\\Work\\anaconda3\\lib\\site-packages\\pandas\\util\\_decorators.py:311: SettingWithCopyWarning:\n",
      "\n",
      "\n",
      "A value is trying to be set on a copy of a slice from a DataFrame\n",
      "\n",
      "See the caveats in the documentation: https://pandas.pydata.org/pandas-docs/stable/user_guide/indexing.html#returning-a-view-versus-a-copy\n",
      "\n"
     ]
    },
    {
     "data": {
      "application/vnd.plotly.v1+json": {
       "config": {
        "plotlyServerURL": "https://plot.ly"
       },
       "data": [
        {
         "alignmentgroup": "True",
         "customdata": [
          [
           393835
          ],
          [
           379524
          ],
          [
           353279
          ],
          [
           343219
          ],
          [
           309141
          ],
          [
           255919
          ],
          [
           193267
          ],
          [
           178341
          ],
          [
           154036
          ],
          [
           102342
          ],
          [
           47727
          ],
          [
           32011
          ]
         ],
         "hovertemplate": "importance= Very important<br>ratio=%{text}<br>reason=%{y}<br>responses=%{customdata[0]}<extra></extra>",
         "insidetextanchor": "middle",
         "legendgroup": " Very important",
         "marker": {
          "color": "#636efa",
          "pattern": {
           "shape": ""
          }
         },
         "name": " Very important",
         "offsetgroup": " Very important",
         "orientation": "h",
         "showlegend": true,
         "text": [
          73.28,
          69.91,
          65.3,
          63.31,
          57.05,
          47.78,
          35.7,
          32.94,
          28.66,
          18.95,
          9.15,
          5.97
         ],
         "textfont": {
          "color": "white"
         },
         "textposition": "inside",
         "type": "bar",
         "x": [
          73.28,
          69.91,
          65.3,
          63.31,
          57.05,
          47.78,
          35.7,
          32.94,
          28.66,
          18.95,
          9.15,
          5.97
         ],
         "xaxis": "x",
         "y": [
          "Greater income",
          "Wanted to be my own boss",
          "Balance work and family",
          "Flexible hours",
          "Best avenue for ideas",
          "Start my own business",
          "Work for self",
          "Friend or family role model",
          "Help my community",
          "Carry on family business",
          "Other",
          "Couldn't find a job"
         ],
         "yaxis": "y"
        },
        {
         "alignmentgroup": "True",
         "customdata": [
          [
           204618
          ],
          [
           197656
          ],
          [
           161993
          ],
          [
           158487
          ],
          [
           142380
          ],
          [
           127503
          ],
          [
           127010
          ],
          [
           105639
          ],
          [
           99891
          ],
          [
           68566
          ],
          [
           60180
          ],
          [
           38953
          ]
         ],
         "hovertemplate": "importance= Somewhat important<br>ratio=%{text}<br>reason=%{y}<br>responses=%{customdata[0]}<extra></extra>",
         "insidetextanchor": "middle",
         "legendgroup": " Somewhat important",
         "marker": {
          "color": "#EF553B",
          "pattern": {
           "shape": ""
          }
         },
         "name": " Somewhat important",
         "offsetgroup": " Somewhat important",
         "orientation": "h",
         "showlegend": true,
         "text": [
          37.8,
          36.78,
          30.24,
          29.25,
          26.3,
          23.57,
          23.43,
          19.46,
          18.59,
          12.7,
          11.23,
          7.46
         ],
         "textfont": {
          "color": "white"
         },
         "textposition": "inside",
         "type": "bar",
         "x": [
          37.8,
          36.78,
          30.24,
          29.25,
          26.3,
          23.57,
          23.43,
          19.46,
          18.59,
          12.7,
          11.23,
          7.46
         ],
         "xaxis": "x",
         "y": [
          "Work for self",
          "Help my community",
          "Start my own business",
          "Best avenue for ideas",
          "Friend or family role model",
          "Balance work and family",
          "Flexible hours",
          "Wanted to be my own boss",
          "Greater income",
          "Carry on family business",
          "Couldn't find a job",
          "Other"
         ],
         "yaxis": "y"
        },
        {
         "alignmentgroup": "True",
         "customdata": [
          [
           435167
          ],
          [
           443838
          ],
          [
           369140
          ],
          [
           220683
          ],
          [
           185687
          ],
          [
           143483
          ],
          [
           117725
          ],
          [
           74221
          ],
          [
           71858
          ],
          [
           60218
          ],
          [
           57743
          ],
          [
           43704
          ]
         ],
         "hovertemplate": "importance= Not important<br>ratio=%{text}<br>reason=%{y}<br>responses=%{customdata[0]}<extra></extra>",
         "insidetextanchor": "middle",
         "legendgroup": " Not important",
         "marker": {
          "color": "#00cc96",
          "pattern": {
           "shape": ""
          }
         },
         "name": " Not important",
         "offsetgroup": " Not important",
         "orientation": "h",
         "showlegend": true,
         "text": [
          83.39,
          82.8,
          68.35,
          40.76,
          34.55,
          26.5,
          21.98,
          13.7,
          13.26,
          11.13,
          10.64,
          8.13
         ],
         "textfont": {
          "color": "white"
         },
         "textposition": "inside",
         "type": "bar",
         "x": [
          83.39,
          82.8,
          68.35,
          40.76,
          34.55,
          26.5,
          21.98,
          13.7,
          13.26,
          11.13,
          10.64,
          8.13
         ],
         "xaxis": "x",
         "y": [
          "Other",
          "Couldn't find a job",
          "Carry on family business",
          "Friend or family role model",
          "Help my community",
          "Work for self",
          "Start my own business",
          "Best avenue for ideas",
          "Flexible hours",
          "Balance work and family",
          "Wanted to be my own boss",
          "Greater income"
         ],
         "yaxis": "y"
        }
       ],
       "layout": {
        "barmode": "relative",
        "height": 600,
        "legend": {
         "title": {
          "text": "importance"
         },
         "tracegroupgap": 0
        },
        "template": {
         "data": {
          "bar": [
           {
            "error_x": {
             "color": "#2a3f5f"
            },
            "error_y": {
             "color": "#2a3f5f"
            },
            "marker": {
             "line": {
              "color": "#E5ECF6",
              "width": 0.5
             },
             "pattern": {
              "fillmode": "overlay",
              "size": 10,
              "solidity": 0.2
             }
            },
            "type": "bar"
           }
          ],
          "barpolar": [
           {
            "marker": {
             "line": {
              "color": "#E5ECF6",
              "width": 0.5
             },
             "pattern": {
              "fillmode": "overlay",
              "size": 10,
              "solidity": 0.2
             }
            },
            "type": "barpolar"
           }
          ],
          "carpet": [
           {
            "aaxis": {
             "endlinecolor": "#2a3f5f",
             "gridcolor": "white",
             "linecolor": "white",
             "minorgridcolor": "white",
             "startlinecolor": "#2a3f5f"
            },
            "baxis": {
             "endlinecolor": "#2a3f5f",
             "gridcolor": "white",
             "linecolor": "white",
             "minorgridcolor": "white",
             "startlinecolor": "#2a3f5f"
            },
            "type": "carpet"
           }
          ],
          "choropleth": [
           {
            "colorbar": {
             "outlinewidth": 0,
             "ticks": ""
            },
            "type": "choropleth"
           }
          ],
          "contour": [
           {
            "colorbar": {
             "outlinewidth": 0,
             "ticks": ""
            },
            "colorscale": [
             [
              0,
              "#0d0887"
             ],
             [
              0.1111111111111111,
              "#46039f"
             ],
             [
              0.2222222222222222,
              "#7201a8"
             ],
             [
              0.3333333333333333,
              "#9c179e"
             ],
             [
              0.4444444444444444,
              "#bd3786"
             ],
             [
              0.5555555555555556,
              "#d8576b"
             ],
             [
              0.6666666666666666,
              "#ed7953"
             ],
             [
              0.7777777777777778,
              "#fb9f3a"
             ],
             [
              0.8888888888888888,
              "#fdca26"
             ],
             [
              1,
              "#f0f921"
             ]
            ],
            "type": "contour"
           }
          ],
          "contourcarpet": [
           {
            "colorbar": {
             "outlinewidth": 0,
             "ticks": ""
            },
            "type": "contourcarpet"
           }
          ],
          "heatmap": [
           {
            "colorbar": {
             "outlinewidth": 0,
             "ticks": ""
            },
            "colorscale": [
             [
              0,
              "#0d0887"
             ],
             [
              0.1111111111111111,
              "#46039f"
             ],
             [
              0.2222222222222222,
              "#7201a8"
             ],
             [
              0.3333333333333333,
              "#9c179e"
             ],
             [
              0.4444444444444444,
              "#bd3786"
             ],
             [
              0.5555555555555556,
              "#d8576b"
             ],
             [
              0.6666666666666666,
              "#ed7953"
             ],
             [
              0.7777777777777778,
              "#fb9f3a"
             ],
             [
              0.8888888888888888,
              "#fdca26"
             ],
             [
              1,
              "#f0f921"
             ]
            ],
            "type": "heatmap"
           }
          ],
          "heatmapgl": [
           {
            "colorbar": {
             "outlinewidth": 0,
             "ticks": ""
            },
            "colorscale": [
             [
              0,
              "#0d0887"
             ],
             [
              0.1111111111111111,
              "#46039f"
             ],
             [
              0.2222222222222222,
              "#7201a8"
             ],
             [
              0.3333333333333333,
              "#9c179e"
             ],
             [
              0.4444444444444444,
              "#bd3786"
             ],
             [
              0.5555555555555556,
              "#d8576b"
             ],
             [
              0.6666666666666666,
              "#ed7953"
             ],
             [
              0.7777777777777778,
              "#fb9f3a"
             ],
             [
              0.8888888888888888,
              "#fdca26"
             ],
             [
              1,
              "#f0f921"
             ]
            ],
            "type": "heatmapgl"
           }
          ],
          "histogram": [
           {
            "marker": {
             "pattern": {
              "fillmode": "overlay",
              "size": 10,
              "solidity": 0.2
             }
            },
            "type": "histogram"
           }
          ],
          "histogram2d": [
           {
            "colorbar": {
             "outlinewidth": 0,
             "ticks": ""
            },
            "colorscale": [
             [
              0,
              "#0d0887"
             ],
             [
              0.1111111111111111,
              "#46039f"
             ],
             [
              0.2222222222222222,
              "#7201a8"
             ],
             [
              0.3333333333333333,
              "#9c179e"
             ],
             [
              0.4444444444444444,
              "#bd3786"
             ],
             [
              0.5555555555555556,
              "#d8576b"
             ],
             [
              0.6666666666666666,
              "#ed7953"
             ],
             [
              0.7777777777777778,
              "#fb9f3a"
             ],
             [
              0.8888888888888888,
              "#fdca26"
             ],
             [
              1,
              "#f0f921"
             ]
            ],
            "type": "histogram2d"
           }
          ],
          "histogram2dcontour": [
           {
            "colorbar": {
             "outlinewidth": 0,
             "ticks": ""
            },
            "colorscale": [
             [
              0,
              "#0d0887"
             ],
             [
              0.1111111111111111,
              "#46039f"
             ],
             [
              0.2222222222222222,
              "#7201a8"
             ],
             [
              0.3333333333333333,
              "#9c179e"
             ],
             [
              0.4444444444444444,
              "#bd3786"
             ],
             [
              0.5555555555555556,
              "#d8576b"
             ],
             [
              0.6666666666666666,
              "#ed7953"
             ],
             [
              0.7777777777777778,
              "#fb9f3a"
             ],
             [
              0.8888888888888888,
              "#fdca26"
             ],
             [
              1,
              "#f0f921"
             ]
            ],
            "type": "histogram2dcontour"
           }
          ],
          "mesh3d": [
           {
            "colorbar": {
             "outlinewidth": 0,
             "ticks": ""
            },
            "type": "mesh3d"
           }
          ],
          "parcoords": [
           {
            "line": {
             "colorbar": {
              "outlinewidth": 0,
              "ticks": ""
             }
            },
            "type": "parcoords"
           }
          ],
          "pie": [
           {
            "automargin": true,
            "type": "pie"
           }
          ],
          "scatter": [
           {
            "marker": {
             "colorbar": {
              "outlinewidth": 0,
              "ticks": ""
             }
            },
            "type": "scatter"
           }
          ],
          "scatter3d": [
           {
            "line": {
             "colorbar": {
              "outlinewidth": 0,
              "ticks": ""
             }
            },
            "marker": {
             "colorbar": {
              "outlinewidth": 0,
              "ticks": ""
             }
            },
            "type": "scatter3d"
           }
          ],
          "scattercarpet": [
           {
            "marker": {
             "colorbar": {
              "outlinewidth": 0,
              "ticks": ""
             }
            },
            "type": "scattercarpet"
           }
          ],
          "scattergeo": [
           {
            "marker": {
             "colorbar": {
              "outlinewidth": 0,
              "ticks": ""
             }
            },
            "type": "scattergeo"
           }
          ],
          "scattergl": [
           {
            "marker": {
             "colorbar": {
              "outlinewidth": 0,
              "ticks": ""
             }
            },
            "type": "scattergl"
           }
          ],
          "scattermapbox": [
           {
            "marker": {
             "colorbar": {
              "outlinewidth": 0,
              "ticks": ""
             }
            },
            "type": "scattermapbox"
           }
          ],
          "scatterpolar": [
           {
            "marker": {
             "colorbar": {
              "outlinewidth": 0,
              "ticks": ""
             }
            },
            "type": "scatterpolar"
           }
          ],
          "scatterpolargl": [
           {
            "marker": {
             "colorbar": {
              "outlinewidth": 0,
              "ticks": ""
             }
            },
            "type": "scatterpolargl"
           }
          ],
          "scatterternary": [
           {
            "marker": {
             "colorbar": {
              "outlinewidth": 0,
              "ticks": ""
             }
            },
            "type": "scatterternary"
           }
          ],
          "surface": [
           {
            "colorbar": {
             "outlinewidth": 0,
             "ticks": ""
            },
            "colorscale": [
             [
              0,
              "#0d0887"
             ],
             [
              0.1111111111111111,
              "#46039f"
             ],
             [
              0.2222222222222222,
              "#7201a8"
             ],
             [
              0.3333333333333333,
              "#9c179e"
             ],
             [
              0.4444444444444444,
              "#bd3786"
             ],
             [
              0.5555555555555556,
              "#d8576b"
             ],
             [
              0.6666666666666666,
              "#ed7953"
             ],
             [
              0.7777777777777778,
              "#fb9f3a"
             ],
             [
              0.8888888888888888,
              "#fdca26"
             ],
             [
              1,
              "#f0f921"
             ]
            ],
            "type": "surface"
           }
          ],
          "table": [
           {
            "cells": {
             "fill": {
              "color": "#EBF0F8"
             },
             "line": {
              "color": "white"
             }
            },
            "header": {
             "fill": {
              "color": "#C8D4E3"
             },
             "line": {
              "color": "white"
             }
            },
            "type": "table"
           }
          ]
         },
         "layout": {
          "annotationdefaults": {
           "arrowcolor": "#2a3f5f",
           "arrowhead": 0,
           "arrowwidth": 1
          },
          "autotypenumbers": "strict",
          "coloraxis": {
           "colorbar": {
            "outlinewidth": 0,
            "ticks": ""
           }
          },
          "colorscale": {
           "diverging": [
            [
             0,
             "#8e0152"
            ],
            [
             0.1,
             "#c51b7d"
            ],
            [
             0.2,
             "#de77ae"
            ],
            [
             0.3,
             "#f1b6da"
            ],
            [
             0.4,
             "#fde0ef"
            ],
            [
             0.5,
             "#f7f7f7"
            ],
            [
             0.6,
             "#e6f5d0"
            ],
            [
             0.7,
             "#b8e186"
            ],
            [
             0.8,
             "#7fbc41"
            ],
            [
             0.9,
             "#4d9221"
            ],
            [
             1,
             "#276419"
            ]
           ],
           "sequential": [
            [
             0,
             "#0d0887"
            ],
            [
             0.1111111111111111,
             "#46039f"
            ],
            [
             0.2222222222222222,
             "#7201a8"
            ],
            [
             0.3333333333333333,
             "#9c179e"
            ],
            [
             0.4444444444444444,
             "#bd3786"
            ],
            [
             0.5555555555555556,
             "#d8576b"
            ],
            [
             0.6666666666666666,
             "#ed7953"
            ],
            [
             0.7777777777777778,
             "#fb9f3a"
            ],
            [
             0.8888888888888888,
             "#fdca26"
            ],
            [
             1,
             "#f0f921"
            ]
           ],
           "sequentialminus": [
            [
             0,
             "#0d0887"
            ],
            [
             0.1111111111111111,
             "#46039f"
            ],
            [
             0.2222222222222222,
             "#7201a8"
            ],
            [
             0.3333333333333333,
             "#9c179e"
            ],
            [
             0.4444444444444444,
             "#bd3786"
            ],
            [
             0.5555555555555556,
             "#d8576b"
            ],
            [
             0.6666666666666666,
             "#ed7953"
            ],
            [
             0.7777777777777778,
             "#fb9f3a"
            ],
            [
             0.8888888888888888,
             "#fdca26"
            ],
            [
             1,
             "#f0f921"
            ]
           ]
          },
          "colorway": [
           "#636efa",
           "#EF553B",
           "#00cc96",
           "#ab63fa",
           "#FFA15A",
           "#19d3f3",
           "#FF6692",
           "#B6E880",
           "#FF97FF",
           "#FECB52"
          ],
          "font": {
           "color": "#2a3f5f"
          },
          "geo": {
           "bgcolor": "white",
           "lakecolor": "white",
           "landcolor": "#E5ECF6",
           "showlakes": true,
           "showland": true,
           "subunitcolor": "white"
          },
          "hoverlabel": {
           "align": "left"
          },
          "hovermode": "closest",
          "mapbox": {
           "style": "light"
          },
          "paper_bgcolor": "white",
          "plot_bgcolor": "#E5ECF6",
          "polar": {
           "angularaxis": {
            "gridcolor": "white",
            "linecolor": "white",
            "ticks": ""
           },
           "bgcolor": "#E5ECF6",
           "radialaxis": {
            "gridcolor": "white",
            "linecolor": "white",
            "ticks": ""
           }
          },
          "scene": {
           "xaxis": {
            "backgroundcolor": "#E5ECF6",
            "gridcolor": "white",
            "gridwidth": 2,
            "linecolor": "white",
            "showbackground": true,
            "ticks": "",
            "zerolinecolor": "white"
           },
           "yaxis": {
            "backgroundcolor": "#E5ECF6",
            "gridcolor": "white",
            "gridwidth": 2,
            "linecolor": "white",
            "showbackground": true,
            "ticks": "",
            "zerolinecolor": "white"
           },
           "zaxis": {
            "backgroundcolor": "#E5ECF6",
            "gridcolor": "white",
            "gridwidth": 2,
            "linecolor": "white",
            "showbackground": true,
            "ticks": "",
            "zerolinecolor": "white"
           }
          },
          "shapedefaults": {
           "line": {
            "color": "#2a3f5f"
           }
          },
          "ternary": {
           "aaxis": {
            "gridcolor": "white",
            "linecolor": "white",
            "ticks": ""
           },
           "baxis": {
            "gridcolor": "white",
            "linecolor": "white",
            "ticks": ""
           },
           "bgcolor": "#E5ECF6",
           "caxis": {
            "gridcolor": "white",
            "linecolor": "white",
            "ticks": ""
           }
          },
          "title": {
           "x": 0.05
          },
          "xaxis": {
           "automargin": true,
           "gridcolor": "white",
           "linecolor": "white",
           "ticks": "",
           "title": {
            "standoff": 15
           },
           "zerolinecolor": "white",
           "zerolinewidth": 2
          },
          "yaxis": {
           "automargin": true,
           "gridcolor": "white",
           "linecolor": "white",
           "ticks": "",
           "title": {
            "standoff": 15
           },
           "zerolinecolor": "white",
           "zerolinewidth": 2
          }
         }
        },
        "title": {
         "text": "Finance and insurance"
        },
        "uniformtext": {
         "minsize": 12,
         "mode": "hide"
        },
        "width": 1000,
        "xaxis": {
         "anchor": "y",
         "domain": [
          0,
          1
         ],
         "range": [
          0,
          100
         ],
         "title": {
          "text": "Percent of Total"
         },
         "type": "linear"
        },
        "yaxis": {
         "anchor": "x",
         "autorange": true,
         "domain": [
          0,
          1
         ],
         "range": [
          -0.5,
          11.5
         ],
         "ticks": "outside",
         "title": {},
         "type": "category"
        }
       }
      },
      "image/png": "[encoded data removed]",
      "text/html": [
       "<div>                            <div id=\"c08d6653-5276-4f33-bce1-a722dec26444\" class=\"plotly-graph-div\" style=\"height:600px; width:1000px;\"></div>            <script type=\"text/javascript\">                require([\"plotly\"], function(Plotly) {                    window.PLOTLYENV=window.PLOTLYENV || {};                                    if (document.getElementById(\"c08d6653-5276-4f33-bce1-a722dec26444\")) {                    Plotly.newPlot(                        \"c08d6653-5276-4f33-bce1-a722dec26444\",                        [{\"alignmentgroup\":\"True\",\"customdata\":[[393835],[379524],[353279],[343219],[309141],[255919],[193267],[178341],[154036],[102342],[47727],[32011]],\"hovertemplate\":\"importance= Very important<br>ratio=%{text}<br>reason=%{y}<br>responses=%{customdata[0]}<extra></extra>\",\"legendgroup\":\" Very important\",\"marker\":{\"color\":\"#636efa\",\"pattern\":{\"shape\":\"\"}},\"name\":\" Very important\",\"offsetgroup\":\" Very important\",\"orientation\":\"h\",\"showlegend\":true,\"text\":[73.28,69.91,65.3,63.31,57.05,47.78,35.7,32.94,28.66,18.95,9.15,5.97],\"textposition\":\"inside\",\"x\":[73.28,69.91,65.3,63.31,57.05,47.78,35.7,32.94,28.66,18.95,9.15,5.97],\"xaxis\":\"x\",\"y\":[\"Greater income\",\"Wanted to be my own boss\",\"Balance work and family\",\"Flexible hours\",\"Best avenue for ideas\",\"Start my own business\",\"Work for self\",\"Friend or family role model\",\"Help my community\",\"Carry on family business\",\"Other\",\"Couldn't find a job\"],\"yaxis\":\"y\",\"type\":\"bar\",\"textfont\":{\"color\":\"white\"},\"insidetextanchor\":\"middle\"},{\"alignmentgroup\":\"True\",\"customdata\":[[204618],[197656],[161993],[158487],[142380],[127503],[127010],[105639],[99891],[68566],[60180],[38953]],\"hovertemplate\":\"importance= Somewhat important<br>ratio=%{text}<br>reason=%{y}<br>responses=%{customdata[0]}<extra></extra>\",\"legendgroup\":\" Somewhat important\",\"marker\":{\"color\":\"#EF553B\",\"pattern\":{\"shape\":\"\"}},\"name\":\" Somewhat important\",\"offsetgroup\":\" Somewhat important\",\"orientation\":\"h\",\"showlegend\":true,\"text\":[37.8,36.78,30.24,29.25,26.3,23.57,23.43,19.46,18.59,12.7,11.23,7.46],\"textposition\":\"inside\",\"x\":[37.8,36.78,30.24,29.25,26.3,23.57,23.43,19.46,18.59,12.7,11.23,7.46],\"xaxis\":\"x\",\"y\":[\"Work for self\",\"Help my community\",\"Start my own business\",\"Best avenue for ideas\",\"Friend or family role model\",\"Balance work and family\",\"Flexible hours\",\"Wanted to be my own boss\",\"Greater income\",\"Carry on family business\",\"Couldn't find a job\",\"Other\"],\"yaxis\":\"y\",\"type\":\"bar\",\"textfont\":{\"color\":\"white\"},\"insidetextanchor\":\"middle\"},{\"alignmentgroup\":\"True\",\"customdata\":[[435167],[443838],[369140],[220683],[185687],[143483],[117725],[74221],[71858],[60218],[57743],[43704]],\"hovertemplate\":\"importance= Not important<br>ratio=%{text}<br>reason=%{y}<br>responses=%{customdata[0]}<extra></extra>\",\"legendgroup\":\" Not important\",\"marker\":{\"color\":\"#00cc96\",\"pattern\":{\"shape\":\"\"}},\"name\":\" Not important\",\"offsetgroup\":\" Not important\",\"orientation\":\"h\",\"showlegend\":true,\"text\":[83.39,82.8,68.35,40.76,34.55,26.5,21.98,13.7,13.26,11.13,10.64,8.13],\"textposition\":\"inside\",\"x\":[83.39,82.8,68.35,40.76,34.55,26.5,21.98,13.7,13.26,11.13,10.64,8.13],\"xaxis\":\"x\",\"y\":[\"Other\",\"Couldn't find a job\",\"Carry on family business\",\"Friend or family role model\",\"Help my community\",\"Work for self\",\"Start my own business\",\"Best avenue for ideas\",\"Flexible hours\",\"Balance work and family\",\"Wanted to be my own boss\",\"Greater income\"],\"yaxis\":\"y\",\"type\":\"bar\",\"textfont\":{\"color\":\"white\"},\"insidetextanchor\":\"middle\"}],                        {\"template\":{\"data\":{\"bar\":[{\"error_x\":{\"color\":\"#2a3f5f\"},\"error_y\":{\"color\":\"#2a3f5f\"},\"marker\":{\"line\":{\"color\":\"#E5ECF6\",\"width\":0.5},\"pattern\":{\"fillmode\":\"overlay\",\"size\":10,\"solidity\":0.2}},\"type\":\"bar\"}],\"barpolar\":[{\"marker\":{\"line\":{\"color\":\"#E5ECF6\",\"width\":0.5},\"pattern\":{\"fillmode\":\"overlay\",\"size\":10,\"solidity\":0.2}},\"type\":\"barpolar\"}],\"carpet\":[{\"aaxis\":{\"endlinecolor\":\"#2a3f5f\",\"gridcolor\":\"white\",\"linecolor\":\"white\",\"minorgridcolor\":\"white\",\"startlinecolor\":\"#2a3f5f\"},\"baxis\":{\"endlinecolor\":\"#2a3f5f\",\"gridcolor\":\"white\",\"linecolor\":\"white\",\"minorgridcolor\":\"white\",\"startlinecolor\":\"#2a3f5f\"},\"type\":\"carpet\"}],\"choropleth\":[{\"colorbar\":{\"outlinewidth\":0,\"ticks\":\"\"},\"type\":\"choropleth\"}],\"contour\":[{\"colorbar\":{\"outlinewidth\":0,\"ticks\":\"\"},\"colorscale\":[[0.0,\"#0d0887\"],[0.1111111111111111,\"#46039f\"],[0.2222222222222222,\"#7201a8\"],[0.3333333333333333,\"#9c179e\"],[0.4444444444444444,\"#bd3786\"],[0.5555555555555556,\"#d8576b\"],[0.6666666666666666,\"#ed7953\"],[0.7777777777777778,\"#fb9f3a\"],[0.8888888888888888,\"#fdca26\"],[1.0,\"#f0f921\"]],\"type\":\"contour\"}],\"contourcarpet\":[{\"colorbar\":{\"outlinewidth\":0,\"ticks\":\"\"},\"type\":\"contourcarpet\"}],\"heatmap\":[{\"colorbar\":{\"outlinewidth\":0,\"ticks\":\"\"},\"colorscale\":[[0.0,\"#0d0887\"],[0.1111111111111111,\"#46039f\"],[0.2222222222222222,\"#7201a8\"],[0.3333333333333333,\"#9c179e\"],[0.4444444444444444,\"#bd3786\"],[0.5555555555555556,\"#d8576b\"],[0.6666666666666666,\"#ed7953\"],[0.7777777777777778,\"#fb9f3a\"],[0.8888888888888888,\"#fdca26\"],[1.0,\"#f0f921\"]],\"type\":\"heatmap\"}],\"heatmapgl\":[{\"colorbar\":{\"outlinewidth\":0,\"ticks\":\"\"},\"colorscale\":[[0.0,\"#0d0887\"],[0.1111111111111111,\"#46039f\"],[0.2222222222222222,\"#7201a8\"],[0.3333333333333333,\"#9c179e\"],[0.4444444444444444,\"#bd3786\"],[0.5555555555555556,\"#d8576b\"],[0.6666666666666666,\"#ed7953\"],[0.7777777777777778,\"#fb9f3a\"],[0.8888888888888888,\"#fdca26\"],[1.0,\"#f0f921\"]],\"type\":\"heatmapgl\"}],\"histogram\":[{\"marker\":{\"pattern\":{\"fillmode\":\"overlay\",\"size\":10,\"solidity\":0.2}},\"type\":\"histogram\"}],\"histogram2d\":[{\"colorbar\":{\"outlinewidth\":0,\"ticks\":\"\"},\"colorscale\":[[0.0,\"#0d0887\"],[0.1111111111111111,\"#46039f\"],[0.2222222222222222,\"#7201a8\"],[0.3333333333333333,\"#9c179e\"],[0.4444444444444444,\"#bd3786\"],[0.5555555555555556,\"#d8576b\"],[0.6666666666666666,\"#ed7953\"],[0.7777777777777778,\"#fb9f3a\"],[0.8888888888888888,\"#fdca26\"],[1.0,\"#f0f921\"]],\"type\":\"histogram2d\"}],\"histogram2dcontour\":[{\"colorbar\":{\"outlinewidth\":0,\"ticks\":\"\"},\"colorscale\":[[0.0,\"#0d0887\"],[0.1111111111111111,\"#46039f\"],[0.2222222222222222,\"#7201a8\"],[0.3333333333333333,\"#9c179e\"],[0.4444444444444444,\"#bd3786\"],[0.5555555555555556,\"#d8576b\"],[0.6666666666666666,\"#ed7953\"],[0.7777777777777778,\"#fb9f3a\"],[0.8888888888888888,\"#fdca26\"],[1.0,\"#f0f921\"]],\"type\":\"histogram2dcontour\"}],\"mesh3d\":[{\"colorbar\":{\"outlinewidth\":0,\"ticks\":\"\"},\"type\":\"mesh3d\"}],\"parcoords\":[{\"line\":{\"colorbar\":{\"outlinewidth\":0,\"ticks\":\"\"}},\"type\":\"parcoords\"}],\"pie\":[{\"automargin\":true,\"type\":\"pie\"}],\"scatter\":[{\"marker\":{\"colorbar\":{\"outlinewidth\":0,\"ticks\":\"\"}},\"type\":\"scatter\"}],\"scatter3d\":[{\"line\":{\"colorbar\":{\"outlinewidth\":0,\"ticks\":\"\"}},\"marker\":{\"colorbar\":{\"outlinewidth\":0,\"ticks\":\"\"}},\"type\":\"scatter3d\"}],\"scattercarpet\":[{\"marker\":{\"colorbar\":{\"outlinewidth\":0,\"ticks\":\"\"}},\"type\":\"scattercarpet\"}],\"scattergeo\":[{\"marker\":{\"colorbar\":{\"outlinewidth\":0,\"ticks\":\"\"}},\"type\":\"scattergeo\"}],\"scattergl\":[{\"marker\":{\"colorbar\":{\"outlinewidth\":0,\"ticks\":\"\"}},\"type\":\"scattergl\"}],\"scattermapbox\":[{\"marker\":{\"colorbar\":{\"outlinewidth\":0,\"ticks\":\"\"}},\"type\":\"scattermapbox\"}],\"scatterpolar\":[{\"marker\":{\"colorbar\":{\"outlinewidth\":0,\"ticks\":\"\"}},\"type\":\"scatterpolar\"}],\"scatterpolargl\":[{\"marker\":{\"colorbar\":{\"outlinewidth\":0,\"ticks\":\"\"}},\"type\":\"scatterpolargl\"}],\"scatterternary\":[{\"marker\":{\"colorbar\":{\"outlinewidth\":0,\"ticks\":\"\"}},\"type\":\"scatterternary\"}],\"surface\":[{\"colorbar\":{\"outlinewidth\":0,\"ticks\":\"\"},\"colorscale\":[[0.0,\"#0d0887\"],[0.1111111111111111,\"#46039f\"],[0.2222222222222222,\"#7201a8\"],[0.3333333333333333,\"#9c179e\"],[0.4444444444444444,\"#bd3786\"],[0.5555555555555556,\"#d8576b\"],[0.6666666666666666,\"#ed7953\"],[0.7777777777777778,\"#fb9f3a\"],[0.8888888888888888,\"#fdca26\"],[1.0,\"#f0f921\"]],\"type\":\"surface\"}],\"table\":[{\"cells\":{\"fill\":{\"color\":\"#EBF0F8\"},\"line\":{\"color\":\"white\"}},\"header\":{\"fill\":{\"color\":\"#C8D4E3\"},\"line\":{\"color\":\"white\"}},\"type\":\"table\"}]},\"layout\":{\"annotationdefaults\":{\"arrowcolor\":\"#2a3f5f\",\"arrowhead\":0,\"arrowwidth\":1},\"autotypenumbers\":\"strict\",\"coloraxis\":{\"colorbar\":{\"outlinewidth\":0,\"ticks\":\"\"}},\"colorscale\":{\"diverging\":[[0,\"#8e0152\"],[0.1,\"#c51b7d\"],[0.2,\"#de77ae\"],[0.3,\"#f1b6da\"],[0.4,\"#fde0ef\"],[0.5,\"#f7f7f7\"],[0.6,\"#e6f5d0\"],[0.7,\"#b8e186\"],[0.8,\"#7fbc41\"],[0.9,\"#4d9221\"],[1,\"#276419\"]],\"sequential\":[[0.0,\"#0d0887\"],[0.1111111111111111,\"#46039f\"],[0.2222222222222222,\"#7201a8\"],[0.3333333333333333,\"#9c179e\"],[0.4444444444444444,\"#bd3786\"],[0.5555555555555556,\"#d8576b\"],[0.6666666666666666,\"#ed7953\"],[0.7777777777777778,\"#fb9f3a\"],[0.8888888888888888,\"#fdca26\"],[1.0,\"#f0f921\"]],\"sequentialminus\":[[0.0,\"#0d0887\"],[0.1111111111111111,\"#46039f\"],[0.2222222222222222,\"#7201a8\"],[0.3333333333333333,\"#9c179e\"],[0.4444444444444444,\"#bd3786\"],[0.5555555555555556,\"#d8576b\"],[0.6666666666666666,\"#ed7953\"],[0.7777777777777778,\"#fb9f3a\"],[0.8888888888888888,\"#fdca26\"],[1.0,\"#f0f921\"]]},\"colorway\":[\"#636efa\",\"#EF553B\",\"#00cc96\",\"#ab63fa\",\"#FFA15A\",\"#19d3f3\",\"#FF6692\",\"#B6E880\",\"#FF97FF\",\"#FECB52\"],\"font\":{\"color\":\"#2a3f5f\"},\"geo\":{\"bgcolor\":\"white\",\"lakecolor\":\"white\",\"landcolor\":\"#E5ECF6\",\"showlakes\":true,\"showland\":true,\"subunitcolor\":\"white\"},\"hoverlabel\":{\"align\":\"left\"},\"hovermode\":\"closest\",\"mapbox\":{\"style\":\"light\"},\"paper_bgcolor\":\"white\",\"plot_bgcolor\":\"#E5ECF6\",\"polar\":{\"angularaxis\":{\"gridcolor\":\"white\",\"linecolor\":\"white\",\"ticks\":\"\"},\"bgcolor\":\"#E5ECF6\",\"radialaxis\":{\"gridcolor\":\"white\",\"linecolor\":\"white\",\"ticks\":\"\"}},\"scene\":{\"xaxis\":{\"backgroundcolor\":\"#E5ECF6\",\"gridcolor\":\"white\",\"gridwidth\":2,\"linecolor\":\"white\",\"showbackground\":true,\"ticks\":\"\",\"zerolinecolor\":\"white\"},\"yaxis\":{\"backgroundcolor\":\"#E5ECF6\",\"gridcolor\":\"white\",\"gridwidth\":2,\"linecolor\":\"white\",\"showbackground\":true,\"ticks\":\"\",\"zerolinecolor\":\"white\"},\"zaxis\":{\"backgroundcolor\":\"#E5ECF6\",\"gridcolor\":\"white\",\"gridwidth\":2,\"linecolor\":\"white\",\"showbackground\":true,\"ticks\":\"\",\"zerolinecolor\":\"white\"}},\"shapedefaults\":{\"line\":{\"color\":\"#2a3f5f\"}},\"ternary\":{\"aaxis\":{\"gridcolor\":\"white\",\"linecolor\":\"white\",\"ticks\":\"\"},\"baxis\":{\"gridcolor\":\"white\",\"linecolor\":\"white\",\"ticks\":\"\"},\"bgcolor\":\"#E5ECF6\",\"caxis\":{\"gridcolor\":\"white\",\"linecolor\":\"white\",\"ticks\":\"\"}},\"title\":{\"x\":0.05},\"xaxis\":{\"automargin\":true,\"gridcolor\":\"white\",\"linecolor\":\"white\",\"ticks\":\"\",\"title\":{\"standoff\":15},\"zerolinecolor\":\"white\",\"zerolinewidth\":2},\"yaxis\":{\"automargin\":true,\"gridcolor\":\"white\",\"linecolor\":\"white\",\"ticks\":\"\",\"title\":{\"standoff\":15},\"zerolinecolor\":\"white\",\"zerolinewidth\":2}}},\"xaxis\":{\"anchor\":\"y\",\"domain\":[0.0,1.0],\"title\":{\"text\":\"Percent of Total\"},\"range\":[0,100]},\"yaxis\":{\"anchor\":\"x\",\"domain\":[0.0,1.0],\"title\":{},\"ticks\":\"outside\"},\"legend\":{\"title\":{\"text\":\"importance\"},\"tracegroupgap\":0},\"title\":{\"text\":\"Finance and insurance\"},\"barmode\":\"relative\",\"height\":600,\"width\":1000,\"uniformtext\":{\"minsize\":12,\"mode\":\"hide\"}},                        {\"responsive\": true}                    ).then(function(){\n",
       "                            \n",
       "var gd = document.getElementById('c08d6653-5276-4f33-bce1-a722dec26444');\n",
       "var x = new MutationObserver(function (mutations, observer) {{\n",
       "        var display = window.getComputedStyle(gd).display;\n",
       "        if (!display || display === 'none') {{\n",
       "            console.log([gd, 'removed!']);\n",
       "            Plotly.purge(gd);\n",
       "            observer.disconnect();\n",
       "        }}\n",
       "}});\n",
       "\n",
       "// Listen for the removal of the full notebook cells\n",
       "var notebookContainer = gd.closest('#notebook-container');\n",
       "if (notebookContainer) {{\n",
       "    x.observe(notebookContainer, {childList: true});\n",
       "}}\n",
       "\n",
       "// Listen for the clearing of the current output cell\n",
       "var outputEl = gd.closest('.output');\n",
       "if (outputEl) {{\n",
       "    x.observe(outputEl, {childList: true});\n",
       "}}\n",
       "\n",
       "                        })                };                });            </script>        </div>"
      ]
     },
     "metadata": {},
     "output_type": "display_data"
    }
   ],
   "source": [
    "reason_owned = bus_own_df[\n",
    "    (bus_own_df['qdesc_label'] == 'REASONOWN') &\n",
    "    (~bus_own_df['industry'].str.contains('Total')) &\n",
    "    (~bus_own_df['gender'].str.contains('All')) &\n",
    "    (bus_own_df['ownchar_label'].str.contains(':'))]\n",
    "\n",
    "reason_owned[['reason','importance']] = reason_owned.apply(\n",
    "    lambda row: row['ownchar_label'].split(\":\"), axis = 1, result_type = 'expand'\n",
    ")\n",
    "\n",
    "reason_owned = reason_owned[['industry','gender','reason','importance','ownpdemp']]\n",
    "\n",
    "grouped_reason = reason_owned.groupby(\n",
    "    by = ['industry','reason','importance'])[['ownpdemp']].agg(\n",
    "    responses = ('ownpdemp', 'sum')\n",
    ")\n",
    "\n",
    "grouped_reason['ratio'] = 100 * (grouped_reason['responses'] / grouped_reason.groupby(level = [0,1])['responses'].transform('sum'))\n",
    "grouped_reason['ratio'] = grouped_reason['ratio'].round(2)\n",
    "grouped_reason.reset_index(inplace = True)\n",
    "\n",
    "accom_subset = grouped_reason[(grouped_reason['industry'].str.contains('inanc'))]\n",
    "accom_subset.sort_values(by = ['importance','ratio'], ascending = False, inplace = True)\n",
    "\n",
    "picked_industry = accom_subset['industry'].unique().tolist()[0]\n",
    "\n",
    "fig = px.bar(accom_subset, x = 'ratio', y = 'reason', color = 'importance',\n",
    "            width = 1000, height = 600, orientation = 'h', title = picked_industry,\n",
    "             hover_data = ['responses','ratio'], text = 'ratio'\n",
    "            )\n",
    "fig.update_layout(yaxis_title = None)\n",
    "\n",
    "fig.update_traces(textposition = 'inside', insidetextanchor = 'middle', textfont = {'color': 'white'})\n",
    "fig.update_yaxes(ticks = 'outside')\n",
    "fig.update_layout(xaxis_title = \"Percent of Total\", uniformtext_minsize = 12,\n",
    "                 uniformtext_mode = 'hide')\n",
    "\n",
    "fig.update_xaxes(range = [0,100])\n",
    "\n",
    "fig.show()"
   ]
  },
  {
   "cell_type": "code",
   "execution_count": null,
   "id": "d902123f-3431-4b4c-bde0-fd4dd89fa574",
   "metadata": {},
   "outputs": [],
   "source": []
  },
  {
   "cell_type": "code",
   "execution_count": null,
   "id": "852002f7-ae54-46d5-856f-60890c879ef8",
   "metadata": {},
   "outputs": [],
   "source": []
  }
 ],
 "metadata": {
  "kernelspec": {
   "display_name": "Python 3 (ipykernel)",
   "language": "python",
   "name": "python3"
  },
  "language_info": {
   "codemirror_mode": {
    "name": "ipython",
    "version": 3
   },
   "file_extension": ".py",
   "mimetype": "text/x-python",
   "name": "python",
   "nbconvert_exporter": "python",
   "pygments_lexer": "ipython3",
   "version": "3.9.7"
  }
 },
 "nbformat": 4,
 "nbformat_minor": 5
}
