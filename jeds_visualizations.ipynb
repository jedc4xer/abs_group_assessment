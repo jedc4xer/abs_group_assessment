{
 "cells": [
  {
   "cell_type": "code",
   "execution_count": 1,
   "id": "da7a57cf-60a8-4a28-adcb-06f2a9a0cb4d",
   "metadata": {},
   "outputs": [
    {
     "name": "stdout",
     "output_type": "stream",
     "text": [
      "\n",
      " ----- HELPER MODULE IMPORTED -------\n",
      "\n",
      "    For information on the helper module:\n",
      "        run 'help(explain)' in any cell. \n",
      "    \n"
     ]
    }
   ],
   "source": [
    "from utils import explain # Helper for clarifying dataframe information"
   ]
  },
  {
   "cell_type": "code",
   "execution_count": 2,
   "id": "97ccd604-079b-4910-b6b0-b9e748f1d2d1",
   "metadata": {},
   "outputs": [
    {
     "name": "stdout",
     "output_type": "stream",
     "text": [
      "Help on module utils.explain in utils:\n",
      "\n",
      "NAME\n",
      "    utils.explain - This modue is intended to assist with clarifying any data or variables that are present in the notebook.\n",
      "\n",
      "DESCRIPTION\n",
      "    It consists of a function that returns information based on key/value pairs. The key is the variable name, \n",
      "    and the value is the explanation of that variable. This is not a comprehensive dictionary of all variables, \n",
      "    but will return the primary variables.\n",
      "    \n",
      "    The indicator before the variable explanation (i.e. \"DF -->\") refers to the type of object that is referenced.\n",
      "    \n",
      "    If you edit the information in this module, be aware that Python only reads imports on a first pass, \n",
      "    so you will need to restart your kernel to see any changes.\n",
      "    \n",
      "    To use the function, just call explain.what_is() with no parameters.\n",
      "\n",
      "FUNCTIONS\n",
      "    what_is()\n",
      "        Takes no parameters. Accepts user input and prints a response.\n",
      "\n",
      "FILE\n",
      "    c:\\users\\work\\desktop\\python\\dev10\\assessments\\abs_group_assessment\\utils\\explain.py\n",
      "\n",
      "\n"
     ]
    }
   ],
   "source": [
    "help(explain)"
   ]
  },
  {
   "cell_type": "code",
   "execution_count": 3,
   "id": "571d0cb0-18ad-4e48-94cc-b223a70ccfbc",
   "metadata": {},
   "outputs": [
    {
     "name": "stdin",
     "output_type": "stream",
     "text": [
      "Blank Input returns all information.\n",
      "Which dataframe are you asking about? (partial and complete matches returned) >>  blue\n"
     ]
    },
    {
     "name": "stdout",
     "output_type": "stream",
     "text": [
      "No matches found.\n",
      "Some of the possibilities are:\n",
      "grouped_tables, possible_merge_options, common_vars, comp_sum_df, bus_char_df, bus_own_df, bus_tech_df, slbo \n"
     ]
    }
   ],
   "source": [
    "explain.what_is()"
   ]
  },
  {
   "cell_type": "code",
   "execution_count": null,
   "id": "3ae0d7a9-57ee-4f74-b485-dc2ea6bc443a",
   "metadata": {},
   "outputs": [],
   "source": []
  }
 ],
 "metadata": {
  "kernelspec": {
   "display_name": "Python 3 (ipykernel)",
   "language": "python",
   "name": "python3"
  },
  "language_info": {
   "codemirror_mode": {
    "name": "ipython",
    "version": 3
   },
   "file_extension": ".py",
   "mimetype": "text/x-python",
   "name": "python",
   "nbconvert_exporter": "python",
   "pygments_lexer": "ipython3",
   "version": "3.9.7"
  }
 },
 "nbformat": 4,
 "nbformat_minor": 5
}
