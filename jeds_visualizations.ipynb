{
 "cells": [
  {
   "cell_type": "code",
   "execution_count": 1,
   "id": "da7a57cf-60a8-4a28-adcb-06f2a9a0cb4d",
   "metadata": {},
   "outputs": [
    {
     "name": "stdout",
     "output_type": "stream",
     "text": [
      "\n",
      " ----- HELPER MODULE IMPORTED ------\n",
      "\n",
      "    For information on the helper module:\n",
      "        run 'help(explain)' in any cell. \n",
      "        \n",
      "    To directly use:\n",
      "        run 'explain.what_is()' with no parameters.\n",
      "    \n"
     ]
    }
   ],
   "source": [
    "import os\n",
    "\n",
    "import pandas as pd\n",
    "import seaborn as sns\n",
    "import matplotlib.pyplot as plt\n",
    "import plotly.express as px\n",
    "import datetime as dt\n",
    "import numpy as np\n",
    "\n",
    "from utils import explain\n",
    "\n",
    "today = dt.datetime.strftime(dt.datetime.today().date(), '%b %d, %Y')"
   ]
  },
  {
   "cell_type": "markdown",
   "id": "443d7572-3ac4-41e8-b151-d574e7032bcd",
   "metadata": {},
   "source": [
    "#### Create Dataframes"
   ]
  },
  {
   "cell_type": "code",
   "execution_count": 2,
   "id": "3fe0d157-f745-46c8-8485-8b968ca6372d",
   "metadata": {},
   "outputs": [],
   "source": [
    "files = sorted(['data/' + _ for _ in os.listdir('data/') if '.txt' not in _])"
   ]
  },
  {
   "cell_type": "code",
   "execution_count": 3,
   "id": "762e5348-b31f-44bd-a605-e3349d165652",
   "metadata": {},
   "outputs": [],
   "source": [
    "bus_char_df = pd.read_csv(files[0])\n",
    "bus_own_df = pd.read_csv(files[1])\n",
    "bus_tech_df = pd.read_csv(files[2])\n",
    "comp_sum_df = pd.read_csv(files[3])\n",
    "slbo = pd.read_csv(files[4])\n",
    "\n",
    "state_code_path = 'https://raw.githubusercontent.com/jedc4xer/abs_group_assessment/main/data/state_codes.csv'\n",
    "state_codes = pd.read_csv(state_code_path)\n"
   ]
  },
  {
   "cell_type": "code",
   "execution_count": 205,
   "id": "271358ad-38fc-48b2-9c30-48c1c4214d9d",
   "metadata": {},
   "outputs": [
    {
     "data": {
      "text/html": [
       "<div>\n",
       "<style scoped>\n",
       "    .dataframe tbody tr th:only-of-type {\n",
       "        vertical-align: middle;\n",
       "    }\n",
       "\n",
       "    .dataframe tbody tr th {\n",
       "        vertical-align: top;\n",
       "    }\n",
       "\n",
       "    .dataframe thead th {\n",
       "        text-align: right;\n",
       "    }\n",
       "</style>\n",
       "<table border=\"1\" class=\"dataframe\">\n",
       "  <thead>\n",
       "    <tr style=\"text-align: right;\">\n",
       "      <th></th>\n",
       "      <th>name</th>\n",
       "      <th>buschar_label</th>\n",
       "      <th>emp</th>\n",
       "      <th>firmpdemp</th>\n",
       "      <th>geo_id</th>\n",
       "      <th>industry_code</th>\n",
       "      <th>industry</th>\n",
       "      <th>payann</th>\n",
       "      <th>qdesc_label</th>\n",
       "      <th>race_group_label</th>\n",
       "      <th>rcppdemp</th>\n",
       "      <th>gender</th>\n",
       "      <th>yibszfi_label</th>\n",
       "      <th>state</th>\n",
       "    </tr>\n",
       "  </thead>\n",
       "  <tbody>\n",
       "    <tr>\n",
       "      <th>0</th>\n",
       "      <td>Mississippi</td>\n",
       "      <td>All firms</td>\n",
       "      <td>920447</td>\n",
       "      <td>40856</td>\n",
       "      <td>0400000US28</td>\n",
       "      <td>0</td>\n",
       "      <td>Total for all sectors</td>\n",
       "      <td>34137231</td>\n",
       "      <td>OWNRNUM</td>\n",
       "      <td>Total</td>\n",
       "      <td>0</td>\n",
       "      <td>Total</td>\n",
       "      <td>All firms</td>\n",
       "      <td>28]</td>\n",
       "    </tr>\n",
       "    <tr>\n",
       "      <th>1</th>\n",
       "      <td>Mississippi</td>\n",
       "      <td>1 person</td>\n",
       "      <td>80964</td>\n",
       "      <td>10704</td>\n",
       "      <td>0400000US28</td>\n",
       "      <td>0</td>\n",
       "      <td>Total for all sectors</td>\n",
       "      <td>2835519</td>\n",
       "      <td>OWNRNUM</td>\n",
       "      <td>Total</td>\n",
       "      <td>0</td>\n",
       "      <td>Total</td>\n",
       "      <td>All firms</td>\n",
       "      <td>28]</td>\n",
       "    </tr>\n",
       "    <tr>\n",
       "      <th>2</th>\n",
       "      <td>Mississippi</td>\n",
       "      <td>2 to 4 people</td>\n",
       "      <td>59086</td>\n",
       "      <td>5956</td>\n",
       "      <td>0400000US28</td>\n",
       "      <td>0</td>\n",
       "      <td>Total for all sectors</td>\n",
       "      <td>2031186</td>\n",
       "      <td>OWNRNUM</td>\n",
       "      <td>Total</td>\n",
       "      <td>0</td>\n",
       "      <td>Total</td>\n",
       "      <td>All firms</td>\n",
       "      <td>28]</td>\n",
       "    </tr>\n",
       "    <tr>\n",
       "      <th>3</th>\n",
       "      <td>Mississippi</td>\n",
       "      <td>5 to 10 people</td>\n",
       "      <td>13497</td>\n",
       "      <td>360</td>\n",
       "      <td>0400000US28</td>\n",
       "      <td>0</td>\n",
       "      <td>Total for all sectors</td>\n",
       "      <td>618245</td>\n",
       "      <td>OWNRNUM</td>\n",
       "      <td>Total</td>\n",
       "      <td>0</td>\n",
       "      <td>Total</td>\n",
       "      <td>All firms</td>\n",
       "      <td>28]</td>\n",
       "    </tr>\n",
       "    <tr>\n",
       "      <th>4</th>\n",
       "      <td>Mississippi</td>\n",
       "      <td>11 or more people</td>\n",
       "      <td>106361</td>\n",
       "      <td>604</td>\n",
       "      <td>0400000US28</td>\n",
       "      <td>0</td>\n",
       "      <td>Total for all sectors</td>\n",
       "      <td>4807141</td>\n",
       "      <td>OWNRNUM</td>\n",
       "      <td>Total</td>\n",
       "      <td>0</td>\n",
       "      <td>Total</td>\n",
       "      <td>All firms</td>\n",
       "      <td>28]</td>\n",
       "    </tr>\n",
       "  </tbody>\n",
       "</table>\n",
       "</div>"
      ],
      "text/plain": [
       "          name      buschar_label     emp  firmpdemp       geo_id  \\\n",
       "0  Mississippi          All firms  920447      40856  0400000US28   \n",
       "1  Mississippi           1 person   80964      10704  0400000US28   \n",
       "2  Mississippi      2 to 4 people   59086       5956  0400000US28   \n",
       "3  Mississippi     5 to 10 people   13497        360  0400000US28   \n",
       "4  Mississippi  11 or more people  106361        604  0400000US28   \n",
       "\n",
       "   industry_code               industry    payann qdesc_label  \\\n",
       "0              0  Total for all sectors  34137231     OWNRNUM   \n",
       "1              0  Total for all sectors   2835519     OWNRNUM   \n",
       "2              0  Total for all sectors   2031186     OWNRNUM   \n",
       "3              0  Total for all sectors    618245     OWNRNUM   \n",
       "4              0  Total for all sectors   4807141     OWNRNUM   \n",
       "\n",
       "  race_group_label  rcppdemp gender yibszfi_label state  \n",
       "0            Total         0  Total     All firms   28]  \n",
       "1            Total         0  Total     All firms   28]  \n",
       "2            Total         0  Total     All firms   28]  \n",
       "3            Total         0  Total     All firms   28]  \n",
       "4            Total         0  Total     All firms   28]  "
      ]
     },
     "execution_count": 205,
     "metadata": {},
     "output_type": "execute_result"
    }
   ],
   "source": [
    "bus_char_df.head()"
   ]
  },
  {
   "cell_type": "code",
   "execution_count": 8,
   "id": "ebb8283b-7d71-45a3-9fce-ecca80e80da5",
   "metadata": {},
   "outputs": [],
   "source": [
    "def clean_for_map(df, target = 'industry'):\n",
    "    if target not in ['gender','race_group_label','industry']:\n",
    "        possible = \", \".join(['gender','race_group_label','industry'])\n",
    "        print(f'You must choose one of: {possible}')\n",
    "        return\n",
    "    label = {'gender': 'Owner Gender','race_group_label': 'Owner Race','industry':'Industry'}[target]\n",
    "    \n",
    "    subset = df[(df.payann != 0) & (df.gender != 'Total') & (df.race_group_label != 'Total') & (df.industry_code != '00')]\n",
    "    subset = subset[['name','geo_id',target,'payann','firmpdemp','emp']]\n",
    "    subset['payann'] = subset['payann'] * 1000\n",
    "    subset['avg_pay'] = subset.apply(lambda row: row.payann/row.emp, axis = 1)\n",
    "\n",
    "    subset_agg = subset.groupby(\n",
    "        by = ['name']\n",
    "            )[['avg_pay']].agg(max_pay = ('avg_pay','max'))\n",
    "\n",
    "    subset_agg.reset_index(inplace = True)\n",
    "\n",
    "    grouped = pd.merge(subset, subset_agg, left_on = 'name', right_on = 'name', how = 'left')\n",
    "    \n",
    "    grouped = grouped[(grouped.avg_pay == grouped.max_pay)].reset_index(drop = True)\n",
    "    grouped = grouped.sort_values(by = 'name').reset_index(drop = True)\n",
    "    grouped = grouped.drop_duplicates().reset_index(drop = True)\n",
    "\n",
    "    grouped = pd.merge(grouped,state_codes, left_on = 'name', right_on = 'State', how = 'left')\n",
    "\n",
    "    grouped = grouped[['name',target,'avg_pay','Postal Abbr.']]\n",
    "\n",
    "    diffs = set(subset_agg.name.tolist()) - set(grouped.name.tolist())\n",
    "    if len(diffs) > 0:\n",
    "        print('There are some states missing.')\n",
    "    return grouped, target, label\n",
    "\n",
    "def plot_maps(grouped, target):\n",
    "    grouped, target, label = clean_for_map(grouped, target)\n",
    "    \n",
    "    if target == 'gender':\n",
    "        color_scheme = px.colors.qualitative.Plotly[2:]\n",
    "    else:\n",
    "        color_scheme = px.colors.qualitative.Bold\n",
    "        \n",
    "    customdata = np.stack((grouped['name'],grouped[target]),axis = -1)\n",
    "    \n",
    "    mapfig = px.choropleth(grouped, \n",
    "                           title = f'Highest Average Pay based on {label}',\n",
    "                           locations = 'Postal Abbr.',\n",
    "                           locationmode = \"USA-states\",\n",
    "                           scope = 'usa',\n",
    "                           color = target,\n",
    "                           hover_data = ['name',target,'avg_pay'],\n",
    "                           color_discrete_sequence = color_scheme,\n",
    "                           height = 600,\n",
    "                           width = 1300,\n",
    "                           )\n",
    "\n",
    "    mapfig.add_annotation(\n",
    "        text = (f\"Created by: Jed Dryer<br>{today}<br>Source: US Census - 2019 ABS\"),\n",
    "        showarrow=False,\n",
    "        x = .54,\n",
    "        y = .01,\n",
    "        xref='paper',\n",
    "        yref='paper' ,\n",
    "        xanchor='left',\n",
    "        yanchor='bottom',\n",
    "        xshift=-1,\n",
    "        yshift=-3,\n",
    "        font=dict(size=10, color=\"grey\"),\n",
    "        align=\"right\",\n",
    "        )\n",
    "\n",
    "    mapfig.update_layout(margin={\"r\":3,\"t\":30,\"l\":0,\"b\":10}, dragmode = False)\n",
    "    mapfig.update_layout(title_y = 0.95, title_x = 0.25, title_font_size = 18,\n",
    "                        legend = dict(x=0.9,y=0.6))\n",
    "    mapfig.update_traces(hovertemplate = '<b>State: %{customdata[0]}</b><br>Value: %{customdata[1]}')\n",
    "    mapfig.update_geos(resolution=50,showlakes=True, lakecolor=\"Lightblue\", subunitcolor = 'black')\n",
    "    #save_label = \"\".join(_.lower() for _ in label if _.isalpha())\n",
    "    #mapfig.write_html(f'highest_avg_pay_{save_label}.html')\n",
    "    #mapfig.show()\n",
    "    return mapfig\n",
    "\n",
    "reasons = ['gender','race_group_label','industry']\n",
    "maps = []\n",
    "for reason in reasons:\n",
    "    maps.append(plot_maps(comp_sum_df, reason))\n",
    "    \n",
    "with open('company_pay_maps.html', 'w') as mapfile:\n",
    "    for fig in maps:\n",
    "        mapfile.write(fig.to_html(full_html = False, include_plotlyjs='cdn'))\n",
    "    mapfile.close()\n"
   ]
  },
  {
   "cell_type": "code",
   "execution_count": null,
   "id": "68fc2683-bcf7-4134-818d-c6e55ee3721e",
   "metadata": {},
   "outputs": [
    {
     "name": "stdout",
     "output_type": "stream",
     "text": [
      "< - Balance work and family - ->\n",
      "<  - Best avenue for ideas -  ->\n",
      "< - Carry on family business - >\n",
      "<-  - Couldn't find a job -  -->\n",
      "<-  -  - Flexible hours -  -  ->\n",
      "< Friend or family role model ->\n",
      "<-  -  - Greater income -  -  ->\n",
      "< -  - Help my community -  - ->\n",
      "< -  -  -  - Other -  -  -  - ->\n",
      "<  - Start my own business -  ->\n",
      "< - Wanted to be my own boss - >\n",
      "<-  -  - Work for self -  -  -->\n"
     ]
    },
    {
     "name": "stderr",
     "output_type": "stream",
     "text": [
      "C:\\Users\\Work\\anaconda3\\lib\\site-packages\\pandas\\util\\_decorators.py:311: SettingWithCopyWarning:\n",
      "\n",
      "\n",
      "A value is trying to be set on a copy of a slice from a DataFrame\n",
      "\n",
      "See the caveats in the documentation: https://pandas.pydata.org/pandas-docs/stable/user_guide/indexing.html#returning-a-view-versus-a-copy\n",
      "\n",
      "C:\\Users\\Work\\anaconda3\\lib\\site-packages\\pandas\\core\\frame.py:5039: SettingWithCopyWarning:\n",
      "\n",
      "\n",
      "A value is trying to be set on a copy of a slice from a DataFrame\n",
      "\n",
      "See the caveats in the documentation: https://pandas.pydata.org/pandas-docs/stable/user_guide/indexing.html#returning-a-view-versus-a-copy\n",
      "\n",
      "C:\\Users\\Work\\AppData\\Local\\Temp/ipykernel_31996/2565623561.py:52: SettingWithCopyWarning:\n",
      "\n",
      "\n",
      "A value is trying to be set on a copy of a slice from a DataFrame.\n",
      "Try using .loc[row_indexer,col_indexer] = value instead\n",
      "\n",
      "See the caveats in the documentation: https://pandas.pydata.org/pandas-docs/stable/user_guide/indexing.html#returning-a-view-versus-a-copy\n",
      "\n"
     ]
    }
   ],
   "source": [
    "reason_owned = bus_own_df[\n",
    "    (bus_own_df['qdesc_label'] == 'REASONOWN') &\n",
    "    (~bus_own_df['industry'].str.contains('Total')) &\n",
    "    (~bus_own_df['gender'].str.contains('All')) &\n",
    "    (bus_own_df['ownchar_label'].str.contains(':'))]\n",
    "\n",
    "reason_owned[['reason','importance']] = reason_owned.apply(\n",
    "    lambda row: row['ownchar_label'].split(\":\"), axis = 1, result_type = 'expand'\n",
    ")\n",
    "\n",
    "reason_owned = reason_owned[['industry','gender','reason','importance','ownpdemp']]\n",
    "\n",
    "grouped_reason = reason_owned.groupby(\n",
    "    by = ['industry','reason','importance'])[['ownpdemp']].agg(\n",
    "    responses = ('ownpdemp', 'sum')\n",
    ")\n",
    "\n",
    "grouped_reason['ratio'] = 100 * (grouped_reason['responses'] / grouped_reason.groupby(level = [0,1])['responses'].transform('sum'))\n",
    "grouped_reason['ratio'] = grouped_reason['ratio'].round(2)\n",
    "grouped_reason.reset_index(inplace = True)\n",
    "\n",
    "accom_subset = grouped_reason[(grouped_reason['industry'].str.contains('inanc|ducati'))]\n",
    "accom_subset.sort_values(by = ['importance','ratio'], ascending = False, inplace = True)\n",
    "accom_subset.rename(columns = {'ratio': 'Percent of Total'}, inplace = True)\n",
    "picked_industry = accom_subset['industry'].unique().tolist()\n",
    "\n",
    "reasons = grouped_reason.reason.unique().tolist()\n",
    "longest_reason = max(reasons, key = len)\n",
    "longest_reason = \"<\" + longest_reason + \">\"\n",
    "longest_reason = len(longest_reason)\n",
    "new_reasons = {}\n",
    "for reason in reasons:\n",
    "    old_reason = reason\n",
    "    if len(reason) != longest_reason:\n",
    "        reason = \" \" + reason + \" \"\n",
    "        cntr = 0\n",
    "    while len(reason) < longest_reason:\n",
    "        if cntr % 3 == 0:\n",
    "            reason = \"-\" + reason + \"-\"\n",
    "        else:\n",
    "            reason = \" \" + reason + \" \"\n",
    "        cntr += 1\n",
    "    \n",
    "    if len(reason) < 30:\n",
    "        reason = reason + \"-\"\n",
    "    reason = \"<\" + reason + \">\"\n",
    "    \n",
    "    new_reasons[old_reason] = reason\n",
    "    \n",
    "for key in new_reasons.keys():\n",
    "    print(new_reasons[key])\n",
    "accom_subset['reason'] = accom_subset['reason'].apply(lambda x: new_reasons[x])"
   ]
  },
  {
   "cell_type": "code",
   "execution_count": null,
   "id": "40b77082-83a7-4b9e-95eb-b91fac4e9dc7",
   "metadata": {},
   "outputs": [
    {
     "data": {
      "application/vnd.plotly.v1+json": {
       "config": {
        "plotlyServerURL": "https://plot.ly"
       },
       "data": [
        {
         "alignmentgroup": "True",
         "customdata": [
          [
           393835
          ],
          [
           379524
          ],
          [
           353279
          ],
          [
           343219
          ],
          [
           309141
          ],
          [
           255919
          ],
          [
           193267
          ],
          [
           178341
          ],
          [
           154036
          ],
          [
           102342
          ],
          [
           47727
          ],
          [
           32011
          ]
         ],
         "hovertemplate": "importance= Very important<br>industry=Finance and insurance<br>Percent of Total=%{text}<br>reason=%{y}<br>responses=%{customdata[0]}<extra></extra>",
         "insidetextanchor": "middle",
         "legendgroup": " Very important",
         "marker": {
          "color": "#636efa",
          "pattern": {
           "shape": ""
          }
         },
         "name": " Very important",
         "offsetgroup": " Very important",
         "orientation": "h",
         "showlegend": true,
         "text": [
          73.28,
          69.91,
          65.3,
          63.31,
          57.05,
          47.78,
          35.7,
          32.94,
          28.66,
          18.95,
          9.15,
          5.97
         ],
         "textfont": {
          "color": "white"
         },
         "textposition": "inside",
         "type": "bar",
         "x": [
          73.28,
          69.91,
          65.3,
          63.31,
          57.05,
          47.78,
          35.7,
          32.94,
          28.66,
          18.95,
          9.15,
          5.97
         ],
         "xaxis": "x",
         "y": [
          "<-  -  - Greater income -  -  ->",
          "< - Wanted to be my own boss - >",
          "< - Balance work and family - ->",
          "<-  -  - Flexible hours -  -  ->",
          "<  - Best avenue for ideas -  ->",
          "<  - Start my own business -  ->",
          "<-  -  - Work for self -  -  -->",
          "< Friend or family role model ->",
          "< -  - Help my community -  - ->",
          "< - Carry on family business - >",
          "< -  -  -  - Other -  -  -  - ->",
          "<-  - Couldn't find a job -  -->"
         ],
         "yaxis": "y"
        },
        {
         "alignmentgroup": "True",
         "customdata": [
          [
           87416
          ],
          [
           81306
          ],
          [
           78264
          ],
          [
           78062
          ],
          [
           74791
          ],
          [
           57594
          ],
          [
           54014
          ],
          [
           40333
          ],
          [
           35325
          ],
          [
           19221
          ],
          [
           16192
          ],
          [
           7453
          ]
         ],
         "hovertemplate": "importance= Very important<br>industry=Educational services<br>Percent of Total=%{text}<br>reason=%{y}<br>responses=%{customdata[0]}<extra></extra>",
         "insidetextanchor": "middle",
         "legendgroup": " Very important",
         "marker": {
          "color": "#636efa",
          "pattern": {
           "shape": ""
          }
         },
         "name": " Very important",
         "offsetgroup": " Very important",
         "orientation": "h",
         "showlegend": false,
         "text": [
          64.07,
          59.46,
          57.16,
          57.08,
          54.9,
          42.3,
          39.64,
          29.59,
          25.89,
          14.37,
          11.87,
          5.47
         ],
         "textfont": {
          "color": "white"
         },
         "textposition": "inside",
         "type": "bar",
         "x": [
          64.07,
          59.46,
          57.16,
          57.08,
          54.9,
          42.3,
          39.64,
          29.59,
          25.89,
          14.37,
          11.87,
          5.47
         ],
         "xaxis": "x2",
         "y": [
          "<  - Best avenue for ideas -  ->",
          "< - Wanted to be my own boss - >",
          "< - Balance work and family - ->",
          "<-  -  - Flexible hours -  -  ->",
          "<-  -  - Greater income -  -  ->",
          "<  - Start my own business -  ->",
          "< -  - Help my community -  - ->",
          "<-  -  - Work for self -  -  -->",
          "< Friend or family role model ->",
          "< -  -  -  - Other -  -  -  - ->",
          "< - Carry on family business - >",
          "<-  - Couldn't find a job -  -->"
         ],
         "yaxis": "y2"
        },
        {
         "alignmentgroup": "True",
         "customdata": [
          [
           204618
          ],
          [
           197656
          ],
          [
           161993
          ],
          [
           158487
          ],
          [
           142380
          ],
          [
           127503
          ],
          [
           127010
          ],
          [
           105639
          ],
          [
           99891
          ],
          [
           68566
          ],
          [
           60180
          ],
          [
           38953
          ]
         ],
         "hovertemplate": "importance= Somewhat important<br>industry=Finance and insurance<br>Percent of Total=%{text}<br>reason=%{y}<br>responses=%{customdata[0]}<extra></extra>",
         "insidetextanchor": "middle",
         "legendgroup": " Somewhat important",
         "marker": {
          "color": "#EF553B",
          "pattern": {
           "shape": ""
          }
         },
         "name": " Somewhat important",
         "offsetgroup": " Somewhat important",
         "orientation": "h",
         "showlegend": true,
         "text": [
          37.8,
          36.78,
          30.24,
          29.25,
          26.3,
          23.57,
          23.43,
          19.46,
          18.59,
          12.7,
          11.23,
          7.46
         ],
         "textfont": {
          "color": "white"
         },
         "textposition": "inside",
         "type": "bar",
         "x": [
          37.8,
          36.78,
          30.24,
          29.25,
          26.3,
          23.57,
          23.43,
          19.46,
          18.59,
          12.7,
          11.23,
          7.46
         ],
         "xaxis": "x",
         "y": [
          "<-  -  - Work for self -  -  -->",
          "< -  - Help my community -  - ->",
          "<  - Start my own business -  ->",
          "<  - Best avenue for ideas -  ->",
          "< Friend or family role model ->",
          "< - Balance work and family - ->",
          "<-  -  - Flexible hours -  -  ->",
          "< - Wanted to be my own boss - >",
          "<-  -  - Greater income -  -  ->",
          "< - Carry on family business - >",
          "<-  - Couldn't find a job -  -->",
          "< -  -  -  - Other -  -  -  - ->"
         ],
         "yaxis": "y"
        },
        {
         "alignmentgroup": "True",
         "customdata": [
          [
           47782
          ],
          [
           43912
          ],
          [
           41892
          ],
          [
           40956
          ],
          [
           38121
          ],
          [
           36960
          ],
          [
           35697
          ],
          [
           35478
          ],
          [
           30107
          ],
          [
           14915
          ],
          [
           13057
          ],
          [
           7670
          ]
         ],
         "hovertemplate": "importance= Somewhat important<br>industry=Educational services<br>Percent of Total=%{text}<br>reason=%{y}<br>responses=%{customdata[0]}<extra></extra>",
         "insidetextanchor": "middle",
         "legendgroup": " Somewhat important",
         "marker": {
          "color": "#EF553B",
          "pattern": {
           "shape": ""
          }
         },
         "name": " Somewhat important",
         "offsetgroup": " Somewhat important",
         "orientation": "h",
         "showlegend": false,
         "text": [
          35.05,
          32.25,
          30.74,
          30.06,
          27.84,
          27.09,
          26.1,
          25.95,
          22.06,
          10.95,
          9.57,
          5.74
         ],
         "textfont": {
          "color": "white"
         },
         "textposition": "inside",
         "type": "bar",
         "x": [
          35.05,
          32.25,
          30.74,
          30.06,
          27.84,
          27.09,
          26.1,
          25.95,
          22.06,
          10.95,
          9.57,
          5.74
         ],
         "xaxis": "x2",
         "y": [
          "<-  -  - Work for self -  -  -->",
          "<  - Start my own business -  ->",
          "< -  - Help my community -  - ->",
          "<-  -  - Greater income -  -  ->",
          "< - Balance work and family - ->",
          "< Friend or family role model ->",
          "<-  -  - Flexible hours -  -  ->",
          "< - Wanted to be my own boss - >",
          "<  - Best avenue for ideas -  ->",
          "<-  - Couldn't find a job -  -->",
          "< - Carry on family business - >",
          "< -  -  -  - Other -  -  -  - ->"
         ],
         "yaxis": "y2"
        },
        {
         "alignmentgroup": "True",
         "customdata": [
          [
           435167
          ],
          [
           443838
          ],
          [
           369140
          ],
          [
           220683
          ],
          [
           185687
          ],
          [
           143483
          ],
          [
           117725
          ],
          [
           74221
          ],
          [
           71858
          ],
          [
           60218
          ],
          [
           57743
          ],
          [
           43704
          ]
         ],
         "hovertemplate": "importance= Not important<br>industry=Finance and insurance<br>Percent of Total=%{text}<br>reason=%{y}<br>responses=%{customdata[0]}<extra></extra>",
         "insidetextanchor": "middle",
         "legendgroup": " Not important",
         "marker": {
          "color": "#00cc96",
          "pattern": {
           "shape": ""
          }
         },
         "name": " Not important",
         "offsetgroup": " Not important",
         "orientation": "h",
         "showlegend": true,
         "text": [
          83.39,
          82.8,
          68.35,
          40.76,
          34.55,
          26.5,
          21.98,
          13.7,
          13.26,
          11.13,
          10.64,
          8.13
         ],
         "textfont": {
          "color": "white"
         },
         "textposition": "inside",
         "type": "bar",
         "x": [
          83.39,
          82.8,
          68.35,
          40.76,
          34.55,
          26.5,
          21.98,
          13.7,
          13.26,
          11.13,
          10.64,
          8.13
         ],
         "xaxis": "x",
         "y": [
          "< -  -  -  - Other -  -  -  - ->",
          "<-  - Couldn't find a job -  -->",
          "< - Carry on family business - >",
          "< Friend or family role model ->",
          "< -  - Help my community -  - ->",
          "<-  -  - Work for self -  -  -->",
          "<  - Start my own business -  ->",
          "<  - Best avenue for ideas -  ->",
          "<-  -  - Flexible hours -  -  ->",
          "< - Balance work and family - ->",
          "< - Wanted to be my own boss - >",
          "<-  -  - Greater income -  -  ->"
         ],
         "yaxis": "y"
        },
        {
         "alignmentgroup": "True",
         "customdata": [
          [
           113863
          ],
          [
           106822
          ],
          [
           107190
          ],
          [
           64164
          ],
          [
           48201
          ],
          [
           40354
          ],
          [
           34645
          ],
          [
           23010
          ],
          [
           20481
          ],
          [
           20526
          ],
          [
           19953
          ],
          [
           18924
          ]
         ],
         "hovertemplate": "importance= Not important<br>industry=Educational services<br>Percent of Total=%{text}<br>reason=%{y}<br>responses=%{customdata[0]}<extra></extra>",
         "insidetextanchor": "middle",
         "legendgroup": " Not important",
         "marker": {
          "color": "#00cc96",
          "pattern": {
           "shape": ""
          }
         },
         "name": " Not important",
         "offsetgroup": " Not important",
         "orientation": "h",
         "showlegend": false,
         "text": [
          83.58,
          79.89,
          78.56,
          47.02,
          35.36,
          29.62,
          25.45,
          16.82,
          15.03,
          14.99,
          14.59,
          13.87
         ],
         "textfont": {
          "color": "white"
         },
         "textposition": "inside",
         "type": "bar",
         "x": [
          83.58,
          79.89,
          78.56,
          47.02,
          35.36,
          29.62,
          25.45,
          16.82,
          15.03,
          14.99,
          14.59,
          13.87
         ],
         "xaxis": "x2",
         "y": [
          "<-  - Couldn't find a job -  -->",
          "< -  -  -  - Other -  -  -  - ->",
          "< - Carry on family business - >",
          "< Friend or family role model ->",
          "<-  -  - Work for self -  -  -->",
          "< -  - Help my community -  - ->",
          "<  - Start my own business -  ->",
          "<-  -  - Flexible hours -  -  ->",
          "<-  -  - Greater income -  -  ->",
          "< - Balance work and family - ->",
          "< - Wanted to be my own boss - >",
          "<  - Best avenue for ideas -  ->"
         ],
         "yaxis": "y2"
        }
       ],
       "layout": {
        "annotations": [
         {
          "showarrow": false,
          "text": "Finance and insurance",
          "x": 0.20500000000000002,
          "xanchor": "center",
          "xref": "paper",
          "y": 1,
          "yanchor": "bottom",
          "yref": "paper"
         },
         {
          "showarrow": false,
          "text": "Educational services",
          "x": 0.795,
          "xanchor": "center",
          "xref": "paper",
          "y": 1,
          "yanchor": "bottom",
          "yref": "paper"
         },
         {
          "align": "right",
          "font": {
           "color": "grey",
           "size": 10
          },
          "showarrow": false,
          "text": "Created by: Jed Dryer | Apr 24, 2022 | Source: US Census - 2019 ABS",
          "x": 0.7,
          "xanchor": "left",
          "xref": "paper",
          "xshift": -1,
          "y": -0.19,
          "yanchor": "bottom",
          "yref": "paper",
          "yshift": -3
         }
        ],
        "barmode": "relative",
        "dragmode": false,
        "height": 600,
        "legend": {
         "font": {
          "size": 13
         },
         "orientation": "h",
         "title": {
          "text": "importance"
         },
         "tracegroupgap": 0,
         "x": 0,
         "y": 1.15
        },
        "margin": {
         "b": 90,
         "l": 0,
         "r": 0,
         "t": 90
        },
        "paper_bgcolor": "white",
        "plot_bgcolor": "white",
        "template": {
         "data": {
          "bar": [
           {
            "error_x": {
             "color": "#2a3f5f"
            },
            "error_y": {
             "color": "#2a3f5f"
            },
            "marker": {
             "line": {
              "color": "#E5ECF6",
              "width": 0.5
             },
             "pattern": {
              "fillmode": "overlay",
              "size": 10,
              "solidity": 0.2
             }
            },
            "type": "bar"
           }
          ],
          "barpolar": [
           {
            "marker": {
             "line": {
              "color": "#E5ECF6",
              "width": 0.5
             },
             "pattern": {
              "fillmode": "overlay",
              "size": 10,
              "solidity": 0.2
             }
            },
            "type": "barpolar"
           }
          ],
          "carpet": [
           {
            "aaxis": {
             "endlinecolor": "#2a3f5f",
             "gridcolor": "white",
             "linecolor": "white",
             "minorgridcolor": "white",
             "startlinecolor": "#2a3f5f"
            },
            "baxis": {
             "endlinecolor": "#2a3f5f",
             "gridcolor": "white",
             "linecolor": "white",
             "minorgridcolor": "white",
             "startlinecolor": "#2a3f5f"
            },
            "type": "carpet"
           }
          ],
          "choropleth": [
           {
            "colorbar": {
             "outlinewidth": 0,
             "ticks": ""
            },
            "type": "choropleth"
           }
          ],
          "contour": [
           {
            "colorbar": {
             "outlinewidth": 0,
             "ticks": ""
            },
            "colorscale": [
             [
              0,
              "#0d0887"
             ],
             [
              0.1111111111111111,
              "#46039f"
             ],
             [
              0.2222222222222222,
              "#7201a8"
             ],
             [
              0.3333333333333333,
              "#9c179e"
             ],
             [
              0.4444444444444444,
              "#bd3786"
             ],
             [
              0.5555555555555556,
              "#d8576b"
             ],
             [
              0.6666666666666666,
              "#ed7953"
             ],
             [
              0.7777777777777778,
              "#fb9f3a"
             ],
             [
              0.8888888888888888,
              "#fdca26"
             ],
             [
              1,
              "#f0f921"
             ]
            ],
            "type": "contour"
           }
          ],
          "contourcarpet": [
           {
            "colorbar": {
             "outlinewidth": 0,
             "ticks": ""
            },
            "type": "contourcarpet"
           }
          ],
          "heatmap": [
           {
            "colorbar": {
             "outlinewidth": 0,
             "ticks": ""
            },
            "colorscale": [
             [
              0,
              "#0d0887"
             ],
             [
              0.1111111111111111,
              "#46039f"
             ],
             [
              0.2222222222222222,
              "#7201a8"
             ],
             [
              0.3333333333333333,
              "#9c179e"
             ],
             [
              0.4444444444444444,
              "#bd3786"
             ],
             [
              0.5555555555555556,
              "#d8576b"
             ],
             [
              0.6666666666666666,
              "#ed7953"
             ],
             [
              0.7777777777777778,
              "#fb9f3a"
             ],
             [
              0.8888888888888888,
              "#fdca26"
             ],
             [
              1,
              "#f0f921"
             ]
            ],
            "type": "heatmap"
           }
          ],
          "heatmapgl": [
           {
            "colorbar": {
             "outlinewidth": 0,
             "ticks": ""
            },
            "colorscale": [
             [
              0,
              "#0d0887"
             ],
             [
              0.1111111111111111,
              "#46039f"
             ],
             [
              0.2222222222222222,
              "#7201a8"
             ],
             [
              0.3333333333333333,
              "#9c179e"
             ],
             [
              0.4444444444444444,
              "#bd3786"
             ],
             [
              0.5555555555555556,
              "#d8576b"
             ],
             [
              0.6666666666666666,
              "#ed7953"
             ],
             [
              0.7777777777777778,
              "#fb9f3a"
             ],
             [
              0.8888888888888888,
              "#fdca26"
             ],
             [
              1,
              "#f0f921"
             ]
            ],
            "type": "heatmapgl"
           }
          ],
          "histogram": [
           {
            "marker": {
             "pattern": {
              "fillmode": "overlay",
              "size": 10,
              "solidity": 0.2
             }
            },
            "type": "histogram"
           }
          ],
          "histogram2d": [
           {
            "colorbar": {
             "outlinewidth": 0,
             "ticks": ""
            },
            "colorscale": [
             [
              0,
              "#0d0887"
             ],
             [
              0.1111111111111111,
              "#46039f"
             ],
             [
              0.2222222222222222,
              "#7201a8"
             ],
             [
              0.3333333333333333,
              "#9c179e"
             ],
             [
              0.4444444444444444,
              "#bd3786"
             ],
             [
              0.5555555555555556,
              "#d8576b"
             ],
             [
              0.6666666666666666,
              "#ed7953"
             ],
             [
              0.7777777777777778,
              "#fb9f3a"
             ],
             [
              0.8888888888888888,
              "#fdca26"
             ],
             [
              1,
              "#f0f921"
             ]
            ],
            "type": "histogram2d"
           }
          ],
          "histogram2dcontour": [
           {
            "colorbar": {
             "outlinewidth": 0,
             "ticks": ""
            },
            "colorscale": [
             [
              0,
              "#0d0887"
             ],
             [
              0.1111111111111111,
              "#46039f"
             ],
             [
              0.2222222222222222,
              "#7201a8"
             ],
             [
              0.3333333333333333,
              "#9c179e"
             ],
             [
              0.4444444444444444,
              "#bd3786"
             ],
             [
              0.5555555555555556,
              "#d8576b"
             ],
             [
              0.6666666666666666,
              "#ed7953"
             ],
             [
              0.7777777777777778,
              "#fb9f3a"
             ],
             [
              0.8888888888888888,
              "#fdca26"
             ],
             [
              1,
              "#f0f921"
             ]
            ],
            "type": "histogram2dcontour"
           }
          ],
          "mesh3d": [
           {
            "colorbar": {
             "outlinewidth": 0,
             "ticks": ""
            },
            "type": "mesh3d"
           }
          ],
          "parcoords": [
           {
            "line": {
             "colorbar": {
              "outlinewidth": 0,
              "ticks": ""
             }
            },
            "type": "parcoords"
           }
          ],
          "pie": [
           {
            "automargin": true,
            "type": "pie"
           }
          ],
          "scatter": [
           {
            "marker": {
             "colorbar": {
              "outlinewidth": 0,
              "ticks": ""
             }
            },
            "type": "scatter"
           }
          ],
          "scatter3d": [
           {
            "line": {
             "colorbar": {
              "outlinewidth": 0,
              "ticks": ""
             }
            },
            "marker": {
             "colorbar": {
              "outlinewidth": 0,
              "ticks": ""
             }
            },
            "type": "scatter3d"
           }
          ],
          "scattercarpet": [
           {
            "marker": {
             "colorbar": {
              "outlinewidth": 0,
              "ticks": ""
             }
            },
            "type": "scattercarpet"
           }
          ],
          "scattergeo": [
           {
            "marker": {
             "colorbar": {
              "outlinewidth": 0,
              "ticks": ""
             }
            },
            "type": "scattergeo"
           }
          ],
          "scattergl": [
           {
            "marker": {
             "colorbar": {
              "outlinewidth": 0,
              "ticks": ""
             }
            },
            "type": "scattergl"
           }
          ],
          "scattermapbox": [
           {
            "marker": {
             "colorbar": {
              "outlinewidth": 0,
              "ticks": ""
             }
            },
            "type": "scattermapbox"
           }
          ],
          "scatterpolar": [
           {
            "marker": {
             "colorbar": {
              "outlinewidth": 0,
              "ticks": ""
             }
            },
            "type": "scatterpolar"
           }
          ],
          "scatterpolargl": [
           {
            "marker": {
             "colorbar": {
              "outlinewidth": 0,
              "ticks": ""
             }
            },
            "type": "scatterpolargl"
           }
          ],
          "scatterternary": [
           {
            "marker": {
             "colorbar": {
              "outlinewidth": 0,
              "ticks": ""
             }
            },
            "type": "scatterternary"
           }
          ],
          "surface": [
           {
            "colorbar": {
             "outlinewidth": 0,
             "ticks": ""
            },
            "colorscale": [
             [
              0,
              "#0d0887"
             ],
             [
              0.1111111111111111,
              "#46039f"
             ],
             [
              0.2222222222222222,
              "#7201a8"
             ],
             [
              0.3333333333333333,
              "#9c179e"
             ],
             [
              0.4444444444444444,
              "#bd3786"
             ],
             [
              0.5555555555555556,
              "#d8576b"
             ],
             [
              0.6666666666666666,
              "#ed7953"
             ],
             [
              0.7777777777777778,
              "#fb9f3a"
             ],
             [
              0.8888888888888888,
              "#fdca26"
             ],
             [
              1,
              "#f0f921"
             ]
            ],
            "type": "surface"
           }
          ],
          "table": [
           {
            "cells": {
             "fill": {
              "color": "#EBF0F8"
             },
             "line": {
              "color": "white"
             }
            },
            "header": {
             "fill": {
              "color": "#C8D4E3"
             },
             "line": {
              "color": "white"
             }
            },
            "type": "table"
           }
          ]
         },
         "layout": {
          "annotationdefaults": {
           "arrowcolor": "#2a3f5f",
           "arrowhead": 0,
           "arrowwidth": 1
          },
          "autotypenumbers": "strict",
          "coloraxis": {
           "colorbar": {
            "outlinewidth": 0,
            "ticks": ""
           }
          },
          "colorscale": {
           "diverging": [
            [
             0,
             "#8e0152"
            ],
            [
             0.1,
             "#c51b7d"
            ],
            [
             0.2,
             "#de77ae"
            ],
            [
             0.3,
             "#f1b6da"
            ],
            [
             0.4,
             "#fde0ef"
            ],
            [
             0.5,
             "#f7f7f7"
            ],
            [
             0.6,
             "#e6f5d0"
            ],
            [
             0.7,
             "#b8e186"
            ],
            [
             0.8,
             "#7fbc41"
            ],
            [
             0.9,
             "#4d9221"
            ],
            [
             1,
             "#276419"
            ]
           ],
           "sequential": [
            [
             0,
             "#0d0887"
            ],
            [
             0.1111111111111111,
             "#46039f"
            ],
            [
             0.2222222222222222,
             "#7201a8"
            ],
            [
             0.3333333333333333,
             "#9c179e"
            ],
            [
             0.4444444444444444,
             "#bd3786"
            ],
            [
             0.5555555555555556,
             "#d8576b"
            ],
            [
             0.6666666666666666,
             "#ed7953"
            ],
            [
             0.7777777777777778,
             "#fb9f3a"
            ],
            [
             0.8888888888888888,
             "#fdca26"
            ],
            [
             1,
             "#f0f921"
            ]
           ],
           "sequentialminus": [
            [
             0,
             "#0d0887"
            ],
            [
             0.1111111111111111,
             "#46039f"
            ],
            [
             0.2222222222222222,
             "#7201a8"
            ],
            [
             0.3333333333333333,
             "#9c179e"
            ],
            [
             0.4444444444444444,
             "#bd3786"
            ],
            [
             0.5555555555555556,
             "#d8576b"
            ],
            [
             0.6666666666666666,
             "#ed7953"
            ],
            [
             0.7777777777777778,
             "#fb9f3a"
            ],
            [
             0.8888888888888888,
             "#fdca26"
            ],
            [
             1,
             "#f0f921"
            ]
           ]
          },
          "colorway": [
           "#636efa",
           "#EF553B",
           "#00cc96",
           "#ab63fa",
           "#FFA15A",
           "#19d3f3",
           "#FF6692",
           "#B6E880",
           "#FF97FF",
           "#FECB52"
          ],
          "font": {
           "color": "#2a3f5f"
          },
          "geo": {
           "bgcolor": "white",
           "lakecolor": "white",
           "landcolor": "#E5ECF6",
           "showlakes": true,
           "showland": true,
           "subunitcolor": "white"
          },
          "hoverlabel": {
           "align": "left"
          },
          "hovermode": "closest",
          "mapbox": {
           "style": "light"
          },
          "paper_bgcolor": "white",
          "plot_bgcolor": "#E5ECF6",
          "polar": {
           "angularaxis": {
            "gridcolor": "white",
            "linecolor": "white",
            "ticks": ""
           },
           "bgcolor": "#E5ECF6",
           "radialaxis": {
            "gridcolor": "white",
            "linecolor": "white",
            "ticks": ""
           }
          },
          "scene": {
           "xaxis": {
            "backgroundcolor": "#E5ECF6",
            "gridcolor": "white",
            "gridwidth": 2,
            "linecolor": "white",
            "showbackground": true,
            "ticks": "",
            "zerolinecolor": "white"
           },
           "yaxis": {
            "backgroundcolor": "#E5ECF6",
            "gridcolor": "white",
            "gridwidth": 2,
            "linecolor": "white",
            "showbackground": true,
            "ticks": "",
            "zerolinecolor": "white"
           },
           "zaxis": {
            "backgroundcolor": "#E5ECF6",
            "gridcolor": "white",
            "gridwidth": 2,
            "linecolor": "white",
            "showbackground": true,
            "ticks": "",
            "zerolinecolor": "white"
           }
          },
          "shapedefaults": {
           "line": {
            "color": "#2a3f5f"
           }
          },
          "ternary": {
           "aaxis": {
            "gridcolor": "white",
            "linecolor": "white",
            "ticks": ""
           },
           "baxis": {
            "gridcolor": "white",
            "linecolor": "white",
            "ticks": ""
           },
           "bgcolor": "#E5ECF6",
           "caxis": {
            "gridcolor": "white",
            "linecolor": "white",
            "ticks": ""
           }
          },
          "title": {
           "x": 0.05
          },
          "xaxis": {
           "automargin": true,
           "gridcolor": "white",
           "linecolor": "white",
           "ticks": "",
           "title": {
            "standoff": 15
           },
           "zerolinecolor": "white",
           "zerolinewidth": 2
          },
          "yaxis": {
           "automargin": true,
           "gridcolor": "white",
           "linecolor": "white",
           "ticks": "",
           "title": {
            "standoff": 15
           },
           "zerolinecolor": "white",
           "zerolinewidth": 2
          }
         }
        },
        "title": {
         "font": {
          "size": 22
         },
         "text": "Reasons for Starting a Company",
         "x": 0.003,
         "y": 0.98
        },
        "uniformtext": {
         "minsize": 13,
         "mode": "hide"
        },
        "width": 1300,
        "xaxis": {
         "anchor": "y",
         "autorange": true,
         "domain": [
          0,
          0.41000000000000003
         ],
         "range": [
          0,
          105.27368421052633
         ],
         "ticks": "outside",
         "title": {
          "text": "Percent of Total"
         },
         "type": "linear"
        },
        "xaxis2": {
         "anchor": "y2",
         "autorange": true,
         "domain": [
          0.5900000000000001,
          1
         ],
         "matches": "x",
         "range": [
          0,
          105.27368421052633
         ],
         "ticks": "outside",
         "title": {
          "text": "Percent of Total"
         },
         "type": "linear"
        },
        "yaxis": {
         "anchor": "x",
         "autorange": true,
         "domain": [
          0,
          1
         ],
         "range": [
          -0.5,
          11.5
         ],
         "side": "right",
         "title": {},
         "type": "category"
        },
        "yaxis2": {
         "anchor": "x2",
         "autorange": true,
         "domain": [
          0,
          1
         ],
         "matches": "y",
         "range": [
          -0.5,
          11.5
         ],
         "showticklabels": false,
         "side": "right",
         "type": "category"
        }
       }
      },
      "image/png": "[encoded data removed]",
      "text/html": [
       "<div>                            <div id=\"4ba44b6c-4ac1-43b4-be3d-fb62e45ea1c6\" class=\"plotly-graph-div\" style=\"height:600px; width:1300px;\"></div>            <script type=\"text/javascript\">                require([\"plotly\"], function(Plotly) {                    window.PLOTLYENV=window.PLOTLYENV || {};                                    if (document.getElementById(\"4ba44b6c-4ac1-43b4-be3d-fb62e45ea1c6\")) {                    Plotly.newPlot(                        \"4ba44b6c-4ac1-43b4-be3d-fb62e45ea1c6\",                        [{\"alignmentgroup\":\"True\",\"customdata\":[[393835],[379524],[353279],[343219],[309141],[255919],[193267],[178341],[154036],[102342],[47727],[32011]],\"hovertemplate\":\"importance= Very important<br>industry=Finance and insurance<br>Percent of Total=%{text}<br>reason=%{y}<br>responses=%{customdata[0]}<extra></extra>\",\"legendgroup\":\" Very important\",\"marker\":{\"color\":\"#636efa\",\"pattern\":{\"shape\":\"\"}},\"name\":\" Very important\",\"offsetgroup\":\" Very important\",\"orientation\":\"h\",\"showlegend\":true,\"text\":[73.28,69.91,65.3,63.31,57.05,47.78,35.7,32.94,28.66,18.95,9.15,5.97],\"textposition\":\"inside\",\"x\":[73.28,69.91,65.3,63.31,57.05,47.78,35.7,32.94,28.66,18.95,9.15,5.97],\"xaxis\":\"x\",\"y\":[\"<-  -  - Greater income -  -  ->\",\"< - Wanted to be my own boss - >\",\"< - Balance work and family - ->\",\"<-  -  - Flexible hours -  -  ->\",\"<  - Best avenue for ideas -  ->\",\"<  - Start my own business -  ->\",\"<-  -  - Work for self -  -  -->\",\"< Friend or family role model ->\",\"< -  - Help my community -  - ->\",\"< - Carry on family business - >\",\"< -  -  -  - Other -  -  -  - ->\",\"<-  - Couldn't find a job -  -->\"],\"yaxis\":\"y\",\"type\":\"bar\",\"textfont\":{\"color\":\"white\"},\"insidetextanchor\":\"middle\"},{\"alignmentgroup\":\"True\",\"customdata\":[[87416],[81306],[78264],[78062],[74791],[57594],[54014],[40333],[35325],[19221],[16192],[7453]],\"hovertemplate\":\"importance= Very important<br>industry=Educational services<br>Percent of Total=%{text}<br>reason=%{y}<br>responses=%{customdata[0]}<extra></extra>\",\"legendgroup\":\" Very important\",\"marker\":{\"color\":\"#636efa\",\"pattern\":{\"shape\":\"\"}},\"name\":\" Very important\",\"offsetgroup\":\" Very important\",\"orientation\":\"h\",\"showlegend\":false,\"text\":[64.07,59.46,57.16,57.08,54.9,42.3,39.64,29.59,25.89,14.37,11.87,5.47],\"textposition\":\"inside\",\"x\":[64.07,59.46,57.16,57.08,54.9,42.3,39.64,29.59,25.89,14.37,11.87,5.47],\"xaxis\":\"x2\",\"y\":[\"<  - Best avenue for ideas -  ->\",\"< - Wanted to be my own boss - >\",\"< - Balance work and family - ->\",\"<-  -  - Flexible hours -  -  ->\",\"<-  -  - Greater income -  -  ->\",\"<  - Start my own business -  ->\",\"< -  - Help my community -  - ->\",\"<-  -  - Work for self -  -  -->\",\"< Friend or family role model ->\",\"< -  -  -  - Other -  -  -  - ->\",\"< - Carry on family business - >\",\"<-  - Couldn't find a job -  -->\"],\"yaxis\":\"y2\",\"type\":\"bar\",\"textfont\":{\"color\":\"white\"},\"insidetextanchor\":\"middle\"},{\"alignmentgroup\":\"True\",\"customdata\":[[204618],[197656],[161993],[158487],[142380],[127503],[127010],[105639],[99891],[68566],[60180],[38953]],\"hovertemplate\":\"importance= Somewhat important<br>industry=Finance and insurance<br>Percent of Total=%{text}<br>reason=%{y}<br>responses=%{customdata[0]}<extra></extra>\",\"legendgroup\":\" Somewhat important\",\"marker\":{\"color\":\"#EF553B\",\"pattern\":{\"shape\":\"\"}},\"name\":\" Somewhat important\",\"offsetgroup\":\" Somewhat important\",\"orientation\":\"h\",\"showlegend\":true,\"text\":[37.8,36.78,30.24,29.25,26.3,23.57,23.43,19.46,18.59,12.7,11.23,7.46],\"textposition\":\"inside\",\"x\":[37.8,36.78,30.24,29.25,26.3,23.57,23.43,19.46,18.59,12.7,11.23,7.46],\"xaxis\":\"x\",\"y\":[\"<-  -  - Work for self -  -  -->\",\"< -  - Help my community -  - ->\",\"<  - Start my own business -  ->\",\"<  - Best avenue for ideas -  ->\",\"< Friend or family role model ->\",\"< - Balance work and family - ->\",\"<-  -  - Flexible hours -  -  ->\",\"< - Wanted to be my own boss - >\",\"<-  -  - Greater income -  -  ->\",\"< - Carry on family business - >\",\"<-  - Couldn't find a job -  -->\",\"< -  -  -  - Other -  -  -  - ->\"],\"yaxis\":\"y\",\"type\":\"bar\",\"textfont\":{\"color\":\"white\"},\"insidetextanchor\":\"middle\"},{\"alignmentgroup\":\"True\",\"customdata\":[[47782],[43912],[41892],[40956],[38121],[36960],[35697],[35478],[30107],[14915],[13057],[7670]],\"hovertemplate\":\"importance= Somewhat important<br>industry=Educational services<br>Percent of Total=%{text}<br>reason=%{y}<br>responses=%{customdata[0]}<extra></extra>\",\"legendgroup\":\" Somewhat important\",\"marker\":{\"color\":\"#EF553B\",\"pattern\":{\"shape\":\"\"}},\"name\":\" Somewhat important\",\"offsetgroup\":\" Somewhat important\",\"orientation\":\"h\",\"showlegend\":false,\"text\":[35.05,32.25,30.74,30.06,27.84,27.09,26.1,25.95,22.06,10.95,9.57,5.74],\"textposition\":\"inside\",\"x\":[35.05,32.25,30.74,30.06,27.84,27.09,26.1,25.95,22.06,10.95,9.57,5.74],\"xaxis\":\"x2\",\"y\":[\"<-  -  - Work for self -  -  -->\",\"<  - Start my own business -  ->\",\"< -  - Help my community -  - ->\",\"<-  -  - Greater income -  -  ->\",\"< - Balance work and family - ->\",\"< Friend or family role model ->\",\"<-  -  - Flexible hours -  -  ->\",\"< - Wanted to be my own boss - >\",\"<  - Best avenue for ideas -  ->\",\"<-  - Couldn't find a job -  -->\",\"< - Carry on family business - >\",\"< -  -  -  - Other -  -  -  - ->\"],\"yaxis\":\"y2\",\"type\":\"bar\",\"textfont\":{\"color\":\"white\"},\"insidetextanchor\":\"middle\"},{\"alignmentgroup\":\"True\",\"customdata\":[[435167],[443838],[369140],[220683],[185687],[143483],[117725],[74221],[71858],[60218],[57743],[43704]],\"hovertemplate\":\"importance= Not important<br>industry=Finance and insurance<br>Percent of Total=%{text}<br>reason=%{y}<br>responses=%{customdata[0]}<extra></extra>\",\"legendgroup\":\" Not important\",\"marker\":{\"color\":\"#00cc96\",\"pattern\":{\"shape\":\"\"}},\"name\":\" Not important\",\"offsetgroup\":\" Not important\",\"orientation\":\"h\",\"showlegend\":true,\"text\":[83.39,82.8,68.35,40.76,34.55,26.5,21.98,13.7,13.26,11.13,10.64,8.13],\"textposition\":\"inside\",\"x\":[83.39,82.8,68.35,40.76,34.55,26.5,21.98,13.7,13.26,11.13,10.64,8.13],\"xaxis\":\"x\",\"y\":[\"< -  -  -  - Other -  -  -  - ->\",\"<-  - Couldn't find a job -  -->\",\"< - Carry on family business - >\",\"< Friend or family role model ->\",\"< -  - Help my community -  - ->\",\"<-  -  - Work for self -  -  -->\",\"<  - Start my own business -  ->\",\"<  - Best avenue for ideas -  ->\",\"<-  -  - Flexible hours -  -  ->\",\"< - Balance work and family - ->\",\"< - Wanted to be my own boss - >\",\"<-  -  - Greater income -  -  ->\"],\"yaxis\":\"y\",\"type\":\"bar\",\"textfont\":{\"color\":\"white\"},\"insidetextanchor\":\"middle\"},{\"alignmentgroup\":\"True\",\"customdata\":[[113863],[106822],[107190],[64164],[48201],[40354],[34645],[23010],[20481],[20526],[19953],[18924]],\"hovertemplate\":\"importance= Not important<br>industry=Educational services<br>Percent of Total=%{text}<br>reason=%{y}<br>responses=%{customdata[0]}<extra></extra>\",\"legendgroup\":\" Not important\",\"marker\":{\"color\":\"#00cc96\",\"pattern\":{\"shape\":\"\"}},\"name\":\" Not important\",\"offsetgroup\":\" Not important\",\"orientation\":\"h\",\"showlegend\":false,\"text\":[83.58,79.89,78.56,47.02,35.36,29.62,25.45,16.82,15.03,14.99,14.59,13.87],\"textposition\":\"inside\",\"x\":[83.58,79.89,78.56,47.02,35.36,29.62,25.45,16.82,15.03,14.99,14.59,13.87],\"xaxis\":\"x2\",\"y\":[\"<-  - Couldn't find a job -  -->\",\"< -  -  -  - Other -  -  -  - ->\",\"< - Carry on family business - >\",\"< Friend or family role model ->\",\"<-  -  - Work for self -  -  -->\",\"< -  - Help my community -  - ->\",\"<  - Start my own business -  ->\",\"<-  -  - Flexible hours -  -  ->\",\"<-  -  - Greater income -  -  ->\",\"< - Balance work and family - ->\",\"< - Wanted to be my own boss - >\",\"<  - Best avenue for ideas -  ->\"],\"yaxis\":\"y2\",\"type\":\"bar\",\"textfont\":{\"color\":\"white\"},\"insidetextanchor\":\"middle\"}],                        {\"template\":{\"data\":{\"bar\":[{\"error_x\":{\"color\":\"#2a3f5f\"},\"error_y\":{\"color\":\"#2a3f5f\"},\"marker\":{\"line\":{\"color\":\"#E5ECF6\",\"width\":0.5},\"pattern\":{\"fillmode\":\"overlay\",\"size\":10,\"solidity\":0.2}},\"type\":\"bar\"}],\"barpolar\":[{\"marker\":{\"line\":{\"color\":\"#E5ECF6\",\"width\":0.5},\"pattern\":{\"fillmode\":\"overlay\",\"size\":10,\"solidity\":0.2}},\"type\":\"barpolar\"}],\"carpet\":[{\"aaxis\":{\"endlinecolor\":\"#2a3f5f\",\"gridcolor\":\"white\",\"linecolor\":\"white\",\"minorgridcolor\":\"white\",\"startlinecolor\":\"#2a3f5f\"},\"baxis\":{\"endlinecolor\":\"#2a3f5f\",\"gridcolor\":\"white\",\"linecolor\":\"white\",\"minorgridcolor\":\"white\",\"startlinecolor\":\"#2a3f5f\"},\"type\":\"carpet\"}],\"choropleth\":[{\"colorbar\":{\"outlinewidth\":0,\"ticks\":\"\"},\"type\":\"choropleth\"}],\"contour\":[{\"colorbar\":{\"outlinewidth\":0,\"ticks\":\"\"},\"colorscale\":[[0.0,\"#0d0887\"],[0.1111111111111111,\"#46039f\"],[0.2222222222222222,\"#7201a8\"],[0.3333333333333333,\"#9c179e\"],[0.4444444444444444,\"#bd3786\"],[0.5555555555555556,\"#d8576b\"],[0.6666666666666666,\"#ed7953\"],[0.7777777777777778,\"#fb9f3a\"],[0.8888888888888888,\"#fdca26\"],[1.0,\"#f0f921\"]],\"type\":\"contour\"}],\"contourcarpet\":[{\"colorbar\":{\"outlinewidth\":0,\"ticks\":\"\"},\"type\":\"contourcarpet\"}],\"heatmap\":[{\"colorbar\":{\"outlinewidth\":0,\"ticks\":\"\"},\"colorscale\":[[0.0,\"#0d0887\"],[0.1111111111111111,\"#46039f\"],[0.2222222222222222,\"#7201a8\"],[0.3333333333333333,\"#9c179e\"],[0.4444444444444444,\"#bd3786\"],[0.5555555555555556,\"#d8576b\"],[0.6666666666666666,\"#ed7953\"],[0.7777777777777778,\"#fb9f3a\"],[0.8888888888888888,\"#fdca26\"],[1.0,\"#f0f921\"]],\"type\":\"heatmap\"}],\"heatmapgl\":[{\"colorbar\":{\"outlinewidth\":0,\"ticks\":\"\"},\"colorscale\":[[0.0,\"#0d0887\"],[0.1111111111111111,\"#46039f\"],[0.2222222222222222,\"#7201a8\"],[0.3333333333333333,\"#9c179e\"],[0.4444444444444444,\"#bd3786\"],[0.5555555555555556,\"#d8576b\"],[0.6666666666666666,\"#ed7953\"],[0.7777777777777778,\"#fb9f3a\"],[0.8888888888888888,\"#fdca26\"],[1.0,\"#f0f921\"]],\"type\":\"heatmapgl\"}],\"histogram\":[{\"marker\":{\"pattern\":{\"fillmode\":\"overlay\",\"size\":10,\"solidity\":0.2}},\"type\":\"histogram\"}],\"histogram2d\":[{\"colorbar\":{\"outlinewidth\":0,\"ticks\":\"\"},\"colorscale\":[[0.0,\"#0d0887\"],[0.1111111111111111,\"#46039f\"],[0.2222222222222222,\"#7201a8\"],[0.3333333333333333,\"#9c179e\"],[0.4444444444444444,\"#bd3786\"],[0.5555555555555556,\"#d8576b\"],[0.6666666666666666,\"#ed7953\"],[0.7777777777777778,\"#fb9f3a\"],[0.8888888888888888,\"#fdca26\"],[1.0,\"#f0f921\"]],\"type\":\"histogram2d\"}],\"histogram2dcontour\":[{\"colorbar\":{\"outlinewidth\":0,\"ticks\":\"\"},\"colorscale\":[[0.0,\"#0d0887\"],[0.1111111111111111,\"#46039f\"],[0.2222222222222222,\"#7201a8\"],[0.3333333333333333,\"#9c179e\"],[0.4444444444444444,\"#bd3786\"],[0.5555555555555556,\"#d8576b\"],[0.6666666666666666,\"#ed7953\"],[0.7777777777777778,\"#fb9f3a\"],[0.8888888888888888,\"#fdca26\"],[1.0,\"#f0f921\"]],\"type\":\"histogram2dcontour\"}],\"mesh3d\":[{\"colorbar\":{\"outlinewidth\":0,\"ticks\":\"\"},\"type\":\"mesh3d\"}],\"parcoords\":[{\"line\":{\"colorbar\":{\"outlinewidth\":0,\"ticks\":\"\"}},\"type\":\"parcoords\"}],\"pie\":[{\"automargin\":true,\"type\":\"pie\"}],\"scatter\":[{\"marker\":{\"colorbar\":{\"outlinewidth\":0,\"ticks\":\"\"}},\"type\":\"scatter\"}],\"scatter3d\":[{\"line\":{\"colorbar\":{\"outlinewidth\":0,\"ticks\":\"\"}},\"marker\":{\"colorbar\":{\"outlinewidth\":0,\"ticks\":\"\"}},\"type\":\"scatter3d\"}],\"scattercarpet\":[{\"marker\":{\"colorbar\":{\"outlinewidth\":0,\"ticks\":\"\"}},\"type\":\"scattercarpet\"}],\"scattergeo\":[{\"marker\":{\"colorbar\":{\"outlinewidth\":0,\"ticks\":\"\"}},\"type\":\"scattergeo\"}],\"scattergl\":[{\"marker\":{\"colorbar\":{\"outlinewidth\":0,\"ticks\":\"\"}},\"type\":\"scattergl\"}],\"scattermapbox\":[{\"marker\":{\"colorbar\":{\"outlinewidth\":0,\"ticks\":\"\"}},\"type\":\"scattermapbox\"}],\"scatterpolar\":[{\"marker\":{\"colorbar\":{\"outlinewidth\":0,\"ticks\":\"\"}},\"type\":\"scatterpolar\"}],\"scatterpolargl\":[{\"marker\":{\"colorbar\":{\"outlinewidth\":0,\"ticks\":\"\"}},\"type\":\"scatterpolargl\"}],\"scatterternary\":[{\"marker\":{\"colorbar\":{\"outlinewidth\":0,\"ticks\":\"\"}},\"type\":\"scatterternary\"}],\"surface\":[{\"colorbar\":{\"outlinewidth\":0,\"ticks\":\"\"},\"colorscale\":[[0.0,\"#0d0887\"],[0.1111111111111111,\"#46039f\"],[0.2222222222222222,\"#7201a8\"],[0.3333333333333333,\"#9c179e\"],[0.4444444444444444,\"#bd3786\"],[0.5555555555555556,\"#d8576b\"],[0.6666666666666666,\"#ed7953\"],[0.7777777777777778,\"#fb9f3a\"],[0.8888888888888888,\"#fdca26\"],[1.0,\"#f0f921\"]],\"type\":\"surface\"}],\"table\":[{\"cells\":{\"fill\":{\"color\":\"#EBF0F8\"},\"line\":{\"color\":\"white\"}},\"header\":{\"fill\":{\"color\":\"#C8D4E3\"},\"line\":{\"color\":\"white\"}},\"type\":\"table\"}]},\"layout\":{\"annotationdefaults\":{\"arrowcolor\":\"#2a3f5f\",\"arrowhead\":0,\"arrowwidth\":1},\"autotypenumbers\":\"strict\",\"coloraxis\":{\"colorbar\":{\"outlinewidth\":0,\"ticks\":\"\"}},\"colorscale\":{\"diverging\":[[0,\"#8e0152\"],[0.1,\"#c51b7d\"],[0.2,\"#de77ae\"],[0.3,\"#f1b6da\"],[0.4,\"#fde0ef\"],[0.5,\"#f7f7f7\"],[0.6,\"#e6f5d0\"],[0.7,\"#b8e186\"],[0.8,\"#7fbc41\"],[0.9,\"#4d9221\"],[1,\"#276419\"]],\"sequential\":[[0.0,\"#0d0887\"],[0.1111111111111111,\"#46039f\"],[0.2222222222222222,\"#7201a8\"],[0.3333333333333333,\"#9c179e\"],[0.4444444444444444,\"#bd3786\"],[0.5555555555555556,\"#d8576b\"],[0.6666666666666666,\"#ed7953\"],[0.7777777777777778,\"#fb9f3a\"],[0.8888888888888888,\"#fdca26\"],[1.0,\"#f0f921\"]],\"sequentialminus\":[[0.0,\"#0d0887\"],[0.1111111111111111,\"#46039f\"],[0.2222222222222222,\"#7201a8\"],[0.3333333333333333,\"#9c179e\"],[0.4444444444444444,\"#bd3786\"],[0.5555555555555556,\"#d8576b\"],[0.6666666666666666,\"#ed7953\"],[0.7777777777777778,\"#fb9f3a\"],[0.8888888888888888,\"#fdca26\"],[1.0,\"#f0f921\"]]},\"colorway\":[\"#636efa\",\"#EF553B\",\"#00cc96\",\"#ab63fa\",\"#FFA15A\",\"#19d3f3\",\"#FF6692\",\"#B6E880\",\"#FF97FF\",\"#FECB52\"],\"font\":{\"color\":\"#2a3f5f\"},\"geo\":{\"bgcolor\":\"white\",\"lakecolor\":\"white\",\"landcolor\":\"#E5ECF6\",\"showlakes\":true,\"showland\":true,\"subunitcolor\":\"white\"},\"hoverlabel\":{\"align\":\"left\"},\"hovermode\":\"closest\",\"mapbox\":{\"style\":\"light\"},\"paper_bgcolor\":\"white\",\"plot_bgcolor\":\"#E5ECF6\",\"polar\":{\"angularaxis\":{\"gridcolor\":\"white\",\"linecolor\":\"white\",\"ticks\":\"\"},\"bgcolor\":\"#E5ECF6\",\"radialaxis\":{\"gridcolor\":\"white\",\"linecolor\":\"white\",\"ticks\":\"\"}},\"scene\":{\"xaxis\":{\"backgroundcolor\":\"#E5ECF6\",\"gridcolor\":\"white\",\"gridwidth\":2,\"linecolor\":\"white\",\"showbackground\":true,\"ticks\":\"\",\"zerolinecolor\":\"white\"},\"yaxis\":{\"backgroundcolor\":\"#E5ECF6\",\"gridcolor\":\"white\",\"gridwidth\":2,\"linecolor\":\"white\",\"showbackground\":true,\"ticks\":\"\",\"zerolinecolor\":\"white\"},\"zaxis\":{\"backgroundcolor\":\"#E5ECF6\",\"gridcolor\":\"white\",\"gridwidth\":2,\"linecolor\":\"white\",\"showbackground\":true,\"ticks\":\"\",\"zerolinecolor\":\"white\"}},\"shapedefaults\":{\"line\":{\"color\":\"#2a3f5f\"}},\"ternary\":{\"aaxis\":{\"gridcolor\":\"white\",\"linecolor\":\"white\",\"ticks\":\"\"},\"baxis\":{\"gridcolor\":\"white\",\"linecolor\":\"white\",\"ticks\":\"\"},\"bgcolor\":\"#E5ECF6\",\"caxis\":{\"gridcolor\":\"white\",\"linecolor\":\"white\",\"ticks\":\"\"}},\"title\":{\"x\":0.05},\"xaxis\":{\"automargin\":true,\"gridcolor\":\"white\",\"linecolor\":\"white\",\"ticks\":\"\",\"title\":{\"standoff\":15},\"zerolinecolor\":\"white\",\"zerolinewidth\":2},\"yaxis\":{\"automargin\":true,\"gridcolor\":\"white\",\"linecolor\":\"white\",\"ticks\":\"\",\"title\":{\"standoff\":15},\"zerolinecolor\":\"white\",\"zerolinewidth\":2}}},\"xaxis\":{\"anchor\":\"y\",\"domain\":[0.0,0.41000000000000003],\"title\":{\"text\":\"Percent of Total\"},\"ticks\":\"outside\"},\"yaxis\":{\"anchor\":\"x\",\"domain\":[0.0,1.0],\"title\":{},\"side\":\"right\"},\"xaxis2\":{\"anchor\":\"y2\",\"domain\":[0.5900000000000001,1.0],\"matches\":\"x\",\"title\":{\"text\":\"Percent of Total\"},\"ticks\":\"outside\"},\"yaxis2\":{\"anchor\":\"x2\",\"domain\":[0.0,1.0],\"matches\":\"y\",\"showticklabels\":false,\"side\":\"right\"},\"annotations\":[{\"showarrow\":false,\"text\":\"Finance and insurance\",\"x\":0.20500000000000002,\"xanchor\":\"center\",\"xref\":\"paper\",\"y\":1.0,\"yanchor\":\"bottom\",\"yref\":\"paper\"},{\"showarrow\":false,\"text\":\"Educational services\",\"x\":0.795,\"xanchor\":\"center\",\"xref\":\"paper\",\"y\":1.0,\"yanchor\":\"bottom\",\"yref\":\"paper\"},{\"align\":\"right\",\"font\":{\"color\":\"grey\",\"size\":10},\"showarrow\":false,\"text\":\"Created by: Jed Dryer | Apr 24, 2022 | Source: US Census - 2019 ABS\",\"x\":0.7,\"xanchor\":\"left\",\"xref\":\"paper\",\"xshift\":-1,\"y\":-0.19,\"yanchor\":\"bottom\",\"yref\":\"paper\",\"yshift\":-3}],\"legend\":{\"title\":{\"text\":\"importance\"},\"tracegroupgap\":0,\"font\":{\"size\":13},\"orientation\":\"h\",\"x\":0,\"y\":1.15},\"margin\":{\"t\":90,\"r\":0,\"l\":0,\"b\":90},\"barmode\":\"relative\",\"height\":600,\"width\":1300,\"title\":{\"text\":\"Reasons for Starting a Company\",\"font\":{\"size\":22},\"y\":0.98,\"x\":0.003},\"uniformtext\":{\"minsize\":13,\"mode\":\"hide\"},\"paper_bgcolor\":\"white\",\"plot_bgcolor\":\"white\",\"dragmode\":false},                        {\"responsive\": true}                    ).then(function(){\n",
       "                            \n",
       "var gd = document.getElementById('4ba44b6c-4ac1-43b4-be3d-fb62e45ea1c6');\n",
       "var x = new MutationObserver(function (mutations, observer) {{\n",
       "        var display = window.getComputedStyle(gd).display;\n",
       "        if (!display || display === 'none') {{\n",
       "            console.log([gd, 'removed!']);\n",
       "            Plotly.purge(gd);\n",
       "            observer.disconnect();\n",
       "        }}\n",
       "}});\n",
       "\n",
       "// Listen for the removal of the full notebook cells\n",
       "var notebookContainer = gd.closest('#notebook-container');\n",
       "if (notebookContainer) {{\n",
       "    x.observe(notebookContainer, {childList: true});\n",
       "}}\n",
       "\n",
       "// Listen for the clearing of the current output cell\n",
       "var outputEl = gd.closest('.output');\n",
       "if (outputEl) {{\n",
       "    x.observe(outputEl, {childList: true});\n",
       "}}\n",
       "\n",
       "                        })                };                });            </script>        </div>"
      ]
     },
     "metadata": {},
     "output_type": "display_data"
    }
   ],
   "source": [
    "def stacked_bar():\n",
    "    fig = px.bar(accom_subset, x = 'Percent of Total', y = 'reason', color = 'importance',\n",
    "                width = 1300, height = 600, orientation = 'h',\n",
    "                hover_data = ['responses','Percent of Total'], text = 'Percent of Total', facet_col = 'industry',\n",
    "                facet_col_spacing=0.18\n",
    "            )\n",
    "    fig.update_layout(title = 'Reasons for Starting a Company')\n",
    "    fig.update_layout(yaxis_title = None)\n",
    "\n",
    "    fig.update_traces(textposition = 'inside', insidetextanchor = 'middle', textfont = {'color': 'white'})\n",
    "    fig.update_yaxes(side = 'right')\n",
    "    fig.update_xaxes(ticks = 'outside')\n",
    "    fig.update_layout(title_y = .98, title_x = 0.003, title_font_size = 22)\n",
    "    fig.update_layout(xaxis_title = \"Percent of Total\", uniformtext_minsize = 13,\n",
    "                     uniformtext_mode = 'hide', paper_bgcolor = 'white', plot_bgcolor = 'white',\n",
    "                     legend = dict(orientation = 'h', x=0,y=1.15, font = dict(size=13)))\n",
    "    fig.update_layout(margin={\"r\":0,\"t\":90,\"l\":0,\"b\": 90}, dragmode = False)\n",
    "\n",
    "    fig.for_each_annotation(lambda a: a.update(text=a.text.split(\"=\")[1]))\n",
    "\n",
    "    fig.add_annotation(\n",
    "            text = (f\"Created by: Jed Dryer | {today} | Source: US Census - 2019 ABS\"),\n",
    "            showarrow=False,\n",
    "            x = .70,\n",
    "            y = -.19,\n",
    "            xref='paper',\n",
    "            yref='paper' ,\n",
    "            xanchor='left',\n",
    "            yanchor='bottom',\n",
    "            xshift=-1,\n",
    "            yshift=-3,\n",
    "            font=dict(size=10, color=\"grey\"),\n",
    "            align=\"right\",\n",
    "            )\n",
    "    fig.show()\n",
    "    #fig.write_html('stacked_reasons.html')"
   ]
  },
  {
   "cell_type": "code",
   "execution_count": null,
   "id": "82ddb24a-c86b-4ad8-9b5c-0963b5c52a86",
   "metadata": {},
   "outputs": [],
   "source": []
  },
  {
   "cell_type": "code",
   "execution_count": null,
   "id": "a6a577b0-d5ba-47cc-993a-c1483705d0ea",
   "metadata": {},
   "outputs": [],
   "source": [
    "grouped_reason['ratio'] = 100 * (grouped_reason['responses'] / grouped_reason.groupby(level = [0,1])['responses'].transform('sum'))\n",
    "grouped_reason['ratio'] = grouped_reason['ratio'].round(2)\n",
    "grouped_reason.reset_index(inplace = True)"
   ]
  },
  {
   "cell_type": "code",
   "execution_count": null,
   "id": "d902123f-3431-4b4c-bde0-fd4dd89fa574",
   "metadata": {},
   "outputs": [],
   "source": [
    "# This analysis is assuming that the same companies that are "
   ]
  },
  {
   "cell_type": "code",
   "execution_count": 35,
   "id": "53758701-c4b5-4036-8886-f99b30b164ad",
   "metadata": {},
   "outputs": [
    {
     "data": {
      "text/plain": [
       "10       53464\n",
       "14         443\n",
       "836      11878\n",
       "1656     81173\n",
       "1660       490\n",
       "         ...  \n",
       "40476       35\n",
       "41101    94489\n",
       "41121      525\n",
       "42371    13603\n",
       "42375       22\n",
       "Name: firmpdemp, Length: 101, dtype: int64"
      ]
     },
     "execution_count": 35,
     "metadata": {},
     "output_type": "execute_result"
    }
   ],
   "source": [
    "robotics['firmpdemp']"
   ]
  },
  {
   "cell_type": "code",
   "execution_count": 212,
   "id": "d265e347-0ef2-4120-9fb1-dfb4359377bf",
   "metadata": {},
   "outputs": [
    {
     "data": {
      "text/html": [
       "<div>\n",
       "<style scoped>\n",
       "    .dataframe tbody tr th:only-of-type {\n",
       "        vertical-align: middle;\n",
       "    }\n",
       "\n",
       "    .dataframe tbody tr th {\n",
       "        vertical-align: top;\n",
       "    }\n",
       "\n",
       "    .dataframe thead th {\n",
       "        text-align: right;\n",
       "    }\n",
       "</style>\n",
       "<table border=\"1\" class=\"dataframe\">\n",
       "  <thead>\n",
       "    <tr style=\"text-align: right;\">\n",
       "      <th></th>\n",
       "      <th>name</th>\n",
       "      <th>emp</th>\n",
       "      <th>firmpdemp</th>\n",
       "      <th>industry</th>\n",
       "      <th>payann</th>\n",
       "      <th>techuse_label</th>\n",
       "      <th>tech</th>\n",
       "      <th>usage</th>\n",
       "      <th>total_companies</th>\n",
       "      <th>average_pay</th>\n",
       "    </tr>\n",
       "  </thead>\n",
       "  <tbody>\n",
       "    <tr>\n",
       "      <th>3380</th>\n",
       "      <td>California</td>\n",
       "      <td>2947626</td>\n",
       "      <td>102413</td>\n",
       "      <td>Total for all sectors</td>\n",
       "      <td>215223062</td>\n",
       "      <td>Specialized Software: High use</td>\n",
       "      <td>Specialized Software</td>\n",
       "      <td>High use</td>\n",
       "      <td>424022</td>\n",
       "      <td>73015.729268</td>\n",
       "    </tr>\n",
       "    <tr>\n",
       "      <th>3372</th>\n",
       "      <td>California</td>\n",
       "      <td>2216353</td>\n",
       "      <td>70133</td>\n",
       "      <td>Total for all sectors</td>\n",
       "      <td>185466118</td>\n",
       "      <td>Cloud-Based: High use</td>\n",
       "      <td>Cloud-Based</td>\n",
       "      <td>High use</td>\n",
       "      <td>420548</td>\n",
       "      <td>83680.766557</td>\n",
       "    </tr>\n",
       "    <tr>\n",
       "      <th>7205</th>\n",
       "      <td>Florida</td>\n",
       "      <td>1754627</td>\n",
       "      <td>66077</td>\n",
       "      <td>Total for all sectors</td>\n",
       "      <td>83596882</td>\n",
       "      <td>Specialized Software: High use</td>\n",
       "      <td>Specialized Software</td>\n",
       "      <td>High use</td>\n",
       "      <td>256408</td>\n",
       "      <td>47643.676975</td>\n",
       "    </tr>\n",
       "    <tr>\n",
       "      <th>35987</th>\n",
       "      <td>Texas</td>\n",
       "      <td>2338287</td>\n",
       "      <td>62392</td>\n",
       "      <td>Total for all sectors</td>\n",
       "      <td>140518775</td>\n",
       "      <td>Specialized Software: High use</td>\n",
       "      <td>Specialized Software</td>\n",
       "      <td>High use</td>\n",
       "      <td>234256</td>\n",
       "      <td>60094.750987</td>\n",
       "    </tr>\n",
       "    <tr>\n",
       "      <th>26225</th>\n",
       "      <td>New York</td>\n",
       "      <td>1243710</td>\n",
       "      <td>45815</td>\n",
       "      <td>Total for all sectors</td>\n",
       "      <td>86164683</td>\n",
       "      <td>Specialized Software: High use</td>\n",
       "      <td>Specialized Software</td>\n",
       "      <td>High use</td>\n",
       "      <td>233572</td>\n",
       "      <td>69280.365198</td>\n",
       "    </tr>\n",
       "  </tbody>\n",
       "</table>\n",
       "</div>"
      ],
      "text/plain": [
       "             name      emp  firmpdemp               industry     payann  \\\n",
       "3380   California  2947626     102413  Total for all sectors  215223062   \n",
       "3372   California  2216353      70133  Total for all sectors  185466118   \n",
       "7205      Florida  1754627      66077  Total for all sectors   83596882   \n",
       "35987       Texas  2338287      62392  Total for all sectors  140518775   \n",
       "26225    New York  1243710      45815  Total for all sectors   86164683   \n",
       "\n",
       "                        techuse_label                  tech      usage  \\\n",
       "3380   Specialized Software: High use  Specialized Software   High use   \n",
       "3372            Cloud-Based: High use           Cloud-Based   High use   \n",
       "7205   Specialized Software: High use  Specialized Software   High use   \n",
       "35987  Specialized Software: High use  Specialized Software   High use   \n",
       "26225  Specialized Software: High use  Specialized Software   High use   \n",
       "\n",
       "       total_companies   average_pay  \n",
       "3380            424022  73015.729268  \n",
       "3372            420548  83680.766557  \n",
       "7205            256408  47643.676975  \n",
       "35987           234256  60094.750987  \n",
       "26225           233572  69280.365198  "
      ]
     },
     "execution_count": 212,
     "metadata": {},
     "output_type": "execute_result"
    }
   ],
   "source": [
    "tech_subset = bus_tech_df[(bus_tech_df['industry_code'] == '00') & (bus_tech_df['gender'] == 'Total') & (bus_tech_df['emp'] != 0)].drop_duplicates()\n",
    "tech_subset = tech_subset[['name','emp','firmpdemp','industry','payann','techuse_label']]\n",
    "tech_subset = tech_subset[(tech_subset['techuse_label'].str.contains('Did not use|High use'))]\n",
    "tech_subset[['tech','usage']] = tech_subset.apply(lambda row: row['techuse_label'].split(\":\"), axis = 1, result_type = 'expand')\n",
    "\n",
    "tech_subset['total_companies'] = tech_subset.groupby(by = ['name','tech'])['firmpdemp'].transform('sum')\n",
    "tech_subset['average_pay'] = 1000 * (tech_subset['payann'] / tech_subset['emp'])\n",
    "tech_subset.sort_values(by = ['usage', 'firmpdemp'], ascending = False, inplace = True)\n",
    "tech_subset.head(5)"
   ]
  },
  {
   "cell_type": "code",
   "execution_count": 403,
   "id": "30f7c540-d894-4179-a6b2-297498c938dc",
   "metadata": {},
   "outputs": [
    {
     "data": {
      "image/png": "[encoded data removed]",
      "text/plain": [
       "<Figure size 1296x360 with 1 Axes>"
      ]
     },
     "metadata": {
      "needs_background": "light"
     },
     "output_type": "display_data"
    }
   ],
   "source": [
    "subset = bus_tech_df[(bus_tech_df['industry'] == 'Total for all sectors')][['name','firmpdemp','techuse_label']]\n",
    "subset\n",
    "\n",
    "\n",
    "subset[['tech','usage']] = subset.apply(lambda row: row['techuse_label'].split(\":\"), axis = 1, result_type = 'expand')\n",
    "subset = subset[(subset['usage'].str.contains('Total R|High'))]\n",
    "subset = subset[(subset['name']) == 'Minnesota'][['firmpdemp','tech','usage']]\n",
    "subset['total_respondents'] = subset.groupby(by = ['tech'])['firmpdemp'].transform('max')\n",
    "subset = subset[(subset['usage'].str.contains('High use'))]\n",
    "subset['rate_of_high_use'] = 100 * (subset['firmpdemp'] / subset['total_respondents'])\n",
    "subset.sort_values(by = 'rate_of_high_use', ascending = False, inplace = True)\n",
    "\n",
    "fig = plt.figure(figsize = (18,5))\n",
    "\n",
    "plt.title('Popular Tech Solutions in Minnesota', fontsize = 20, loc = 'left')\n",
    "ax = sns.barplot(data = subset, x = 'rate_of_high_use', y = 'tech', palette = 'flare',\n",
    "                edgecolor = 'grey')\n",
    "ax.set_ylabel('')\n",
    "ax.set_xlabel('')\n",
    "ax.set_yticklabels(ax.get_yticklabels(), size = 12)\n",
    "ax.tick_params(bottom = False)\n",
    "for c in ax.containers:\n",
    "    labels = []\n",
    "    for v in c:\n",
    "        if (h := v.get_width()) > 14:\n",
    "            lab = f'{(h/100)*100:0.1f}% of reporting companies'\n",
    "        elif (h := v.get_width()) > .8:\n",
    "            lab = f'{(h/100)*100:0.1f}%'\n",
    "        else:\n",
    "            lab = f'{\" \"*16}- {(h/100)*100:0.2f}%'\n",
    "        labels.append(lab)\n",
    "   \n",
    "    ax.bar_label(c,labels=labels,label_type = 'center',fontsize = 18,color= 'black', weight = 'bold')\n",
    "ax.set(xticklabels = [])\n",
    "\n",
    "sns.despine(left = True, bottom = True)\n",
    "fig.savefig('pop_tech.png')"
   ]
  },
  {
   "cell_type": "code",
   "execution_count": null,
   "id": "aa53e8b5-aed9-4daf-82c5-dd2c7b293c23",
   "metadata": {},
   "outputs": [],
   "source": [
    "fig = plt.figure(figsize = (12,5))\n",
    "\n",
    "plt.title('Popular Tech Solutions in Minnesota', fontsize = 20, loc = 'left')\n",
    "ax = sns.barplot(data = subset, x = 'rate_of_high_use', y = 'tech', palette = 'flare')\n",
    "ax.set_ylabel('')\n",
    "ax.set_xlabel('Percentage of Responding Companies using Technology', fontsize = 14)\n",
    "ax.set_yticklabels(ax.get_yticklabels(), size = 12)\n",
    "ax.tick_params(bottom = False)\n",
    "for c in ax.containers:\n",
    "    labels = [\n",
    "        f'{(h/100)*100:0.1f}%' if (\n",
    "            h := v.get_width()) > .8 else \n",
    "        f'{\" \"*16}- {(h/100)*100:0.2f}%' for v in c\n",
    "    ]\n",
    "    \n",
    "    ax.bar_label(c,labels=labels,label_type = 'center',fontsize = 18,color= 'black', weight = 'bold')\n",
    "ax.set(xticklabels = [])\n",
    "\n",
    "sns.despine(left = True, bottom = True)\n",
    "    "
   ]
  },
  {
   "cell_type": "code",
   "execution_count": 437,
   "id": "7ca47e6f-8e6b-4bec-be53-da3d9f41ef27",
   "metadata": {},
   "outputs": [
    {
     "data": {
      "text/html": [
       "<div>\n",
       "<style scoped>\n",
       "    .dataframe tbody tr th:only-of-type {\n",
       "        vertical-align: middle;\n",
       "    }\n",
       "\n",
       "    .dataframe tbody tr th {\n",
       "        vertical-align: top;\n",
       "    }\n",
       "\n",
       "    .dataframe thead th {\n",
       "        text-align: right;\n",
       "    }\n",
       "</style>\n",
       "<table border=\"1\" class=\"dataframe\">\n",
       "  <thead>\n",
       "    <tr style=\"text-align: right;\">\n",
       "      <th></th>\n",
       "      <th>name</th>\n",
       "      <th>firmpdemp</th>\n",
       "      <th>tech</th>\n",
       "      <th>usage</th>\n",
       "      <th>total_respondents</th>\n",
       "      <th>rate_of_high_use</th>\n",
       "    </tr>\n",
       "  </thead>\n",
       "  <tbody>\n",
       "    <tr>\n",
       "      <th>6</th>\n",
       "      <td>Alabama</td>\n",
       "      <td>10974</td>\n",
       "      <td>Specialized Software</td>\n",
       "      <td>High use</td>\n",
       "      <td>597544</td>\n",
       "      <td>1.836517</td>\n",
       "    </tr>\n",
       "    <tr>\n",
       "      <th>14</th>\n",
       "      <td>Alabama</td>\n",
       "      <td>443</td>\n",
       "      <td>Robotics</td>\n",
       "      <td>High use</td>\n",
       "      <td>601361</td>\n",
       "      <td>0.073666</td>\n",
       "    </tr>\n",
       "    <tr>\n",
       "      <th>24</th>\n",
       "      <td>Alabama</td>\n",
       "      <td>356</td>\n",
       "      <td>Artificial Intelligence</td>\n",
       "      <td>High use</td>\n",
       "      <td>597511</td>\n",
       "      <td>0.059580</td>\n",
       "    </tr>\n",
       "    <tr>\n",
       "      <th>32</th>\n",
       "      <td>Alabama</td>\n",
       "      <td>5505</td>\n",
       "      <td>Cloud-Based</td>\n",
       "      <td>High use</td>\n",
       "      <td>601214</td>\n",
       "      <td>0.915647</td>\n",
       "    </tr>\n",
       "    <tr>\n",
       "      <th>116</th>\n",
       "      <td>Alabama</td>\n",
       "      <td>3534</td>\n",
       "      <td>Specialized Equipment</td>\n",
       "      <td>High use</td>\n",
       "      <td>601391</td>\n",
       "      <td>0.587638</td>\n",
       "    </tr>\n",
       "    <tr>\n",
       "      <th>...</th>\n",
       "      <td>...</td>\n",
       "      <td>...</td>\n",
       "      <td>...</td>\n",
       "      <td>...</td>\n",
       "      <td>...</td>\n",
       "      <td>...</td>\n",
       "    </tr>\n",
       "    <tr>\n",
       "      <th>41991</th>\n",
       "      <td>Wyoming</td>\n",
       "      <td>0</td>\n",
       "      <td>Artificial Intelligence</td>\n",
       "      <td>High use</td>\n",
       "      <td>597511</td>\n",
       "      <td>0.000000</td>\n",
       "    </tr>\n",
       "    <tr>\n",
       "      <th>42032</th>\n",
       "      <td>Wyoming</td>\n",
       "      <td>885</td>\n",
       "      <td>Specialized Equipment</td>\n",
       "      <td>High use</td>\n",
       "      <td>601391</td>\n",
       "      <td>0.147159</td>\n",
       "    </tr>\n",
       "    <tr>\n",
       "      <th>42359</th>\n",
       "      <td>Wyoming</td>\n",
       "      <td>1152</td>\n",
       "      <td>Cloud-Based</td>\n",
       "      <td>High use</td>\n",
       "      <td>601214</td>\n",
       "      <td>0.191612</td>\n",
       "    </tr>\n",
       "    <tr>\n",
       "      <th>42367</th>\n",
       "      <td>Wyoming</td>\n",
       "      <td>1959</td>\n",
       "      <td>Specialized Software</td>\n",
       "      <td>High use</td>\n",
       "      <td>597544</td>\n",
       "      <td>0.327842</td>\n",
       "    </tr>\n",
       "    <tr>\n",
       "      <th>42375</th>\n",
       "      <td>Wyoming</td>\n",
       "      <td>22</td>\n",
       "      <td>Robotics</td>\n",
       "      <td>High use</td>\n",
       "      <td>601361</td>\n",
       "      <td>0.003658</td>\n",
       "    </tr>\n",
       "  </tbody>\n",
       "</table>\n",
       "<p>255 rows × 6 columns</p>\n",
       "</div>"
      ],
      "text/plain": [
       "          name  firmpdemp                     tech      usage  \\\n",
       "6      Alabama      10974     Specialized Software   High use   \n",
       "14     Alabama        443                 Robotics   High use   \n",
       "24     Alabama        356  Artificial Intelligence   High use   \n",
       "32     Alabama       5505              Cloud-Based   High use   \n",
       "116    Alabama       3534    Specialized Equipment   High use   \n",
       "...        ...        ...                      ...        ...   \n",
       "41991  Wyoming          0  Artificial Intelligence   High use   \n",
       "42032  Wyoming        885    Specialized Equipment   High use   \n",
       "42359  Wyoming       1152              Cloud-Based   High use   \n",
       "42367  Wyoming       1959     Specialized Software   High use   \n",
       "42375  Wyoming         22                 Robotics   High use   \n",
       "\n",
       "       total_respondents  rate_of_high_use  \n",
       "6                 597544          1.836517  \n",
       "14                601361          0.073666  \n",
       "24                597511          0.059580  \n",
       "32                601214          0.915647  \n",
       "116               601391          0.587638  \n",
       "...                  ...               ...  \n",
       "41991             597511          0.000000  \n",
       "42032             601391          0.147159  \n",
       "42359             601214          0.191612  \n",
       "42367             597544          0.327842  \n",
       "42375             601361          0.003658  \n",
       "\n",
       "[255 rows x 6 columns]"
      ]
     },
     "execution_count": 437,
     "metadata": {},
     "output_type": "execute_result"
    }
   ],
   "source": [
    "subset = bus_tech_df[(bus_tech_df['industry'] == 'Total for all sectors')][['name','firmpdemp','techuse_label']]\n",
    "subset\n",
    "\n",
    "\n",
    "subset[['tech','usage']] = subset.apply(lambda row: row['techuse_label'].split(\":\"), axis = 1, result_type = 'expand')\n",
    "subset = subset[(subset['usage'].str.contains('Total R|High'))]\n",
    "subset = subset[['name','firmpdemp','tech','usage']]\n",
    "subset['total_respondents'] = subset.groupby(by = ['tech'])['firmpdemp'].transform('max')\n",
    "subset = subset[(subset['usage'].str.contains('High use'))]\n",
    "subset['rate_of_high_use'] = 100 * (subset['firmpdemp'] / subset['total_respondents'])\n",
    "subset"
   ]
  },
  {
   "cell_type": "code",
   "execution_count": 468,
   "id": "1492eb19-f7ce-463a-bb63-7ee4384472d0",
   "metadata": {},
   "outputs": [
    {
     "name": "stderr",
     "output_type": "stream",
     "text": [
      "C:\\Users\\Work\\AppData\\Local\\Temp/ipykernel_31996/89289350.py:56: SettingWithCopyWarning:\n",
      "\n",
      "\n",
      "A value is trying to be set on a copy of a slice from a DataFrame.\n",
      "Try using .loc[row_indexer,col_indexer] = value instead\n",
      "\n",
      "See the caveats in the documentation: https://pandas.pydata.org/pandas-docs/stable/user_guide/indexing.html#returning-a-view-versus-a-copy\n",
      "\n"
     ]
    },
    {
     "data": {
      "application/vnd.plotly.v1+json": {
       "config": {
        "plotlyServerURL": "https://plot.ly"
       },
       "data": [
        {
         "alignmentgroup": "True",
         "customdata": [
          [
           393835
          ],
          [
           379524
          ],
          [
           353279
          ],
          [
           343219
          ],
          [
           309141
          ],
          [
           255919
          ],
          [
           193267
          ],
          [
           178341
          ],
          [
           154036
          ],
          [
           102342
          ],
          [
           47727
          ],
          [
           32011
          ]
         ],
         "hovertemplate": "importance= Very important<br>industry=Finance and insurance<br>Percent of Total=%{text}<br>reason=%{y}<br>responses=%{customdata[0]}<extra></extra>",
         "insidetextanchor": "middle",
         "legendgroup": " Very important",
         "marker": {
          "color": "#636efa",
          "pattern": {
           "shape": ""
          }
         },
         "name": " Very important",
         "offsetgroup": " Very important",
         "orientation": "h",
         "showlegend": true,
         "text": [
          73.28,
          69.91,
          65.3,
          63.31,
          57.05,
          47.78,
          35.7,
          32.94,
          28.66,
          18.95,
          9.15,
          5.97
         ],
         "textfont": {
          "color": "white"
         },
         "textposition": "inside",
         "type": "bar",
         "x": [
          73.28,
          69.91,
          65.3,
          63.31,
          57.05,
          47.78,
          35.7,
          32.94,
          28.66,
          18.95,
          9.15,
          5.97
         ],
         "xaxis": "x",
         "y": [
          "      Greater income      ",
          " Wanted to be my own boss ",
          " Balance work and family ",
          "      Flexible hours      ",
          "  Best avenue for ideas  ",
          "  Start my own business  ",
          "      Work for self      ",
          "Friend or family role model",
          "    Help my community    ",
          " Carry on family business ",
          "           Other          ",
          "   Couldn't find a job   "
         ],
         "yaxis": "y"
        },
        {
         "alignmentgroup": "True",
         "customdata": [
          [
           87416
          ],
          [
           81306
          ],
          [
           78264
          ],
          [
           78062
          ],
          [
           74791
          ],
          [
           57594
          ],
          [
           54014
          ],
          [
           40333
          ],
          [
           35325
          ],
          [
           19221
          ],
          [
           16192
          ],
          [
           7453
          ]
         ],
         "hovertemplate": "importance= Very important<br>industry=Educational services<br>Percent of Total=%{text}<br>reason=%{y}<br>responses=%{customdata[0]}<extra></extra>",
         "insidetextanchor": "middle",
         "legendgroup": " Very important",
         "marker": {
          "color": "#636efa",
          "pattern": {
           "shape": ""
          }
         },
         "name": " Very important",
         "offsetgroup": " Very important",
         "orientation": "h",
         "showlegend": false,
         "text": [
          64.07,
          59.46,
          57.16,
          57.08,
          54.9,
          42.3,
          39.64,
          29.59,
          25.89,
          14.37,
          11.87,
          5.47
         ],
         "textfont": {
          "color": "white"
         },
         "textposition": "inside",
         "type": "bar",
         "x": [
          64.07,
          59.46,
          57.16,
          57.08,
          54.9,
          42.3,
          39.64,
          29.59,
          25.89,
          14.37,
          11.87,
          5.47
         ],
         "xaxis": "x2",
         "y": [
          "  Best avenue for ideas  ",
          " Wanted to be my own boss ",
          " Balance work and family ",
          "      Flexible hours      ",
          "      Greater income      ",
          "  Start my own business  ",
          "    Help my community    ",
          "      Work for self      ",
          "Friend or family role model",
          "           Other          ",
          " Carry on family business ",
          "   Couldn't find a job   "
         ],
         "yaxis": "y2"
        },
        {
         "alignmentgroup": "True",
         "customdata": [
          [
           204618
          ],
          [
           197656
          ],
          [
           161993
          ],
          [
           158487
          ],
          [
           142380
          ],
          [
           127503
          ],
          [
           127010
          ],
          [
           105639
          ],
          [
           99891
          ],
          [
           68566
          ],
          [
           60180
          ],
          [
           38953
          ]
         ],
         "hovertemplate": "importance= Somewhat important<br>industry=Finance and insurance<br>Percent of Total=%{text}<br>reason=%{y}<br>responses=%{customdata[0]}<extra></extra>",
         "insidetextanchor": "middle",
         "legendgroup": " Somewhat important",
         "marker": {
          "color": "#EF553B",
          "pattern": {
           "shape": ""
          }
         },
         "name": " Somewhat important",
         "offsetgroup": " Somewhat important",
         "orientation": "h",
         "showlegend": true,
         "text": [
          37.8,
          36.78,
          30.24,
          29.25,
          26.3,
          23.57,
          23.43,
          19.46,
          18.59,
          12.7,
          11.23,
          7.46
         ],
         "textfont": {
          "color": "white"
         },
         "textposition": "inside",
         "type": "bar",
         "x": [
          37.8,
          36.78,
          30.24,
          29.25,
          26.3,
          23.57,
          23.43,
          19.46,
          18.59,
          12.7,
          11.23,
          7.46
         ],
         "xaxis": "x",
         "y": [
          "      Work for self      ",
          "    Help my community    ",
          "  Start my own business  ",
          "  Best avenue for ideas  ",
          "Friend or family role model",
          " Balance work and family ",
          "      Flexible hours      ",
          " Wanted to be my own boss ",
          "      Greater income      ",
          " Carry on family business ",
          "   Couldn't find a job   ",
          "           Other          "
         ],
         "yaxis": "y"
        },
        {
         "alignmentgroup": "True",
         "customdata": [
          [
           47782
          ],
          [
           43912
          ],
          [
           41892
          ],
          [
           40956
          ],
          [
           38121
          ],
          [
           36960
          ],
          [
           35697
          ],
          [
           35478
          ],
          [
           30107
          ],
          [
           14915
          ],
          [
           13057
          ],
          [
           7670
          ]
         ],
         "hovertemplate": "importance= Somewhat important<br>industry=Educational services<br>Percent of Total=%{text}<br>reason=%{y}<br>responses=%{customdata[0]}<extra></extra>",
         "insidetextanchor": "middle",
         "legendgroup": " Somewhat important",
         "marker": {
          "color": "#EF553B",
          "pattern": {
           "shape": ""
          }
         },
         "name": " Somewhat important",
         "offsetgroup": " Somewhat important",
         "orientation": "h",
         "showlegend": false,
         "text": [
          35.05,
          32.25,
          30.74,
          30.06,
          27.84,
          27.09,
          26.1,
          25.95,
          22.06,
          10.95,
          9.57,
          5.74
         ],
         "textfont": {
          "color": "white"
         },
         "textposition": "inside",
         "type": "bar",
         "x": [
          35.05,
          32.25,
          30.74,
          30.06,
          27.84,
          27.09,
          26.1,
          25.95,
          22.06,
          10.95,
          9.57,
          5.74
         ],
         "xaxis": "x2",
         "y": [
          "      Work for self      ",
          "  Start my own business  ",
          "    Help my community    ",
          "      Greater income      ",
          " Balance work and family ",
          "Friend or family role model",
          "      Flexible hours      ",
          " Wanted to be my own boss ",
          "  Best avenue for ideas  ",
          "   Couldn't find a job   ",
          " Carry on family business ",
          "           Other          "
         ],
         "yaxis": "y2"
        },
        {
         "alignmentgroup": "True",
         "customdata": [
          [
           435167
          ],
          [
           443838
          ],
          [
           369140
          ],
          [
           220683
          ],
          [
           185687
          ],
          [
           143483
          ],
          [
           117725
          ],
          [
           74221
          ],
          [
           71858
          ],
          [
           60218
          ],
          [
           57743
          ],
          [
           43704
          ]
         ],
         "hovertemplate": "importance= Not important<br>industry=Finance and insurance<br>Percent of Total=%{text}<br>reason=%{y}<br>responses=%{customdata[0]}<extra></extra>",
         "insidetextanchor": "middle",
         "legendgroup": " Not important",
         "marker": {
          "color": "#00cc96",
          "pattern": {
           "shape": ""
          }
         },
         "name": " Not important",
         "offsetgroup": " Not important",
         "orientation": "h",
         "showlegend": true,
         "text": [
          83.39,
          82.8,
          68.35,
          40.76,
          34.55,
          26.5,
          21.98,
          13.7,
          13.26,
          11.13,
          10.64,
          8.13
         ],
         "textfont": {
          "color": "white"
         },
         "textposition": "inside",
         "type": "bar",
         "x": [
          83.39,
          82.8,
          68.35,
          40.76,
          34.55,
          26.5,
          21.98,
          13.7,
          13.26,
          11.13,
          10.64,
          8.13
         ],
         "xaxis": "x",
         "y": [
          "           Other          ",
          "   Couldn't find a job   ",
          " Carry on family business ",
          "Friend or family role model",
          "    Help my community    ",
          "      Work for self      ",
          "  Start my own business  ",
          "  Best avenue for ideas  ",
          "      Flexible hours      ",
          " Balance work and family ",
          " Wanted to be my own boss ",
          "      Greater income      "
         ],
         "yaxis": "y"
        },
        {
         "alignmentgroup": "True",
         "customdata": [
          [
           113863
          ],
          [
           106822
          ],
          [
           107190
          ],
          [
           64164
          ],
          [
           48201
          ],
          [
           40354
          ],
          [
           34645
          ],
          [
           23010
          ],
          [
           20481
          ],
          [
           20526
          ],
          [
           19953
          ],
          [
           18924
          ]
         ],
         "hovertemplate": "importance= Not important<br>industry=Educational services<br>Percent of Total=%{text}<br>reason=%{y}<br>responses=%{customdata[0]}<extra></extra>",
         "insidetextanchor": "middle",
         "legendgroup": " Not important",
         "marker": {
          "color": "#00cc96",
          "pattern": {
           "shape": ""
          }
         },
         "name": " Not important",
         "offsetgroup": " Not important",
         "orientation": "h",
         "showlegend": false,
         "text": [
          83.58,
          79.89,
          78.56,
          47.02,
          35.36,
          29.62,
          25.45,
          16.82,
          15.03,
          14.99,
          14.59,
          13.87
         ],
         "textfont": {
          "color": "white"
         },
         "textposition": "inside",
         "type": "bar",
         "x": [
          83.58,
          79.89,
          78.56,
          47.02,
          35.36,
          29.62,
          25.45,
          16.82,
          15.03,
          14.99,
          14.59,
          13.87
         ],
         "xaxis": "x2",
         "y": [
          "   Couldn't find a job   ",
          "           Other          ",
          " Carry on family business ",
          "Friend or family role model",
          "      Work for self      ",
          "    Help my community    ",
          "  Start my own business  ",
          "      Flexible hours      ",
          "      Greater income      ",
          " Balance work and family ",
          " Wanted to be my own boss ",
          "  Best avenue for ideas  "
         ],
         "yaxis": "y2"
        }
       ],
       "layout": {
        "annotations": [
         {
          "showarrow": false,
          "text": "Finance and insurance",
          "x": 0.215,
          "xanchor": "center",
          "xref": "paper",
          "y": 1,
          "yanchor": "bottom",
          "yref": "paper"
         },
         {
          "showarrow": false,
          "text": "Educational services",
          "x": 0.785,
          "xanchor": "center",
          "xref": "paper",
          "y": 1,
          "yanchor": "bottom",
          "yref": "paper"
         },
         {
          "align": "right",
          "font": {
           "color": "grey",
           "size": 10
          },
          "showarrow": false,
          "text": "Created by: Jed Dryer | Apr 24, 2022 | Source: US Census - 2019 ABS",
          "x": 0.7,
          "xanchor": "left",
          "xref": "paper",
          "xshift": -1,
          "y": -0.19,
          "yanchor": "bottom",
          "yref": "paper",
          "yshift": -3
         }
        ],
        "barmode": "relative",
        "dragmode": false,
        "height": 600,
        "legend": {
         "font": {
          "size": 13
         },
         "orientation": "h",
         "title": {
          "text": "importance"
         },
         "tracegroupgap": 0,
         "x": 0,
         "y": 1.15
        },
        "margin": {
         "b": 90,
         "l": 0,
         "r": 0,
         "t": 90
        },
        "paper_bgcolor": "white",
        "plot_bgcolor": "white",
        "template": {
         "data": {
          "bar": [
           {
            "error_x": {
             "color": "#2a3f5f"
            },
            "error_y": {
             "color": "#2a3f5f"
            },
            "marker": {
             "line": {
              "color": "#E5ECF6",
              "width": 0.5
             },
             "pattern": {
              "fillmode": "overlay",
              "size": 10,
              "solidity": 0.2
             }
            },
            "type": "bar"
           }
          ],
          "barpolar": [
           {
            "marker": {
             "line": {
              "color": "#E5ECF6",
              "width": 0.5
             },
             "pattern": {
              "fillmode": "overlay",
              "size": 10,
              "solidity": 0.2
             }
            },
            "type": "barpolar"
           }
          ],
          "carpet": [
           {
            "aaxis": {
             "endlinecolor": "#2a3f5f",
             "gridcolor": "white",
             "linecolor": "white",
             "minorgridcolor": "white",
             "startlinecolor": "#2a3f5f"
            },
            "baxis": {
             "endlinecolor": "#2a3f5f",
             "gridcolor": "white",
             "linecolor": "white",
             "minorgridcolor": "white",
             "startlinecolor": "#2a3f5f"
            },
            "type": "carpet"
           }
          ],
          "choropleth": [
           {
            "colorbar": {
             "outlinewidth": 0,
             "ticks": ""
            },
            "type": "choropleth"
           }
          ],
          "contour": [
           {
            "colorbar": {
             "outlinewidth": 0,
             "ticks": ""
            },
            "colorscale": [
             [
              0,
              "#0d0887"
             ],
             [
              0.1111111111111111,
              "#46039f"
             ],
             [
              0.2222222222222222,
              "#7201a8"
             ],
             [
              0.3333333333333333,
              "#9c179e"
             ],
             [
              0.4444444444444444,
              "#bd3786"
             ],
             [
              0.5555555555555556,
              "#d8576b"
             ],
             [
              0.6666666666666666,
              "#ed7953"
             ],
             [
              0.7777777777777778,
              "#fb9f3a"
             ],
             [
              0.8888888888888888,
              "#fdca26"
             ],
             [
              1,
              "#f0f921"
             ]
            ],
            "type": "contour"
           }
          ],
          "contourcarpet": [
           {
            "colorbar": {
             "outlinewidth": 0,
             "ticks": ""
            },
            "type": "contourcarpet"
           }
          ],
          "heatmap": [
           {
            "colorbar": {
             "outlinewidth": 0,
             "ticks": ""
            },
            "colorscale": [
             [
              0,
              "#0d0887"
             ],
             [
              0.1111111111111111,
              "#46039f"
             ],
             [
              0.2222222222222222,
              "#7201a8"
             ],
             [
              0.3333333333333333,
              "#9c179e"
             ],
             [
              0.4444444444444444,
              "#bd3786"
             ],
             [
              0.5555555555555556,
              "#d8576b"
             ],
             [
              0.6666666666666666,
              "#ed7953"
             ],
             [
              0.7777777777777778,
              "#fb9f3a"
             ],
             [
              0.8888888888888888,
              "#fdca26"
             ],
             [
              1,
              "#f0f921"
             ]
            ],
            "type": "heatmap"
           }
          ],
          "heatmapgl": [
           {
            "colorbar": {
             "outlinewidth": 0,
             "ticks": ""
            },
            "colorscale": [
             [
              0,
              "#0d0887"
             ],
             [
              0.1111111111111111,
              "#46039f"
             ],
             [
              0.2222222222222222,
              "#7201a8"
             ],
             [
              0.3333333333333333,
              "#9c179e"
             ],
             [
              0.4444444444444444,
              "#bd3786"
             ],
             [
              0.5555555555555556,
              "#d8576b"
             ],
             [
              0.6666666666666666,
              "#ed7953"
             ],
             [
              0.7777777777777778,
              "#fb9f3a"
             ],
             [
              0.8888888888888888,
              "#fdca26"
             ],
             [
              1,
              "#f0f921"
             ]
            ],
            "type": "heatmapgl"
           }
          ],
          "histogram": [
           {
            "marker": {
             "pattern": {
              "fillmode": "overlay",
              "size": 10,
              "solidity": 0.2
             }
            },
            "type": "histogram"
           }
          ],
          "histogram2d": [
           {
            "colorbar": {
             "outlinewidth": 0,
             "ticks": ""
            },
            "colorscale": [
             [
              0,
              "#0d0887"
             ],
             [
              0.1111111111111111,
              "#46039f"
             ],
             [
              0.2222222222222222,
              "#7201a8"
             ],
             [
              0.3333333333333333,
              "#9c179e"
             ],
             [
              0.4444444444444444,
              "#bd3786"
             ],
             [
              0.5555555555555556,
              "#d8576b"
             ],
             [
              0.6666666666666666,
              "#ed7953"
             ],
             [
              0.7777777777777778,
              "#fb9f3a"
             ],
             [
              0.8888888888888888,
              "#fdca26"
             ],
             [
              1,
              "#f0f921"
             ]
            ],
            "type": "histogram2d"
           }
          ],
          "histogram2dcontour": [
           {
            "colorbar": {
             "outlinewidth": 0,
             "ticks": ""
            },
            "colorscale": [
             [
              0,
              "#0d0887"
             ],
             [
              0.1111111111111111,
              "#46039f"
             ],
             [
              0.2222222222222222,
              "#7201a8"
             ],
             [
              0.3333333333333333,
              "#9c179e"
             ],
             [
              0.4444444444444444,
              "#bd3786"
             ],
             [
              0.5555555555555556,
              "#d8576b"
             ],
             [
              0.6666666666666666,
              "#ed7953"
             ],
             [
              0.7777777777777778,
              "#fb9f3a"
             ],
             [
              0.8888888888888888,
              "#fdca26"
             ],
             [
              1,
              "#f0f921"
             ]
            ],
            "type": "histogram2dcontour"
           }
          ],
          "mesh3d": [
           {
            "colorbar": {
             "outlinewidth": 0,
             "ticks": ""
            },
            "type": "mesh3d"
           }
          ],
          "parcoords": [
           {
            "line": {
             "colorbar": {
              "outlinewidth": 0,
              "ticks": ""
             }
            },
            "type": "parcoords"
           }
          ],
          "pie": [
           {
            "automargin": true,
            "type": "pie"
           }
          ],
          "scatter": [
           {
            "marker": {
             "colorbar": {
              "outlinewidth": 0,
              "ticks": ""
             }
            },
            "type": "scatter"
           }
          ],
          "scatter3d": [
           {
            "line": {
             "colorbar": {
              "outlinewidth": 0,
              "ticks": ""
             }
            },
            "marker": {
             "colorbar": {
              "outlinewidth": 0,
              "ticks": ""
             }
            },
            "type": "scatter3d"
           }
          ],
          "scattercarpet": [
           {
            "marker": {
             "colorbar": {
              "outlinewidth": 0,
              "ticks": ""
             }
            },
            "type": "scattercarpet"
           }
          ],
          "scattergeo": [
           {
            "marker": {
             "colorbar": {
              "outlinewidth": 0,
              "ticks": ""
             }
            },
            "type": "scattergeo"
           }
          ],
          "scattergl": [
           {
            "marker": {
             "colorbar": {
              "outlinewidth": 0,
              "ticks": ""
             }
            },
            "type": "scattergl"
           }
          ],
          "scattermapbox": [
           {
            "marker": {
             "colorbar": {
              "outlinewidth": 0,
              "ticks": ""
             }
            },
            "type": "scattermapbox"
           }
          ],
          "scatterpolar": [
           {
            "marker": {
             "colorbar": {
              "outlinewidth": 0,
              "ticks": ""
             }
            },
            "type": "scatterpolar"
           }
          ],
          "scatterpolargl": [
           {
            "marker": {
             "colorbar": {
              "outlinewidth": 0,
              "ticks": ""
             }
            },
            "type": "scatterpolargl"
           }
          ],
          "scatterternary": [
           {
            "marker": {
             "colorbar": {
              "outlinewidth": 0,
              "ticks": ""
             }
            },
            "type": "scatterternary"
           }
          ],
          "surface": [
           {
            "colorbar": {
             "outlinewidth": 0,
             "ticks": ""
            },
            "colorscale": [
             [
              0,
              "#0d0887"
             ],
             [
              0.1111111111111111,
              "#46039f"
             ],
             [
              0.2222222222222222,
              "#7201a8"
             ],
             [
              0.3333333333333333,
              "#9c179e"
             ],
             [
              0.4444444444444444,
              "#bd3786"
             ],
             [
              0.5555555555555556,
              "#d8576b"
             ],
             [
              0.6666666666666666,
              "#ed7953"
             ],
             [
              0.7777777777777778,
              "#fb9f3a"
             ],
             [
              0.8888888888888888,
              "#fdca26"
             ],
             [
              1,
              "#f0f921"
             ]
            ],
            "type": "surface"
           }
          ],
          "table": [
           {
            "cells": {
             "fill": {
              "color": "#EBF0F8"
             },
             "line": {
              "color": "white"
             }
            },
            "header": {
             "fill": {
              "color": "#C8D4E3"
             },
             "line": {
              "color": "white"
             }
            },
            "type": "table"
           }
          ]
         },
         "layout": {
          "annotationdefaults": {
           "arrowcolor": "#2a3f5f",
           "arrowhead": 0,
           "arrowwidth": 1
          },
          "autotypenumbers": "strict",
          "coloraxis": {
           "colorbar": {
            "outlinewidth": 0,
            "ticks": ""
           }
          },
          "colorscale": {
           "diverging": [
            [
             0,
             "#8e0152"
            ],
            [
             0.1,
             "#c51b7d"
            ],
            [
             0.2,
             "#de77ae"
            ],
            [
             0.3,
             "#f1b6da"
            ],
            [
             0.4,
             "#fde0ef"
            ],
            [
             0.5,
             "#f7f7f7"
            ],
            [
             0.6,
             "#e6f5d0"
            ],
            [
             0.7,
             "#b8e186"
            ],
            [
             0.8,
             "#7fbc41"
            ],
            [
             0.9,
             "#4d9221"
            ],
            [
             1,
             "#276419"
            ]
           ],
           "sequential": [
            [
             0,
             "#0d0887"
            ],
            [
             0.1111111111111111,
             "#46039f"
            ],
            [
             0.2222222222222222,
             "#7201a8"
            ],
            [
             0.3333333333333333,
             "#9c179e"
            ],
            [
             0.4444444444444444,
             "#bd3786"
            ],
            [
             0.5555555555555556,
             "#d8576b"
            ],
            [
             0.6666666666666666,
             "#ed7953"
            ],
            [
             0.7777777777777778,
             "#fb9f3a"
            ],
            [
             0.8888888888888888,
             "#fdca26"
            ],
            [
             1,
             "#f0f921"
            ]
           ],
           "sequentialminus": [
            [
             0,
             "#0d0887"
            ],
            [
             0.1111111111111111,
             "#46039f"
            ],
            [
             0.2222222222222222,
             "#7201a8"
            ],
            [
             0.3333333333333333,
             "#9c179e"
            ],
            [
             0.4444444444444444,
             "#bd3786"
            ],
            [
             0.5555555555555556,
             "#d8576b"
            ],
            [
             0.6666666666666666,
             "#ed7953"
            ],
            [
             0.7777777777777778,
             "#fb9f3a"
            ],
            [
             0.8888888888888888,
             "#fdca26"
            ],
            [
             1,
             "#f0f921"
            ]
           ]
          },
          "colorway": [
           "#636efa",
           "#EF553B",
           "#00cc96",
           "#ab63fa",
           "#FFA15A",
           "#19d3f3",
           "#FF6692",
           "#B6E880",
           "#FF97FF",
           "#FECB52"
          ],
          "font": {
           "color": "#2a3f5f"
          },
          "geo": {
           "bgcolor": "white",
           "lakecolor": "white",
           "landcolor": "#E5ECF6",
           "showlakes": true,
           "showland": true,
           "subunitcolor": "white"
          },
          "hoverlabel": {
           "align": "left"
          },
          "hovermode": "closest",
          "mapbox": {
           "style": "light"
          },
          "paper_bgcolor": "white",
          "plot_bgcolor": "#E5ECF6",
          "polar": {
           "angularaxis": {
            "gridcolor": "white",
            "linecolor": "white",
            "ticks": ""
           },
           "bgcolor": "#E5ECF6",
           "radialaxis": {
            "gridcolor": "white",
            "linecolor": "white",
            "ticks": ""
           }
          },
          "scene": {
           "xaxis": {
            "backgroundcolor": "#E5ECF6",
            "gridcolor": "white",
            "gridwidth": 2,
            "linecolor": "white",
            "showbackground": true,
            "ticks": "",
            "zerolinecolor": "white"
           },
           "yaxis": {
            "backgroundcolor": "#E5ECF6",
            "gridcolor": "white",
            "gridwidth": 2,
            "linecolor": "white",
            "showbackground": true,
            "ticks": "",
            "zerolinecolor": "white"
           },
           "zaxis": {
            "backgroundcolor": "#E5ECF6",
            "gridcolor": "white",
            "gridwidth": 2,
            "linecolor": "white",
            "showbackground": true,
            "ticks": "",
            "zerolinecolor": "white"
           }
          },
          "shapedefaults": {
           "line": {
            "color": "#2a3f5f"
           }
          },
          "ternary": {
           "aaxis": {
            "gridcolor": "white",
            "linecolor": "white",
            "ticks": ""
           },
           "baxis": {
            "gridcolor": "white",
            "linecolor": "white",
            "ticks": ""
           },
           "bgcolor": "#E5ECF6",
           "caxis": {
            "gridcolor": "white",
            "linecolor": "white",
            "ticks": ""
           }
          },
          "title": {
           "x": 0.05
          },
          "xaxis": {
           "automargin": true,
           "gridcolor": "white",
           "linecolor": "white",
           "ticks": "",
           "title": {
            "standoff": 15
           },
           "zerolinecolor": "white",
           "zerolinewidth": 2
          },
          "yaxis": {
           "automargin": true,
           "gridcolor": "white",
           "linecolor": "white",
           "ticks": "",
           "title": {
            "standoff": 15
           },
           "zerolinecolor": "white",
           "zerolinewidth": 2
          }
         }
        },
        "title": {
         "font": {
          "size": 22
         },
         "text": "Reasons for Starting a Company",
         "x": 0.003,
         "y": 0.98
        },
        "uniformtext": {
         "minsize": 13,
         "mode": "hide"
        },
        "width": 1300,
        "xaxis": {
         "anchor": "y",
         "autorange": true,
         "domain": [
          0,
          0.43
         ],
         "range": [
          0,
          105.27368421052633
         ],
         "ticks": "outside",
         "title": {
          "text": "Percent of Total"
         },
         "type": "linear"
        },
        "xaxis2": {
         "anchor": "y2",
         "autorange": true,
         "domain": [
          0.5700000000000001,
          1
         ],
         "matches": "x",
         "range": [
          0,
          105.27368421052633
         ],
         "ticks": "outside",
         "title": {
          "text": "Percent of Total"
         },
         "type": "linear"
        },
        "yaxis": {
         "anchor": "x",
         "autorange": true,
         "domain": [
          0,
          1
         ],
         "range": [
          -0.5,
          11.5
         ],
         "side": "right",
         "title": {},
         "type": "category"
        },
        "yaxis2": {
         "anchor": "x2",
         "autorange": true,
         "domain": [
          0,
          1
         ],
         "matches": "y",
         "range": [
          -0.5,
          11.5
         ],
         "showticklabels": false,
         "side": "right",
         "type": "category"
        }
       }
      },
      "image/png": "[encoded data removed]",
      "text/html": [
       "<div>                            <div id=\"cc652040-c856-4d63-b6c5-850c65469664\" class=\"plotly-graph-div\" style=\"height:600px; width:1300px;\"></div>            <script type=\"text/javascript\">                require([\"plotly\"], function(Plotly) {                    window.PLOTLYENV=window.PLOTLYENV || {};                                    if (document.getElementById(\"cc652040-c856-4d63-b6c5-850c65469664\")) {                    Plotly.newPlot(                        \"cc652040-c856-4d63-b6c5-850c65469664\",                        [{\"alignmentgroup\":\"True\",\"customdata\":[[393835],[379524],[353279],[343219],[309141],[255919],[193267],[178341],[154036],[102342],[47727],[32011]],\"hovertemplate\":\"importance= Very important<br>industry=Finance and insurance<br>Percent of Total=%{text}<br>reason=%{y}<br>responses=%{customdata[0]}<extra></extra>\",\"legendgroup\":\" Very important\",\"marker\":{\"color\":\"#636efa\",\"pattern\":{\"shape\":\"\"}},\"name\":\" Very important\",\"offsetgroup\":\" Very important\",\"orientation\":\"h\",\"showlegend\":true,\"text\":[73.28,69.91,65.3,63.31,57.05,47.78,35.7,32.94,28.66,18.95,9.15,5.97],\"textposition\":\"inside\",\"x\":[73.28,69.91,65.3,63.31,57.05,47.78,35.7,32.94,28.66,18.95,9.15,5.97],\"xaxis\":\"x\",\"y\":[\"      Greater income      \",\" Wanted to be my own boss \",\" Balance work and family \",\"      Flexible hours      \",\"  Best avenue for ideas  \",\"  Start my own business  \",\"      Work for self      \",\"Friend or family role model\",\"    Help my community    \",\" Carry on family business \",\"           Other          \",\"   Couldn't find a job   \"],\"yaxis\":\"y\",\"type\":\"bar\",\"textfont\":{\"color\":\"white\"},\"insidetextanchor\":\"middle\"},{\"alignmentgroup\":\"True\",\"customdata\":[[87416],[81306],[78264],[78062],[74791],[57594],[54014],[40333],[35325],[19221],[16192],[7453]],\"hovertemplate\":\"importance= Very important<br>industry=Educational services<br>Percent of Total=%{text}<br>reason=%{y}<br>responses=%{customdata[0]}<extra></extra>\",\"legendgroup\":\" Very important\",\"marker\":{\"color\":\"#636efa\",\"pattern\":{\"shape\":\"\"}},\"name\":\" Very important\",\"offsetgroup\":\" Very important\",\"orientation\":\"h\",\"showlegend\":false,\"text\":[64.07,59.46,57.16,57.08,54.9,42.3,39.64,29.59,25.89,14.37,11.87,5.47],\"textposition\":\"inside\",\"x\":[64.07,59.46,57.16,57.08,54.9,42.3,39.64,29.59,25.89,14.37,11.87,5.47],\"xaxis\":\"x2\",\"y\":[\"  Best avenue for ideas  \",\" Wanted to be my own boss \",\" Balance work and family \",\"      Flexible hours      \",\"      Greater income      \",\"  Start my own business  \",\"    Help my community    \",\"      Work for self      \",\"Friend or family role model\",\"           Other          \",\" Carry on family business \",\"   Couldn't find a job   \"],\"yaxis\":\"y2\",\"type\":\"bar\",\"textfont\":{\"color\":\"white\"},\"insidetextanchor\":\"middle\"},{\"alignmentgroup\":\"True\",\"customdata\":[[204618],[197656],[161993],[158487],[142380],[127503],[127010],[105639],[99891],[68566],[60180],[38953]],\"hovertemplate\":\"importance= Somewhat important<br>industry=Finance and insurance<br>Percent of Total=%{text}<br>reason=%{y}<br>responses=%{customdata[0]}<extra></extra>\",\"legendgroup\":\" Somewhat important\",\"marker\":{\"color\":\"#EF553B\",\"pattern\":{\"shape\":\"\"}},\"name\":\" Somewhat important\",\"offsetgroup\":\" Somewhat important\",\"orientation\":\"h\",\"showlegend\":true,\"text\":[37.8,36.78,30.24,29.25,26.3,23.57,23.43,19.46,18.59,12.7,11.23,7.46],\"textposition\":\"inside\",\"x\":[37.8,36.78,30.24,29.25,26.3,23.57,23.43,19.46,18.59,12.7,11.23,7.46],\"xaxis\":\"x\",\"y\":[\"      Work for self      \",\"    Help my community    \",\"  Start my own business  \",\"  Best avenue for ideas  \",\"Friend or family role model\",\" Balance work and family \",\"      Flexible hours      \",\" Wanted to be my own boss \",\"      Greater income      \",\" Carry on family business \",\"   Couldn't find a job   \",\"           Other          \"],\"yaxis\":\"y\",\"type\":\"bar\",\"textfont\":{\"color\":\"white\"},\"insidetextanchor\":\"middle\"},{\"alignmentgroup\":\"True\",\"customdata\":[[47782],[43912],[41892],[40956],[38121],[36960],[35697],[35478],[30107],[14915],[13057],[7670]],\"hovertemplate\":\"importance= Somewhat important<br>industry=Educational services<br>Percent of Total=%{text}<br>reason=%{y}<br>responses=%{customdata[0]}<extra></extra>\",\"legendgroup\":\" Somewhat important\",\"marker\":{\"color\":\"#EF553B\",\"pattern\":{\"shape\":\"\"}},\"name\":\" Somewhat important\",\"offsetgroup\":\" Somewhat important\",\"orientation\":\"h\",\"showlegend\":false,\"text\":[35.05,32.25,30.74,30.06,27.84,27.09,26.1,25.95,22.06,10.95,9.57,5.74],\"textposition\":\"inside\",\"x\":[35.05,32.25,30.74,30.06,27.84,27.09,26.1,25.95,22.06,10.95,9.57,5.74],\"xaxis\":\"x2\",\"y\":[\"      Work for self      \",\"  Start my own business  \",\"    Help my community    \",\"      Greater income      \",\" Balance work and family \",\"Friend or family role model\",\"      Flexible hours      \",\" Wanted to be my own boss \",\"  Best avenue for ideas  \",\"   Couldn't find a job   \",\" Carry on family business \",\"           Other          \"],\"yaxis\":\"y2\",\"type\":\"bar\",\"textfont\":{\"color\":\"white\"},\"insidetextanchor\":\"middle\"},{\"alignmentgroup\":\"True\",\"customdata\":[[435167],[443838],[369140],[220683],[185687],[143483],[117725],[74221],[71858],[60218],[57743],[43704]],\"hovertemplate\":\"importance= Not important<br>industry=Finance and insurance<br>Percent of Total=%{text}<br>reason=%{y}<br>responses=%{customdata[0]}<extra></extra>\",\"legendgroup\":\" Not important\",\"marker\":{\"color\":\"#00cc96\",\"pattern\":{\"shape\":\"\"}},\"name\":\" Not important\",\"offsetgroup\":\" Not important\",\"orientation\":\"h\",\"showlegend\":true,\"text\":[83.39,82.8,68.35,40.76,34.55,26.5,21.98,13.7,13.26,11.13,10.64,8.13],\"textposition\":\"inside\",\"x\":[83.39,82.8,68.35,40.76,34.55,26.5,21.98,13.7,13.26,11.13,10.64,8.13],\"xaxis\":\"x\",\"y\":[\"           Other          \",\"   Couldn't find a job   \",\" Carry on family business \",\"Friend or family role model\",\"    Help my community    \",\"      Work for self      \",\"  Start my own business  \",\"  Best avenue for ideas  \",\"      Flexible hours      \",\" Balance work and family \",\" Wanted to be my own boss \",\"      Greater income      \"],\"yaxis\":\"y\",\"type\":\"bar\",\"textfont\":{\"color\":\"white\"},\"insidetextanchor\":\"middle\"},{\"alignmentgroup\":\"True\",\"customdata\":[[113863],[106822],[107190],[64164],[48201],[40354],[34645],[23010],[20481],[20526],[19953],[18924]],\"hovertemplate\":\"importance= Not important<br>industry=Educational services<br>Percent of Total=%{text}<br>reason=%{y}<br>responses=%{customdata[0]}<extra></extra>\",\"legendgroup\":\" Not important\",\"marker\":{\"color\":\"#00cc96\",\"pattern\":{\"shape\":\"\"}},\"name\":\" Not important\",\"offsetgroup\":\" Not important\",\"orientation\":\"h\",\"showlegend\":false,\"text\":[83.58,79.89,78.56,47.02,35.36,29.62,25.45,16.82,15.03,14.99,14.59,13.87],\"textposition\":\"inside\",\"x\":[83.58,79.89,78.56,47.02,35.36,29.62,25.45,16.82,15.03,14.99,14.59,13.87],\"xaxis\":\"x2\",\"y\":[\"   Couldn't find a job   \",\"           Other          \",\" Carry on family business \",\"Friend or family role model\",\"      Work for self      \",\"    Help my community    \",\"  Start my own business  \",\"      Flexible hours      \",\"      Greater income      \",\" Balance work and family \",\" Wanted to be my own boss \",\"  Best avenue for ideas  \"],\"yaxis\":\"y2\",\"type\":\"bar\",\"textfont\":{\"color\":\"white\"},\"insidetextanchor\":\"middle\"}],                        {\"template\":{\"data\":{\"bar\":[{\"error_x\":{\"color\":\"#2a3f5f\"},\"error_y\":{\"color\":\"#2a3f5f\"},\"marker\":{\"line\":{\"color\":\"#E5ECF6\",\"width\":0.5},\"pattern\":{\"fillmode\":\"overlay\",\"size\":10,\"solidity\":0.2}},\"type\":\"bar\"}],\"barpolar\":[{\"marker\":{\"line\":{\"color\":\"#E5ECF6\",\"width\":0.5},\"pattern\":{\"fillmode\":\"overlay\",\"size\":10,\"solidity\":0.2}},\"type\":\"barpolar\"}],\"carpet\":[{\"aaxis\":{\"endlinecolor\":\"#2a3f5f\",\"gridcolor\":\"white\",\"linecolor\":\"white\",\"minorgridcolor\":\"white\",\"startlinecolor\":\"#2a3f5f\"},\"baxis\":{\"endlinecolor\":\"#2a3f5f\",\"gridcolor\":\"white\",\"linecolor\":\"white\",\"minorgridcolor\":\"white\",\"startlinecolor\":\"#2a3f5f\"},\"type\":\"carpet\"}],\"choropleth\":[{\"colorbar\":{\"outlinewidth\":0,\"ticks\":\"\"},\"type\":\"choropleth\"}],\"contour\":[{\"colorbar\":{\"outlinewidth\":0,\"ticks\":\"\"},\"colorscale\":[[0.0,\"#0d0887\"],[0.1111111111111111,\"#46039f\"],[0.2222222222222222,\"#7201a8\"],[0.3333333333333333,\"#9c179e\"],[0.4444444444444444,\"#bd3786\"],[0.5555555555555556,\"#d8576b\"],[0.6666666666666666,\"#ed7953\"],[0.7777777777777778,\"#fb9f3a\"],[0.8888888888888888,\"#fdca26\"],[1.0,\"#f0f921\"]],\"type\":\"contour\"}],\"contourcarpet\":[{\"colorbar\":{\"outlinewidth\":0,\"ticks\":\"\"},\"type\":\"contourcarpet\"}],\"heatmap\":[{\"colorbar\":{\"outlinewidth\":0,\"ticks\":\"\"},\"colorscale\":[[0.0,\"#0d0887\"],[0.1111111111111111,\"#46039f\"],[0.2222222222222222,\"#7201a8\"],[0.3333333333333333,\"#9c179e\"],[0.4444444444444444,\"#bd3786\"],[0.5555555555555556,\"#d8576b\"],[0.6666666666666666,\"#ed7953\"],[0.7777777777777778,\"#fb9f3a\"],[0.8888888888888888,\"#fdca26\"],[1.0,\"#f0f921\"]],\"type\":\"heatmap\"}],\"heatmapgl\":[{\"colorbar\":{\"outlinewidth\":0,\"ticks\":\"\"},\"colorscale\":[[0.0,\"#0d0887\"],[0.1111111111111111,\"#46039f\"],[0.2222222222222222,\"#7201a8\"],[0.3333333333333333,\"#9c179e\"],[0.4444444444444444,\"#bd3786\"],[0.5555555555555556,\"#d8576b\"],[0.6666666666666666,\"#ed7953\"],[0.7777777777777778,\"#fb9f3a\"],[0.8888888888888888,\"#fdca26\"],[1.0,\"#f0f921\"]],\"type\":\"heatmapgl\"}],\"histogram\":[{\"marker\":{\"pattern\":{\"fillmode\":\"overlay\",\"size\":10,\"solidity\":0.2}},\"type\":\"histogram\"}],\"histogram2d\":[{\"colorbar\":{\"outlinewidth\":0,\"ticks\":\"\"},\"colorscale\":[[0.0,\"#0d0887\"],[0.1111111111111111,\"#46039f\"],[0.2222222222222222,\"#7201a8\"],[0.3333333333333333,\"#9c179e\"],[0.4444444444444444,\"#bd3786\"],[0.5555555555555556,\"#d8576b\"],[0.6666666666666666,\"#ed7953\"],[0.7777777777777778,\"#fb9f3a\"],[0.8888888888888888,\"#fdca26\"],[1.0,\"#f0f921\"]],\"type\":\"histogram2d\"}],\"histogram2dcontour\":[{\"colorbar\":{\"outlinewidth\":0,\"ticks\":\"\"},\"colorscale\":[[0.0,\"#0d0887\"],[0.1111111111111111,\"#46039f\"],[0.2222222222222222,\"#7201a8\"],[0.3333333333333333,\"#9c179e\"],[0.4444444444444444,\"#bd3786\"],[0.5555555555555556,\"#d8576b\"],[0.6666666666666666,\"#ed7953\"],[0.7777777777777778,\"#fb9f3a\"],[0.8888888888888888,\"#fdca26\"],[1.0,\"#f0f921\"]],\"type\":\"histogram2dcontour\"}],\"mesh3d\":[{\"colorbar\":{\"outlinewidth\":0,\"ticks\":\"\"},\"type\":\"mesh3d\"}],\"parcoords\":[{\"line\":{\"colorbar\":{\"outlinewidth\":0,\"ticks\":\"\"}},\"type\":\"parcoords\"}],\"pie\":[{\"automargin\":true,\"type\":\"pie\"}],\"scatter\":[{\"marker\":{\"colorbar\":{\"outlinewidth\":0,\"ticks\":\"\"}},\"type\":\"scatter\"}],\"scatter3d\":[{\"line\":{\"colorbar\":{\"outlinewidth\":0,\"ticks\":\"\"}},\"marker\":{\"colorbar\":{\"outlinewidth\":0,\"ticks\":\"\"}},\"type\":\"scatter3d\"}],\"scattercarpet\":[{\"marker\":{\"colorbar\":{\"outlinewidth\":0,\"ticks\":\"\"}},\"type\":\"scattercarpet\"}],\"scattergeo\":[{\"marker\":{\"colorbar\":{\"outlinewidth\":0,\"ticks\":\"\"}},\"type\":\"scattergeo\"}],\"scattergl\":[{\"marker\":{\"colorbar\":{\"outlinewidth\":0,\"ticks\":\"\"}},\"type\":\"scattergl\"}],\"scattermapbox\":[{\"marker\":{\"colorbar\":{\"outlinewidth\":0,\"ticks\":\"\"}},\"type\":\"scattermapbox\"}],\"scatterpolar\":[{\"marker\":{\"colorbar\":{\"outlinewidth\":0,\"ticks\":\"\"}},\"type\":\"scatterpolar\"}],\"scatterpolargl\":[{\"marker\":{\"colorbar\":{\"outlinewidth\":0,\"ticks\":\"\"}},\"type\":\"scatterpolargl\"}],\"scatterternary\":[{\"marker\":{\"colorbar\":{\"outlinewidth\":0,\"ticks\":\"\"}},\"type\":\"scatterternary\"}],\"surface\":[{\"colorbar\":{\"outlinewidth\":0,\"ticks\":\"\"},\"colorscale\":[[0.0,\"#0d0887\"],[0.1111111111111111,\"#46039f\"],[0.2222222222222222,\"#7201a8\"],[0.3333333333333333,\"#9c179e\"],[0.4444444444444444,\"#bd3786\"],[0.5555555555555556,\"#d8576b\"],[0.6666666666666666,\"#ed7953\"],[0.7777777777777778,\"#fb9f3a\"],[0.8888888888888888,\"#fdca26\"],[1.0,\"#f0f921\"]],\"type\":\"surface\"}],\"table\":[{\"cells\":{\"fill\":{\"color\":\"#EBF0F8\"},\"line\":{\"color\":\"white\"}},\"header\":{\"fill\":{\"color\":\"#C8D4E3\"},\"line\":{\"color\":\"white\"}},\"type\":\"table\"}]},\"layout\":{\"annotationdefaults\":{\"arrowcolor\":\"#2a3f5f\",\"arrowhead\":0,\"arrowwidth\":1},\"autotypenumbers\":\"strict\",\"coloraxis\":{\"colorbar\":{\"outlinewidth\":0,\"ticks\":\"\"}},\"colorscale\":{\"diverging\":[[0,\"#8e0152\"],[0.1,\"#c51b7d\"],[0.2,\"#de77ae\"],[0.3,\"#f1b6da\"],[0.4,\"#fde0ef\"],[0.5,\"#f7f7f7\"],[0.6,\"#e6f5d0\"],[0.7,\"#b8e186\"],[0.8,\"#7fbc41\"],[0.9,\"#4d9221\"],[1,\"#276419\"]],\"sequential\":[[0.0,\"#0d0887\"],[0.1111111111111111,\"#46039f\"],[0.2222222222222222,\"#7201a8\"],[0.3333333333333333,\"#9c179e\"],[0.4444444444444444,\"#bd3786\"],[0.5555555555555556,\"#d8576b\"],[0.6666666666666666,\"#ed7953\"],[0.7777777777777778,\"#fb9f3a\"],[0.8888888888888888,\"#fdca26\"],[1.0,\"#f0f921\"]],\"sequentialminus\":[[0.0,\"#0d0887\"],[0.1111111111111111,\"#46039f\"],[0.2222222222222222,\"#7201a8\"],[0.3333333333333333,\"#9c179e\"],[0.4444444444444444,\"#bd3786\"],[0.5555555555555556,\"#d8576b\"],[0.6666666666666666,\"#ed7953\"],[0.7777777777777778,\"#fb9f3a\"],[0.8888888888888888,\"#fdca26\"],[1.0,\"#f0f921\"]]},\"colorway\":[\"#636efa\",\"#EF553B\",\"#00cc96\",\"#ab63fa\",\"#FFA15A\",\"#19d3f3\",\"#FF6692\",\"#B6E880\",\"#FF97FF\",\"#FECB52\"],\"font\":{\"color\":\"#2a3f5f\"},\"geo\":{\"bgcolor\":\"white\",\"lakecolor\":\"white\",\"landcolor\":\"#E5ECF6\",\"showlakes\":true,\"showland\":true,\"subunitcolor\":\"white\"},\"hoverlabel\":{\"align\":\"left\"},\"hovermode\":\"closest\",\"mapbox\":{\"style\":\"light\"},\"paper_bgcolor\":\"white\",\"plot_bgcolor\":\"#E5ECF6\",\"polar\":{\"angularaxis\":{\"gridcolor\":\"white\",\"linecolor\":\"white\",\"ticks\":\"\"},\"bgcolor\":\"#E5ECF6\",\"radialaxis\":{\"gridcolor\":\"white\",\"linecolor\":\"white\",\"ticks\":\"\"}},\"scene\":{\"xaxis\":{\"backgroundcolor\":\"#E5ECF6\",\"gridcolor\":\"white\",\"gridwidth\":2,\"linecolor\":\"white\",\"showbackground\":true,\"ticks\":\"\",\"zerolinecolor\":\"white\"},\"yaxis\":{\"backgroundcolor\":\"#E5ECF6\",\"gridcolor\":\"white\",\"gridwidth\":2,\"linecolor\":\"white\",\"showbackground\":true,\"ticks\":\"\",\"zerolinecolor\":\"white\"},\"zaxis\":{\"backgroundcolor\":\"#E5ECF6\",\"gridcolor\":\"white\",\"gridwidth\":2,\"linecolor\":\"white\",\"showbackground\":true,\"ticks\":\"\",\"zerolinecolor\":\"white\"}},\"shapedefaults\":{\"line\":{\"color\":\"#2a3f5f\"}},\"ternary\":{\"aaxis\":{\"gridcolor\":\"white\",\"linecolor\":\"white\",\"ticks\":\"\"},\"baxis\":{\"gridcolor\":\"white\",\"linecolor\":\"white\",\"ticks\":\"\"},\"bgcolor\":\"#E5ECF6\",\"caxis\":{\"gridcolor\":\"white\",\"linecolor\":\"white\",\"ticks\":\"\"}},\"title\":{\"x\":0.05},\"xaxis\":{\"automargin\":true,\"gridcolor\":\"white\",\"linecolor\":\"white\",\"ticks\":\"\",\"title\":{\"standoff\":15},\"zerolinecolor\":\"white\",\"zerolinewidth\":2},\"yaxis\":{\"automargin\":true,\"gridcolor\":\"white\",\"linecolor\":\"white\",\"ticks\":\"\",\"title\":{\"standoff\":15},\"zerolinecolor\":\"white\",\"zerolinewidth\":2}}},\"xaxis\":{\"anchor\":\"y\",\"domain\":[0.0,0.43],\"title\":{\"text\":\"Percent of Total\"},\"ticks\":\"outside\"},\"yaxis\":{\"anchor\":\"x\",\"domain\":[0.0,1.0],\"title\":{},\"side\":\"right\"},\"xaxis2\":{\"anchor\":\"y2\",\"domain\":[0.5700000000000001,1.0],\"matches\":\"x\",\"title\":{\"text\":\"Percent of Total\"},\"ticks\":\"outside\"},\"yaxis2\":{\"anchor\":\"x2\",\"domain\":[0.0,1.0],\"matches\":\"y\",\"showticklabels\":false,\"side\":\"right\"},\"annotations\":[{\"showarrow\":false,\"text\":\"Finance and insurance\",\"x\":0.215,\"xanchor\":\"center\",\"xref\":\"paper\",\"y\":1.0,\"yanchor\":\"bottom\",\"yref\":\"paper\"},{\"showarrow\":false,\"text\":\"Educational services\",\"x\":0.785,\"xanchor\":\"center\",\"xref\":\"paper\",\"y\":1.0,\"yanchor\":\"bottom\",\"yref\":\"paper\"},{\"align\":\"right\",\"font\":{\"color\":\"grey\",\"size\":10},\"showarrow\":false,\"text\":\"Created by: Jed Dryer | Apr 24, 2022 | Source: US Census - 2019 ABS\",\"x\":0.7,\"xanchor\":\"left\",\"xref\":\"paper\",\"xshift\":-1,\"y\":-0.19,\"yanchor\":\"bottom\",\"yref\":\"paper\",\"yshift\":-3}],\"legend\":{\"title\":{\"text\":\"importance\"},\"tracegroupgap\":0,\"font\":{\"size\":13},\"orientation\":\"h\",\"x\":0,\"y\":1.15},\"margin\":{\"t\":90,\"r\":0,\"l\":0,\"b\":90},\"barmode\":\"relative\",\"height\":600,\"width\":1300,\"title\":{\"text\":\"Reasons for Starting a Company\",\"y\":0.98,\"x\":0.003,\"font\":{\"size\":22}},\"uniformtext\":{\"minsize\":13,\"mode\":\"hide\"},\"paper_bgcolor\":\"white\",\"plot_bgcolor\":\"white\",\"dragmode\":false},                        {\"responsive\": true}                    ).then(function(){\n",
       "                            \n",
       "var gd = document.getElementById('cc652040-c856-4d63-b6c5-850c65469664');\n",
       "var x = new MutationObserver(function (mutations, observer) {{\n",
       "        var display = window.getComputedStyle(gd).display;\n",
       "        if (!display || display === 'none') {{\n",
       "            console.log([gd, 'removed!']);\n",
       "            Plotly.purge(gd);\n",
       "            observer.disconnect();\n",
       "        }}\n",
       "}});\n",
       "\n",
       "// Listen for the removal of the full notebook cells\n",
       "var notebookContainer = gd.closest('#notebook-container');\n",
       "if (notebookContainer) {{\n",
       "    x.observe(notebookContainer, {childList: true});\n",
       "}}\n",
       "\n",
       "// Listen for the clearing of the current output cell\n",
       "var outputEl = gd.closest('.output');\n",
       "if (outputEl) {{\n",
       "    x.observe(outputEl, {childList: true});\n",
       "}}\n",
       "\n",
       "                        })                };                });            </script>        </div>"
      ]
     },
     "metadata": {},
     "output_type": "display_data"
    },
    {
     "name": "stdout",
     "output_type": "stream",
     "text": [
      "Jed's Stacked Bar Chart Successfully exported to HTML - Filename: 'stacked_reasons.html'\n"
     ]
    }
   ],
   "source": [
    "def clean_data_stacked_bar():\n",
    "    \"\"\" This function prepares the data for the stacked bar chart. \"\"\"\n",
    "\n",
    "    # Filter the data so that only the required data is present.\n",
    "    reason_owned = bus_own_df[\n",
    "        (bus_own_df['qdesc_label'] == 'REASONOWN') &\n",
    "        (~bus_own_df['industry'].str.contains('Total')) &\n",
    "        (~bus_own_df['gender'].str.contains('All')) &\n",
    "        (bus_own_df['ownchar_label'].str.contains(':'))]\n",
    "\n",
    "    # Split the 'reason for owning' label into two distinct columns.\n",
    "    reason_owned[['reason','importance']] = reason_owned.apply(\n",
    "        lambda row: row['ownchar_label'\n",
    "                       ].split(\":\"), axis = 1, result_type = 'expand'\n",
    "    )\n",
    "    \n",
    "    # Calculate the total number of responses per reason.\n",
    "    grouped_reason = reason_owned.groupby(\n",
    "        by = ['industry','reason','importance'])[['ownpdemp']].agg(\n",
    "        responses = ('ownpdemp', 'sum')\n",
    "    )\n",
    "\n",
    "    # Calculate the ratio of reasons that a business was owned.\n",
    "    grouped_reason['ratio'] = (100 * (\n",
    "        grouped_reason['responses'] / grouped_reason.groupby(\n",
    "            level = [0,1])['responses'].transform('sum'))\n",
    "    ).round(2)\n",
    "    \n",
    "    grouped_reason.reset_index(inplace = True)\n",
    "\n",
    "    # Filter the data to include only the target industries.\n",
    "    subset = grouped_reason[\n",
    "        (grouped_reason['industry'].str.contains('inanc|ducati'))\n",
    "    ]\n",
    "    \n",
    "    # Sort the data to prepare it for display.\n",
    "    subset.sort_values(\n",
    "        by = ['importance','ratio'], ascending = False, inplace = True\n",
    "    )\n",
    "    \n",
    "    # Rename columns to prepare for display.\n",
    "    subset.rename(columns = {'ratio': 'Percent of Total'}, inplace = True)\n",
    "\n",
    "    # Modify the category names so that they will fit between charts.\n",
    "    reasons = grouped_reason.reason.unique().tolist()\n",
    "    longest_reason = len(max(reasons, key = len))\n",
    "    new_reasons = {}\n",
    "    for reason in reasons:\n",
    "        old_reason = reason\n",
    "        while len(reason) < longest_reason - 2:\n",
    "            reason = \" \" + reason + \" \"\n",
    "        if len(old_reason) < 10:\n",
    "            reason = \" \" + reason\n",
    "        new_reasons[old_reason] = reason\n",
    "        \n",
    "    subset['reason'] = subset['reason'].apply(lambda x: new_reasons[x])\n",
    "    return subset\n",
    "\n",
    "def stacked_bar():\n",
    "    \"\"\" This function transforms the data and then builds a stacked bar plot. \"\"\"\n",
    "    \n",
    "    stacked_bar_subset = clean_data_stacked_bar()\n",
    "    fig = px.bar(stacked_bar_subset, x = 'Percent of Total', y = 'reason', color = 'importance',\n",
    "                width = 1300, height = 600, orientation = 'h',\n",
    "                hover_data = ['responses','Percent of Total'], text = 'Percent of Total', facet_col = 'industry',\n",
    "                facet_col_spacing=0.14\n",
    "            )\n",
    "    \n",
    "    fig.update_layout(\n",
    "        title = 'Reasons for Starting a Company',\n",
    "        yaxis_title = None,\n",
    "        title_y = .98,\n",
    "        title_x = 0.003,\n",
    "        title_font_size = 22,\n",
    "        xaxis_title = \"Percent of Total\", \n",
    "        uniformtext_minsize = 13,\n",
    "        uniformtext_mode = 'hide', \n",
    "        paper_bgcolor = 'white', \n",
    "        plot_bgcolor = 'white',\n",
    "        legend = dict(\n",
    "            orientation = 'h',\n",
    "            x=0,y=1.15,\n",
    "            font = dict(size=13)\n",
    "        )\n",
    "    )\n",
    "\n",
    "    fig.update_traces(textposition = 'inside', insidetextanchor = 'middle', textfont = {'color': 'white'})\n",
    "    fig.update_yaxes(side = 'right')\n",
    "    fig.update_xaxes(ticks = 'outside')\n",
    "    fig.update_layout(margin={\"r\":0,\"t\":90,\"l\":0,\"b\": 90}, dragmode = False)\n",
    "\n",
    "    fig.for_each_annotation(lambda a: a.update(text=a.text.split(\"=\")[1]))\n",
    "\n",
    "    fig.add_annotation(\n",
    "            text = (f\"Created by: Jed Dryer | {today} | Source: US Census - 2019 ABS\"),\n",
    "            showarrow=False,\n",
    "            x = .70,\n",
    "            y = -.19,\n",
    "            xref='paper',\n",
    "            yref='paper' ,\n",
    "            xanchor='left',\n",
    "            yanchor='bottom',\n",
    "            xshift=-1,\n",
    "            yshift=-3,\n",
    "            font=dict(size=10, color=\"grey\"),\n",
    "            align=\"right\",\n",
    "            )\n",
    "    fig.show()\n",
    "    #fig.write_html('stacked_reasons.html')\n",
    "    print(\"Jed's Stacked Bar Chart Successfully exported to HTML - Filename: 'stacked_reasons.html'\")\n",
    "stacked_bar()"
   ]
  },
  {
   "cell_type": "code",
   "execution_count": null,
   "id": "ebf69701-ec86-46ba-b98d-4cf141c70704",
   "metadata": {},
   "outputs": [],
   "source": []
  }
 ],
 "metadata": {
  "kernelspec": {
   "display_name": "Python 3 (ipykernel)",
   "language": "python",
   "name": "python3"
  },
  "language_info": {
   "codemirror_mode": {
    "name": "ipython",
    "version": 3
   },
   "file_extension": ".py",
   "mimetype": "text/x-python",
   "name": "python",
   "nbconvert_exporter": "python",
   "pygments_lexer": "ipython3",
   "version": "3.9.7"
  }
 },
 "nbformat": 4,
 "nbformat_minor": 5
}
