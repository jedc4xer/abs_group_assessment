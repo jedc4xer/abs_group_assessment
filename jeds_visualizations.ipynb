{
 "cells": [
  {
   "cell_type": "code",
   "execution_count": 1,
   "id": "da7a57cf-60a8-4a28-adcb-06f2a9a0cb4d",
   "metadata": {},
   "outputs": [
    {
     "name": "stdout",
     "output_type": "stream",
     "text": [
      "\n",
      " ----- HELPER MODULE IMPORTED ------\n",
      "\n",
      "    For information on the helper module:\n",
      "        run 'help(explain)' in any cell. \n",
      "        \n",
      "    To directly use:\n",
      "        run 'explain.what_is()' with no parameters.\n",
      "    \n"
     ]
    }
   ],
   "source": [
    "import os\n",
    "\n",
    "import pandas as pd\n",
    "import seaborn as sns\n",
    "import matplotlib.pyplot as plt\n",
    "import plotly.express as px\n",
    "\n",
    "from utils import explain"
   ]
  },
  {
   "cell_type": "markdown",
   "id": "443d7572-3ac4-41e8-b151-d574e7032bcd",
   "metadata": {},
   "source": [
    "#### Create Dataframes"
   ]
  },
  {
   "cell_type": "code",
   "execution_count": 28,
   "id": "3fe0d157-f745-46c8-8485-8b968ca6372d",
   "metadata": {},
   "outputs": [],
   "source": [
    "files = sorted(['data/' + _ for _ in os.listdir('data/') if '.txt' not in _])"
   ]
  },
  {
   "cell_type": "code",
   "execution_count": 38,
   "id": "762e5348-b31f-44bd-a605-e3349d165652",
   "metadata": {},
   "outputs": [],
   "source": [
    "bus_char_df = pd.read_csv(files[0])\n",
    "bus_own_df = pd.read_csv(files[1])\n",
    "bus_tech_df = pd.read_csv(files[2])\n",
    "comp_sum_df = pd.read_csv(files[3])\n",
    "slbo = pd.read_csv(files[4])\n"
   ]
  },
  {
   "cell_type": "code",
   "execution_count": 45,
   "id": "0d09554d-5f3c-4a47-8cc1-785265a8de40",
   "metadata": {},
   "outputs": [
    {
     "data": {
      "text/html": [
       "<div>\n",
       "<style scoped>\n",
       "    .dataframe tbody tr th:only-of-type {\n",
       "        vertical-align: middle;\n",
       "    }\n",
       "\n",
       "    .dataframe tbody tr th {\n",
       "        vertical-align: top;\n",
       "    }\n",
       "\n",
       "    .dataframe thead th {\n",
       "        text-align: right;\n",
       "    }\n",
       "</style>\n",
       "<table border=\"1\" class=\"dataframe\">\n",
       "  <thead>\n",
       "    <tr style=\"text-align: right;\">\n",
       "      <th></th>\n",
       "      <th>name</th>\n",
       "      <th>buschar_label</th>\n",
       "      <th>emp</th>\n",
       "      <th>firmpdemp</th>\n",
       "      <th>geo_id</th>\n",
       "      <th>industry_code</th>\n",
       "      <th>industry</th>\n",
       "      <th>payann</th>\n",
       "      <th>qdesc_label</th>\n",
       "      <th>race_group_label</th>\n",
       "      <th>rcppdemp</th>\n",
       "      <th>gender</th>\n",
       "      <th>yibszfi_label</th>\n",
       "      <th>state</th>\n",
       "    </tr>\n",
       "  </thead>\n",
       "  <tbody>\n",
       "    <tr>\n",
       "      <th>0</th>\n",
       "      <td>Mississippi</td>\n",
       "      <td>All firms</td>\n",
       "      <td>920447</td>\n",
       "      <td>40856</td>\n",
       "      <td>0400000US28</td>\n",
       "      <td>0</td>\n",
       "      <td>Total for all sectors</td>\n",
       "      <td>34137231</td>\n",
       "      <td>OWNRNUM</td>\n",
       "      <td>Total</td>\n",
       "      <td>0</td>\n",
       "      <td>Total</td>\n",
       "      <td>All firms</td>\n",
       "      <td>28]</td>\n",
       "    </tr>\n",
       "    <tr>\n",
       "      <th>1</th>\n",
       "      <td>Mississippi</td>\n",
       "      <td>1 person</td>\n",
       "      <td>80964</td>\n",
       "      <td>10704</td>\n",
       "      <td>0400000US28</td>\n",
       "      <td>0</td>\n",
       "      <td>Total for all sectors</td>\n",
       "      <td>2835519</td>\n",
       "      <td>OWNRNUM</td>\n",
       "      <td>Total</td>\n",
       "      <td>0</td>\n",
       "      <td>Total</td>\n",
       "      <td>All firms</td>\n",
       "      <td>28]</td>\n",
       "    </tr>\n",
       "    <tr>\n",
       "      <th>2</th>\n",
       "      <td>Mississippi</td>\n",
       "      <td>2 to 4 people</td>\n",
       "      <td>59086</td>\n",
       "      <td>5956</td>\n",
       "      <td>0400000US28</td>\n",
       "      <td>0</td>\n",
       "      <td>Total for all sectors</td>\n",
       "      <td>2031186</td>\n",
       "      <td>OWNRNUM</td>\n",
       "      <td>Total</td>\n",
       "      <td>0</td>\n",
       "      <td>Total</td>\n",
       "      <td>All firms</td>\n",
       "      <td>28]</td>\n",
       "    </tr>\n",
       "    <tr>\n",
       "      <th>3</th>\n",
       "      <td>Mississippi</td>\n",
       "      <td>5 to 10 people</td>\n",
       "      <td>13497</td>\n",
       "      <td>360</td>\n",
       "      <td>0400000US28</td>\n",
       "      <td>0</td>\n",
       "      <td>Total for all sectors</td>\n",
       "      <td>618245</td>\n",
       "      <td>OWNRNUM</td>\n",
       "      <td>Total</td>\n",
       "      <td>0</td>\n",
       "      <td>Total</td>\n",
       "      <td>All firms</td>\n",
       "      <td>28]</td>\n",
       "    </tr>\n",
       "    <tr>\n",
       "      <th>4</th>\n",
       "      <td>Mississippi</td>\n",
       "      <td>11 or more people</td>\n",
       "      <td>106361</td>\n",
       "      <td>604</td>\n",
       "      <td>0400000US28</td>\n",
       "      <td>0</td>\n",
       "      <td>Total for all sectors</td>\n",
       "      <td>4807141</td>\n",
       "      <td>OWNRNUM</td>\n",
       "      <td>Total</td>\n",
       "      <td>0</td>\n",
       "      <td>Total</td>\n",
       "      <td>All firms</td>\n",
       "      <td>28]</td>\n",
       "    </tr>\n",
       "    <tr>\n",
       "      <th>...</th>\n",
       "      <td>...</td>\n",
       "      <td>...</td>\n",
       "      <td>...</td>\n",
       "      <td>...</td>\n",
       "      <td>...</td>\n",
       "      <td>...</td>\n",
       "      <td>...</td>\n",
       "      <td>...</td>\n",
       "      <td>...</td>\n",
       "      <td>...</td>\n",
       "      <td>...</td>\n",
       "      <td>...</td>\n",
       "      <td>...</td>\n",
       "      <td>...</td>\n",
       "    </tr>\n",
       "    <tr>\n",
       "      <th>2290</th>\n",
       "      <td>Minnesota</td>\n",
       "      <td>All firms</td>\n",
       "      <td>2673014</td>\n",
       "      <td>113774</td>\n",
       "      <td>0400000US27</td>\n",
       "      <td>0</td>\n",
       "      <td>Total for all sectors</td>\n",
       "      <td>146712564</td>\n",
       "      <td>CEASEOPS</td>\n",
       "      <td>Total</td>\n",
       "      <td>0</td>\n",
       "      <td>Total</td>\n",
       "      <td>All firms</td>\n",
       "      <td>27]</td>\n",
       "    </tr>\n",
       "    <tr>\n",
       "      <th>2291</th>\n",
       "      <td>Minnesota</td>\n",
       "      <td>Business is currently operating</td>\n",
       "      <td>1296808</td>\n",
       "      <td>60890</td>\n",
       "      <td>0400000US27</td>\n",
       "      <td>0</td>\n",
       "      <td>Total for all sectors</td>\n",
       "      <td>79058091</td>\n",
       "      <td>CEASEOPS</td>\n",
       "      <td>Total</td>\n",
       "      <td>0</td>\n",
       "      <td>Total</td>\n",
       "      <td>All firms</td>\n",
       "      <td>27]</td>\n",
       "    </tr>\n",
       "    <tr>\n",
       "      <th>2292</th>\n",
       "      <td>Minnesota</td>\n",
       "      <td>Business operations have ceased</td>\n",
       "      <td>46296</td>\n",
       "      <td>2817</td>\n",
       "      <td>0400000US27</td>\n",
       "      <td>0</td>\n",
       "      <td>Total for all sectors</td>\n",
       "      <td>1372367</td>\n",
       "      <td>CEASEOPS</td>\n",
       "      <td>Total</td>\n",
       "      <td>0</td>\n",
       "      <td>Total</td>\n",
       "      <td>All firms</td>\n",
       "      <td>27]</td>\n",
       "    </tr>\n",
       "    <tr>\n",
       "      <th>2293</th>\n",
       "      <td>Minnesota</td>\n",
       "      <td>Total reporting</td>\n",
       "      <td>1343105</td>\n",
       "      <td>63706</td>\n",
       "      <td>0400000US27</td>\n",
       "      <td>0</td>\n",
       "      <td>Total for all sectors</td>\n",
       "      <td>80430458</td>\n",
       "      <td>CEASEOPS</td>\n",
       "      <td>Total</td>\n",
       "      <td>0</td>\n",
       "      <td>Total</td>\n",
       "      <td>All firms</td>\n",
       "      <td>27]</td>\n",
       "    </tr>\n",
       "    <tr>\n",
       "      <th>2294</th>\n",
       "      <td>Minnesota</td>\n",
       "      <td>Operating status not reported</td>\n",
       "      <td>16403</td>\n",
       "      <td>481</td>\n",
       "      <td>0400000US27</td>\n",
       "      <td>0</td>\n",
       "      <td>Total for all sectors</td>\n",
       "      <td>2570837</td>\n",
       "      <td>CEASEOPS</td>\n",
       "      <td>Total</td>\n",
       "      <td>0</td>\n",
       "      <td>Total</td>\n",
       "      <td>All firms</td>\n",
       "      <td>27]]</td>\n",
       "    </tr>\n",
       "  </tbody>\n",
       "</table>\n",
       "<p>2295 rows × 14 columns</p>\n",
       "</div>"
      ],
      "text/plain": [
       "             name                    buschar_label      emp  firmpdemp  \\\n",
       "0     Mississippi                        All firms   920447      40856   \n",
       "1     Mississippi                         1 person    80964      10704   \n",
       "2     Mississippi                    2 to 4 people    59086       5956   \n",
       "3     Mississippi                   5 to 10 people    13497        360   \n",
       "4     Mississippi                11 or more people   106361        604   \n",
       "...           ...                              ...      ...        ...   \n",
       "2290    Minnesota                        All firms  2673014     113774   \n",
       "2291    Minnesota  Business is currently operating  1296808      60890   \n",
       "2292    Minnesota  Business operations have ceased    46296       2817   \n",
       "2293    Minnesota                  Total reporting  1343105      63706   \n",
       "2294    Minnesota    Operating status not reported    16403        481   \n",
       "\n",
       "           geo_id  industry_code               industry     payann  \\\n",
       "0     0400000US28              0  Total for all sectors   34137231   \n",
       "1     0400000US28              0  Total for all sectors    2835519   \n",
       "2     0400000US28              0  Total for all sectors    2031186   \n",
       "3     0400000US28              0  Total for all sectors     618245   \n",
       "4     0400000US28              0  Total for all sectors    4807141   \n",
       "...           ...            ...                    ...        ...   \n",
       "2290  0400000US27              0  Total for all sectors  146712564   \n",
       "2291  0400000US27              0  Total for all sectors   79058091   \n",
       "2292  0400000US27              0  Total for all sectors    1372367   \n",
       "2293  0400000US27              0  Total for all sectors   80430458   \n",
       "2294  0400000US27              0  Total for all sectors    2570837   \n",
       "\n",
       "     qdesc_label race_group_label  rcppdemp gender yibszfi_label state  \n",
       "0        OWNRNUM            Total         0  Total     All firms   28]  \n",
       "1        OWNRNUM            Total         0  Total     All firms   28]  \n",
       "2        OWNRNUM            Total         0  Total     All firms   28]  \n",
       "3        OWNRNUM            Total         0  Total     All firms   28]  \n",
       "4        OWNRNUM            Total         0  Total     All firms   28]  \n",
       "...          ...              ...       ...    ...           ...   ...  \n",
       "2290    CEASEOPS            Total         0  Total     All firms   27]  \n",
       "2291    CEASEOPS            Total         0  Total     All firms   27]  \n",
       "2292    CEASEOPS            Total         0  Total     All firms   27]  \n",
       "2293    CEASEOPS            Total         0  Total     All firms   27]  \n",
       "2294    CEASEOPS            Total         0  Total     All firms  27]]  \n",
       "\n",
       "[2295 rows x 14 columns]"
      ]
     },
     "execution_count": 45,
     "metadata": {},
     "output_type": "execute_result"
    }
   ],
   "source": [
    "bus_char_df[(bus_char_df.rcppdemp != '0')]"
   ]
  },
  {
   "cell_type": "code",
   "execution_count": 50,
   "id": "e0594ab3-56c5-45ef-a466-06051405f215",
   "metadata": {},
   "outputs": [
    {
     "data": {
      "text/html": [
       "<div>\n",
       "<style scoped>\n",
       "    .dataframe tbody tr th:only-of-type {\n",
       "        vertical-align: middle;\n",
       "    }\n",
       "\n",
       "    .dataframe tbody tr th {\n",
       "        vertical-align: top;\n",
       "    }\n",
       "\n",
       "    .dataframe thead th {\n",
       "        text-align: right;\n",
       "    }\n",
       "</style>\n",
       "<table border=\"1\" class=\"dataframe\">\n",
       "  <thead>\n",
       "    <tr style=\"text-align: right;\">\n",
       "      <th></th>\n",
       "      <th>name</th>\n",
       "      <th>geo_id</th>\n",
       "      <th>industry</th>\n",
       "      <th>race_group_label</th>\n",
       "      <th>gender</th>\n",
       "      <th>payann</th>\n",
       "      <th>firmpdemp</th>\n",
       "      <th>emp</th>\n",
       "      <th>avg_pay</th>\n",
       "    </tr>\n",
       "  </thead>\n",
       "  <tbody>\n",
       "    <tr>\n",
       "      <th>28</th>\n",
       "      <td>Mississippi</td>\n",
       "      <td>0400000US28</td>\n",
       "      <td>Manufacturing</td>\n",
       "      <td>Nonminority</td>\n",
       "      <td>Female</td>\n",
       "      <td>139662000</td>\n",
       "      <td>190</td>\n",
       "      <td>3690</td>\n",
       "      <td>37848.780488</td>\n",
       "    </tr>\n",
       "    <tr>\n",
       "      <th>29</th>\n",
       "      <td>Mississippi</td>\n",
       "      <td>0400000US28</td>\n",
       "      <td>Manufacturing</td>\n",
       "      <td>Nonminority</td>\n",
       "      <td>Male</td>\n",
       "      <td>1609367000</td>\n",
       "      <td>1087</td>\n",
       "      <td>39420</td>\n",
       "      <td>40826.154236</td>\n",
       "    </tr>\n",
       "    <tr>\n",
       "      <th>70</th>\n",
       "      <td>Mississippi</td>\n",
       "      <td>0400000US28</td>\n",
       "      <td>Mining, quarrying, and oil and gas extraction</td>\n",
       "      <td>Nonminority</td>\n",
       "      <td>Male</td>\n",
       "      <td>44703000</td>\n",
       "      <td>189</td>\n",
       "      <td>995</td>\n",
       "      <td>44927.638191</td>\n",
       "    </tr>\n",
       "    <tr>\n",
       "      <th>197</th>\n",
       "      <td>Mississippi</td>\n",
       "      <td>0400000US28</td>\n",
       "      <td>Construction</td>\n",
       "      <td>Nonminority</td>\n",
       "      <td>Male</td>\n",
       "      <td>1842077000</td>\n",
       "      <td>3375</td>\n",
       "      <td>38369</td>\n",
       "      <td>48009.512888</td>\n",
       "    </tr>\n",
       "    <tr>\n",
       "      <th>311</th>\n",
       "      <td>Mississippi</td>\n",
       "      <td>0400000US28</td>\n",
       "      <td>Utilities</td>\n",
       "      <td>White</td>\n",
       "      <td>Male</td>\n",
       "      <td>87096000</td>\n",
       "      <td>65</td>\n",
       "      <td>1321</td>\n",
       "      <td>65931.869796</td>\n",
       "    </tr>\n",
       "    <tr>\n",
       "      <th>...</th>\n",
       "      <td>...</td>\n",
       "      <td>...</td>\n",
       "      <td>...</td>\n",
       "      <td>...</td>\n",
       "      <td>...</td>\n",
       "      <td>...</td>\n",
       "      <td>...</td>\n",
       "      <td>...</td>\n",
       "      <td>...</td>\n",
       "    </tr>\n",
       "    <tr>\n",
       "      <th>86155</th>\n",
       "      <td>Minnesota</td>\n",
       "      <td>0400000US27</td>\n",
       "      <td>Health care and social assistance</td>\n",
       "      <td>White</td>\n",
       "      <td>Female</td>\n",
       "      <td>991327000</td>\n",
       "      <td>2511</td>\n",
       "      <td>36007</td>\n",
       "      <td>27531.507762</td>\n",
       "    </tr>\n",
       "    <tr>\n",
       "      <th>86156</th>\n",
       "      <td>Minnesota</td>\n",
       "      <td>0400000US27</td>\n",
       "      <td>Health care and social assistance</td>\n",
       "      <td>White</td>\n",
       "      <td>Male</td>\n",
       "      <td>2637768000</td>\n",
       "      <td>3857</td>\n",
       "      <td>72661</td>\n",
       "      <td>36302.390553</td>\n",
       "    </tr>\n",
       "    <tr>\n",
       "      <th>86157</th>\n",
       "      <td>Minnesota</td>\n",
       "      <td>0400000US27</td>\n",
       "      <td>Health care and social assistance</td>\n",
       "      <td>White</td>\n",
       "      <td>Equally male/female</td>\n",
       "      <td>425306000</td>\n",
       "      <td>944</td>\n",
       "      <td>13300</td>\n",
       "      <td>31977.894737</td>\n",
       "    </tr>\n",
       "    <tr>\n",
       "      <th>86182</th>\n",
       "      <td>Minnesota</td>\n",
       "      <td>0400000US27</td>\n",
       "      <td>Other services (except public administration)</td>\n",
       "      <td>Nonminority</td>\n",
       "      <td>Female</td>\n",
       "      <td>405091000</td>\n",
       "      <td>2061</td>\n",
       "      <td>16473</td>\n",
       "      <td>24591.209859</td>\n",
       "    </tr>\n",
       "    <tr>\n",
       "      <th>86184</th>\n",
       "      <td>Minnesota</td>\n",
       "      <td>0400000US27</td>\n",
       "      <td>Other services (except public administration)</td>\n",
       "      <td>Nonminority</td>\n",
       "      <td>Equally male/female</td>\n",
       "      <td>170888000</td>\n",
       "      <td>1254</td>\n",
       "      <td>6050</td>\n",
       "      <td>28245.950413</td>\n",
       "    </tr>\n",
       "  </tbody>\n",
       "</table>\n",
       "<p>4972 rows × 9 columns</p>\n",
       "</div>"
      ],
      "text/plain": [
       "              name       geo_id  \\\n",
       "28     Mississippi  0400000US28   \n",
       "29     Mississippi  0400000US28   \n",
       "70     Mississippi  0400000US28   \n",
       "197    Mississippi  0400000US28   \n",
       "311    Mississippi  0400000US28   \n",
       "...            ...          ...   \n",
       "86155    Minnesota  0400000US27   \n",
       "86156    Minnesota  0400000US27   \n",
       "86157    Minnesota  0400000US27   \n",
       "86182    Minnesota  0400000US27   \n",
       "86184    Minnesota  0400000US27   \n",
       "\n",
       "                                            industry race_group_label  \\\n",
       "28                                     Manufacturing      Nonminority   \n",
       "29                                     Manufacturing      Nonminority   \n",
       "70     Mining, quarrying, and oil and gas extraction      Nonminority   \n",
       "197                                     Construction      Nonminority   \n",
       "311                                        Utilities            White   \n",
       "...                                              ...              ...   \n",
       "86155              Health care and social assistance            White   \n",
       "86156              Health care and social assistance            White   \n",
       "86157              Health care and social assistance            White   \n",
       "86182  Other services (except public administration)      Nonminority   \n",
       "86184  Other services (except public administration)      Nonminority   \n",
       "\n",
       "                    gender      payann  firmpdemp    emp       avg_pay  \n",
       "28                  Female   139662000        190   3690  37848.780488  \n",
       "29                    Male  1609367000       1087  39420  40826.154236  \n",
       "70                    Male    44703000        189    995  44927.638191  \n",
       "197                   Male  1842077000       3375  38369  48009.512888  \n",
       "311                   Male    87096000         65   1321  65931.869796  \n",
       "...                    ...         ...        ...    ...           ...  \n",
       "86155               Female   991327000       2511  36007  27531.507762  \n",
       "86156                 Male  2637768000       3857  72661  36302.390553  \n",
       "86157  Equally male/female   425306000        944  13300  31977.894737  \n",
       "86182               Female   405091000       2061  16473  24591.209859  \n",
       "86184  Equally male/female   170888000       1254   6050  28245.950413  \n",
       "\n",
       "[4972 rows x 9 columns]"
      ]
     },
     "execution_count": 50,
     "metadata": {},
     "output_type": "execute_result"
    }
   ],
   "source": [
    "comp_sum_subset = comp_sum_df[(comp_sum_df.payann != 0) & (comp_sum_df.gender != 'Total') & (comp_sum_df.race_group_label != 'Total') & (comp_sum_df.industry_code != '00')]\n",
    "comp_sum_subset = comp_sum_subset[['name','geo_id','industry','race_group_label','gender','payann','firmpdemp','emp']]\n",
    "comp_sum_subset['payann'] = comp_sum_subset['payann'] * 1000\n",
    "comp_sum_subset['avg_pay'] = comp_sum_subset.apply(lambda row: row.payann/row.emp, axis = 1)\n",
    "comp_sum_subset"
   ]
  },
  {
   "cell_type": "code",
   "execution_count": 54,
   "id": "dad898cb-a92d-425c-a2a7-3517d4b36334",
   "metadata": {},
   "outputs": [
    {
     "data": {
      "text/html": [
       "<div>\n",
       "<style scoped>\n",
       "    .dataframe tbody tr th:only-of-type {\n",
       "        vertical-align: middle;\n",
       "    }\n",
       "\n",
       "    .dataframe tbody tr th {\n",
       "        vertical-align: top;\n",
       "    }\n",
       "\n",
       "    .dataframe thead th {\n",
       "        text-align: right;\n",
       "    }\n",
       "</style>\n",
       "<table border=\"1\" class=\"dataframe\">\n",
       "  <thead>\n",
       "    <tr style=\"text-align: right;\">\n",
       "      <th></th>\n",
       "      <th>max_pay</th>\n",
       "    </tr>\n",
       "    <tr>\n",
       "      <th>name</th>\n",
       "      <th></th>\n",
       "    </tr>\n",
       "  </thead>\n",
       "  <tbody>\n",
       "    <tr>\n",
       "      <th>Alabama</th>\n",
       "      <td>98009.140768</td>\n",
       "    </tr>\n",
       "    <tr>\n",
       "      <th>Alaska</th>\n",
       "      <td>225833.333333</td>\n",
       "    </tr>\n",
       "    <tr>\n",
       "      <th>Arizona</th>\n",
       "      <td>117559.891874</td>\n",
       "    </tr>\n",
       "    <tr>\n",
       "      <th>Arkansas</th>\n",
       "      <td>86929.801325</td>\n",
       "    </tr>\n",
       "    <tr>\n",
       "      <th>California</th>\n",
       "      <td>173478.226039</td>\n",
       "    </tr>\n",
       "    <tr>\n",
       "      <th>Colorado</th>\n",
       "      <td>94266.666667</td>\n",
       "    </tr>\n",
       "    <tr>\n",
       "      <th>Connecticut</th>\n",
       "      <td>215863.271852</td>\n",
       "    </tr>\n",
       "    <tr>\n",
       "      <th>Delaware</th>\n",
       "      <td>109482.758621</td>\n",
       "    </tr>\n",
       "    <tr>\n",
       "      <th>District of Columbia</th>\n",
       "      <td>124865.964912</td>\n",
       "    </tr>\n",
       "    <tr>\n",
       "      <th>Florida</th>\n",
       "      <td>141800.322711</td>\n",
       "    </tr>\n",
       "    <tr>\n",
       "      <th>Georgia</th>\n",
       "      <td>110145.251397</td>\n",
       "    </tr>\n",
       "    <tr>\n",
       "      <th>Hawaii</th>\n",
       "      <td>109974.429224</td>\n",
       "    </tr>\n",
       "    <tr>\n",
       "      <th>Idaho</th>\n",
       "      <td>58190.625000</td>\n",
       "    </tr>\n",
       "    <tr>\n",
       "      <th>Illinois</th>\n",
       "      <td>90254.648712</td>\n",
       "    </tr>\n",
       "    <tr>\n",
       "      <th>Indiana</th>\n",
       "      <td>100264.326531</td>\n",
       "    </tr>\n",
       "    <tr>\n",
       "      <th>Iowa</th>\n",
       "      <td>118480.974125</td>\n",
       "    </tr>\n",
       "    <tr>\n",
       "      <th>Kansas</th>\n",
       "      <td>88450.693374</td>\n",
       "    </tr>\n",
       "    <tr>\n",
       "      <th>Kentucky</th>\n",
       "      <td>68563.822526</td>\n",
       "    </tr>\n",
       "    <tr>\n",
       "      <th>Louisiana</th>\n",
       "      <td>208294.117647</td>\n",
       "    </tr>\n",
       "    <tr>\n",
       "      <th>Maine</th>\n",
       "      <td>78292.682927</td>\n",
       "    </tr>\n",
       "    <tr>\n",
       "      <th>Maryland</th>\n",
       "      <td>102454.545455</td>\n",
       "    </tr>\n",
       "    <tr>\n",
       "      <th>Massachusetts</th>\n",
       "      <td>210903.846154</td>\n",
       "    </tr>\n",
       "    <tr>\n",
       "      <th>Michigan</th>\n",
       "      <td>85666.571101</td>\n",
       "    </tr>\n",
       "    <tr>\n",
       "      <th>Minnesota</th>\n",
       "      <td>94484.641638</td>\n",
       "    </tr>\n",
       "    <tr>\n",
       "      <th>Mississippi</th>\n",
       "      <td>66480.247870</td>\n",
       "    </tr>\n",
       "    <tr>\n",
       "      <th>Missouri</th>\n",
       "      <td>181472.000000</td>\n",
       "    </tr>\n",
       "    <tr>\n",
       "      <th>Montana</th>\n",
       "      <td>83771.889401</td>\n",
       "    </tr>\n",
       "    <tr>\n",
       "      <th>Nebraska</th>\n",
       "      <td>98224.555735</td>\n",
       "    </tr>\n",
       "    <tr>\n",
       "      <th>Nevada</th>\n",
       "      <td>240047.244094</td>\n",
       "    </tr>\n",
       "    <tr>\n",
       "      <th>New Hampshire</th>\n",
       "      <td>165677.966102</td>\n",
       "    </tr>\n",
       "    <tr>\n",
       "      <th>New Jersey</th>\n",
       "      <td>155200.000000</td>\n",
       "    </tr>\n",
       "    <tr>\n",
       "      <th>New Mexico</th>\n",
       "      <td>101801.047120</td>\n",
       "    </tr>\n",
       "    <tr>\n",
       "      <th>New York</th>\n",
       "      <td>835569.169960</td>\n",
       "    </tr>\n",
       "    <tr>\n",
       "      <th>North Carolina</th>\n",
       "      <td>130366.795367</td>\n",
       "    </tr>\n",
       "    <tr>\n",
       "      <th>North Dakota</th>\n",
       "      <td>123423.791822</td>\n",
       "    </tr>\n",
       "    <tr>\n",
       "      <th>Ohio</th>\n",
       "      <td>97277.262552</td>\n",
       "    </tr>\n",
       "    <tr>\n",
       "      <th>Oklahoma</th>\n",
       "      <td>130549.668874</td>\n",
       "    </tr>\n",
       "    <tr>\n",
       "      <th>Oregon</th>\n",
       "      <td>115562.283737</td>\n",
       "    </tr>\n",
       "    <tr>\n",
       "      <th>Pennsylvania</th>\n",
       "      <td>166500.000000</td>\n",
       "    </tr>\n",
       "    <tr>\n",
       "      <th>Rhode Island</th>\n",
       "      <td>81778.846154</td>\n",
       "    </tr>\n",
       "    <tr>\n",
       "      <th>South Carolina</th>\n",
       "      <td>80907.961460</td>\n",
       "    </tr>\n",
       "    <tr>\n",
       "      <th>South Dakota</th>\n",
       "      <td>77914.968999</td>\n",
       "    </tr>\n",
       "    <tr>\n",
       "      <th>Tennessee</th>\n",
       "      <td>111042.105263</td>\n",
       "    </tr>\n",
       "    <tr>\n",
       "      <th>Texas</th>\n",
       "      <td>119122.715405</td>\n",
       "    </tr>\n",
       "    <tr>\n",
       "      <th>Utah</th>\n",
       "      <td>132297.268908</td>\n",
       "    </tr>\n",
       "    <tr>\n",
       "      <th>Vermont</th>\n",
       "      <td>65551.941238</td>\n",
       "    </tr>\n",
       "    <tr>\n",
       "      <th>Virginia</th>\n",
       "      <td>700149.019608</td>\n",
       "    </tr>\n",
       "    <tr>\n",
       "      <th>Washington</th>\n",
       "      <td>194701.901566</td>\n",
       "    </tr>\n",
       "    <tr>\n",
       "      <th>West Virginia</th>\n",
       "      <td>131112.068966</td>\n",
       "    </tr>\n",
       "    <tr>\n",
       "      <th>Wisconsin</th>\n",
       "      <td>105780.750373</td>\n",
       "    </tr>\n",
       "    <tr>\n",
       "      <th>Wyoming</th>\n",
       "      <td>91150.000000</td>\n",
       "    </tr>\n",
       "  </tbody>\n",
       "</table>\n",
       "</div>"
      ],
      "text/plain": [
       "                            max_pay\n",
       "name                               \n",
       "Alabama                98009.140768\n",
       "Alaska                225833.333333\n",
       "Arizona               117559.891874\n",
       "Arkansas               86929.801325\n",
       "California            173478.226039\n",
       "Colorado               94266.666667\n",
       "Connecticut           215863.271852\n",
       "Delaware              109482.758621\n",
       "District of Columbia  124865.964912\n",
       "Florida               141800.322711\n",
       "Georgia               110145.251397\n",
       "Hawaii                109974.429224\n",
       "Idaho                  58190.625000\n",
       "Illinois               90254.648712\n",
       "Indiana               100264.326531\n",
       "Iowa                  118480.974125\n",
       "Kansas                 88450.693374\n",
       "Kentucky               68563.822526\n",
       "Louisiana             208294.117647\n",
       "Maine                  78292.682927\n",
       "Maryland              102454.545455\n",
       "Massachusetts         210903.846154\n",
       "Michigan               85666.571101\n",
       "Minnesota              94484.641638\n",
       "Mississippi            66480.247870\n",
       "Missouri              181472.000000\n",
       "Montana                83771.889401\n",
       "Nebraska               98224.555735\n",
       "Nevada                240047.244094\n",
       "New Hampshire         165677.966102\n",
       "New Jersey            155200.000000\n",
       "New Mexico            101801.047120\n",
       "New York              835569.169960\n",
       "North Carolina        130366.795367\n",
       "North Dakota          123423.791822\n",
       "Ohio                   97277.262552\n",
       "Oklahoma              130549.668874\n",
       "Oregon                115562.283737\n",
       "Pennsylvania          166500.000000\n",
       "Rhode Island           81778.846154\n",
       "South Carolina         80907.961460\n",
       "South Dakota           77914.968999\n",
       "Tennessee             111042.105263\n",
       "Texas                 119122.715405\n",
       "Utah                  132297.268908\n",
       "Vermont                65551.941238\n",
       "Virginia              700149.019608\n",
       "Washington            194701.901566\n",
       "West Virginia         131112.068966\n",
       "Wisconsin             105780.750373\n",
       "Wyoming                91150.000000"
      ]
     },
     "execution_count": 54,
     "metadata": {},
     "output_type": "execute_result"
    }
   ],
   "source": [
    "comp_sum_subset_agg = comp_sum_subset.groupby(\n",
    "    by = ['name']\n",
    "        )[['avg_pay']].agg(max_pay = ('avg_pay','max'))\n",
    "\n",
    "comp_sum_subset_agg"
   ]
  },
  {
   "cell_type": "code",
   "execution_count": null,
   "id": "e985d37f-b884-4fae-8090-93acf3453633",
   "metadata": {},
   "outputs": [],
   "source": []
  },
  {
   "cell_type": "code",
   "execution_count": 14,
   "id": "3ae0d7a9-57ee-4f74-b485-dc2ea6bc443a",
   "metadata": {
    "jupyter": {
     "source_hidden": true
    },
    "tags": []
   },
   "outputs": [],
   "source": [
    "def jeds_first_plot(comp_sum_df):\n",
    "    import matplotlib.pyplot as plt\n",
    "    import seaborn as sns\n",
    "\n",
    "    targ1 = 23\n",
    "    targ2 = 52\n",
    "    targ1,targ2 = str(targ1), str(targ2)\n",
    "\n",
    "    gender_by_state_cs = comp_sum_df[\n",
    "        (comp_sum_df['industry_code'].isin([targ1, targ2]))\n",
    "        ].groupby(by = ['name','industry','gender']\n",
    "                 )[['gender']].agg('count').rename(columns = {'gender': 'gender_count'}).reset_index()\n",
    "\n",
    "    gender_by_state_cs.sort_values(by = ['name', 'industry', 'gender'], inplace = True)\n",
    "    gs = gender_by_state_cs\n",
    "\n",
    "    print('NOTE: Ratios are for each set of observations and not industry specific.')\n",
    "    print('Building Plots... Please Wait...')\n",
    "    fig, axs = plt.subplots(51,1, figsize=(15,200), sharex = False)\n",
    "    fig.suptitle('Ownership Gender in a Subset of Industries by State', fontsize = 30)\n",
    "    colors = {'Female':'#FD6320','Male':'#9567FE', 'Equally male/female': '#919584'}\n",
    "\n",
    "    states = sorted(comp_sum_df.name.unique().tolist())\n",
    "    for i, state in enumerate(states):\n",
    "        axs[i].set_title(state, fontsize = 20)\n",
    "\n",
    "        subset = gs[\n",
    "                (gs['name'] == state) &\n",
    "                (gs['gender'] != 'Total')\n",
    "            ] \n",
    "        industries = sorted(subset.industry.unique().tolist())\n",
    "        sns.barplot(data = subset, x = 'industry', y = 'gender_count', \n",
    "                    ax = axs[i], hue = 'gender', \n",
    "                    palette = colors, \n",
    "                    edgecolor = 'black')\n",
    "\n",
    "        axs[i].set_ylabel('')\n",
    "        axs[i].set_xlabel('')\n",
    "\n",
    "        font = {'color': 'w',\n",
    "                'weight': 'bold',\n",
    "                'size': 14,\n",
    "               }\n",
    "        if i % 3 == 0:\n",
    "            axs[i].text(-0.36,0.65, \"Equal Gender\\nOwnership\", fontdict = font)\n",
    "            axs[i].text(-0.05,0.65, \"Female\", fontdict = font)\n",
    "            axs[i].text(0.23,0.65, \"Male\", fontdict = font)\n",
    "\n",
    "        axs[i].get_legend().remove()\n",
    "        axs[i].tick_params(left = False)\n",
    "        axs[i].set_yticklabels('')\n",
    "\n",
    "        gender_count = subset['gender_count'].sum()\n",
    "        for c in axs[i].containers:\n",
    "            labels = [\n",
    "                f'{(h/gender_count)*100:0.1f}%' if (\n",
    "                    h := v.get_height()) > 0 else \"\" for v in c\n",
    "            ]\n",
    "\n",
    "            axs[i].bar_label(c,labels=labels,label_type = 'edge',fontsize = 17,color= 'black')\n",
    "        axs[i].tick_params(axis = 'x', labelsize = 18)\n",
    "\n",
    "    plt.tight_layout()\n",
    "    plt.subplots_adjust(hspace = 1,top = 0.97)\n",
    "    sns.despine(left = True, bottom = True)\n",
    "    print('Done... Displaying Plots...')\n",
    "\n",
    "    #plt.savefig('gender_ownership_state.pdf')\n",
    "#jeds_first_plot(comp_sum_df)  ## Uncomment to run the plot"
   ]
  },
  {
   "cell_type": "code",
   "execution_count": 5,
   "id": "0321cef3-ffab-4366-bc8e-cec51d63e46d",
   "metadata": {},
   "outputs": [
    {
     "name": "stderr",
     "output_type": "stream",
     "text": [
      "C:\\Users\\Work\\anaconda3\\lib\\site-packages\\pandas\\core\\frame.py:3641: SettingWithCopyWarning:\n",
      "\n",
      "\n",
      "A value is trying to be set on a copy of a slice from a DataFrame.\n",
      "Try using .loc[row_indexer,col_indexer] = value instead\n",
      "\n",
      "See the caveats in the documentation: https://pandas.pydata.org/pandas-docs/stable/user_guide/indexing.html#returning-a-view-versus-a-copy\n",
      "\n",
      "C:\\Users\\Work\\anaconda3\\lib\\site-packages\\pandas\\util\\_decorators.py:311: SettingWithCopyWarning:\n",
      "\n",
      "\n",
      "A value is trying to be set on a copy of a slice from a DataFrame\n",
      "\n",
      "See the caveats in the documentation: https://pandas.pydata.org/pandas-docs/stable/user_guide/indexing.html#returning-a-view-versus-a-copy\n",
      "\n"
     ]
    },
    {
     "data": {
      "application/vnd.plotly.v1+json": {
       "config": {
        "plotlyServerURL": "https://plot.ly"
       },
       "data": [
        {
         "alignmentgroup": "True",
         "customdata": [
          [
           393835
          ],
          [
           379524
          ],
          [
           353279
          ],
          [
           343219
          ],
          [
           309141
          ],
          [
           255919
          ],
          [
           193267
          ],
          [
           178341
          ],
          [
           154036
          ],
          [
           102342
          ],
          [
           47727
          ],
          [
           32011
          ]
         ],
         "hovertemplate": "importance= Very important<br>ratio=%{text}<br>reason=%{y}<br>responses=%{customdata[0]}<extra></extra>",
         "insidetextanchor": "middle",
         "legendgroup": " Very important",
         "marker": {
          "color": "#636efa",
          "pattern": {
           "shape": ""
          }
         },
         "name": " Very important",
         "offsetgroup": " Very important",
         "orientation": "h",
         "showlegend": true,
         "text": [
          73.28,
          69.91,
          65.3,
          63.31,
          57.05,
          47.78,
          35.7,
          32.94,
          28.66,
          18.95,
          9.15,
          5.97
         ],
         "textfont": {
          "color": "white"
         },
         "textposition": "inside",
         "type": "bar",
         "x": [
          73.28,
          69.91,
          65.3,
          63.31,
          57.05,
          47.78,
          35.7,
          32.94,
          28.66,
          18.95,
          9.15,
          5.97
         ],
         "xaxis": "x",
         "y": [
          "Greater income",
          "Wanted to be my own boss",
          "Balance work and family",
          "Flexible hours",
          "Best avenue for ideas",
          "Start my own business",
          "Work for self",
          "Friend or family role model",
          "Help my community",
          "Carry on family business",
          "Other",
          "Couldn't find a job"
         ],
         "yaxis": "y"
        },
        {
         "alignmentgroup": "True",
         "customdata": [
          [
           204618
          ],
          [
           197656
          ],
          [
           161993
          ],
          [
           158487
          ],
          [
           142380
          ],
          [
           127503
          ],
          [
           127010
          ],
          [
           105639
          ],
          [
           99891
          ],
          [
           68566
          ],
          [
           60180
          ],
          [
           38953
          ]
         ],
         "hovertemplate": "importance= Somewhat important<br>ratio=%{text}<br>reason=%{y}<br>responses=%{customdata[0]}<extra></extra>",
         "insidetextanchor": "middle",
         "legendgroup": " Somewhat important",
         "marker": {
          "color": "#EF553B",
          "pattern": {
           "shape": ""
          }
         },
         "name": " Somewhat important",
         "offsetgroup": " Somewhat important",
         "orientation": "h",
         "showlegend": true,
         "text": [
          37.8,
          36.78,
          30.24,
          29.25,
          26.3,
          23.57,
          23.43,
          19.46,
          18.59,
          12.7,
          11.23,
          7.46
         ],
         "textfont": {
          "color": "white"
         },
         "textposition": "inside",
         "type": "bar",
         "x": [
          37.8,
          36.78,
          30.24,
          29.25,
          26.3,
          23.57,
          23.43,
          19.46,
          18.59,
          12.7,
          11.23,
          7.46
         ],
         "xaxis": "x",
         "y": [
          "Work for self",
          "Help my community",
          "Start my own business",
          "Best avenue for ideas",
          "Friend or family role model",
          "Balance work and family",
          "Flexible hours",
          "Wanted to be my own boss",
          "Greater income",
          "Carry on family business",
          "Couldn't find a job",
          "Other"
         ],
         "yaxis": "y"
        },
        {
         "alignmentgroup": "True",
         "customdata": [
          [
           435167
          ],
          [
           443838
          ],
          [
           369140
          ],
          [
           220683
          ],
          [
           185687
          ],
          [
           143483
          ],
          [
           117725
          ],
          [
           74221
          ],
          [
           71858
          ],
          [
           60218
          ],
          [
           57743
          ],
          [
           43704
          ]
         ],
         "hovertemplate": "importance= Not important<br>ratio=%{text}<br>reason=%{y}<br>responses=%{customdata[0]}<extra></extra>",
         "insidetextanchor": "middle",
         "legendgroup": " Not important",
         "marker": {
          "color": "#00cc96",
          "pattern": {
           "shape": ""
          }
         },
         "name": " Not important",
         "offsetgroup": " Not important",
         "orientation": "h",
         "showlegend": true,
         "text": [
          83.39,
          82.8,
          68.35,
          40.76,
          34.55,
          26.5,
          21.98,
          13.7,
          13.26,
          11.13,
          10.64,
          8.13
         ],
         "textfont": {
          "color": "white"
         },
         "textposition": "inside",
         "type": "bar",
         "x": [
          83.39,
          82.8,
          68.35,
          40.76,
          34.55,
          26.5,
          21.98,
          13.7,
          13.26,
          11.13,
          10.64,
          8.13
         ],
         "xaxis": "x",
         "y": [
          "Other",
          "Couldn't find a job",
          "Carry on family business",
          "Friend or family role model",
          "Help my community",
          "Work for self",
          "Start my own business",
          "Best avenue for ideas",
          "Flexible hours",
          "Balance work and family",
          "Wanted to be my own boss",
          "Greater income"
         ],
         "yaxis": "y"
        }
       ],
       "layout": {
        "barmode": "relative",
        "height": 600,
        "legend": {
         "title": {
          "text": "importance"
         },
         "tracegroupgap": 0
        },
        "template": {
         "data": {
          "bar": [
           {
            "error_x": {
             "color": "#2a3f5f"
            },
            "error_y": {
             "color": "#2a3f5f"
            },
            "marker": {
             "line": {
              "color": "#E5ECF6",
              "width": 0.5
             },
             "pattern": {
              "fillmode": "overlay",
              "size": 10,
              "solidity": 0.2
             }
            },
            "type": "bar"
           }
          ],
          "barpolar": [
           {
            "marker": {
             "line": {
              "color": "#E5ECF6",
              "width": 0.5
             },
             "pattern": {
              "fillmode": "overlay",
              "size": 10,
              "solidity": 0.2
             }
            },
            "type": "barpolar"
           }
          ],
          "carpet": [
           {
            "aaxis": {
             "endlinecolor": "#2a3f5f",
             "gridcolor": "white",
             "linecolor": "white",
             "minorgridcolor": "white",
             "startlinecolor": "#2a3f5f"
            },
            "baxis": {
             "endlinecolor": "#2a3f5f",
             "gridcolor": "white",
             "linecolor": "white",
             "minorgridcolor": "white",
             "startlinecolor": "#2a3f5f"
            },
            "type": "carpet"
           }
          ],
          "choropleth": [
           {
            "colorbar": {
             "outlinewidth": 0,
             "ticks": ""
            },
            "type": "choropleth"
           }
          ],
          "contour": [
           {
            "colorbar": {
             "outlinewidth": 0,
             "ticks": ""
            },
            "colorscale": [
             [
              0,
              "#0d0887"
             ],
             [
              0.1111111111111111,
              "#46039f"
             ],
             [
              0.2222222222222222,
              "#7201a8"
             ],
             [
              0.3333333333333333,
              "#9c179e"
             ],
             [
              0.4444444444444444,
              "#bd3786"
             ],
             [
              0.5555555555555556,
              "#d8576b"
             ],
             [
              0.6666666666666666,
              "#ed7953"
             ],
             [
              0.7777777777777778,
              "#fb9f3a"
             ],
             [
              0.8888888888888888,
              "#fdca26"
             ],
             [
              1,
              "#f0f921"
             ]
            ],
            "type": "contour"
           }
          ],
          "contourcarpet": [
           {
            "colorbar": {
             "outlinewidth": 0,
             "ticks": ""
            },
            "type": "contourcarpet"
           }
          ],
          "heatmap": [
           {
            "colorbar": {
             "outlinewidth": 0,
             "ticks": ""
            },
            "colorscale": [
             [
              0,
              "#0d0887"
             ],
             [
              0.1111111111111111,
              "#46039f"
             ],
             [
              0.2222222222222222,
              "#7201a8"
             ],
             [
              0.3333333333333333,
              "#9c179e"
             ],
             [
              0.4444444444444444,
              "#bd3786"
             ],
             [
              0.5555555555555556,
              "#d8576b"
             ],
             [
              0.6666666666666666,
              "#ed7953"
             ],
             [
              0.7777777777777778,
              "#fb9f3a"
             ],
             [
              0.8888888888888888,
              "#fdca26"
             ],
             [
              1,
              "#f0f921"
             ]
            ],
            "type": "heatmap"
           }
          ],
          "heatmapgl": [
           {
            "colorbar": {
             "outlinewidth": 0,
             "ticks": ""
            },
            "colorscale": [
             [
              0,
              "#0d0887"
             ],
             [
              0.1111111111111111,
              "#46039f"
             ],
             [
              0.2222222222222222,
              "#7201a8"
             ],
             [
              0.3333333333333333,
              "#9c179e"
             ],
             [
              0.4444444444444444,
              "#bd3786"
             ],
             [
              0.5555555555555556,
              "#d8576b"
             ],
             [
              0.6666666666666666,
              "#ed7953"
             ],
             [
              0.7777777777777778,
              "#fb9f3a"
             ],
             [
              0.8888888888888888,
              "#fdca26"
             ],
             [
              1,
              "#f0f921"
             ]
            ],
            "type": "heatmapgl"
           }
          ],
          "histogram": [
           {
            "marker": {
             "pattern": {
              "fillmode": "overlay",
              "size": 10,
              "solidity": 0.2
             }
            },
            "type": "histogram"
           }
          ],
          "histogram2d": [
           {
            "colorbar": {
             "outlinewidth": 0,
             "ticks": ""
            },
            "colorscale": [
             [
              0,
              "#0d0887"
             ],
             [
              0.1111111111111111,
              "#46039f"
             ],
             [
              0.2222222222222222,
              "#7201a8"
             ],
             [
              0.3333333333333333,
              "#9c179e"
             ],
             [
              0.4444444444444444,
              "#bd3786"
             ],
             [
              0.5555555555555556,
              "#d8576b"
             ],
             [
              0.6666666666666666,
              "#ed7953"
             ],
             [
              0.7777777777777778,
              "#fb9f3a"
             ],
             [
              0.8888888888888888,
              "#fdca26"
             ],
             [
              1,
              "#f0f921"
             ]
            ],
            "type": "histogram2d"
           }
          ],
          "histogram2dcontour": [
           {
            "colorbar": {
             "outlinewidth": 0,
             "ticks": ""
            },
            "colorscale": [
             [
              0,
              "#0d0887"
             ],
             [
              0.1111111111111111,
              "#46039f"
             ],
             [
              0.2222222222222222,
              "#7201a8"
             ],
             [
              0.3333333333333333,
              "#9c179e"
             ],
             [
              0.4444444444444444,
              "#bd3786"
             ],
             [
              0.5555555555555556,
              "#d8576b"
             ],
             [
              0.6666666666666666,
              "#ed7953"
             ],
             [
              0.7777777777777778,
              "#fb9f3a"
             ],
             [
              0.8888888888888888,
              "#fdca26"
             ],
             [
              1,
              "#f0f921"
             ]
            ],
            "type": "histogram2dcontour"
           }
          ],
          "mesh3d": [
           {
            "colorbar": {
             "outlinewidth": 0,
             "ticks": ""
            },
            "type": "mesh3d"
           }
          ],
          "parcoords": [
           {
            "line": {
             "colorbar": {
              "outlinewidth": 0,
              "ticks": ""
             }
            },
            "type": "parcoords"
           }
          ],
          "pie": [
           {
            "automargin": true,
            "type": "pie"
           }
          ],
          "scatter": [
           {
            "marker": {
             "colorbar": {
              "outlinewidth": 0,
              "ticks": ""
             }
            },
            "type": "scatter"
           }
          ],
          "scatter3d": [
           {
            "line": {
             "colorbar": {
              "outlinewidth": 0,
              "ticks": ""
             }
            },
            "marker": {
             "colorbar": {
              "outlinewidth": 0,
              "ticks": ""
             }
            },
            "type": "scatter3d"
           }
          ],
          "scattercarpet": [
           {
            "marker": {
             "colorbar": {
              "outlinewidth": 0,
              "ticks": ""
             }
            },
            "type": "scattercarpet"
           }
          ],
          "scattergeo": [
           {
            "marker": {
             "colorbar": {
              "outlinewidth": 0,
              "ticks": ""
             }
            },
            "type": "scattergeo"
           }
          ],
          "scattergl": [
           {
            "marker": {
             "colorbar": {
              "outlinewidth": 0,
              "ticks": ""
             }
            },
            "type": "scattergl"
           }
          ],
          "scattermapbox": [
           {
            "marker": {
             "colorbar": {
              "outlinewidth": 0,
              "ticks": ""
             }
            },
            "type": "scattermapbox"
           }
          ],
          "scatterpolar": [
           {
            "marker": {
             "colorbar": {
              "outlinewidth": 0,
              "ticks": ""
             }
            },
            "type": "scatterpolar"
           }
          ],
          "scatterpolargl": [
           {
            "marker": {
             "colorbar": {
              "outlinewidth": 0,
              "ticks": ""
             }
            },
            "type": "scatterpolargl"
           }
          ],
          "scatterternary": [
           {
            "marker": {
             "colorbar": {
              "outlinewidth": 0,
              "ticks": ""
             }
            },
            "type": "scatterternary"
           }
          ],
          "surface": [
           {
            "colorbar": {
             "outlinewidth": 0,
             "ticks": ""
            },
            "colorscale": [
             [
              0,
              "#0d0887"
             ],
             [
              0.1111111111111111,
              "#46039f"
             ],
             [
              0.2222222222222222,
              "#7201a8"
             ],
             [
              0.3333333333333333,
              "#9c179e"
             ],
             [
              0.4444444444444444,
              "#bd3786"
             ],
             [
              0.5555555555555556,
              "#d8576b"
             ],
             [
              0.6666666666666666,
              "#ed7953"
             ],
             [
              0.7777777777777778,
              "#fb9f3a"
             ],
             [
              0.8888888888888888,
              "#fdca26"
             ],
             [
              1,
              "#f0f921"
             ]
            ],
            "type": "surface"
           }
          ],
          "table": [
           {
            "cells": {
             "fill": {
              "color": "#EBF0F8"
             },
             "line": {
              "color": "white"
             }
            },
            "header": {
             "fill": {
              "color": "#C8D4E3"
             },
             "line": {
              "color": "white"
             }
            },
            "type": "table"
           }
          ]
         },
         "layout": {
          "annotationdefaults": {
           "arrowcolor": "#2a3f5f",
           "arrowhead": 0,
           "arrowwidth": 1
          },
          "autotypenumbers": "strict",
          "coloraxis": {
           "colorbar": {
            "outlinewidth": 0,
            "ticks": ""
           }
          },
          "colorscale": {
           "diverging": [
            [
             0,
             "#8e0152"
            ],
            [
             0.1,
             "#c51b7d"
            ],
            [
             0.2,
             "#de77ae"
            ],
            [
             0.3,
             "#f1b6da"
            ],
            [
             0.4,
             "#fde0ef"
            ],
            [
             0.5,
             "#f7f7f7"
            ],
            [
             0.6,
             "#e6f5d0"
            ],
            [
             0.7,
             "#b8e186"
            ],
            [
             0.8,
             "#7fbc41"
            ],
            [
             0.9,
             "#4d9221"
            ],
            [
             1,
             "#276419"
            ]
           ],
           "sequential": [
            [
             0,
             "#0d0887"
            ],
            [
             0.1111111111111111,
             "#46039f"
            ],
            [
             0.2222222222222222,
             "#7201a8"
            ],
            [
             0.3333333333333333,
             "#9c179e"
            ],
            [
             0.4444444444444444,
             "#bd3786"
            ],
            [
             0.5555555555555556,
             "#d8576b"
            ],
            [
             0.6666666666666666,
             "#ed7953"
            ],
            [
             0.7777777777777778,
             "#fb9f3a"
            ],
            [
             0.8888888888888888,
             "#fdca26"
            ],
            [
             1,
             "#f0f921"
            ]
           ],
           "sequentialminus": [
            [
             0,
             "#0d0887"
            ],
            [
             0.1111111111111111,
             "#46039f"
            ],
            [
             0.2222222222222222,
             "#7201a8"
            ],
            [
             0.3333333333333333,
             "#9c179e"
            ],
            [
             0.4444444444444444,
             "#bd3786"
            ],
            [
             0.5555555555555556,
             "#d8576b"
            ],
            [
             0.6666666666666666,
             "#ed7953"
            ],
            [
             0.7777777777777778,
             "#fb9f3a"
            ],
            [
             0.8888888888888888,
             "#fdca26"
            ],
            [
             1,
             "#f0f921"
            ]
           ]
          },
          "colorway": [
           "#636efa",
           "#EF553B",
           "#00cc96",
           "#ab63fa",
           "#FFA15A",
           "#19d3f3",
           "#FF6692",
           "#B6E880",
           "#FF97FF",
           "#FECB52"
          ],
          "font": {
           "color": "#2a3f5f"
          },
          "geo": {
           "bgcolor": "white",
           "lakecolor": "white",
           "landcolor": "#E5ECF6",
           "showlakes": true,
           "showland": true,
           "subunitcolor": "white"
          },
          "hoverlabel": {
           "align": "left"
          },
          "hovermode": "closest",
          "mapbox": {
           "style": "light"
          },
          "paper_bgcolor": "white",
          "plot_bgcolor": "#E5ECF6",
          "polar": {
           "angularaxis": {
            "gridcolor": "white",
            "linecolor": "white",
            "ticks": ""
           },
           "bgcolor": "#E5ECF6",
           "radialaxis": {
            "gridcolor": "white",
            "linecolor": "white",
            "ticks": ""
           }
          },
          "scene": {
           "xaxis": {
            "backgroundcolor": "#E5ECF6",
            "gridcolor": "white",
            "gridwidth": 2,
            "linecolor": "white",
            "showbackground": true,
            "ticks": "",
            "zerolinecolor": "white"
           },
           "yaxis": {
            "backgroundcolor": "#E5ECF6",
            "gridcolor": "white",
            "gridwidth": 2,
            "linecolor": "white",
            "showbackground": true,
            "ticks": "",
            "zerolinecolor": "white"
           },
           "zaxis": {
            "backgroundcolor": "#E5ECF6",
            "gridcolor": "white",
            "gridwidth": 2,
            "linecolor": "white",
            "showbackground": true,
            "ticks": "",
            "zerolinecolor": "white"
           }
          },
          "shapedefaults": {
           "line": {
            "color": "#2a3f5f"
           }
          },
          "ternary": {
           "aaxis": {
            "gridcolor": "white",
            "linecolor": "white",
            "ticks": ""
           },
           "baxis": {
            "gridcolor": "white",
            "linecolor": "white",
            "ticks": ""
           },
           "bgcolor": "#E5ECF6",
           "caxis": {
            "gridcolor": "white",
            "linecolor": "white",
            "ticks": ""
           }
          },
          "title": {
           "x": 0.05
          },
          "xaxis": {
           "automargin": true,
           "gridcolor": "white",
           "linecolor": "white",
           "ticks": "",
           "title": {
            "standoff": 15
           },
           "zerolinecolor": "white",
           "zerolinewidth": 2
          },
          "yaxis": {
           "automargin": true,
           "gridcolor": "white",
           "linecolor": "white",
           "ticks": "",
           "title": {
            "standoff": 15
           },
           "zerolinecolor": "white",
           "zerolinewidth": 2
          }
         }
        },
        "title": {
         "text": "Finance and insurance"
        },
        "uniformtext": {
         "minsize": 12,
         "mode": "hide"
        },
        "width": 1000,
        "xaxis": {
         "anchor": "y",
         "domain": [
          0,
          1
         ],
         "range": [
          0,
          100
         ],
         "title": {
          "text": "Percent of Total"
         },
         "type": "linear"
        },
        "yaxis": {
         "anchor": "x",
         "autorange": true,
         "domain": [
          0,
          1
         ],
         "range": [
          -0.5,
          11.5
         ],
         "ticks": "outside",
         "title": {},
         "type": "category"
        }
       }
      },
      "image/png": "[encoded data removed]",
      "text/html": [
       "<div>                            <div id=\"c08d6653-5276-4f33-bce1-a722dec26444\" class=\"plotly-graph-div\" style=\"height:600px; width:1000px;\"></div>            <script type=\"text/javascript\">                require([\"plotly\"], function(Plotly) {                    window.PLOTLYENV=window.PLOTLYENV || {};                                    if (document.getElementById(\"c08d6653-5276-4f33-bce1-a722dec26444\")) {                    Plotly.newPlot(                        \"c08d6653-5276-4f33-bce1-a722dec26444\",                        [{\"alignmentgroup\":\"True\",\"customdata\":[[393835],[379524],[353279],[343219],[309141],[255919],[193267],[178341],[154036],[102342],[47727],[32011]],\"hovertemplate\":\"importance= Very important<br>ratio=%{text}<br>reason=%{y}<br>responses=%{customdata[0]}<extra></extra>\",\"legendgroup\":\" Very important\",\"marker\":{\"color\":\"#636efa\",\"pattern\":{\"shape\":\"\"}},\"name\":\" Very important\",\"offsetgroup\":\" Very important\",\"orientation\":\"h\",\"showlegend\":true,\"text\":[73.28,69.91,65.3,63.31,57.05,47.78,35.7,32.94,28.66,18.95,9.15,5.97],\"textposition\":\"inside\",\"x\":[73.28,69.91,65.3,63.31,57.05,47.78,35.7,32.94,28.66,18.95,9.15,5.97],\"xaxis\":\"x\",\"y\":[\"Greater income\",\"Wanted to be my own boss\",\"Balance work and family\",\"Flexible hours\",\"Best avenue for ideas\",\"Start my own business\",\"Work for self\",\"Friend or family role model\",\"Help my community\",\"Carry on family business\",\"Other\",\"Couldn't find a job\"],\"yaxis\":\"y\",\"type\":\"bar\",\"textfont\":{\"color\":\"white\"},\"insidetextanchor\":\"middle\"},{\"alignmentgroup\":\"True\",\"customdata\":[[204618],[197656],[161993],[158487],[142380],[127503],[127010],[105639],[99891],[68566],[60180],[38953]],\"hovertemplate\":\"importance= Somewhat important<br>ratio=%{text}<br>reason=%{y}<br>responses=%{customdata[0]}<extra></extra>\",\"legendgroup\":\" Somewhat important\",\"marker\":{\"color\":\"#EF553B\",\"pattern\":{\"shape\":\"\"}},\"name\":\" Somewhat important\",\"offsetgroup\":\" Somewhat important\",\"orientation\":\"h\",\"showlegend\":true,\"text\":[37.8,36.78,30.24,29.25,26.3,23.57,23.43,19.46,18.59,12.7,11.23,7.46],\"textposition\":\"inside\",\"x\":[37.8,36.78,30.24,29.25,26.3,23.57,23.43,19.46,18.59,12.7,11.23,7.46],\"xaxis\":\"x\",\"y\":[\"Work for self\",\"Help my community\",\"Start my own business\",\"Best avenue for ideas\",\"Friend or family role model\",\"Balance work and family\",\"Flexible hours\",\"Wanted to be my own boss\",\"Greater income\",\"Carry on family business\",\"Couldn't find a job\",\"Other\"],\"yaxis\":\"y\",\"type\":\"bar\",\"textfont\":{\"color\":\"white\"},\"insidetextanchor\":\"middle\"},{\"alignmentgroup\":\"True\",\"customdata\":[[435167],[443838],[369140],[220683],[185687],[143483],[117725],[74221],[71858],[60218],[57743],[43704]],\"hovertemplate\":\"importance= Not important<br>ratio=%{text}<br>reason=%{y}<br>responses=%{customdata[0]}<extra></extra>\",\"legendgroup\":\" Not important\",\"marker\":{\"color\":\"#00cc96\",\"pattern\":{\"shape\":\"\"}},\"name\":\" Not important\",\"offsetgroup\":\" Not important\",\"orientation\":\"h\",\"showlegend\":true,\"text\":[83.39,82.8,68.35,40.76,34.55,26.5,21.98,13.7,13.26,11.13,10.64,8.13],\"textposition\":\"inside\",\"x\":[83.39,82.8,68.35,40.76,34.55,26.5,21.98,13.7,13.26,11.13,10.64,8.13],\"xaxis\":\"x\",\"y\":[\"Other\",\"Couldn't find a job\",\"Carry on family business\",\"Friend or family role model\",\"Help my community\",\"Work for self\",\"Start my own business\",\"Best avenue for ideas\",\"Flexible hours\",\"Balance work and family\",\"Wanted to be my own boss\",\"Greater income\"],\"yaxis\":\"y\",\"type\":\"bar\",\"textfont\":{\"color\":\"white\"},\"insidetextanchor\":\"middle\"}],                        {\"template\":{\"data\":{\"bar\":[{\"error_x\":{\"color\":\"#2a3f5f\"},\"error_y\":{\"color\":\"#2a3f5f\"},\"marker\":{\"line\":{\"color\":\"#E5ECF6\",\"width\":0.5},\"pattern\":{\"fillmode\":\"overlay\",\"size\":10,\"solidity\":0.2}},\"type\":\"bar\"}],\"barpolar\":[{\"marker\":{\"line\":{\"color\":\"#E5ECF6\",\"width\":0.5},\"pattern\":{\"fillmode\":\"overlay\",\"size\":10,\"solidity\":0.2}},\"type\":\"barpolar\"}],\"carpet\":[{\"aaxis\":{\"endlinecolor\":\"#2a3f5f\",\"gridcolor\":\"white\",\"linecolor\":\"white\",\"minorgridcolor\":\"white\",\"startlinecolor\":\"#2a3f5f\"},\"baxis\":{\"endlinecolor\":\"#2a3f5f\",\"gridcolor\":\"white\",\"linecolor\":\"white\",\"minorgridcolor\":\"white\",\"startlinecolor\":\"#2a3f5f\"},\"type\":\"carpet\"}],\"choropleth\":[{\"colorbar\":{\"outlinewidth\":0,\"ticks\":\"\"},\"type\":\"choropleth\"}],\"contour\":[{\"colorbar\":{\"outlinewidth\":0,\"ticks\":\"\"},\"colorscale\":[[0.0,\"#0d0887\"],[0.1111111111111111,\"#46039f\"],[0.2222222222222222,\"#7201a8\"],[0.3333333333333333,\"#9c179e\"],[0.4444444444444444,\"#bd3786\"],[0.5555555555555556,\"#d8576b\"],[0.6666666666666666,\"#ed7953\"],[0.7777777777777778,\"#fb9f3a\"],[0.8888888888888888,\"#fdca26\"],[1.0,\"#f0f921\"]],\"type\":\"contour\"}],\"contourcarpet\":[{\"colorbar\":{\"outlinewidth\":0,\"ticks\":\"\"},\"type\":\"contourcarpet\"}],\"heatmap\":[{\"colorbar\":{\"outlinewidth\":0,\"ticks\":\"\"},\"colorscale\":[[0.0,\"#0d0887\"],[0.1111111111111111,\"#46039f\"],[0.2222222222222222,\"#7201a8\"],[0.3333333333333333,\"#9c179e\"],[0.4444444444444444,\"#bd3786\"],[0.5555555555555556,\"#d8576b\"],[0.6666666666666666,\"#ed7953\"],[0.7777777777777778,\"#fb9f3a\"],[0.8888888888888888,\"#fdca26\"],[1.0,\"#f0f921\"]],\"type\":\"heatmap\"}],\"heatmapgl\":[{\"colorbar\":{\"outlinewidth\":0,\"ticks\":\"\"},\"colorscale\":[[0.0,\"#0d0887\"],[0.1111111111111111,\"#46039f\"],[0.2222222222222222,\"#7201a8\"],[0.3333333333333333,\"#9c179e\"],[0.4444444444444444,\"#bd3786\"],[0.5555555555555556,\"#d8576b\"],[0.6666666666666666,\"#ed7953\"],[0.7777777777777778,\"#fb9f3a\"],[0.8888888888888888,\"#fdca26\"],[1.0,\"#f0f921\"]],\"type\":\"heatmapgl\"}],\"histogram\":[{\"marker\":{\"pattern\":{\"fillmode\":\"overlay\",\"size\":10,\"solidity\":0.2}},\"type\":\"histogram\"}],\"histogram2d\":[{\"colorbar\":{\"outlinewidth\":0,\"ticks\":\"\"},\"colorscale\":[[0.0,\"#0d0887\"],[0.1111111111111111,\"#46039f\"],[0.2222222222222222,\"#7201a8\"],[0.3333333333333333,\"#9c179e\"],[0.4444444444444444,\"#bd3786\"],[0.5555555555555556,\"#d8576b\"],[0.6666666666666666,\"#ed7953\"],[0.7777777777777778,\"#fb9f3a\"],[0.8888888888888888,\"#fdca26\"],[1.0,\"#f0f921\"]],\"type\":\"histogram2d\"}],\"histogram2dcontour\":[{\"colorbar\":{\"outlinewidth\":0,\"ticks\":\"\"},\"colorscale\":[[0.0,\"#0d0887\"],[0.1111111111111111,\"#46039f\"],[0.2222222222222222,\"#7201a8\"],[0.3333333333333333,\"#9c179e\"],[0.4444444444444444,\"#bd3786\"],[0.5555555555555556,\"#d8576b\"],[0.6666666666666666,\"#ed7953\"],[0.7777777777777778,\"#fb9f3a\"],[0.8888888888888888,\"#fdca26\"],[1.0,\"#f0f921\"]],\"type\":\"histogram2dcontour\"}],\"mesh3d\":[{\"colorbar\":{\"outlinewidth\":0,\"ticks\":\"\"},\"type\":\"mesh3d\"}],\"parcoords\":[{\"line\":{\"colorbar\":{\"outlinewidth\":0,\"ticks\":\"\"}},\"type\":\"parcoords\"}],\"pie\":[{\"automargin\":true,\"type\":\"pie\"}],\"scatter\":[{\"marker\":{\"colorbar\":{\"outlinewidth\":0,\"ticks\":\"\"}},\"type\":\"scatter\"}],\"scatter3d\":[{\"line\":{\"colorbar\":{\"outlinewidth\":0,\"ticks\":\"\"}},\"marker\":{\"colorbar\":{\"outlinewidth\":0,\"ticks\":\"\"}},\"type\":\"scatter3d\"}],\"scattercarpet\":[{\"marker\":{\"colorbar\":{\"outlinewidth\":0,\"ticks\":\"\"}},\"type\":\"scattercarpet\"}],\"scattergeo\":[{\"marker\":{\"colorbar\":{\"outlinewidth\":0,\"ticks\":\"\"}},\"type\":\"scattergeo\"}],\"scattergl\":[{\"marker\":{\"colorbar\":{\"outlinewidth\":0,\"ticks\":\"\"}},\"type\":\"scattergl\"}],\"scattermapbox\":[{\"marker\":{\"colorbar\":{\"outlinewidth\":0,\"ticks\":\"\"}},\"type\":\"scattermapbox\"}],\"scatterpolar\":[{\"marker\":{\"colorbar\":{\"outlinewidth\":0,\"ticks\":\"\"}},\"type\":\"scatterpolar\"}],\"scatterpolargl\":[{\"marker\":{\"colorbar\":{\"outlinewidth\":0,\"ticks\":\"\"}},\"type\":\"scatterpolargl\"}],\"scatterternary\":[{\"marker\":{\"colorbar\":{\"outlinewidth\":0,\"ticks\":\"\"}},\"type\":\"scatterternary\"}],\"surface\":[{\"colorbar\":{\"outlinewidth\":0,\"ticks\":\"\"},\"colorscale\":[[0.0,\"#0d0887\"],[0.1111111111111111,\"#46039f\"],[0.2222222222222222,\"#7201a8\"],[0.3333333333333333,\"#9c179e\"],[0.4444444444444444,\"#bd3786\"],[0.5555555555555556,\"#d8576b\"],[0.6666666666666666,\"#ed7953\"],[0.7777777777777778,\"#fb9f3a\"],[0.8888888888888888,\"#fdca26\"],[1.0,\"#f0f921\"]],\"type\":\"surface\"}],\"table\":[{\"cells\":{\"fill\":{\"color\":\"#EBF0F8\"},\"line\":{\"color\":\"white\"}},\"header\":{\"fill\":{\"color\":\"#C8D4E3\"},\"line\":{\"color\":\"white\"}},\"type\":\"table\"}]},\"layout\":{\"annotationdefaults\":{\"arrowcolor\":\"#2a3f5f\",\"arrowhead\":0,\"arrowwidth\":1},\"autotypenumbers\":\"strict\",\"coloraxis\":{\"colorbar\":{\"outlinewidth\":0,\"ticks\":\"\"}},\"colorscale\":{\"diverging\":[[0,\"#8e0152\"],[0.1,\"#c51b7d\"],[0.2,\"#de77ae\"],[0.3,\"#f1b6da\"],[0.4,\"#fde0ef\"],[0.5,\"#f7f7f7\"],[0.6,\"#e6f5d0\"],[0.7,\"#b8e186\"],[0.8,\"#7fbc41\"],[0.9,\"#4d9221\"],[1,\"#276419\"]],\"sequential\":[[0.0,\"#0d0887\"],[0.1111111111111111,\"#46039f\"],[0.2222222222222222,\"#7201a8\"],[0.3333333333333333,\"#9c179e\"],[0.4444444444444444,\"#bd3786\"],[0.5555555555555556,\"#d8576b\"],[0.6666666666666666,\"#ed7953\"],[0.7777777777777778,\"#fb9f3a\"],[0.8888888888888888,\"#fdca26\"],[1.0,\"#f0f921\"]],\"sequentialminus\":[[0.0,\"#0d0887\"],[0.1111111111111111,\"#46039f\"],[0.2222222222222222,\"#7201a8\"],[0.3333333333333333,\"#9c179e\"],[0.4444444444444444,\"#bd3786\"],[0.5555555555555556,\"#d8576b\"],[0.6666666666666666,\"#ed7953\"],[0.7777777777777778,\"#fb9f3a\"],[0.8888888888888888,\"#fdca26\"],[1.0,\"#f0f921\"]]},\"colorway\":[\"#636efa\",\"#EF553B\",\"#00cc96\",\"#ab63fa\",\"#FFA15A\",\"#19d3f3\",\"#FF6692\",\"#B6E880\",\"#FF97FF\",\"#FECB52\"],\"font\":{\"color\":\"#2a3f5f\"},\"geo\":{\"bgcolor\":\"white\",\"lakecolor\":\"white\",\"landcolor\":\"#E5ECF6\",\"showlakes\":true,\"showland\":true,\"subunitcolor\":\"white\"},\"hoverlabel\":{\"align\":\"left\"},\"hovermode\":\"closest\",\"mapbox\":{\"style\":\"light\"},\"paper_bgcolor\":\"white\",\"plot_bgcolor\":\"#E5ECF6\",\"polar\":{\"angularaxis\":{\"gridcolor\":\"white\",\"linecolor\":\"white\",\"ticks\":\"\"},\"bgcolor\":\"#E5ECF6\",\"radialaxis\":{\"gridcolor\":\"white\",\"linecolor\":\"white\",\"ticks\":\"\"}},\"scene\":{\"xaxis\":{\"backgroundcolor\":\"#E5ECF6\",\"gridcolor\":\"white\",\"gridwidth\":2,\"linecolor\":\"white\",\"showbackground\":true,\"ticks\":\"\",\"zerolinecolor\":\"white\"},\"yaxis\":{\"backgroundcolor\":\"#E5ECF6\",\"gridcolor\":\"white\",\"gridwidth\":2,\"linecolor\":\"white\",\"showbackground\":true,\"ticks\":\"\",\"zerolinecolor\":\"white\"},\"zaxis\":{\"backgroundcolor\":\"#E5ECF6\",\"gridcolor\":\"white\",\"gridwidth\":2,\"linecolor\":\"white\",\"showbackground\":true,\"ticks\":\"\",\"zerolinecolor\":\"white\"}},\"shapedefaults\":{\"line\":{\"color\":\"#2a3f5f\"}},\"ternary\":{\"aaxis\":{\"gridcolor\":\"white\",\"linecolor\":\"white\",\"ticks\":\"\"},\"baxis\":{\"gridcolor\":\"white\",\"linecolor\":\"white\",\"ticks\":\"\"},\"bgcolor\":\"#E5ECF6\",\"caxis\":{\"gridcolor\":\"white\",\"linecolor\":\"white\",\"ticks\":\"\"}},\"title\":{\"x\":0.05},\"xaxis\":{\"automargin\":true,\"gridcolor\":\"white\",\"linecolor\":\"white\",\"ticks\":\"\",\"title\":{\"standoff\":15},\"zerolinecolor\":\"white\",\"zerolinewidth\":2},\"yaxis\":{\"automargin\":true,\"gridcolor\":\"white\",\"linecolor\":\"white\",\"ticks\":\"\",\"title\":{\"standoff\":15},\"zerolinecolor\":\"white\",\"zerolinewidth\":2}}},\"xaxis\":{\"anchor\":\"y\",\"domain\":[0.0,1.0],\"title\":{\"text\":\"Percent of Total\"},\"range\":[0,100]},\"yaxis\":{\"anchor\":\"x\",\"domain\":[0.0,1.0],\"title\":{},\"ticks\":\"outside\"},\"legend\":{\"title\":{\"text\":\"importance\"},\"tracegroupgap\":0},\"title\":{\"text\":\"Finance and insurance\"},\"barmode\":\"relative\",\"height\":600,\"width\":1000,\"uniformtext\":{\"minsize\":12,\"mode\":\"hide\"}},                        {\"responsive\": true}                    ).then(function(){\n",
       "                            \n",
       "var gd = document.getElementById('c08d6653-5276-4f33-bce1-a722dec26444');\n",
       "var x = new MutationObserver(function (mutations, observer) {{\n",
       "        var display = window.getComputedStyle(gd).display;\n",
       "        if (!display || display === 'none') {{\n",
       "            console.log([gd, 'removed!']);\n",
       "            Plotly.purge(gd);\n",
       "            observer.disconnect();\n",
       "        }}\n",
       "}});\n",
       "\n",
       "// Listen for the removal of the full notebook cells\n",
       "var notebookContainer = gd.closest('#notebook-container');\n",
       "if (notebookContainer) {{\n",
       "    x.observe(notebookContainer, {childList: true});\n",
       "}}\n",
       "\n",
       "// Listen for the clearing of the current output cell\n",
       "var outputEl = gd.closest('.output');\n",
       "if (outputEl) {{\n",
       "    x.observe(outputEl, {childList: true});\n",
       "}}\n",
       "\n",
       "                        })                };                });            </script>        </div>"
      ]
     },
     "metadata": {},
     "output_type": "display_data"
    }
   ],
   "source": [
    "reason_owned = bus_own_df[\n",
    "    (bus_own_df['qdesc_label'] == 'REASONOWN') &\n",
    "    (~bus_own_df['industry'].str.contains('Total')) &\n",
    "    (~bus_own_df['gender'].str.contains('All')) &\n",
    "    (bus_own_df['ownchar_label'].str.contains(':'))]\n",
    "\n",
    "reason_owned[['reason','importance']] = reason_owned.apply(\n",
    "    lambda row: row['ownchar_label'].split(\":\"), axis = 1, result_type = 'expand'\n",
    ")\n",
    "\n",
    "reason_owned = reason_owned[['industry','gender','reason','importance','ownpdemp']]\n",
    "\n",
    "grouped_reason = reason_owned.groupby(\n",
    "    by = ['industry','reason','importance'])[['ownpdemp']].agg(\n",
    "    responses = ('ownpdemp', 'sum')\n",
    ")\n",
    "\n",
    "grouped_reason['ratio'] = 100 * (grouped_reason['responses'] / grouped_reason.groupby(level = [0,1])['responses'].transform('sum'))\n",
    "grouped_reason['ratio'] = grouped_reason['ratio'].round(2)\n",
    "grouped_reason.reset_index(inplace = True)\n",
    "\n",
    "accom_subset = grouped_reason[(grouped_reason['industry'].str.contains('inanc'))]\n",
    "accom_subset.sort_values(by = ['importance','ratio'], ascending = False, inplace = True)\n",
    "\n",
    "picked_industry = accom_subset['industry'].unique().tolist()[0]\n",
    "\n",
    "fig = px.bar(accom_subset, x = 'ratio', y = 'reason', color = 'importance',\n",
    "            width = 1000, height = 600, orientation = 'h', title = picked_industry,\n",
    "             hover_data = ['responses','ratio'], text = 'ratio'\n",
    "            )\n",
    "fig.update_layout(yaxis_title = None)\n",
    "\n",
    "fig.update_traces(textposition = 'inside', insidetextanchor = 'middle', textfont = {'color': 'white'})\n",
    "fig.update_yaxes(ticks = 'outside')\n",
    "fig.update_layout(xaxis_title = \"Percent of Total\", uniformtext_minsize = 12,\n",
    "                 uniformtext_mode = 'hide')\n",
    "\n",
    "fig.update_xaxes(range = [0,100])\n",
    "\n",
    "fig.show()"
   ]
  },
  {
   "cell_type": "code",
   "execution_count": null,
   "id": "d902123f-3431-4b4c-bde0-fd4dd89fa574",
   "metadata": {},
   "outputs": [],
   "source": []
  },
  {
   "cell_type": "code",
   "execution_count": null,
   "id": "852002f7-ae54-46d5-856f-60890c879ef8",
   "metadata": {},
   "outputs": [],
   "source": []
  }
 ],
 "metadata": {
  "kernelspec": {
   "display_name": "Python 3 (ipykernel)",
   "language": "python",
   "name": "python3"
  },
  "language_info": {
   "codemirror_mode": {
    "name": "ipython",
    "version": 3
   },
   "file_extension": ".py",
   "mimetype": "text/x-python",
   "name": "python",
   "nbconvert_exporter": "python",
   "pygments_lexer": "ipython3",
   "version": "3.9.7"
  }
 },
 "nbformat": 4,
 "nbformat_minor": 5
}
