{
 "cells": [
  {
   "cell_type": "code",
   "execution_count": 1,
   "id": "da7a57cf-60a8-4a28-adcb-06f2a9a0cb4d",
   "metadata": {},
   "outputs": [],
   "source": [
    "import explain # Helper for clarifying dataframe information"
   ]
  },
  {
   "cell_type": "code",
   "execution_count": 2,
   "id": "e941c6ac-021a-4c5f-9058-a9df10d87b4f",
   "metadata": {},
   "outputs": [
    {
     "name": "stdout",
     "output_type": "stream",
     "text": [
      "Help on module explain:\n",
      "\n",
      "NAME\n",
      "    explain - This modue is intended to assist with clarifying any data or variables that are present in the notebook.\n",
      "\n",
      "DESCRIPTION\n",
      "    It consists of a function that returns information based on key/value pairs. The key is the variable name, \n",
      "    and the value is the explanation of that variable.\n",
      "    \n",
      "    The indicator before the variable explanation (i.e. \"DF -->\") refers to the type of object that is referenced.\n",
      "    \n",
      "    To use the function, just call explain.what_is() with no parameters.\n",
      "\n",
      "FUNCTIONS\n",
      "    what_is()\n",
      "        Takes no parameters. Accepts user input and prints a response.\n",
      "\n",
      "FILE\n",
      "    c:\\users\\work\\desktop\\python\\dev10\\assessments\\abs_group_assessment\\explain.py\n",
      "\n",
      "\n"
     ]
    }
   ],
   "source": [
    "help(explain)"
   ]
  },
  {
   "cell_type": "code",
   "execution_count": 3,
   "id": "1c14ceac-5b34-4c18-b373-03f50d2e565c",
   "metadata": {},
   "outputs": [
    {
     "data": {
      "text/plain": [
       "<function explain.what_is()>"
      ]
     },
     "execution_count": 3,
     "metadata": {},
     "output_type": "execute_result"
    }
   ],
   "source": []
  },
  {
   "cell_type": "code",
   "execution_count": null,
   "id": "fa34818e-f5cd-4e6a-823e-210b6ce96aa9",
   "metadata": {},
   "outputs": [],
   "source": []
  }
 ],
 "metadata": {
  "kernelspec": {
   "display_name": "Python 3 (ipykernel)",
   "language": "python",
   "name": "python3"
  },
  "language_info": {
   "codemirror_mode": {
    "name": "ipython",
    "version": 3
   },
   "file_extension": ".py",
   "mimetype": "text/x-python",
   "name": "python",
   "nbconvert_exporter": "python",
   "pygments_lexer": "ipython3",
   "version": "3.9.7"
  }
 },
 "nbformat": 4,
 "nbformat_minor": 5
}
