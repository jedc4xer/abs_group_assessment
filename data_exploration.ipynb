{
 "cells": [
  {
   "cell_type": "markdown",
   "id": "b1c36b4a-6214-4ba8-900d-d08f5ad76c22",
   "metadata": {},
   "source": [
    "# Annual Business Survey 2019\n",
    "## Group Assessment - Module 08"
   ]
  },
  {
   "cell_type": "markdown",
   "id": "784a4563-2aca-4022-90ef-bfbb3d518f7e",
   "metadata": {
    "jupyter": {
     "source_hidden": true
    },
    "tags": []
   },
   "source": []
  },
  {
   "cell_type": "markdown",
   "id": "61d62564-7f45-4d60-ae25-67ffeb0550f7",
   "metadata": {},
   "source": [
    "## ETL Report\n",
    "#### Introduction\n",
    "\n",
    "- In this portion, we will dicuss the problems or questions that we are trying to solve or answer. \n",
    "    We will identify the sources of our data and describe why the data needs to be transformed.\n",
    "    \n",
    "#### Data Sources\n",
    "\n",
    "- In this portion we will be more specific about where we found the data, when we accessed it, and we will cite any sources.\n",
    "\n",
    "#### Extraction\n",
    "\n",
    "- In this portion we will show how we got our data, show aspects of the data consumption process and indicate the order of the process."
   ]
  },
  {
   "cell_type": "code",
   "execution_count": 19,
   "id": "ba6382de-0e6d-4039-922a-8ef29d824568",
   "metadata": {},
   "outputs": [],
   "source": [
    "import pandas as pd\n",
    "\n",
    "tech_variables = 'https://api.census.gov/data/2018/abstcb/variables.html'\n",
    "owner_variables = 'https://api.census.gov/data/2018/abscbo/variables.html'\n",
    "characteristics_variables = 'https://api.census.gov/data/2018/abscb/variables.html'\n",
    "company_summary_variables = 'https://api.census.gov/data/2018/abscs/variables.html'\n"
   ]
  },
  {
   "cell_type": "markdown",
   "id": "8cf9d2c7-de27-4f04-89a3-841448a80583",
   "metadata": {},
   "source": [
    "### Get Tables of Variables"
   ]
  },
  {
   "cell_type": "code",
   "execution_count": 20,
   "id": "fa3bde3f-8107-4bc0-aa21-9e7f18d67437",
   "metadata": {},
   "outputs": [],
   "source": [
    "tech_vars = pd.read_html(tech_variables)[0]\n",
    "owner_vars = pd.read_html(owner_variables)[0]\n",
    "characteristic_vars = pd.read_html(characteristics_variables)[0]\n",
    "company_summary_vars = pd.read_html(company_summary_variables)[0]\n",
    "\n",
    "tech_vars = tech_vars[[_ for _ in tech_vars.columns[:2]]]\n",
    "owner_vars = owner_vars[[_ for _ in owner_vars.columns[:2]]]\n",
    "characteristic_vars = characteristic_vars[[_ for _ in characteristic_vars.columns[:2]]]\n",
    "company_summary_vars = company_summary_vars[[_ for _ in company_summary_vars.columns[:2]]] \n",
    "\n",
    "tech_vars.rename(columns = {'Label': 'Tech Labels'}, inplace = True)\n",
    "owner_vars.rename(columns = {'Label': 'Owner Labels'}, inplace = True)\n",
    "characteristic_vars.rename(columns = {'Label': 'Characteristic Labels'}, inplace = True)\n",
    "company_summary_vars.rename(columns = {'Label': 'Company Summary Labels'}, inplace = True)"
   ]
  },
  {
   "cell_type": "code",
   "execution_count": 123,
   "id": "0ab83092-c85f-423a-870f-0b436d102e1e",
   "metadata": {},
   "outputs": [],
   "source": [
    "grouped_tables = pd.merge(tech_vars, owner_vars, left_on = 'Name', right_on = 'Name', how = 'outer')\n",
    "grouped_tables = pd.merge(grouped_tables, characteristic_vars, left_on = 'Name', right_on = 'Name', how = 'outer')\n",
    "grouped_tables = pd.merge(grouped_tables, company_summary_vars , left_on = 'Name', right_on = 'Name', how = 'outer')\n",
    "\n",
    "grouped_tables.fillna(\"-\", inplace = True)\n",
    "\n",
    "grouped_tables = grouped_tables[(~grouped_tables['Tech Labels'].str.contains('Standard error|standard error'))]\n",
    "grouped_tables = grouped_tables[(~grouped_tables['Owner Labels'].str.contains('Standard error|standard error'))]\n",
    "grouped_tables = grouped_tables[(~grouped_tables['Characteristic Labels'].str.contains('Standard error|standard error'))]\n",
    "grouped_tables = grouped_tables[(~grouped_tables['Company Summary Labels'].str.contains('Standard error|standard error'))]\n",
    "\n",
    "grouped_tables.reset_index(drop = True, inplace = True)\n",
    "grouped_tables = grouped_tables[:-2].sort_values(by = 'Name')\n",
    "grouped_tables = grouped_tables[(~grouped_tables['Name'].str.contains('variables'))].reset_index(drop = True)\n",
    "\n",
    "# In the segment of code below, we are creating a list of variables that are common to all tables.\n",
    "# For example, OWNER_ETH is also noted as ETH_GROUP, so I am creating a new variable that indicates they are similar.\n",
    "def clean_var_names(var_name):\n",
    "    if 'OWNER_' in var_name:\n",
    "        var_name = var_name.replace('OWNER_',\"\")\n",
    "    elif ('OWN' in var_name and 'CHAR' not in var_name and 'PDEMP' not in var_name):\n",
    "        var_name = var_name.replace('OWN',\"\")\n",
    "    \n",
    "    if var_name in ['ETH','RACE','SEX','VET']:\n",
    "        var_name = var_name + \"_GROUP\"\n",
    "        \n",
    "    return var_name\n",
    "\n",
    "grouped_tables['Common_Vars'] = grouped_tables['Name'].apply(lambda x: clean_var_names(x))\n",
    "grouped_tables = grouped_tables[['Name','Common_Vars','Tech Labels','Owner Labels','Characteristic Labels','Company Summary Labels']]\n",
    "grouped_tables.sort_values(by = 'Common_Vars', inplace = True)"
   ]
  },
  {
   "cell_type": "markdown",
   "id": "478c80f6-caba-4558-8f21-7d78a5121599",
   "metadata": {},
   "source": [
    "##### Define which variables are common and could be used to merge."
   ]
  },
  {
   "cell_type": "code",
   "execution_count": 127,
   "id": "1369eb22-c652-4075-afe9-3b465a85eaab",
   "metadata": {},
   "outputs": [],
   "source": [
    "possible_merge_options = grouped_tables[grouped_tables.apply(lambda x: not x.str.contains(\"-\").any(), axis = 1)]\n",
    "common_vars = [_.lower() for _ in possible_merge_options.Common_Vars.tolist()]"
   ]
  },
  {
   "cell_type": "code",
   "execution_count": 128,
   "id": "53a72b41-1cd7-4520-b4ae-37f75fa887c0",
   "metadata": {},
   "outputs": [
    {
     "name": "stdout",
     "output_type": "stream",
     "text": [
      "\n",
      "------ Displaying top 10 rows of variable tables. ------\n",
      "\n"
     ]
    },
    {
     "data": {
      "text/html": [
       "<div>\n",
       "<style scoped>\n",
       "    .dataframe tbody tr th:only-of-type {\n",
       "        vertical-align: middle;\n",
       "    }\n",
       "\n",
       "    .dataframe tbody tr th {\n",
       "        vertical-align: top;\n",
       "    }\n",
       "\n",
       "    .dataframe thead th {\n",
       "        text-align: right;\n",
       "    }\n",
       "</style>\n",
       "<table border=\"1\" class=\"dataframe\">\n",
       "  <thead>\n",
       "    <tr style=\"text-align: right;\">\n",
       "      <th></th>\n",
       "      <th>Name</th>\n",
       "      <th>Common_Vars</th>\n",
       "      <th>Tech Labels</th>\n",
       "      <th>Owner Labels</th>\n",
       "      <th>Characteristic Labels</th>\n",
       "      <th>Company Summary Labels</th>\n",
       "    </tr>\n",
       "  </thead>\n",
       "  <tbody>\n",
       "    <tr>\n",
       "      <th>0</th>\n",
       "      <td>BUSCHAR</td>\n",
       "      <td>BUSCHAR</td>\n",
       "      <td>-</td>\n",
       "      <td>-</td>\n",
       "      <td>Business characteristic code</td>\n",
       "      <td>-</td>\n",
       "    </tr>\n",
       "    <tr>\n",
       "      <th>1</th>\n",
       "      <td>CBSA</td>\n",
       "      <td>CBSA</td>\n",
       "      <td>-</td>\n",
       "      <td>Geography</td>\n",
       "      <td>Geography</td>\n",
       "      <td>Geography</td>\n",
       "    </tr>\n",
       "    <tr>\n",
       "      <th>2</th>\n",
       "      <td>EMP</td>\n",
       "      <td>EMP</td>\n",
       "      <td>Number of employees</td>\n",
       "      <td>-</td>\n",
       "      <td>Number of employees</td>\n",
       "      <td>Number of employees</td>\n",
       "    </tr>\n",
       "    <tr>\n",
       "      <th>3</th>\n",
       "      <td>EMPSZFI</td>\n",
       "      <td>EMPSZFI</td>\n",
       "      <td>-</td>\n",
       "      <td>-</td>\n",
       "      <td>Employment size of firms code</td>\n",
       "      <td>Employment size of firms code</td>\n",
       "    </tr>\n",
       "    <tr>\n",
       "      <th>4</th>\n",
       "      <td>EMP_PCT</td>\n",
       "      <td>EMP_PCT</td>\n",
       "      <td>Percent of employees (%)</td>\n",
       "      <td>-</td>\n",
       "      <td>Percent of employees (%)</td>\n",
       "      <td>-</td>\n",
       "    </tr>\n",
       "    <tr>\n",
       "      <th>22</th>\n",
       "      <td>OWNER_ETH</td>\n",
       "      <td>ETH_GROUP</td>\n",
       "      <td>-</td>\n",
       "      <td>Ethnicity code</td>\n",
       "      <td>-</td>\n",
       "      <td>-</td>\n",
       "    </tr>\n",
       "    <tr>\n",
       "      <th>5</th>\n",
       "      <td>ETH_GROUP</td>\n",
       "      <td>ETH_GROUP</td>\n",
       "      <td>Ethnicity code</td>\n",
       "      <td>-</td>\n",
       "      <td>Ethnicity code</td>\n",
       "      <td>Ethnicity code</td>\n",
       "    </tr>\n",
       "    <tr>\n",
       "      <th>6</th>\n",
       "      <td>FACTORS_P</td>\n",
       "      <td>FACTORS_P</td>\n",
       "      <td>Factors adversely affecting technology product...</td>\n",
       "      <td>-</td>\n",
       "      <td>-</td>\n",
       "      <td>-</td>\n",
       "    </tr>\n",
       "    <tr>\n",
       "      <th>7</th>\n",
       "      <td>FACTORS_U</td>\n",
       "      <td>FACTORS_U</td>\n",
       "      <td>Factors adversely affecting technology use code</td>\n",
       "      <td>-</td>\n",
       "      <td>-</td>\n",
       "      <td>-</td>\n",
       "    </tr>\n",
       "    <tr>\n",
       "      <th>8</th>\n",
       "      <td>FIRMPDEMP</td>\n",
       "      <td>FIRMPDEMP</td>\n",
       "      <td>Number of employer firms</td>\n",
       "      <td>-</td>\n",
       "      <td>Number of employer firms</td>\n",
       "      <td>Number of employer firms</td>\n",
       "    </tr>\n",
       "  </tbody>\n",
       "</table>\n",
       "</div>"
      ],
      "text/plain": [
       "         Name Common_Vars                                        Tech Labels  \\\n",
       "0     BUSCHAR     BUSCHAR                                                  -   \n",
       "1        CBSA        CBSA                                                  -   \n",
       "2         EMP         EMP                                Number of employees   \n",
       "3     EMPSZFI     EMPSZFI                                                  -   \n",
       "4     EMP_PCT     EMP_PCT                           Percent of employees (%)   \n",
       "22  OWNER_ETH   ETH_GROUP                                                  -   \n",
       "5   ETH_GROUP   ETH_GROUP                                     Ethnicity code   \n",
       "6   FACTORS_P   FACTORS_P  Factors adversely affecting technology product...   \n",
       "7   FACTORS_U   FACTORS_U    Factors adversely affecting technology use code   \n",
       "8   FIRMPDEMP   FIRMPDEMP                           Number of employer firms   \n",
       "\n",
       "      Owner Labels          Characteristic Labels  \\\n",
       "0                -   Business characteristic code   \n",
       "1        Geography                      Geography   \n",
       "2                -            Number of employees   \n",
       "3                -  Employment size of firms code   \n",
       "4                -       Percent of employees (%)   \n",
       "22  Ethnicity code                              -   \n",
       "5                -                 Ethnicity code   \n",
       "6                -                              -   \n",
       "7                -                              -   \n",
       "8                -       Number of employer firms   \n",
       "\n",
       "           Company Summary Labels  \n",
       "0                               -  \n",
       "1                       Geography  \n",
       "2             Number of employees  \n",
       "3   Employment size of firms code  \n",
       "4                               -  \n",
       "22                              -  \n",
       "5                  Ethnicity code  \n",
       "6                               -  \n",
       "7                               -  \n",
       "8        Number of employer firms  "
      ]
     },
     "execution_count": 128,
     "metadata": {},
     "output_type": "execute_result"
    }
   ],
   "source": [
    "print(\"\\n------ Displaying top 10 rows of variable tables. ------\\n\")\n",
    "grouped_tables.head(10)"
   ]
  },
  {
   "cell_type": "code",
   "execution_count": null,
   "id": "f2921fe5-e474-49d5-8c16-db42324cbeb1",
   "metadata": {},
   "outputs": [],
   "source": []
  },
  {
   "cell_type": "markdown",
   "id": "d1876b68-a71a-4db2-8f22-3f4e32090234",
   "metadata": {},
   "source": [
    "##### Define which variables will be requested from API"
   ]
  },
  {
   "cell_type": "code",
   "execution_count": 132,
   "id": "c5ba33c4-e741-4ac6-a29c-24627bce46bd",
   "metadata": {},
   "outputs": [],
   "source": [
    "# grouped_tables.sort_values(by = 'Name', ascending = False)\n",
    "vars_of_interest = [\n",
    "    'NAICS2017',\n",
    "    'YIBSZFI',\n",
    "    'SEX',\n",
    "    'QDESC',\n",
    "    'NSFSZFI',\n",
    "    'GEO_ID',\n",
    "    'RACE_GROUP',\n",
    "    'BUSCHAR',\n",
    "    'OWNER_RACE',\n",
    "    'OWNER_SEX',\n",
    "    'OWNPDEMP',\n",
    "    'FIRMPDEMP',\n",
    "    'OWNCHAR',\n",
    "    'TECHUSE'\n",
    "]\n",
    "target_subset = grouped_tables[(grouped_tables['Name'].isin(vars_of_interest))]\n",
    "target_subset = target_subset[['Name','Company Summary Labels','Characteristic Labels','Owner Labels','Tech Labels']]"
   ]
  },
  {
   "cell_type": "markdown",
   "id": "b499f283-812a-41ba-903b-2f5c7a7fc4e7",
   "metadata": {},
   "source": [
    "### Build variable strings to pass to api call\n"
   ]
  },
  {
   "cell_type": "code",
   "execution_count": 133,
   "id": "5ad0e9b9-b4c8-42d4-ac89-5170e2f3edd3",
   "metadata": {},
   "outputs": [
    {
     "data": {
      "text/plain": [
       "{0: 'NAME,FIRMPDEMP,GEO_ID,NAICS2017,NAICS2017_LABEL,RACE_GROUP,RACE_GROUP_LABEL,SEX,SEX_LABEL,YIBSZFI,YIBSZFI_LABEL',\n",
       " 1: 'NAME,BUSCHAR,BUSCHAR_LABEL,FIRMPDEMP,GEO_ID,NAICS2017,NAICS2017_LABEL,QDESC,QDESC_LABEL,RACE_GROUP,RACE_GROUP_LABEL,SEX,SEX_LABEL,YIBSZFI,YIBSZFI_LABEL',\n",
       " 2: 'NAME,GEO_ID,NAICS2017,NAICS2017_LABEL,OWNCHAR,OWNCHAR_LABEL,OWNPDEMP,QDESC,QDESC_LABEL,OWNER_RACE,OWNER_RACE_LABEL,OWNER_SEX,OWNER_SEX_LABEL',\n",
       " 3: 'NAME,FIRMPDEMP,GEO_ID,NAICS2017,NAICS2017_LABEL,NSFSZFI,NSFSZFI_LABEL,RACE_GROUP,RACE_GROUP_LABEL,SEX,SEX_LABEL,TECHUSE,TECHUSE_LABEL'}"
      ]
     },
     "execution_count": 133,
     "metadata": {},
     "output_type": "execute_result"
    }
   ],
   "source": [
    "no_label = ['OWNPDEMP_LABEL','GEO_ID_LABEL','FIRMPDEMP_LABEL']\n",
    "variable_dict = {}\n",
    "for i,label in enumerate(target_subset.columns[1:]):\n",
    "    variable_list = []\n",
    "    for item in target_subset[(target_subset[label] != \"-\")].Name.tolist():\n",
    "        variable_list.append(item)\n",
    "        variable_list.append(f'{item}_LABEL')\n",
    "    variable_list = [_ for _ in variable_list if _ not in no_label]#, 'QDESC_LABEL']]\n",
    "    in_table = \"NAME,\" + \",\".join(variable_list)\n",
    "    variable_dict[i] = in_table\n",
    "variable_dict\n"
   ]
  },
  {
   "cell_type": "code",
   "execution_count": null,
   "id": "3c1a70c7-4daf-4ad1-804a-7e3437b2d236",
   "metadata": {},
   "outputs": [],
   "source": []
  },
  {
   "cell_type": "code",
   "execution_count": 134,
   "id": "3815b474-ad8c-4636-a450-1aab7828ef18",
   "metadata": {},
   "outputs": [],
   "source": [
    "# industry_code = '61'\n",
    "# qdesc1 = 'B27'\n",
    "\n",
    "links = [\n",
    "    f'https://api.census.gov/data/2018/abscs?get={variable_dict[0]}&for=state:*',\n",
    "    f'https://api.census.gov/data/2018/abscb?get={variable_dict[1]}&for=state:*',\n",
    "    f'https://api.census.gov/data/2018/abscbo?get={variable_dict[2]}&for=us:*&for=QDESC_LABEL=YRACQBUS',\n",
    "    f'https://api.census.gov/data/2018/abstcb?get={variable_dict[3]}&for=state:*',\n",
    "]\n",
    "\n",
    "def get_data_frame(url):\n",
    "    print(url,'\\n')\n",
    "    return pd.read_csv(url)\n",
    "\n",
    "# In case of errors, to go to the link of what was attempted...\n",
    "def view_links():\n",
    "    for link in links:\n",
    "        print(link,\"\\n\")\n",
    "#view_links() # <---- Uncomment this line to view links"
   ]
  },
  {
   "cell_type": "markdown",
   "id": "cecf9f81-56ce-4f09-989c-ef175c478977",
   "metadata": {},
   "source": [
    "### The cell below is where the dataframes are first stored."
   ]
  },
  {
   "cell_type": "code",
   "execution_count": 135,
   "id": "e1be9681-bae6-49a4-9ce5-26b8fca1c276",
   "metadata": {},
   "outputs": [
    {
     "name": "stdout",
     "output_type": "stream",
     "text": [
      "https://api.census.gov/data/2018/abscs?get=NAME,FIRMPDEMP,GEO_ID,NAICS2017,NAICS2017_LABEL,RACE_GROUP,RACE_GROUP_LABEL,SEX,SEX_LABEL,YIBSZFI,YIBSZFI_LABEL&for=state:* \n",
      "\n",
      "https://api.census.gov/data/2018/abscb?get=NAME,BUSCHAR,BUSCHAR_LABEL,FIRMPDEMP,GEO_ID,NAICS2017,NAICS2017_LABEL,QDESC,QDESC_LABEL,RACE_GROUP,RACE_GROUP_LABEL,SEX,SEX_LABEL,YIBSZFI,YIBSZFI_LABEL&for=state:* \n",
      "\n",
      "https://api.census.gov/data/2018/abscbo?get=NAME,GEO_ID,NAICS2017,NAICS2017_LABEL,OWNCHAR,OWNCHAR_LABEL,OWNPDEMP,QDESC,QDESC_LABEL,OWNER_RACE,OWNER_RACE_LABEL,OWNER_SEX,OWNER_SEX_LABEL&for=us:*&for=QDESC_LABEL=YRACQBUS \n",
      "\n",
      "https://api.census.gov/data/2018/abstcb?get=NAME,FIRMPDEMP,GEO_ID,NAICS2017,NAICS2017_LABEL,NSFSZFI,NSFSZFI_LABEL,RACE_GROUP,RACE_GROUP_LABEL,SEX,SEX_LABEL,TECHUSE,TECHUSE_LABEL&for=state:* \n",
      "\n"
     ]
    }
   ],
   "source": [
    "comp_sum_df = get_data_frame(links[0]) # Company Summary\n",
    "bus_char_df = business_char_df = get_data_frame(links[1]) # Business Characteristics\n",
    "bus_own_df = business_own_df = get_data_frame(links[2]) # Business Owners\n",
    "bus_tech_df = get_data_frame(links[3]) # Business Tech   "
   ]
  },
  {
   "cell_type": "code",
   "execution_count": 136,
   "id": "a1bfdc01-d8e7-46c6-ab2b-77ca924c8598",
   "metadata": {},
   "outputs": [],
   "source": [
    "df_collection = [comp_sum_df, bus_char_df, bus_own_df, bus_tech_df]    \n",
    "df_names = ['comp_sum_df', 'bus_char_df', 'bus_own_df', 'bus_tech_df']   "
   ]
  },
  {
   "cell_type": "markdown",
   "id": "afe0a9a6-75e3-4756-a944-a8c01f687021",
   "metadata": {},
   "source": [
    "### Clean DataFrames"
   ]
  },
  {
   "cell_type": "code",
   "execution_count": 137,
   "id": "3e313959-08d8-4272-bd5b-d20d7b744be3",
   "metadata": {},
   "outputs": [],
   "source": [
    "drop_list = [\n",
    "    'race_group','sex','yibszfi','qdesc','buschar',\n",
    "    'owner_race','owner_sex','us','ownchar'\n",
    "]\n",
    "\n",
    "for df in df_collection:\n",
    "    column_names = [_ for _ in df.columns.tolist()]\n",
    "    new_column_names = [_.replace(\"[[\",\"\").replace('\"',\"\").replace(\"]\",\"\").lower() for _ in column_names]\n",
    "\n",
    "    df.columns = new_column_names\n",
    "    df.drop(columns = [_ for _ in new_column_names if ('unnamed' in _ or _ in drop_list)],inplace = True)\n",
    "    df['name'] = df['name'].apply(lambda x: x.replace(\"[\",\"\").replace('\"',\"\"))\n",
    "    \n",
    "    if 'sex_label' in df.columns:\n",
    "        df.rename(columns = {'sex_label': 'gender'}, inplace = True)\n",
    "    \n",
    "    if 'owner_sex_label' in df.columns:\n",
    "        df.rename(columns = {'owner_sex_label': 'gender'}, inplace = True)\n",
    "    \n",
    "    if 'naics2017_label' in df.columns:\n",
    "        df.rename(columns = {'naics2017_label': 'industry'}, inplace = True)\n",
    "        \n",
    "    if 'naics2017' in df.columns:\n",
    "        df.rename(columns = {'naics2017': 'industry_code'}, inplace = True)"
   ]
  },
  {
   "cell_type": "markdown",
   "id": "8c6d9be3-f371-4e29-b3ab-a625f1d2a02c",
   "metadata": {},
   "source": [
    "### Display some info about dataframes."
   ]
  },
  {
   "cell_type": "code",
   "execution_count": 138,
   "id": "14a99328-662e-4daa-9995-fb54c457c978",
   "metadata": {},
   "outputs": [
    {
     "name": "stdout",
     "output_type": "stream",
     "text": [
      "(Columns are sorted alphabetically...)\n",
      "DATAFRAME: comp_sum_df\n",
      " COMMON: geo_id, state\n",
      "\n",
      "DATAFRAME: bus_char_df\n",
      " COMMON: geo_id, state\n",
      "\n",
      "DATAFRAME: bus_own_df\n",
      " COMMON: geo_id\n",
      "\n",
      "DATAFRAME: bus_tech_df\n",
      " COMMON: geo_id, state\n",
      "\n",
      "\n",
      "(Columns are sorted alphabetically...)\n",
      "DATAFRAME: comp_sum_df\n",
      "  COLUMNS: firmpdemp, gender, geo_id, industry, industry_code, name, race_group_label, state, yibszfi_label\n",
      "\n",
      "DATAFRAME: bus_char_df\n",
      "  COLUMNS: buschar_label, firmpdemp, gender, geo_id, industry, industry_code, name, qdesc_label, race_group_label, state, yibszfi_label\n",
      "\n",
      "DATAFRAME: bus_own_df\n",
      "  COLUMNS: gender, geo_id, industry, industry_code, name, ownchar_label, owner_race_label, ownpdemp, qdesc_label\n",
      "\n",
      "DATAFRAME: bus_tech_df\n",
      "  COLUMNS: firmpdemp, gender, geo_id, industry, industry_code, name, nsfszfi, nsfszfi_label, race_group_label, state, techuse, techuse_label\n",
      "\n",
      "\n",
      "############# NEW DATAFRAME ################\n",
      "Displaying column value counts where there are fewer than 10 unique values in the column.\n",
      "\n",
      "---  DataFrame: comp_sum_df ---------------------\n",
      "Columns: name, firmpdemp, geo_id, industry_code, industry, race_group_label, gender, yibszfi_label, state\n",
      "Total                                         27311\n",
      "White                                         11327\n",
      "Nonminority                                   11320\n",
      "Minority                                       9285\n",
      "Asian                                          7748\n",
      "Black or African American                      6433\n",
      "Equally minority/nonminority                   6133\n",
      "American Indian and Alaska Native              4509\n",
      "Native Hawaiian and Other Pacific Islander     2126\n",
      "Name: race_group_label, dtype: int64\n",
      "\n",
      "Total                  44001\n",
      "Male                   15588\n",
      "Female                 13737\n",
      "Equally male/female    12866\n",
      "Name: gender, dtype: int64\n",
      "\n",
      "All firms                                   27090\n",
      "Firms with less than 2 years in business    10764\n",
      "Firms with 16 or more years in business     10629\n",
      "Firms with 6 to 10 years in business         9755\n",
      "Firms with 11 to 15 years in business        9602\n",
      "Firms with 2 to 3 years in business          9367\n",
      "Firms with 4 to 5 years in business          8985\n",
      "Name: yibszfi_label, dtype: int64\n",
      "\n",
      "############# END OF DATAFRAME INFO ################\n",
      "\n",
      "\n",
      "\n",
      "############# NEW DATAFRAME ################\n",
      "Displaying column value counts where there are fewer than 10 unique values in the column.\n",
      "\n",
      "---  DataFrame: bus_char_df ---------------------\n",
      "Columns: name, buschar_label, firmpdemp, geo_id, industry_code, industry, qdesc_label, race_group_label, gender, yibszfi_label, state\n",
      "0    2295\n",
      "Name: industry_code, dtype: int64\n",
      "\n",
      "Total for all sectors    2295\n",
      "Name: industry, dtype: int64\n",
      "\n",
      "WORKERS     510\n",
      "OWNRNUM     408\n",
      "SPOUSES     408\n",
      "CUST        408\n",
      "FAMOWN      306\n",
      "CEASEOPS    255\n",
      "Name: qdesc_label, dtype: int64\n",
      "\n",
      "Total    2295\n",
      "Name: race_group_label, dtype: int64\n",
      "\n",
      "Total    2295\n",
      "Name: gender, dtype: int64\n",
      "\n",
      "All firms    2295\n",
      "Name: yibszfi_label, dtype: int64\n",
      "\n",
      "############# END OF DATAFRAME INFO ################\n",
      "\n",
      "\n",
      "\n",
      "############# NEW DATAFRAME ################\n",
      "Displaying column value counts where there are fewer than 10 unique values in the column.\n",
      "\n",
      "---  DataFrame: bus_own_df ---------------------\n",
      "Columns: name, geo_id, industry_code, industry, ownchar_label, ownpdemp, qdesc_label, owner_race_label, gender\n",
      "United States    46098\n",
      "Name: name, dtype: int64\n",
      "\n",
      "0100000US    46098\n",
      "Name: geo_id, dtype: int64\n",
      "\n",
      "REASONOWN      17732\n",
      "FLDEDUC         7102\n",
      "EDUC            4684\n",
      "YRACQBUS        4308\n",
      "OWNRAGE         3478\n",
      "PRIORBUSTAT     3307\n",
      "PRIMINC         1859\n",
      "USBORN          1843\n",
      "USCITIZEN       1785\n",
      "Name: qdesc_label, dtype: int64\n",
      "\n",
      "All owners of respondent firms                6644\n",
      "White                                         6639\n",
      "Nonminority                                   6638\n",
      "Minority                                      6345\n",
      "Asian                                         5963\n",
      "Black or African American                     5406\n",
      "American Indian and Alaska Native             4905\n",
      "Native Hawaiian and Other Pacific Islander    3558\n",
      "Name: owner_race_label, dtype: int64\n",
      "\n",
      "All owners of respondent firms    15923\n",
      "Male                              15512\n",
      "Female                            14663\n",
      "Name: gender, dtype: int64\n",
      "\n",
      "############# END OF DATAFRAME INFO ################\n",
      "\n",
      "\n",
      "\n",
      "############# NEW DATAFRAME ################\n",
      "Displaying column value counts where there are fewer than 10 unique values in the column.\n",
      "\n",
      "---  DataFrame: bus_tech_df ---------------------\n",
      "Columns: name, firmpdemp, geo_id, industry_code, industry, nsfszfi, nsfszfi_label, race_group_label, gender, techuse, techuse_label, state\n",
      "1    42840\n",
      "Name: nsfszfi, dtype: int64\n",
      "\n",
      "All firms    42840\n",
      "Name: nsfszfi_label, dtype: int64\n",
      "\n",
      "Total    42840\n",
      "Name: race_group_label, dtype: int64\n",
      "\n",
      "Total    42840\n",
      "Name: gender, dtype: int64\n",
      "\n",
      "############# END OF DATAFRAME INFO ################\n",
      "\n",
      "\n"
     ]
    }
   ],
   "source": [
    "# First display all columns together\n",
    "print(\"(Columns are sorted alphabetically...)\")\n",
    "for i,df in enumerate(df_collection):\n",
    "    print(f'DATAFRAME: {df_names[i]}\\n COMMON: {\", \".join(_ for _ in sorted(df.columns.tolist()) if _ in common_vars)}\\n')\n",
    "\n",
    "print(\"\\n(Columns are sorted alphabetically...)\")\n",
    "for i,df in enumerate(df_collection):\n",
    "    print(f'DATAFRAME: {df_names[i]}\\n  COLUMNS: {\", \".join(sorted(df.columns.tolist()))}\\n')\n",
    "    \n",
    "for i,df in enumerate(df_collection):\n",
    "    print('\\n############# NEW DATAFRAME ################')\n",
    "    print('Displaying column value counts where there are fewer than 10 unique values in the column.')\n",
    "    print(f'\\n---  DataFrame: {df_names[i]} ---------------------')\n",
    "    print(f'Columns: {\", \".join(df.columns.tolist())}')\n",
    "    for column in df:\n",
    "        if len(df[column].unique().tolist()) < 10:\n",
    "            print(df[column].value_counts())\n",
    "            print(\"\")\n",
    "    print('############# END OF DATAFRAME INFO ################\\n\\n')"
   ]
  },
  {
   "cell_type": "code",
   "execution_count": 43,
   "id": "ae91d546-9d72-4ab2-b106-ff1338a509ed",
   "metadata": {},
   "outputs": [
    {
     "data": {
      "text/html": [
       "<div>\n",
       "<style scoped>\n",
       "    .dataframe tbody tr th:only-of-type {\n",
       "        vertical-align: middle;\n",
       "    }\n",
       "\n",
       "    .dataframe tbody tr th {\n",
       "        vertical-align: top;\n",
       "    }\n",
       "\n",
       "    .dataframe thead th {\n",
       "        text-align: right;\n",
       "    }\n",
       "</style>\n",
       "<table border=\"1\" class=\"dataframe\">\n",
       "  <thead>\n",
       "    <tr style=\"text-align: right;\">\n",
       "      <th></th>\n",
       "      <th>industry_code</th>\n",
       "      <th>industry</th>\n",
       "    </tr>\n",
       "  </thead>\n",
       "  <tbody>\n",
       "    <tr>\n",
       "      <th>0</th>\n",
       "      <td>21</td>\n",
       "      <td>Mining, quarrying, and oil and gas extraction</td>\n",
       "    </tr>\n",
       "    <tr>\n",
       "      <th>13</th>\n",
       "      <td>23</td>\n",
       "      <td>Construction</td>\n",
       "    </tr>\n",
       "    <tr>\n",
       "      <th>22</th>\n",
       "      <td>31-33</td>\n",
       "      <td>Manufacturing</td>\n",
       "    </tr>\n",
       "    <tr>\n",
       "      <th>31</th>\n",
       "      <td>48-49</td>\n",
       "      <td>Transportation and warehousing</td>\n",
       "    </tr>\n",
       "    <tr>\n",
       "      <th>38</th>\n",
       "      <td>00</td>\n",
       "      <td>Total for all sectors</td>\n",
       "    </tr>\n",
       "    <tr>\n",
       "      <th>82</th>\n",
       "      <td>44-45</td>\n",
       "      <td>Retail trade</td>\n",
       "    </tr>\n",
       "    <tr>\n",
       "      <th>118</th>\n",
       "      <td>11</td>\n",
       "      <td>Agriculture, forestry, fishing and hunting</td>\n",
       "    </tr>\n",
       "    <tr>\n",
       "      <th>230</th>\n",
       "      <td>22</td>\n",
       "      <td>Utilities</td>\n",
       "    </tr>\n",
       "    <tr>\n",
       "      <th>272</th>\n",
       "      <td>42</td>\n",
       "      <td>Wholesale trade</td>\n",
       "    </tr>\n",
       "    <tr>\n",
       "      <th>735</th>\n",
       "      <td>51</td>\n",
       "      <td>Information</td>\n",
       "    </tr>\n",
       "    <tr>\n",
       "      <th>740</th>\n",
       "      <td>54</td>\n",
       "      <td>Professional, scientific, and technical services</td>\n",
       "    </tr>\n",
       "    <tr>\n",
       "      <th>749</th>\n",
       "      <td>56</td>\n",
       "      <td>Administrative and support and waste managemen...</td>\n",
       "    </tr>\n",
       "    <tr>\n",
       "      <th>759</th>\n",
       "      <td>62</td>\n",
       "      <td>Health care and social assistance</td>\n",
       "    </tr>\n",
       "    <tr>\n",
       "      <th>767</th>\n",
       "      <td>71</td>\n",
       "      <td>Arts, entertainment, and recreation</td>\n",
       "    </tr>\n",
       "    <tr>\n",
       "      <th>778</th>\n",
       "      <td>72</td>\n",
       "      <td>Accommodation and food services</td>\n",
       "    </tr>\n",
       "    <tr>\n",
       "      <th>807</th>\n",
       "      <td>55</td>\n",
       "      <td>Management of companies and enterprises</td>\n",
       "    </tr>\n",
       "    <tr>\n",
       "      <th>886</th>\n",
       "      <td>53</td>\n",
       "      <td>Real estate and rental and leasing</td>\n",
       "    </tr>\n",
       "    <tr>\n",
       "      <th>914</th>\n",
       "      <td>99</td>\n",
       "      <td>Industries not classified</td>\n",
       "    </tr>\n",
       "    <tr>\n",
       "      <th>1081</th>\n",
       "      <td>81</td>\n",
       "      <td>Other services (except public administration)</td>\n",
       "    </tr>\n",
       "    <tr>\n",
       "      <th>1162</th>\n",
       "      <td>52</td>\n",
       "      <td>Finance and insurance</td>\n",
       "    </tr>\n",
       "    <tr>\n",
       "      <th>1193</th>\n",
       "      <td>61</td>\n",
       "      <td>Educational services</td>\n",
       "    </tr>\n",
       "  </tbody>\n",
       "</table>\n",
       "</div>"
      ],
      "text/plain": [
       "     industry_code                                           industry\n",
       "0               21      Mining, quarrying, and oil and gas extraction\n",
       "13              23                                       Construction\n",
       "22           31-33                                      Manufacturing\n",
       "31           48-49                     Transportation and warehousing\n",
       "38              00                              Total for all sectors\n",
       "82           44-45                                       Retail trade\n",
       "118             11         Agriculture, forestry, fishing and hunting\n",
       "230             22                                          Utilities\n",
       "272             42                                    Wholesale trade\n",
       "735             51                                        Information\n",
       "740             54   Professional, scientific, and technical services\n",
       "749             56  Administrative and support and waste managemen...\n",
       "759             62                  Health care and social assistance\n",
       "767             71                Arts, entertainment, and recreation\n",
       "778             72                    Accommodation and food services\n",
       "807             55            Management of companies and enterprises\n",
       "886             53                 Real estate and rental and leasing\n",
       "914             99                          Industries not classified\n",
       "1081            81      Other services (except public administration)\n",
       "1162            52                              Finance and insurance\n",
       "1193            61                               Educational services"
      ]
     },
     "execution_count": 43,
     "metadata": {},
     "output_type": "execute_result"
    }
   ],
   "source": [
    "comp_sum_df[['industry_code','industry']].drop_duplicates()"
   ]
  },
  {
   "cell_type": "code",
   "execution_count": 44,
   "id": "d01ec8a3-779c-476a-adc6-ff623828fbf2",
   "metadata": {},
   "outputs": [],
   "source": [
    "def jeds_first_plot(comp_sum_df):\n",
    "    import matplotlib.pyplot as plt\n",
    "    import seaborn as sns\n",
    "\n",
    "    targ1 = 23\n",
    "    targ2 = 52\n",
    "    targ1,targ2 = str(targ1), str(targ2)\n",
    "\n",
    "    gender_by_state_cs = comp_sum_df[\n",
    "        (comp_sum_df['industry_code'].isin([targ1, targ2]))\n",
    "        ].groupby(by = ['name','industry','gender']\n",
    "                 )[['gender']].agg('count').rename(columns = {'gender': 'gender_count'}).reset_index()\n",
    "\n",
    "    gender_by_state_cs.sort_values(by = ['name', 'industry', 'gender'], inplace = True)\n",
    "    gs = gender_by_state_cs\n",
    "\n",
    "    print('NOTE: Ratios are for each set of observations and not industry specific.')\n",
    "    print('Building Plots... Please Wait...')\n",
    "    fig, axs = plt.subplots(51,1, figsize=(15,200), sharex = False)\n",
    "    fig.suptitle('Ownership Gender in a Subset of Industries by State', fontsize = 30)\n",
    "    colors = {'Female':'#FD6320','Male':'#9567FE', 'Equally male/female': '#919584'}\n",
    "\n",
    "    states = sorted(comp_sum_df.name.unique().tolist())\n",
    "    for i, state in enumerate(states):\n",
    "        axs[i].set_title(state, fontsize = 20)\n",
    "\n",
    "        subset = gs[\n",
    "                (gs['name'] == state) &\n",
    "                (gs['gender'] != 'Total')\n",
    "            ] \n",
    "        industries = sorted(subset.industry.unique().tolist())\n",
    "        sns.barplot(data = subset, x = 'industry', y = 'gender_count', \n",
    "                    ax = axs[i], hue = 'gender', \n",
    "                    palette = colors, \n",
    "                    edgecolor = 'black')\n",
    "\n",
    "        axs[i].set_ylabel('')\n",
    "        axs[i].set_xlabel('')\n",
    "\n",
    "        font = {'color': 'w',\n",
    "                'weight': 'bold',\n",
    "                'size': 14,\n",
    "               }\n",
    "        if i % 3 == 0:\n",
    "            axs[i].text(-0.36,0.65, \"Equal Gender\\nOwnership\", fontdict = font)\n",
    "            axs[i].text(-0.05,0.65, \"Female\", fontdict = font)\n",
    "            axs[i].text(0.23,0.65, \"Male\", fontdict = font)\n",
    "\n",
    "        axs[i].get_legend().remove()\n",
    "        axs[i].tick_params(left = False)\n",
    "        axs[i].set_yticklabels('')\n",
    "\n",
    "        gender_count = subset['gender_count'].sum()\n",
    "        for c in axs[i].containers:\n",
    "            labels = [\n",
    "                f'{(h/gender_count)*100:0.1f}%' if (\n",
    "                    h := v.get_height()) > 0 else \"\" for v in c\n",
    "            ]\n",
    "\n",
    "            axs[i].bar_label(c,labels=labels,label_type = 'edge',fontsize = 17,color= 'black')\n",
    "        axs[i].tick_params(axis = 'x', labelsize = 18)\n",
    "\n",
    "    plt.tight_layout()\n",
    "    plt.subplots_adjust(hspace = 1,top = 0.97)\n",
    "    sns.despine(left = True, bottom = True)\n",
    "    print('Done... Displaying Plots...')\n",
    "\n",
    "    #plt.savefig('gender_ownership_state.pdf')\n",
    "\n",
    "# jeds_first_plot(comp_sum_df)  ## Uncomment to run the plot"
   ]
  },
  {
   "cell_type": "code",
   "execution_count": null,
   "id": "5a145976-dc99-478f-b710-52816600d378",
   "metadata": {},
   "outputs": [],
   "source": []
  },
  {
   "cell_type": "code",
   "execution_count": null,
   "id": "fc4d5c47-3475-43d3-8dd0-2b4e97e36e88",
   "metadata": {},
   "outputs": [],
   "source": []
  },
  {
   "cell_type": "code",
   "execution_count": 49,
   "id": "41a0da45-0d30-4adb-8c1c-021d137ceb97",
   "metadata": {},
   "outputs": [],
   "source": [
    "reason_owned = bus_own_df[\n",
    "    (bus_own_df['qdesc_label'] == 'REASONOWN') &\n",
    "    (~bus_own_df['industry'].str.contains('Total')) &\n",
    "    (~bus_own_df['gender'].str.contains('All')) &\n",
    "    (bus_own_df['ownchar_label'].str.contains(':'))]"
   ]
  },
  {
   "cell_type": "code",
   "execution_count": 50,
   "id": "7536bff6-ce90-4070-9ef4-61a0267a07a5",
   "metadata": {},
   "outputs": [
    {
     "name": "stderr",
     "output_type": "stream",
     "text": [
      "C:\\Users\\Work\\anaconda3\\lib\\site-packages\\pandas\\core\\frame.py:3641: SettingWithCopyWarning: \n",
      "A value is trying to be set on a copy of a slice from a DataFrame.\n",
      "Try using .loc[row_indexer,col_indexer] = value instead\n",
      "\n",
      "See the caveats in the documentation: https://pandas.pydata.org/pandas-docs/stable/user_guide/indexing.html#returning-a-view-versus-a-copy\n",
      "  self[k1] = value[k2]\n"
     ]
    }
   ],
   "source": [
    "reason_owned[['reason','importance']] = reason_owned.apply(lambda row: row['ownchar_label'].split(\":\"), axis = 1, result_type = 'expand')"
   ]
  },
  {
   "cell_type": "code",
   "execution_count": 51,
   "id": "b8f43a5f-0e2d-43c0-a3e6-db88a9cfd348",
   "metadata": {},
   "outputs": [
    {
     "data": {
      "text/html": [
       "<div>\n",
       "<style scoped>\n",
       "    .dataframe tbody tr th:only-of-type {\n",
       "        vertical-align: middle;\n",
       "    }\n",
       "\n",
       "    .dataframe tbody tr th {\n",
       "        vertical-align: top;\n",
       "    }\n",
       "\n",
       "    .dataframe thead th {\n",
       "        text-align: right;\n",
       "    }\n",
       "</style>\n",
       "<table border=\"1\" class=\"dataframe\">\n",
       "  <thead>\n",
       "    <tr style=\"text-align: right;\">\n",
       "      <th></th>\n",
       "      <th>name</th>\n",
       "      <th>geo_id</th>\n",
       "      <th>industry_code</th>\n",
       "      <th>industry</th>\n",
       "      <th>owner_race_label</th>\n",
       "      <th>gender</th>\n",
       "      <th>ownpdemp</th>\n",
       "      <th>qdesc_label</th>\n",
       "      <th>ownchar_label</th>\n",
       "      <th>reason</th>\n",
       "      <th>importance</th>\n",
       "    </tr>\n",
       "  </thead>\n",
       "  <tbody>\n",
       "    <tr>\n",
       "      <th>3090</th>\n",
       "      <td>United States</td>\n",
       "      <td>0100000US</td>\n",
       "      <td>11</td>\n",
       "      <td>Agriculture, forestry, fishing and hunting</td>\n",
       "      <td>All owners of respondent firms</td>\n",
       "      <td>Male</td>\n",
       "      <td>7333</td>\n",
       "      <td>REASONOWN</td>\n",
       "      <td>Best avenue for ideas: Very important</td>\n",
       "      <td>Best avenue for ideas</td>\n",
       "      <td>Very important</td>\n",
       "    </tr>\n",
       "    <tr>\n",
       "      <th>3091</th>\n",
       "      <td>United States</td>\n",
       "      <td>0100000US</td>\n",
       "      <td>11</td>\n",
       "      <td>Agriculture, forestry, fishing and hunting</td>\n",
       "      <td>All owners of respondent firms</td>\n",
       "      <td>Male</td>\n",
       "      <td>10770</td>\n",
       "      <td>REASONOWN</td>\n",
       "      <td>Couldn't find a job: Not important</td>\n",
       "      <td>Couldn't find a job</td>\n",
       "      <td>Not important</td>\n",
       "    </tr>\n",
       "    <tr>\n",
       "      <th>3092</th>\n",
       "      <td>United States</td>\n",
       "      <td>0100000US</td>\n",
       "      <td>11</td>\n",
       "      <td>Agriculture, forestry, fishing and hunting</td>\n",
       "      <td>All owners of respondent firms</td>\n",
       "      <td>Male</td>\n",
       "      <td>2062</td>\n",
       "      <td>REASONOWN</td>\n",
       "      <td>Couldn't find a job: Somewhat important</td>\n",
       "      <td>Couldn't find a job</td>\n",
       "      <td>Somewhat important</td>\n",
       "    </tr>\n",
       "    <tr>\n",
       "      <th>3093</th>\n",
       "      <td>United States</td>\n",
       "      <td>0100000US</td>\n",
       "      <td>11</td>\n",
       "      <td>Agriculture, forestry, fishing and hunting</td>\n",
       "      <td>All owners of respondent firms</td>\n",
       "      <td>Male</td>\n",
       "      <td>721</td>\n",
       "      <td>REASONOWN</td>\n",
       "      <td>Couldn't find a job: Very important</td>\n",
       "      <td>Couldn't find a job</td>\n",
       "      <td>Very important</td>\n",
       "    </tr>\n",
       "    <tr>\n",
       "      <th>3094</th>\n",
       "      <td>United States</td>\n",
       "      <td>0100000US</td>\n",
       "      <td>11</td>\n",
       "      <td>Agriculture, forestry, fishing and hunting</td>\n",
       "      <td>All owners of respondent firms</td>\n",
       "      <td>Male</td>\n",
       "      <td>4321</td>\n",
       "      <td>REASONOWN</td>\n",
       "      <td>Work for self: Not important</td>\n",
       "      <td>Work for self</td>\n",
       "      <td>Not important</td>\n",
       "    </tr>\n",
       "    <tr>\n",
       "      <th>...</th>\n",
       "      <td>...</td>\n",
       "      <td>...</td>\n",
       "      <td>...</td>\n",
       "      <td>...</td>\n",
       "      <td>...</td>\n",
       "      <td>...</td>\n",
       "      <td>...</td>\n",
       "      <td>...</td>\n",
       "      <td>...</td>\n",
       "      <td>...</td>\n",
       "      <td>...</td>\n",
       "    </tr>\n",
       "    <tr>\n",
       "      <th>46068</th>\n",
       "      <td>United States</td>\n",
       "      <td>0100000US</td>\n",
       "      <td>99</td>\n",
       "      <td>Industries not classified</td>\n",
       "      <td>White</td>\n",
       "      <td>Female</td>\n",
       "      <td>935</td>\n",
       "      <td>REASONOWN</td>\n",
       "      <td>Carry on family business: Somewhat important</td>\n",
       "      <td>Carry on family business</td>\n",
       "      <td>Somewhat important</td>\n",
       "    </tr>\n",
       "    <tr>\n",
       "      <th>46069</th>\n",
       "      <td>United States</td>\n",
       "      <td>0100000US</td>\n",
       "      <td>99</td>\n",
       "      <td>Industries not classified</td>\n",
       "      <td>White</td>\n",
       "      <td>Female</td>\n",
       "      <td>1516</td>\n",
       "      <td>REASONOWN</td>\n",
       "      <td>Carry on family business: Very important</td>\n",
       "      <td>Carry on family business</td>\n",
       "      <td>Very important</td>\n",
       "    </tr>\n",
       "    <tr>\n",
       "      <th>46070</th>\n",
       "      <td>United States</td>\n",
       "      <td>0100000US</td>\n",
       "      <td>99</td>\n",
       "      <td>Industries not classified</td>\n",
       "      <td>White</td>\n",
       "      <td>Female</td>\n",
       "      <td>1428</td>\n",
       "      <td>REASONOWN</td>\n",
       "      <td>Help my community: Not important</td>\n",
       "      <td>Help my community</td>\n",
       "      <td>Not important</td>\n",
       "    </tr>\n",
       "    <tr>\n",
       "      <th>46071</th>\n",
       "      <td>United States</td>\n",
       "      <td>0100000US</td>\n",
       "      <td>99</td>\n",
       "      <td>Industries not classified</td>\n",
       "      <td>White</td>\n",
       "      <td>Female</td>\n",
       "      <td>1531</td>\n",
       "      <td>REASONOWN</td>\n",
       "      <td>Help my community: Somewhat important</td>\n",
       "      <td>Help my community</td>\n",
       "      <td>Somewhat important</td>\n",
       "    </tr>\n",
       "    <tr>\n",
       "      <th>46072</th>\n",
       "      <td>United States</td>\n",
       "      <td>0100000US</td>\n",
       "      <td>99</td>\n",
       "      <td>Industries not classified</td>\n",
       "      <td>White</td>\n",
       "      <td>Female</td>\n",
       "      <td>794</td>\n",
       "      <td>REASONOWN</td>\n",
       "      <td>Help my community: Very important</td>\n",
       "      <td>Help my community</td>\n",
       "      <td>Very important</td>\n",
       "    </tr>\n",
       "  </tbody>\n",
       "</table>\n",
       "<p>10491 rows × 11 columns</p>\n",
       "</div>"
      ],
      "text/plain": [
       "                name     geo_id industry_code  \\\n",
       "3090   United States  0100000US            11   \n",
       "3091   United States  0100000US            11   \n",
       "3092   United States  0100000US            11   \n",
       "3093   United States  0100000US            11   \n",
       "3094   United States  0100000US            11   \n",
       "...              ...        ...           ...   \n",
       "46068  United States  0100000US            99   \n",
       "46069  United States  0100000US            99   \n",
       "46070  United States  0100000US            99   \n",
       "46071  United States  0100000US            99   \n",
       "46072  United States  0100000US            99   \n",
       "\n",
       "                                         industry  \\\n",
       "3090   Agriculture, forestry, fishing and hunting   \n",
       "3091   Agriculture, forestry, fishing and hunting   \n",
       "3092   Agriculture, forestry, fishing and hunting   \n",
       "3093   Agriculture, forestry, fishing and hunting   \n",
       "3094   Agriculture, forestry, fishing and hunting   \n",
       "...                                           ...   \n",
       "46068                   Industries not classified   \n",
       "46069                   Industries not classified   \n",
       "46070                   Industries not classified   \n",
       "46071                   Industries not classified   \n",
       "46072                   Industries not classified   \n",
       "\n",
       "                     owner_race_label  gender  ownpdemp qdesc_label  \\\n",
       "3090   All owners of respondent firms    Male      7333   REASONOWN   \n",
       "3091   All owners of respondent firms    Male     10770   REASONOWN   \n",
       "3092   All owners of respondent firms    Male      2062   REASONOWN   \n",
       "3093   All owners of respondent firms    Male       721   REASONOWN   \n",
       "3094   All owners of respondent firms    Male      4321   REASONOWN   \n",
       "...                               ...     ...       ...         ...   \n",
       "46068                           White  Female       935   REASONOWN   \n",
       "46069                           White  Female      1516   REASONOWN   \n",
       "46070                           White  Female      1428   REASONOWN   \n",
       "46071                           White  Female      1531   REASONOWN   \n",
       "46072                           White  Female       794   REASONOWN   \n",
       "\n",
       "                                      ownchar_label                    reason  \\\n",
       "3090          Best avenue for ideas: Very important     Best avenue for ideas   \n",
       "3091             Couldn't find a job: Not important       Couldn't find a job   \n",
       "3092        Couldn't find a job: Somewhat important       Couldn't find a job   \n",
       "3093            Couldn't find a job: Very important       Couldn't find a job   \n",
       "3094                   Work for self: Not important             Work for self   \n",
       "...                                             ...                       ...   \n",
       "46068  Carry on family business: Somewhat important  Carry on family business   \n",
       "46069      Carry on family business: Very important  Carry on family business   \n",
       "46070              Help my community: Not important         Help my community   \n",
       "46071         Help my community: Somewhat important         Help my community   \n",
       "46072             Help my community: Very important         Help my community   \n",
       "\n",
       "                importance  \n",
       "3090        Very important  \n",
       "3091         Not important  \n",
       "3092    Somewhat important  \n",
       "3093        Very important  \n",
       "3094         Not important  \n",
       "...                    ...  \n",
       "46068   Somewhat important  \n",
       "46069       Very important  \n",
       "46070        Not important  \n",
       "46071   Somewhat important  \n",
       "46072       Very important  \n",
       "\n",
       "[10491 rows x 11 columns]"
      ]
     },
     "execution_count": 51,
     "metadata": {},
     "output_type": "execute_result"
    }
   ],
   "source": [
    "reason_owned"
   ]
  },
  {
   "cell_type": "code",
   "execution_count": 52,
   "id": "8903e663-4834-4f07-9a1c-6d75f847e031",
   "metadata": {},
   "outputs": [],
   "source": [
    "reason_owned = reason_owned[['industry','gender','reason','importance','ownpdemp']]"
   ]
  },
  {
   "cell_type": "code",
   "execution_count": 53,
   "id": "3cadae05-2021-48e4-a395-3c0ca4384e84",
   "metadata": {},
   "outputs": [
    {
     "data": {
      "text/html": [
       "<div>\n",
       "<style scoped>\n",
       "    .dataframe tbody tr th:only-of-type {\n",
       "        vertical-align: middle;\n",
       "    }\n",
       "\n",
       "    .dataframe tbody tr th {\n",
       "        vertical-align: top;\n",
       "    }\n",
       "\n",
       "    .dataframe thead th {\n",
       "        text-align: right;\n",
       "    }\n",
       "</style>\n",
       "<table border=\"1\" class=\"dataframe\">\n",
       "  <thead>\n",
       "    <tr style=\"text-align: right;\">\n",
       "      <th></th>\n",
       "      <th>industry</th>\n",
       "      <th>gender</th>\n",
       "      <th>reason</th>\n",
       "      <th>importance</th>\n",
       "      <th>ownpdemp</th>\n",
       "    </tr>\n",
       "  </thead>\n",
       "  <tbody>\n",
       "    <tr>\n",
       "      <th>3090</th>\n",
       "      <td>Agriculture, forestry, fishing and hunting</td>\n",
       "      <td>Male</td>\n",
       "      <td>Best avenue for ideas</td>\n",
       "      <td>Very important</td>\n",
       "      <td>7333</td>\n",
       "    </tr>\n",
       "    <tr>\n",
       "      <th>3091</th>\n",
       "      <td>Agriculture, forestry, fishing and hunting</td>\n",
       "      <td>Male</td>\n",
       "      <td>Couldn't find a job</td>\n",
       "      <td>Not important</td>\n",
       "      <td>10770</td>\n",
       "    </tr>\n",
       "    <tr>\n",
       "      <th>3092</th>\n",
       "      <td>Agriculture, forestry, fishing and hunting</td>\n",
       "      <td>Male</td>\n",
       "      <td>Couldn't find a job</td>\n",
       "      <td>Somewhat important</td>\n",
       "      <td>2062</td>\n",
       "    </tr>\n",
       "    <tr>\n",
       "      <th>3093</th>\n",
       "      <td>Agriculture, forestry, fishing and hunting</td>\n",
       "      <td>Male</td>\n",
       "      <td>Couldn't find a job</td>\n",
       "      <td>Very important</td>\n",
       "      <td>721</td>\n",
       "    </tr>\n",
       "    <tr>\n",
       "      <th>3094</th>\n",
       "      <td>Agriculture, forestry, fishing and hunting</td>\n",
       "      <td>Male</td>\n",
       "      <td>Work for self</td>\n",
       "      <td>Not important</td>\n",
       "      <td>4321</td>\n",
       "    </tr>\n",
       "    <tr>\n",
       "      <th>...</th>\n",
       "      <td>...</td>\n",
       "      <td>...</td>\n",
       "      <td>...</td>\n",
       "      <td>...</td>\n",
       "      <td>...</td>\n",
       "    </tr>\n",
       "    <tr>\n",
       "      <th>46068</th>\n",
       "      <td>Industries not classified</td>\n",
       "      <td>Female</td>\n",
       "      <td>Carry on family business</td>\n",
       "      <td>Somewhat important</td>\n",
       "      <td>935</td>\n",
       "    </tr>\n",
       "    <tr>\n",
       "      <th>46069</th>\n",
       "      <td>Industries not classified</td>\n",
       "      <td>Female</td>\n",
       "      <td>Carry on family business</td>\n",
       "      <td>Very important</td>\n",
       "      <td>1516</td>\n",
       "    </tr>\n",
       "    <tr>\n",
       "      <th>46070</th>\n",
       "      <td>Industries not classified</td>\n",
       "      <td>Female</td>\n",
       "      <td>Help my community</td>\n",
       "      <td>Not important</td>\n",
       "      <td>1428</td>\n",
       "    </tr>\n",
       "    <tr>\n",
       "      <th>46071</th>\n",
       "      <td>Industries not classified</td>\n",
       "      <td>Female</td>\n",
       "      <td>Help my community</td>\n",
       "      <td>Somewhat important</td>\n",
       "      <td>1531</td>\n",
       "    </tr>\n",
       "    <tr>\n",
       "      <th>46072</th>\n",
       "      <td>Industries not classified</td>\n",
       "      <td>Female</td>\n",
       "      <td>Help my community</td>\n",
       "      <td>Very important</td>\n",
       "      <td>794</td>\n",
       "    </tr>\n",
       "  </tbody>\n",
       "</table>\n",
       "<p>10491 rows × 5 columns</p>\n",
       "</div>"
      ],
      "text/plain": [
       "                                         industry  gender  \\\n",
       "3090   Agriculture, forestry, fishing and hunting    Male   \n",
       "3091   Agriculture, forestry, fishing and hunting    Male   \n",
       "3092   Agriculture, forestry, fishing and hunting    Male   \n",
       "3093   Agriculture, forestry, fishing and hunting    Male   \n",
       "3094   Agriculture, forestry, fishing and hunting    Male   \n",
       "...                                           ...     ...   \n",
       "46068                   Industries not classified  Female   \n",
       "46069                   Industries not classified  Female   \n",
       "46070                   Industries not classified  Female   \n",
       "46071                   Industries not classified  Female   \n",
       "46072                   Industries not classified  Female   \n",
       "\n",
       "                         reason           importance  ownpdemp  \n",
       "3090      Best avenue for ideas       Very important      7333  \n",
       "3091        Couldn't find a job        Not important     10770  \n",
       "3092        Couldn't find a job   Somewhat important      2062  \n",
       "3093        Couldn't find a job       Very important       721  \n",
       "3094              Work for self        Not important      4321  \n",
       "...                         ...                  ...       ...  \n",
       "46068  Carry on family business   Somewhat important       935  \n",
       "46069  Carry on family business       Very important      1516  \n",
       "46070         Help my community        Not important      1428  \n",
       "46071         Help my community   Somewhat important      1531  \n",
       "46072         Help my community       Very important       794  \n",
       "\n",
       "[10491 rows x 5 columns]"
      ]
     },
     "execution_count": 53,
     "metadata": {},
     "output_type": "execute_result"
    }
   ],
   "source": [
    "reason_owned"
   ]
  },
  {
   "cell_type": "code",
   "execution_count": 59,
   "id": "fa2d8cde-7e57-49e6-9aab-e10f713ba18e",
   "metadata": {},
   "outputs": [
    {
     "data": {
      "text/html": [
       "<div>\n",
       "<style scoped>\n",
       "    .dataframe tbody tr th:only-of-type {\n",
       "        vertical-align: middle;\n",
       "    }\n",
       "\n",
       "    .dataframe tbody tr th {\n",
       "        vertical-align: top;\n",
       "    }\n",
       "\n",
       "    .dataframe thead th {\n",
       "        text-align: right;\n",
       "    }\n",
       "</style>\n",
       "<table border=\"1\" class=\"dataframe\">\n",
       "  <thead>\n",
       "    <tr style=\"text-align: right;\">\n",
       "      <th></th>\n",
       "      <th></th>\n",
       "      <th></th>\n",
       "      <th>responses</th>\n",
       "    </tr>\n",
       "    <tr>\n",
       "      <th>industry</th>\n",
       "      <th>reason</th>\n",
       "      <th>importance</th>\n",
       "      <th></th>\n",
       "    </tr>\n",
       "  </thead>\n",
       "  <tbody>\n",
       "    <tr>\n",
       "      <th rowspan=\"10\" valign=\"top\">Accommodation and food services</th>\n",
       "      <th rowspan=\"3\" valign=\"top\">Balance work and family</th>\n",
       "      <th>Not important</th>\n",
       "      <td>176731</td>\n",
       "    </tr>\n",
       "    <tr>\n",
       "      <th>Somewhat important</th>\n",
       "      <td>358136</td>\n",
       "    </tr>\n",
       "    <tr>\n",
       "      <th>Very important</th>\n",
       "      <td>569109</td>\n",
       "    </tr>\n",
       "    <tr>\n",
       "      <th rowspan=\"3\" valign=\"top\">Best avenue for ideas</th>\n",
       "      <th>Not important</th>\n",
       "      <td>183753</td>\n",
       "    </tr>\n",
       "    <tr>\n",
       "      <th>Somewhat important</th>\n",
       "      <td>391204</td>\n",
       "    </tr>\n",
       "    <tr>\n",
       "      <th>Very important</th>\n",
       "      <td>531802</td>\n",
       "    </tr>\n",
       "    <tr>\n",
       "      <th rowspan=\"3\" valign=\"top\">Carry on family business</th>\n",
       "      <th>Not important</th>\n",
       "      <td>610298</td>\n",
       "    </tr>\n",
       "    <tr>\n",
       "      <th>Somewhat important</th>\n",
       "      <td>233917</td>\n",
       "    </tr>\n",
       "    <tr>\n",
       "      <th>Very important</th>\n",
       "      <td>259629</td>\n",
       "    </tr>\n",
       "    <tr>\n",
       "      <th>Couldn't find a job</th>\n",
       "      <th>Not important</th>\n",
       "      <td>749862</td>\n",
       "    </tr>\n",
       "  </tbody>\n",
       "</table>\n",
       "</div>"
      ],
      "text/plain": [
       "                                                                              responses\n",
       "industry                        reason                   importance                    \n",
       "Accommodation and food services Balance work and family   Not important          176731\n",
       "                                                          Somewhat important     358136\n",
       "                                                          Very important         569109\n",
       "                                Best avenue for ideas     Not important          183753\n",
       "                                                          Somewhat important     391204\n",
       "                                                          Very important         531802\n",
       "                                Carry on family business  Not important          610298\n",
       "                                                          Somewhat important     233917\n",
       "                                                          Very important         259629\n",
       "                                Couldn't find a job       Not important          749862"
      ]
     },
     "execution_count": 59,
     "metadata": {},
     "output_type": "execute_result"
    }
   ],
   "source": [
    "grouped_reason = reason_owned.groupby(\n",
    "    by = ['industry','reason','importance'])[['ownpdemp']].agg(\n",
    "    responses = ('ownpdemp', 'sum')\n",
    ")\n",
    "grouped_reason.head(10)"
   ]
  },
  {
   "cell_type": "code",
   "execution_count": 76,
   "id": "28f930cc-185f-42de-a35b-3d2d4654b5c4",
   "metadata": {},
   "outputs": [
    {
     "data": {
      "text/html": [
       "<div>\n",
       "<style scoped>\n",
       "    .dataframe tbody tr th:only-of-type {\n",
       "        vertical-align: middle;\n",
       "    }\n",
       "\n",
       "    .dataframe tbody tr th {\n",
       "        vertical-align: top;\n",
       "    }\n",
       "\n",
       "    .dataframe thead th {\n",
       "        text-align: right;\n",
       "    }\n",
       "</style>\n",
       "<table border=\"1\" class=\"dataframe\">\n",
       "  <thead>\n",
       "    <tr style=\"text-align: right;\">\n",
       "      <th></th>\n",
       "      <th>industry</th>\n",
       "      <th>reason</th>\n",
       "      <th>importance</th>\n",
       "      <th>responses</th>\n",
       "    </tr>\n",
       "  </thead>\n",
       "  <tbody>\n",
       "    <tr>\n",
       "      <th>216</th>\n",
       "      <td>Finance and insurance</td>\n",
       "      <td>Balance work and family</td>\n",
       "      <td>Not important</td>\n",
       "      <td>60218</td>\n",
       "    </tr>\n",
       "  </tbody>\n",
       "</table>\n",
       "</div>"
      ],
      "text/plain": [
       "                  industry                   reason      importance  responses\n",
       "216  Finance and insurance  Balance work and family   Not important      60218"
      ]
     },
     "execution_count": 76,
     "metadata": {},
     "output_type": "execute_result"
    }
   ],
   "source": [
    "subset = grouped_reason.reset_index()\n",
    "accom_subset = subset[(subset['industry'].str.contains('inanc'))]\n",
    "accom_subset.head(1)"
   ]
  },
  {
   "cell_type": "code",
   "execution_count": 73,
   "id": "d99d4fbd-aa17-4618-8e39-1a52c166d703",
   "metadata": {},
   "outputs": [],
   "source": [
    "import plotly.express as px\n",
    "\n",
    "fig = px.bar(accom_subset, x = 'reason', y = 'responses', color = 'importance',\n",
    "            width = 800, height = 400)"
   ]
  },
  {
   "cell_type": "code",
   "execution_count": 75,
   "id": "fec1e761-1e20-464b-ae12-18dfcc730be4",
   "metadata": {},
   "outputs": [
    {
     "data": {
      "application/vnd.plotly.v1+json": {
       "config": {
        "plotlyServerURL": "https://plot.ly"
       },
       "data": [
        {
         "alignmentgroup": "True",
         "hovertemplate": "importance= Not important<br>reason=%{x}<br>responses=%{y}<extra></extra>",
         "legendgroup": " Not important",
         "marker": {
          "color": "#636efa",
          "pattern": {
           "shape": ""
          }
         },
         "name": " Not important",
         "offsetgroup": " Not important",
         "orientation": "v",
         "showlegend": true,
         "textposition": "auto",
         "type": "bar",
         "x": [
          "Balance work and family",
          "Best avenue for ideas",
          "Carry on family business",
          "Couldn't find a job",
          "Flexible hours",
          "Friend or family role model",
          "Greater income",
          "Help my community",
          "Other",
          "Start my own business",
          "Wanted to be my own boss",
          "Work for self"
         ],
         "xaxis": "x",
         "y": [
          60218,
          74221,
          369140,
          443838,
          71858,
          220683,
          43704,
          185687,
          435167,
          117725,
          57743,
          143483
         ],
         "yaxis": "y"
        },
        {
         "alignmentgroup": "True",
         "hovertemplate": "importance= Somewhat important<br>reason=%{x}<br>responses=%{y}<extra></extra>",
         "legendgroup": " Somewhat important",
         "marker": {
          "color": "#EF553B",
          "pattern": {
           "shape": ""
          }
         },
         "name": " Somewhat important",
         "offsetgroup": " Somewhat important",
         "orientation": "v",
         "showlegend": true,
         "textposition": "auto",
         "type": "bar",
         "x": [
          "Balance work and family",
          "Best avenue for ideas",
          "Carry on family business",
          "Couldn't find a job",
          "Flexible hours",
          "Friend or family role model",
          "Greater income",
          "Help my community",
          "Other",
          "Start my own business",
          "Wanted to be my own boss",
          "Work for self"
         ],
         "xaxis": "x",
         "y": [
          127503,
          158487,
          68566,
          60180,
          127010,
          142380,
          99891,
          197656,
          38953,
          161993,
          105639,
          204618
         ],
         "yaxis": "y"
        },
        {
         "alignmentgroup": "True",
         "hovertemplate": "importance= Very important<br>reason=%{x}<br>responses=%{y}<extra></extra>",
         "legendgroup": " Very important",
         "marker": {
          "color": "#00cc96",
          "pattern": {
           "shape": ""
          }
         },
         "name": " Very important",
         "offsetgroup": " Very important",
         "orientation": "v",
         "showlegend": true,
         "textposition": "auto",
         "type": "bar",
         "x": [
          "Balance work and family",
          "Best avenue for ideas",
          "Carry on family business",
          "Couldn't find a job",
          "Flexible hours",
          "Friend or family role model",
          "Greater income",
          "Help my community",
          "Other",
          "Start my own business",
          "Wanted to be my own boss",
          "Work for self"
         ],
         "xaxis": "x",
         "y": [
          353279,
          309141,
          102342,
          32011,
          343219,
          178341,
          393835,
          154036,
          47727,
          255919,
          379524,
          193267
         ],
         "yaxis": "y"
        }
       ],
       "layout": {
        "barmode": "relative",
        "height": 400,
        "legend": {
         "title": {
          "text": "importance"
         },
         "tracegroupgap": 0
        },
        "margin": {
         "t": 60
        },
        "template": {
         "data": {
          "bar": [
           {
            "error_x": {
             "color": "#2a3f5f"
            },
            "error_y": {
             "color": "#2a3f5f"
            },
            "marker": {
             "line": {
              "color": "#E5ECF6",
              "width": 0.5
             },
             "pattern": {
              "fillmode": "overlay",
              "size": 10,
              "solidity": 0.2
             }
            },
            "type": "bar"
           }
          ],
          "barpolar": [
           {
            "marker": {
             "line": {
              "color": "#E5ECF6",
              "width": 0.5
             },
             "pattern": {
              "fillmode": "overlay",
              "size": 10,
              "solidity": 0.2
             }
            },
            "type": "barpolar"
           }
          ],
          "carpet": [
           {
            "aaxis": {
             "endlinecolor": "#2a3f5f",
             "gridcolor": "white",
             "linecolor": "white",
             "minorgridcolor": "white",
             "startlinecolor": "#2a3f5f"
            },
            "baxis": {
             "endlinecolor": "#2a3f5f",
             "gridcolor": "white",
             "linecolor": "white",
             "minorgridcolor": "white",
             "startlinecolor": "#2a3f5f"
            },
            "type": "carpet"
           }
          ],
          "choropleth": [
           {
            "colorbar": {
             "outlinewidth": 0,
             "ticks": ""
            },
            "type": "choropleth"
           }
          ],
          "contour": [
           {
            "colorbar": {
             "outlinewidth": 0,
             "ticks": ""
            },
            "colorscale": [
             [
              0,
              "#0d0887"
             ],
             [
              0.1111111111111111,
              "#46039f"
             ],
             [
              0.2222222222222222,
              "#7201a8"
             ],
             [
              0.3333333333333333,
              "#9c179e"
             ],
             [
              0.4444444444444444,
              "#bd3786"
             ],
             [
              0.5555555555555556,
              "#d8576b"
             ],
             [
              0.6666666666666666,
              "#ed7953"
             ],
             [
              0.7777777777777778,
              "#fb9f3a"
             ],
             [
              0.8888888888888888,
              "#fdca26"
             ],
             [
              1,
              "#f0f921"
             ]
            ],
            "type": "contour"
           }
          ],
          "contourcarpet": [
           {
            "colorbar": {
             "outlinewidth": 0,
             "ticks": ""
            },
            "type": "contourcarpet"
           }
          ],
          "heatmap": [
           {
            "colorbar": {
             "outlinewidth": 0,
             "ticks": ""
            },
            "colorscale": [
             [
              0,
              "#0d0887"
             ],
             [
              0.1111111111111111,
              "#46039f"
             ],
             [
              0.2222222222222222,
              "#7201a8"
             ],
             [
              0.3333333333333333,
              "#9c179e"
             ],
             [
              0.4444444444444444,
              "#bd3786"
             ],
             [
              0.5555555555555556,
              "#d8576b"
             ],
             [
              0.6666666666666666,
              "#ed7953"
             ],
             [
              0.7777777777777778,
              "#fb9f3a"
             ],
             [
              0.8888888888888888,
              "#fdca26"
             ],
             [
              1,
              "#f0f921"
             ]
            ],
            "type": "heatmap"
           }
          ],
          "heatmapgl": [
           {
            "colorbar": {
             "outlinewidth": 0,
             "ticks": ""
            },
            "colorscale": [
             [
              0,
              "#0d0887"
             ],
             [
              0.1111111111111111,
              "#46039f"
             ],
             [
              0.2222222222222222,
              "#7201a8"
             ],
             [
              0.3333333333333333,
              "#9c179e"
             ],
             [
              0.4444444444444444,
              "#bd3786"
             ],
             [
              0.5555555555555556,
              "#d8576b"
             ],
             [
              0.6666666666666666,
              "#ed7953"
             ],
             [
              0.7777777777777778,
              "#fb9f3a"
             ],
             [
              0.8888888888888888,
              "#fdca26"
             ],
             [
              1,
              "#f0f921"
             ]
            ],
            "type": "heatmapgl"
           }
          ],
          "histogram": [
           {
            "marker": {
             "pattern": {
              "fillmode": "overlay",
              "size": 10,
              "solidity": 0.2
             }
            },
            "type": "histogram"
           }
          ],
          "histogram2d": [
           {
            "colorbar": {
             "outlinewidth": 0,
             "ticks": ""
            },
            "colorscale": [
             [
              0,
              "#0d0887"
             ],
             [
              0.1111111111111111,
              "#46039f"
             ],
             [
              0.2222222222222222,
              "#7201a8"
             ],
             [
              0.3333333333333333,
              "#9c179e"
             ],
             [
              0.4444444444444444,
              "#bd3786"
             ],
             [
              0.5555555555555556,
              "#d8576b"
             ],
             [
              0.6666666666666666,
              "#ed7953"
             ],
             [
              0.7777777777777778,
              "#fb9f3a"
             ],
             [
              0.8888888888888888,
              "#fdca26"
             ],
             [
              1,
              "#f0f921"
             ]
            ],
            "type": "histogram2d"
           }
          ],
          "histogram2dcontour": [
           {
            "colorbar": {
             "outlinewidth": 0,
             "ticks": ""
            },
            "colorscale": [
             [
              0,
              "#0d0887"
             ],
             [
              0.1111111111111111,
              "#46039f"
             ],
             [
              0.2222222222222222,
              "#7201a8"
             ],
             [
              0.3333333333333333,
              "#9c179e"
             ],
             [
              0.4444444444444444,
              "#bd3786"
             ],
             [
              0.5555555555555556,
              "#d8576b"
             ],
             [
              0.6666666666666666,
              "#ed7953"
             ],
             [
              0.7777777777777778,
              "#fb9f3a"
             ],
             [
              0.8888888888888888,
              "#fdca26"
             ],
             [
              1,
              "#f0f921"
             ]
            ],
            "type": "histogram2dcontour"
           }
          ],
          "mesh3d": [
           {
            "colorbar": {
             "outlinewidth": 0,
             "ticks": ""
            },
            "type": "mesh3d"
           }
          ],
          "parcoords": [
           {
            "line": {
             "colorbar": {
              "outlinewidth": 0,
              "ticks": ""
             }
            },
            "type": "parcoords"
           }
          ],
          "pie": [
           {
            "automargin": true,
            "type": "pie"
           }
          ],
          "scatter": [
           {
            "marker": {
             "colorbar": {
              "outlinewidth": 0,
              "ticks": ""
             }
            },
            "type": "scatter"
           }
          ],
          "scatter3d": [
           {
            "line": {
             "colorbar": {
              "outlinewidth": 0,
              "ticks": ""
             }
            },
            "marker": {
             "colorbar": {
              "outlinewidth": 0,
              "ticks": ""
             }
            },
            "type": "scatter3d"
           }
          ],
          "scattercarpet": [
           {
            "marker": {
             "colorbar": {
              "outlinewidth": 0,
              "ticks": ""
             }
            },
            "type": "scattercarpet"
           }
          ],
          "scattergeo": [
           {
            "marker": {
             "colorbar": {
              "outlinewidth": 0,
              "ticks": ""
             }
            },
            "type": "scattergeo"
           }
          ],
          "scattergl": [
           {
            "marker": {
             "colorbar": {
              "outlinewidth": 0,
              "ticks": ""
             }
            },
            "type": "scattergl"
           }
          ],
          "scattermapbox": [
           {
            "marker": {
             "colorbar": {
              "outlinewidth": 0,
              "ticks": ""
             }
            },
            "type": "scattermapbox"
           }
          ],
          "scatterpolar": [
           {
            "marker": {
             "colorbar": {
              "outlinewidth": 0,
              "ticks": ""
             }
            },
            "type": "scatterpolar"
           }
          ],
          "scatterpolargl": [
           {
            "marker": {
             "colorbar": {
              "outlinewidth": 0,
              "ticks": ""
             }
            },
            "type": "scatterpolargl"
           }
          ],
          "scatterternary": [
           {
            "marker": {
             "colorbar": {
              "outlinewidth": 0,
              "ticks": ""
             }
            },
            "type": "scatterternary"
           }
          ],
          "surface": [
           {
            "colorbar": {
             "outlinewidth": 0,
             "ticks": ""
            },
            "colorscale": [
             [
              0,
              "#0d0887"
             ],
             [
              0.1111111111111111,
              "#46039f"
             ],
             [
              0.2222222222222222,
              "#7201a8"
             ],
             [
              0.3333333333333333,
              "#9c179e"
             ],
             [
              0.4444444444444444,
              "#bd3786"
             ],
             [
              0.5555555555555556,
              "#d8576b"
             ],
             [
              0.6666666666666666,
              "#ed7953"
             ],
             [
              0.7777777777777778,
              "#fb9f3a"
             ],
             [
              0.8888888888888888,
              "#fdca26"
             ],
             [
              1,
              "#f0f921"
             ]
            ],
            "type": "surface"
           }
          ],
          "table": [
           {
            "cells": {
             "fill": {
              "color": "#EBF0F8"
             },
             "line": {
              "color": "white"
             }
            },
            "header": {
             "fill": {
              "color": "#C8D4E3"
             },
             "line": {
              "color": "white"
             }
            },
            "type": "table"
           }
          ]
         },
         "layout": {
          "annotationdefaults": {
           "arrowcolor": "#2a3f5f",
           "arrowhead": 0,
           "arrowwidth": 1
          },
          "autotypenumbers": "strict",
          "coloraxis": {
           "colorbar": {
            "outlinewidth": 0,
            "ticks": ""
           }
          },
          "colorscale": {
           "diverging": [
            [
             0,
             "#8e0152"
            ],
            [
             0.1,
             "#c51b7d"
            ],
            [
             0.2,
             "#de77ae"
            ],
            [
             0.3,
             "#f1b6da"
            ],
            [
             0.4,
             "#fde0ef"
            ],
            [
             0.5,
             "#f7f7f7"
            ],
            [
             0.6,
             "#e6f5d0"
            ],
            [
             0.7,
             "#b8e186"
            ],
            [
             0.8,
             "#7fbc41"
            ],
            [
             0.9,
             "#4d9221"
            ],
            [
             1,
             "#276419"
            ]
           ],
           "sequential": [
            [
             0,
             "#0d0887"
            ],
            [
             0.1111111111111111,
             "#46039f"
            ],
            [
             0.2222222222222222,
             "#7201a8"
            ],
            [
             0.3333333333333333,
             "#9c179e"
            ],
            [
             0.4444444444444444,
             "#bd3786"
            ],
            [
             0.5555555555555556,
             "#d8576b"
            ],
            [
             0.6666666666666666,
             "#ed7953"
            ],
            [
             0.7777777777777778,
             "#fb9f3a"
            ],
            [
             0.8888888888888888,
             "#fdca26"
            ],
            [
             1,
             "#f0f921"
            ]
           ],
           "sequentialminus": [
            [
             0,
             "#0d0887"
            ],
            [
             0.1111111111111111,
             "#46039f"
            ],
            [
             0.2222222222222222,
             "#7201a8"
            ],
            [
             0.3333333333333333,
             "#9c179e"
            ],
            [
             0.4444444444444444,
             "#bd3786"
            ],
            [
             0.5555555555555556,
             "#d8576b"
            ],
            [
             0.6666666666666666,
             "#ed7953"
            ],
            [
             0.7777777777777778,
             "#fb9f3a"
            ],
            [
             0.8888888888888888,
             "#fdca26"
            ],
            [
             1,
             "#f0f921"
            ]
           ]
          },
          "colorway": [
           "#636efa",
           "#EF553B",
           "#00cc96",
           "#ab63fa",
           "#FFA15A",
           "#19d3f3",
           "#FF6692",
           "#B6E880",
           "#FF97FF",
           "#FECB52"
          ],
          "font": {
           "color": "#2a3f5f"
          },
          "geo": {
           "bgcolor": "white",
           "lakecolor": "white",
           "landcolor": "#E5ECF6",
           "showlakes": true,
           "showland": true,
           "subunitcolor": "white"
          },
          "hoverlabel": {
           "align": "left"
          },
          "hovermode": "closest",
          "mapbox": {
           "style": "light"
          },
          "paper_bgcolor": "white",
          "plot_bgcolor": "#E5ECF6",
          "polar": {
           "angularaxis": {
            "gridcolor": "white",
            "linecolor": "white",
            "ticks": ""
           },
           "bgcolor": "#E5ECF6",
           "radialaxis": {
            "gridcolor": "white",
            "linecolor": "white",
            "ticks": ""
           }
          },
          "scene": {
           "xaxis": {
            "backgroundcolor": "#E5ECF6",
            "gridcolor": "white",
            "gridwidth": 2,
            "linecolor": "white",
            "showbackground": true,
            "ticks": "",
            "zerolinecolor": "white"
           },
           "yaxis": {
            "backgroundcolor": "#E5ECF6",
            "gridcolor": "white",
            "gridwidth": 2,
            "linecolor": "white",
            "showbackground": true,
            "ticks": "",
            "zerolinecolor": "white"
           },
           "zaxis": {
            "backgroundcolor": "#E5ECF6",
            "gridcolor": "white",
            "gridwidth": 2,
            "linecolor": "white",
            "showbackground": true,
            "ticks": "",
            "zerolinecolor": "white"
           }
          },
          "shapedefaults": {
           "line": {
            "color": "#2a3f5f"
           }
          },
          "ternary": {
           "aaxis": {
            "gridcolor": "white",
            "linecolor": "white",
            "ticks": ""
           },
           "baxis": {
            "gridcolor": "white",
            "linecolor": "white",
            "ticks": ""
           },
           "bgcolor": "#E5ECF6",
           "caxis": {
            "gridcolor": "white",
            "linecolor": "white",
            "ticks": ""
           }
          },
          "title": {
           "x": 0.05
          },
          "xaxis": {
           "automargin": true,
           "gridcolor": "white",
           "linecolor": "white",
           "ticks": "",
           "title": {
            "standoff": 15
           },
           "zerolinecolor": "white",
           "zerolinewidth": 2
          },
          "yaxis": {
           "automargin": true,
           "gridcolor": "white",
           "linecolor": "white",
           "ticks": "",
           "title": {
            "standoff": 15
           },
           "zerolinecolor": "white",
           "zerolinewidth": 2
          }
         }
        },
        "width": 800,
        "xaxis": {
         "anchor": "y",
         "autorange": true,
         "domain": [
          0,
          1
         ],
         "range": [
          -0.5,
          11.5
         ],
         "title": {
          "text": "reason"
         },
         "type": "category"
        },
        "yaxis": {
         "anchor": "x",
         "autorange": true,
         "domain": [
          0,
          1
         ],
         "range": [
          0,
          571480
         ],
         "title": {
          "text": "responses"
         },
         "type": "linear"
        }
       }
      },
      "image/png": "[encoded data removed]",
      "text/html": [
       "<div>                            <div id=\"be63a593-dae0-4f03-94ef-ca37e7e76e35\" class=\"plotly-graph-div\" style=\"height:400px; width:800px;\"></div>            <script type=\"text/javascript\">                require([\"plotly\"], function(Plotly) {                    window.PLOTLYENV=window.PLOTLYENV || {};                                    if (document.getElementById(\"be63a593-dae0-4f03-94ef-ca37e7e76e35\")) {                    Plotly.newPlot(                        \"be63a593-dae0-4f03-94ef-ca37e7e76e35\",                        [{\"alignmentgroup\":\"True\",\"hovertemplate\":\"importance= Not important<br>reason=%{x}<br>responses=%{y}<extra></extra>\",\"legendgroup\":\" Not important\",\"marker\":{\"color\":\"#636efa\",\"pattern\":{\"shape\":\"\"}},\"name\":\" Not important\",\"offsetgroup\":\" Not important\",\"orientation\":\"v\",\"showlegend\":true,\"textposition\":\"auto\",\"x\":[\"Balance work and family\",\"Best avenue for ideas\",\"Carry on family business\",\"Couldn't find a job\",\"Flexible hours\",\"Friend or family role model\",\"Greater income\",\"Help my community\",\"Other\",\"Start my own business\",\"Wanted to be my own boss\",\"Work for self\"],\"xaxis\":\"x\",\"y\":[60218,74221,369140,443838,71858,220683,43704,185687,435167,117725,57743,143483],\"yaxis\":\"y\",\"type\":\"bar\"},{\"alignmentgroup\":\"True\",\"hovertemplate\":\"importance= Somewhat important<br>reason=%{x}<br>responses=%{y}<extra></extra>\",\"legendgroup\":\" Somewhat important\",\"marker\":{\"color\":\"#EF553B\",\"pattern\":{\"shape\":\"\"}},\"name\":\" Somewhat important\",\"offsetgroup\":\" Somewhat important\",\"orientation\":\"v\",\"showlegend\":true,\"textposition\":\"auto\",\"x\":[\"Balance work and family\",\"Best avenue for ideas\",\"Carry on family business\",\"Couldn't find a job\",\"Flexible hours\",\"Friend or family role model\",\"Greater income\",\"Help my community\",\"Other\",\"Start my own business\",\"Wanted to be my own boss\",\"Work for self\"],\"xaxis\":\"x\",\"y\":[127503,158487,68566,60180,127010,142380,99891,197656,38953,161993,105639,204618],\"yaxis\":\"y\",\"type\":\"bar\"},{\"alignmentgroup\":\"True\",\"hovertemplate\":\"importance= Very important<br>reason=%{x}<br>responses=%{y}<extra></extra>\",\"legendgroup\":\" Very important\",\"marker\":{\"color\":\"#00cc96\",\"pattern\":{\"shape\":\"\"}},\"name\":\" Very important\",\"offsetgroup\":\" Very important\",\"orientation\":\"v\",\"showlegend\":true,\"textposition\":\"auto\",\"x\":[\"Balance work and family\",\"Best avenue for ideas\",\"Carry on family business\",\"Couldn't find a job\",\"Flexible hours\",\"Friend or family role model\",\"Greater income\",\"Help my community\",\"Other\",\"Start my own business\",\"Wanted to be my own boss\",\"Work for self\"],\"xaxis\":\"x\",\"y\":[353279,309141,102342,32011,343219,178341,393835,154036,47727,255919,379524,193267],\"yaxis\":\"y\",\"type\":\"bar\"}],                        {\"template\":{\"data\":{\"bar\":[{\"error_x\":{\"color\":\"#2a3f5f\"},\"error_y\":{\"color\":\"#2a3f5f\"},\"marker\":{\"line\":{\"color\":\"#E5ECF6\",\"width\":0.5},\"pattern\":{\"fillmode\":\"overlay\",\"size\":10,\"solidity\":0.2}},\"type\":\"bar\"}],\"barpolar\":[{\"marker\":{\"line\":{\"color\":\"#E5ECF6\",\"width\":0.5},\"pattern\":{\"fillmode\":\"overlay\",\"size\":10,\"solidity\":0.2}},\"type\":\"barpolar\"}],\"carpet\":[{\"aaxis\":{\"endlinecolor\":\"#2a3f5f\",\"gridcolor\":\"white\",\"linecolor\":\"white\",\"minorgridcolor\":\"white\",\"startlinecolor\":\"#2a3f5f\"},\"baxis\":{\"endlinecolor\":\"#2a3f5f\",\"gridcolor\":\"white\",\"linecolor\":\"white\",\"minorgridcolor\":\"white\",\"startlinecolor\":\"#2a3f5f\"},\"type\":\"carpet\"}],\"choropleth\":[{\"colorbar\":{\"outlinewidth\":0,\"ticks\":\"\"},\"type\":\"choropleth\"}],\"contour\":[{\"colorbar\":{\"outlinewidth\":0,\"ticks\":\"\"},\"colorscale\":[[0.0,\"#0d0887\"],[0.1111111111111111,\"#46039f\"],[0.2222222222222222,\"#7201a8\"],[0.3333333333333333,\"#9c179e\"],[0.4444444444444444,\"#bd3786\"],[0.5555555555555556,\"#d8576b\"],[0.6666666666666666,\"#ed7953\"],[0.7777777777777778,\"#fb9f3a\"],[0.8888888888888888,\"#fdca26\"],[1.0,\"#f0f921\"]],\"type\":\"contour\"}],\"contourcarpet\":[{\"colorbar\":{\"outlinewidth\":0,\"ticks\":\"\"},\"type\":\"contourcarpet\"}],\"heatmap\":[{\"colorbar\":{\"outlinewidth\":0,\"ticks\":\"\"},\"colorscale\":[[0.0,\"#0d0887\"],[0.1111111111111111,\"#46039f\"],[0.2222222222222222,\"#7201a8\"],[0.3333333333333333,\"#9c179e\"],[0.4444444444444444,\"#bd3786\"],[0.5555555555555556,\"#d8576b\"],[0.6666666666666666,\"#ed7953\"],[0.7777777777777778,\"#fb9f3a\"],[0.8888888888888888,\"#fdca26\"],[1.0,\"#f0f921\"]],\"type\":\"heatmap\"}],\"heatmapgl\":[{\"colorbar\":{\"outlinewidth\":0,\"ticks\":\"\"},\"colorscale\":[[0.0,\"#0d0887\"],[0.1111111111111111,\"#46039f\"],[0.2222222222222222,\"#7201a8\"],[0.3333333333333333,\"#9c179e\"],[0.4444444444444444,\"#bd3786\"],[0.5555555555555556,\"#d8576b\"],[0.6666666666666666,\"#ed7953\"],[0.7777777777777778,\"#fb9f3a\"],[0.8888888888888888,\"#fdca26\"],[1.0,\"#f0f921\"]],\"type\":\"heatmapgl\"}],\"histogram\":[{\"marker\":{\"pattern\":{\"fillmode\":\"overlay\",\"size\":10,\"solidity\":0.2}},\"type\":\"histogram\"}],\"histogram2d\":[{\"colorbar\":{\"outlinewidth\":0,\"ticks\":\"\"},\"colorscale\":[[0.0,\"#0d0887\"],[0.1111111111111111,\"#46039f\"],[0.2222222222222222,\"#7201a8\"],[0.3333333333333333,\"#9c179e\"],[0.4444444444444444,\"#bd3786\"],[0.5555555555555556,\"#d8576b\"],[0.6666666666666666,\"#ed7953\"],[0.7777777777777778,\"#fb9f3a\"],[0.8888888888888888,\"#fdca26\"],[1.0,\"#f0f921\"]],\"type\":\"histogram2d\"}],\"histogram2dcontour\":[{\"colorbar\":{\"outlinewidth\":0,\"ticks\":\"\"},\"colorscale\":[[0.0,\"#0d0887\"],[0.1111111111111111,\"#46039f\"],[0.2222222222222222,\"#7201a8\"],[0.3333333333333333,\"#9c179e\"],[0.4444444444444444,\"#bd3786\"],[0.5555555555555556,\"#d8576b\"],[0.6666666666666666,\"#ed7953\"],[0.7777777777777778,\"#fb9f3a\"],[0.8888888888888888,\"#fdca26\"],[1.0,\"#f0f921\"]],\"type\":\"histogram2dcontour\"}],\"mesh3d\":[{\"colorbar\":{\"outlinewidth\":0,\"ticks\":\"\"},\"type\":\"mesh3d\"}],\"parcoords\":[{\"line\":{\"colorbar\":{\"outlinewidth\":0,\"ticks\":\"\"}},\"type\":\"parcoords\"}],\"pie\":[{\"automargin\":true,\"type\":\"pie\"}],\"scatter\":[{\"marker\":{\"colorbar\":{\"outlinewidth\":0,\"ticks\":\"\"}},\"type\":\"scatter\"}],\"scatter3d\":[{\"line\":{\"colorbar\":{\"outlinewidth\":0,\"ticks\":\"\"}},\"marker\":{\"colorbar\":{\"outlinewidth\":0,\"ticks\":\"\"}},\"type\":\"scatter3d\"}],\"scattercarpet\":[{\"marker\":{\"colorbar\":{\"outlinewidth\":0,\"ticks\":\"\"}},\"type\":\"scattercarpet\"}],\"scattergeo\":[{\"marker\":{\"colorbar\":{\"outlinewidth\":0,\"ticks\":\"\"}},\"type\":\"scattergeo\"}],\"scattergl\":[{\"marker\":{\"colorbar\":{\"outlinewidth\":0,\"ticks\":\"\"}},\"type\":\"scattergl\"}],\"scattermapbox\":[{\"marker\":{\"colorbar\":{\"outlinewidth\":0,\"ticks\":\"\"}},\"type\":\"scattermapbox\"}],\"scatterpolar\":[{\"marker\":{\"colorbar\":{\"outlinewidth\":0,\"ticks\":\"\"}},\"type\":\"scatterpolar\"}],\"scatterpolargl\":[{\"marker\":{\"colorbar\":{\"outlinewidth\":0,\"ticks\":\"\"}},\"type\":\"scatterpolargl\"}],\"scatterternary\":[{\"marker\":{\"colorbar\":{\"outlinewidth\":0,\"ticks\":\"\"}},\"type\":\"scatterternary\"}],\"surface\":[{\"colorbar\":{\"outlinewidth\":0,\"ticks\":\"\"},\"colorscale\":[[0.0,\"#0d0887\"],[0.1111111111111111,\"#46039f\"],[0.2222222222222222,\"#7201a8\"],[0.3333333333333333,\"#9c179e\"],[0.4444444444444444,\"#bd3786\"],[0.5555555555555556,\"#d8576b\"],[0.6666666666666666,\"#ed7953\"],[0.7777777777777778,\"#fb9f3a\"],[0.8888888888888888,\"#fdca26\"],[1.0,\"#f0f921\"]],\"type\":\"surface\"}],\"table\":[{\"cells\":{\"fill\":{\"color\":\"#EBF0F8\"},\"line\":{\"color\":\"white\"}},\"header\":{\"fill\":{\"color\":\"#C8D4E3\"},\"line\":{\"color\":\"white\"}},\"type\":\"table\"}]},\"layout\":{\"annotationdefaults\":{\"arrowcolor\":\"#2a3f5f\",\"arrowhead\":0,\"arrowwidth\":1},\"autotypenumbers\":\"strict\",\"coloraxis\":{\"colorbar\":{\"outlinewidth\":0,\"ticks\":\"\"}},\"colorscale\":{\"diverging\":[[0,\"#8e0152\"],[0.1,\"#c51b7d\"],[0.2,\"#de77ae\"],[0.3,\"#f1b6da\"],[0.4,\"#fde0ef\"],[0.5,\"#f7f7f7\"],[0.6,\"#e6f5d0\"],[0.7,\"#b8e186\"],[0.8,\"#7fbc41\"],[0.9,\"#4d9221\"],[1,\"#276419\"]],\"sequential\":[[0.0,\"#0d0887\"],[0.1111111111111111,\"#46039f\"],[0.2222222222222222,\"#7201a8\"],[0.3333333333333333,\"#9c179e\"],[0.4444444444444444,\"#bd3786\"],[0.5555555555555556,\"#d8576b\"],[0.6666666666666666,\"#ed7953\"],[0.7777777777777778,\"#fb9f3a\"],[0.8888888888888888,\"#fdca26\"],[1.0,\"#f0f921\"]],\"sequentialminus\":[[0.0,\"#0d0887\"],[0.1111111111111111,\"#46039f\"],[0.2222222222222222,\"#7201a8\"],[0.3333333333333333,\"#9c179e\"],[0.4444444444444444,\"#bd3786\"],[0.5555555555555556,\"#d8576b\"],[0.6666666666666666,\"#ed7953\"],[0.7777777777777778,\"#fb9f3a\"],[0.8888888888888888,\"#fdca26\"],[1.0,\"#f0f921\"]]},\"colorway\":[\"#636efa\",\"#EF553B\",\"#00cc96\",\"#ab63fa\",\"#FFA15A\",\"#19d3f3\",\"#FF6692\",\"#B6E880\",\"#FF97FF\",\"#FECB52\"],\"font\":{\"color\":\"#2a3f5f\"},\"geo\":{\"bgcolor\":\"white\",\"lakecolor\":\"white\",\"landcolor\":\"#E5ECF6\",\"showlakes\":true,\"showland\":true,\"subunitcolor\":\"white\"},\"hoverlabel\":{\"align\":\"left\"},\"hovermode\":\"closest\",\"mapbox\":{\"style\":\"light\"},\"paper_bgcolor\":\"white\",\"plot_bgcolor\":\"#E5ECF6\",\"polar\":{\"angularaxis\":{\"gridcolor\":\"white\",\"linecolor\":\"white\",\"ticks\":\"\"},\"bgcolor\":\"#E5ECF6\",\"radialaxis\":{\"gridcolor\":\"white\",\"linecolor\":\"white\",\"ticks\":\"\"}},\"scene\":{\"xaxis\":{\"backgroundcolor\":\"#E5ECF6\",\"gridcolor\":\"white\",\"gridwidth\":2,\"linecolor\":\"white\",\"showbackground\":true,\"ticks\":\"\",\"zerolinecolor\":\"white\"},\"yaxis\":{\"backgroundcolor\":\"#E5ECF6\",\"gridcolor\":\"white\",\"gridwidth\":2,\"linecolor\":\"white\",\"showbackground\":true,\"ticks\":\"\",\"zerolinecolor\":\"white\"},\"zaxis\":{\"backgroundcolor\":\"#E5ECF6\",\"gridcolor\":\"white\",\"gridwidth\":2,\"linecolor\":\"white\",\"showbackground\":true,\"ticks\":\"\",\"zerolinecolor\":\"white\"}},\"shapedefaults\":{\"line\":{\"color\":\"#2a3f5f\"}},\"ternary\":{\"aaxis\":{\"gridcolor\":\"white\",\"linecolor\":\"white\",\"ticks\":\"\"},\"baxis\":{\"gridcolor\":\"white\",\"linecolor\":\"white\",\"ticks\":\"\"},\"bgcolor\":\"#E5ECF6\",\"caxis\":{\"gridcolor\":\"white\",\"linecolor\":\"white\",\"ticks\":\"\"}},\"title\":{\"x\":0.05},\"xaxis\":{\"automargin\":true,\"gridcolor\":\"white\",\"linecolor\":\"white\",\"ticks\":\"\",\"title\":{\"standoff\":15},\"zerolinecolor\":\"white\",\"zerolinewidth\":2},\"yaxis\":{\"automargin\":true,\"gridcolor\":\"white\",\"linecolor\":\"white\",\"ticks\":\"\",\"title\":{\"standoff\":15},\"zerolinecolor\":\"white\",\"zerolinewidth\":2}}},\"xaxis\":{\"anchor\":\"y\",\"domain\":[0.0,1.0],\"title\":{\"text\":\"reason\"}},\"yaxis\":{\"anchor\":\"x\",\"domain\":[0.0,1.0],\"title\":{\"text\":\"responses\"}},\"legend\":{\"title\":{\"text\":\"importance\"},\"tracegroupgap\":0},\"margin\":{\"t\":60},\"barmode\":\"relative\",\"height\":400,\"width\":800},                        {\"responsive\": true}                    ).then(function(){\n",
       "                            \n",
       "var gd = document.getElementById('be63a593-dae0-4f03-94ef-ca37e7e76e35');\n",
       "var x = new MutationObserver(function (mutations, observer) {{\n",
       "        var display = window.getComputedStyle(gd).display;\n",
       "        if (!display || display === 'none') {{\n",
       "            console.log([gd, 'removed!']);\n",
       "            Plotly.purge(gd);\n",
       "            observer.disconnect();\n",
       "        }}\n",
       "}});\n",
       "\n",
       "// Listen for the removal of the full notebook cells\n",
       "var notebookContainer = gd.closest('#notebook-container');\n",
       "if (notebookContainer) {{\n",
       "    x.observe(notebookContainer, {childList: true});\n",
       "}}\n",
       "\n",
       "// Listen for the clearing of the current output cell\n",
       "var outputEl = gd.closest('.output');\n",
       "if (outputEl) {{\n",
       "    x.observe(outputEl, {childList: true});\n",
       "}}\n",
       "\n",
       "                        })                };                });            </script>        </div>"
      ]
     },
     "metadata": {},
     "output_type": "display_data"
    }
   ],
   "source": [
    "fig.show()"
   ]
  },
  {
   "cell_type": "code",
   "execution_count": null,
   "id": "d98687e3-78de-42b4-b2cd-135df65e1cc5",
   "metadata": {},
   "outputs": [],
   "source": []
  }
 ],
 "metadata": {
  "kernelspec": {
   "display_name": "Python 3 (ipykernel)",
   "language": "python",
   "name": "python3"
  },
  "language_info": {
   "codemirror_mode": {
    "name": "ipython",
    "version": 3
   },
   "file_extension": ".py",
   "mimetype": "text/x-python",
   "name": "python",
   "nbconvert_exporter": "python",
   "pygments_lexer": "ipython3",
   "version": "3.9.7"
  }
 },
 "nbformat": 4,
 "nbformat_minor": 5
}
