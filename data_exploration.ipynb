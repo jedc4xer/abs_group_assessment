{
 "cells": [
  {
   "cell_type": "markdown",
   "metadata": {},
   "source": [
    "# Annual Business Survey 2019\n",
    "## Group Assessment - Module 08"
   ]
  },
  {
   "cell_type": "markdown",
   "metadata": {
    "tags": []
   },
   "source": [
    "  *****"
   ]
  },
  {
   "cell_type": "markdown",
   "metadata": {},
   "source": [
    "## ETL Report\n",
    "### Introduction\n",
    "\n",
    "- In this portion, we will dicuss the problems or questions that we are trying to solve or answer. \n",
    "    We will identify the sources of our data and describe why the data needs to be transformed.\n",
    "    \n",
    "The United States Census Bureau provides access to an extensive database with hundreds of datasets that detail national <br>\n",
    "  characteristics. The data is stored in a way that can be quite confusing to many people, but there are many resources to <br>\n",
    "  assist interested researchers with gleaning new insights from the data.\n",
    "  \n",
    "For this study, we looked specifically at the Annual Business Survey for **2019** which examines data from **2018**. This survey <br>\n",
    "  provides information on a variety of characteristics for businesses and business owners.\n",
    "  \n",
    "**These are the questions that we are focusing on:**<br>\n",
    "> 1. When considering the Finance and Insurance Industries as well as the Education Industry, what are the reasons that a owner <br>\n",
    "      was motivated to create the business?\n",
    "      \n",
    "> 2. When considering the highest average pay for each state, are there any noticeable trends when accounting for the Industry, <br>\n",
    "      the Race of the Owner, or the Gender of the Owner?\n",
    "\n",
    "> 3. Does the rate of utilizing technology solutions have any correlation with family ownership status?\n",
    "\n",
    "> 4. What industries are most and least likely to utilize tech solutions in their business?\n",
    "    \n",
    "> 5. What questions are business owners most likely to respond to?\n",
    "\n",
    "> 6. What is the category of responses for business owners to the technical questions?\n",
    "\n",
    "> 7. Is there a gender gap among business owners based on race?\n",
    "\n",
    "> 8. \n",
    "\n",
    "> 9. \n",
    "\n",
    "> 10. \n",
    "\n",
    "> 11. \n",
    "\n",
    "> 12. \n",
    "\n",
    "**Why is it important to transform the data?**<br>\n",
    "\n",
    "As mentioned previously, the data is stored in a way that can be quite confusing, and it is necessary to perform a variety of<br>\n",
    "  transformations on it before it can be utilized. Some things to keep in mind is that there are multiple series of \"total\" categories,<br>\n",
    "  multiple variables stored in a single column, and the call to the API must contain every needed variable, as well as supporting variables<br>\n",
    "  in order to get complete and accurate results.\n",
    "### Data Sources\n",
    "\n",
    "The data used in this study was gathered directly from the U.S. Census Bureau data API. \n",
    "\n",
    ">US Census Bureau. (2021b, October 14). *Annual Business Survey (ABS) APIs.* Census.Gov.<br>\n",
    ">Retrieved April 22, 2022, from https://www.census.gov/data/developers/data-sets/abs.2019.html\n",
    "\n",
    "### Extraction\n",
    "\n",
    "- In this portion we will show how we got our data, show aspects of the data consumption process and indicate the order of the process.\n",
    "**Step 1 - Import Modules**\n",
    "> In this step, we are gathering all the modules that will be used in the script. We have also included a helper module that can act <br>\n",
    "as a variable dictionary for someone seeking to understand the code. <-- **I'm not sure if I should include this actually.**"
   ]
  },
  {
   "cell_type": "code",
   "execution_count": 1,
   "metadata": {},
   "outputs": [
    {
     "name": "stdout",
     "output_type": "stream",
     "text": [
      "\n",
      " ----- HELPER MODULE IMPORTED ------\n",
      "\n",
      "    For information on the helper module:\n",
      "        run 'help(explain)' in any cell. \n",
      "        \n",
      "    To directly use:\n",
      "        run 'explain.what_is()' with no parameters.\n",
      "    \n"
     ]
    }
   ],
   "source": [
    "import pandas as pd\n",
    "import numpy as np\n",
    "import seaborn as sns\n",
    "import datetime as dt\n",
    "\n",
    "import matplotlib.pyplot as plt\n",
    "import plotly.express as px\n",
    "\n",
    "from textwrap import wrap\n",
    "from utils import explain # Helper for clarifying variable information (for questions about this, type \"help(explain)\" in a cell)"
   ]
  },
  {
   "cell_type": "markdown",
   "metadata": {},
   "source": [
    "**Step 2 - Get Variable Tables**\n",
    "> In this step, we gathered the variables from each of the available datasets, and merged them into a single table with a goal<br>\n",
    "of understanding what data was available in each table, and if there were any common variables between tables.\n",
    "\n",
    "> To read this data into a dataframe we used the Pandas **\"read_html()\"** method which returns a list of all tables that are<br>\n",
    "that are available at the target source. We then kept only the first two columns from each table and renamed a column<br>\n",
    "that would cause name conflicts in a merged dataframe."
   ]
  },
  {
   "cell_type": "code",
   "execution_count": 2,
   "metadata": {},
   "outputs": [],
   "source": [
    "var_links = [\n",
    "    'https://api.census.gov/data/2018/abstcb/variables.html',\n",
    "    'https://api.census.gov/data/2018/abscbo/variables.html',\n",
    "    'https://api.census.gov/data/2018/abscb/variables.html',\n",
    "    'https://api.census.gov/data/2018/abscs/variables.html'\n",
    "]\n",
    "\n",
    "# Get the tables of variables.\n",
    "tech_vars = pd.read_html(var_links[0])[0]\n",
    "owner_vars = pd.read_html(var_links[1])[0]\n",
    "characteristic_vars = pd.read_html(var_links[2])[0]\n",
    "company_summary_vars = pd.read_html(var_links[3])[0]\n",
    "\n",
    "# Keep only two columns from each table and rename columns for merge.\n",
    "tech_vars = tech_vars.iloc[:,:2\n",
    "                        ].rename(columns = {'Label': 'Tech Labels'})\n",
    "\n",
    "owner_vars = owner_vars.iloc[:,:2\n",
    "                        ].rename(columns = {'Label': 'Owner Labels'})\n",
    "\n",
    "characteristic_vars = characteristic_vars.iloc[:,:2\n",
    "                        ].rename(columns = {'Label': 'Characteristic Labels'})\n",
    "\n",
    "company_summary_vars = company_summary_vars.iloc[:,:2\n",
    "                        ].rename(columns = {'Label': 'Company Summary Labels'})"
   ]
  },
  {
   "cell_type": "markdown",
   "metadata": {},
   "source": [
    "**Step 3 - Merge Variable Tables**\n",
    "> In this step we merged all the variable tables using a full outer merge so that all records would<br>\n",
    "be retained. We also filled all the null cells that were generated in the merge with \"-\" so that the<br>\n",
    "table would be easier to read."
   ]
  },
  {
   "cell_type": "code",
   "execution_count": 3,
   "metadata": {},
   "outputs": [],
   "source": [
    "grouped_tables = pd.merge(\n",
    "    tech_vars, owner_vars, left_on = 'Name', right_on = 'Name', how = 'outer'\n",
    ")\n",
    "\n",
    "grouped_tables = pd.merge(\n",
    "    grouped_tables, characteristic_vars, left_on = 'Name', right_on = 'Name', how = 'outer'\n",
    ")\n",
    "\n",
    "grouped_tables = pd.merge(\n",
    "    grouped_tables, company_summary_vars, left_on = 'Name', right_on = 'Name', how = 'outer'\n",
    ")\n",
    "\n",
    "grouped_tables.fillna(\"-\", inplace = True)\n",
    "grouped_tables = grouped_tables[(~grouped_tables['Name'].str.endswith('_S'))]\n",
    "\n",
    "grouped_tables = grouped_tables[:-2].sort_values(by = 'Name')\n",
    "grouped_tables = grouped_tables[(~grouped_tables['Name'].str.contains('variables'))]"
   ]
  },
  {
   "cell_type": "markdown",
   "metadata": {},
   "source": [
    "**Step 4 - Group Similar Variables**\n",
    "> This step was necessary because some of the variables referenced the same metric<br>\n",
    "but were named slightly differently. For example, OWNER_ETH vs. ETH_GROUP. \n",
    "\n",
    "> We then ordered the generated table by column and by name to prepare it for<br>\n",
    "further use.\n",
    "\n",
    "> We created a smaller table from this generated table that consisted only of<br>\n",
    "the variables that were present in all datsets. This was done in an effort to<br>\n",
    "reduce the ambiguity of the datasets and inform a merge of all datasets."
   ]
  },
  {
   "cell_type": "code",
   "execution_count": 4,
   "metadata": {},
   "outputs": [],
   "source": [
    "def clean_var_names(var_name):\n",
    "    \"\"\" This function assists with grouping similar variables \"\"\"\n",
    "    if 'OWNER_' in var_name:\n",
    "        var_name = var_name.replace('OWNER_',\"\")\n",
    "    elif ('OWN' in var_name and 'CHAR' not in var_name and 'PDEMP' not in var_name):\n",
    "        var_name = var_name.replace('OWN',\"\")\n",
    "    \n",
    "    if var_name in ['ETH','RACE','SEX','VET']:\n",
    "        var_name = var_name + \"_GROUP\"\n",
    "        \n",
    "    return var_name\n",
    "\n",
    "grouped_tables['Common_Vars'] = grouped_tables['Name'].apply(clean_var_names)\n",
    "grouped_tables = grouped_tables[\n",
    "    ['Name','Common_Vars','Tech Labels','Owner Labels',\n",
    "     'Characteristic Labels','Company Summary Labels']\n",
    "]\n",
    "\n",
    "grouped_tables.sort_values(\n",
    "    by = 'Common_Vars').reset_index(drop = True, inplace = True)\n",
    "\n",
    "# Create smaller dataframe that just contains variables present in all tables.\n",
    "possible_merge_options = grouped_tables[\n",
    "    (grouped_tables['Common_Vars'].str.contains(\"SEX|RACE|ETH|VET\")) | \n",
    "    (grouped_tables.apply(lambda x: not x.str.contains(\"-\").any(), axis = 1))\n",
    "].sort_values(by = 'Common_Vars').reset_index(drop = True)\n",
    "\n",
    "# This list contains all variables that were found in the possible_merge_options.\n",
    "common_vars = [_.lower() for _ in possible_merge_options.Common_Vars.unique().tolist()]"
   ]
  },
  {
   "cell_type": "markdown",
   "metadata": {},
   "source": [
    "**The cell below is intended for viewing the generated dataframes.**"
   ]
  },
  {
   "cell_type": "code",
   "execution_count": 5,
   "metadata": {
    "tags": []
   },
   "outputs": [],
   "source": [
    "#possible_merge_options\n",
    "#grouped_tables"
   ]
  },
  {
   "cell_type": "markdown",
   "metadata": {
    "tags": []
   },
   "source": [
    "**Step 5 - Define which variables will be requested from API**\n",
    "> After reviewing the available end points as well as encountering various errors<br>\n",
    "or missing information, we settled on a list of variables that we were interested in<br>\n",
    "and isolated those variables and the tables they were in from our grouped tables. "
   ]
  },
  {
   "cell_type": "code",
   "execution_count": 5,
   "metadata": {},
   "outputs": [],
   "source": [
    "vars_of_interest = [\n",
    "    'NAICS2017',\n",
    "    'YIBSZFI',\n",
    "    'SEX',\n",
    "    'QDESC',\n",
    "    'NSFSZFI',\n",
    "    'GEO_ID',\n",
    "    'RACE_GROUP',\n",
    "    'BUSCHAR',\n",
    "    'OWNER_RACE',\n",
    "    'OWNER_SEX',\n",
    "    'OWNPDEMP',\n",
    "    'FIRMPDEMP',\n",
    "    'OWNCHAR',\n",
    "    'TECHUSE',\n",
    "    'RCPPDEMP',\n",
    "    'PAYANN',\n",
    "    'EMP'\n",
    "]\n",
    "\n",
    "target_subset = grouped_tables[(grouped_tables['Name'].isin(vars_of_interest))]\n",
    "target_subset = target_subset[['Name','Company Summary Labels','Characteristic Labels','Owner Labels','Tech Labels']]"
   ]
  },
  {
   "cell_type": "markdown",
   "metadata": {},
   "source": [
    "**Step 6 - Build variable strings for api calls**\n",
    "> In this step, we used our table of variables and which datasets those variables were available in<br>\n",
    "and generated end point strings to pass into the api call. We used a for loop to generate a dictionary<br>\n",
    "of end point strings. We also added the \"_LABEL\" to any of the endpoints that had that option available."
   ]
  },
  {
   "cell_type": "code",
   "execution_count": 6,
   "metadata": {},
   "outputs": [],
   "source": [
    "no_label = [\n",
    "    'OWNPDEMP_LABEL','GEO_ID_LABEL','FIRMPDEMP_LABEL','STATE_LABEL','PAYANN_LABEL',\n",
    "    'EMP_LABEL','RCPPDEMP_LABEL',\n",
    "]\n",
    "variable_dict = {}\n",
    "for i,label in enumerate(target_subset.columns[1:]):\n",
    "    variable_list = []\n",
    "    for item in target_subset[(target_subset[label] != \"-\")].Name.tolist():\n",
    "        variable_list.append(item)\n",
    "        variable_list.append(f'{item}_LABEL')\n",
    "    variable_list = [_ for _ in variable_list if _ not in no_label]\n",
    "    in_table = \"NAME,\" + \",\".join(variable_list)\n",
    "    variable_dict[i] = in_table"
   ]
  },
  {
   "cell_type": "markdown",
   "metadata": {},
   "source": [
    "**Step 7 - Request Data from API**\n",
    "> Using the dictionary of variable strings that was created in step 6, we generated links for each of the datasets and<br>\n",
    "requested the data from the api. For each call to the api, we printed the url that was passed so that we could easily<br>\n",
    "troubleshoot any errors. The final step was to create a list of all the dataframe that would be iterated through for cleaning them."
   ]
  },
  {
   "cell_type": "code",
   "execution_count": 7,
   "metadata": {},
   "outputs": [
    {
     "name": "stdout",
     "output_type": "stream",
     "text": [
      "If the operation fails, click the link to see the error.\n",
      "https://api.census.gov/data/2018/abscs?get=NAME,EMP,FIRMPDEMP,GEO_ID,NAICS2017,NAICS2017_LABEL,PAYANN,RACE_GROUP,RACE_GROUP_LABEL,RCPPDEMP,SEX,SEX_LABEL,YIBSZFI,YIBSZFI_LABEL&for=state:* \n",
      "\n",
      "If the operation fails, click the link to see the error.\n",
      "https://api.census.gov/data/2018/abscb?get=NAME,BUSCHAR,BUSCHAR_LABEL,EMP,FIRMPDEMP,GEO_ID,NAICS2017,NAICS2017_LABEL,PAYANN,QDESC,QDESC_LABEL,RACE_GROUP,RACE_GROUP_LABEL,RCPPDEMP,SEX,SEX_LABEL,YIBSZFI,YIBSZFI_LABEL&for=state:* \n",
      "\n",
      "If the operation fails, click the link to see the error.\n",
      "https://api.census.gov/data/2018/abscbo?get=NAME,GEO_ID,NAICS2017,NAICS2017_LABEL,OWNCHAR,OWNCHAR_LABEL,OWNER_RACE,OWNER_RACE_LABEL,OWNER_SEX,OWNER_SEX_LABEL,OWNPDEMP,QDESC,QDESC_LABEL&for=us:*&for=QDESC_LABEL=YRACQBUS \n",
      "\n",
      "If the operation fails, click the link to see the error.\n",
      "https://api.census.gov/data/2018/abstcb?get=NAME,EMP,FIRMPDEMP,GEO_ID,NAICS2017,NAICS2017_LABEL,NSFSZFI,NSFSZFI_LABEL,PAYANN,RACE_GROUP,RACE_GROUP_LABEL,RCPPDEMP,SEX,SEX_LABEL,TECHUSE,TECHUSE_LABEL&for=state:* \n",
      "\n",
      "If the operation fails, click the link to see the error.\n",
      "https://api.census.gov/data/2018/abscbo?get=NAME,GEO_ID,NAICS2017,NAICS2017_LABEL,OWNCHAR,OWNCHAR_LABEL,OWNER_RACE,OWNER_RACE_LABEL,OWNER_SEX,OWNER_SEX_LABEL,OWNPDEMP,QDESC,QDESC_LABEL&for=state:*&OWNCHAR=CG&NAICS2017=00&QDESC=O02 \n",
      "\n",
      "If the operation fails, click the link to see the error.\n",
      "https://api.census.gov/data/2018/abscs?get=NAME,EMP,FIRMPDEMP,GEO_ID,NAICS2017,NAICS2017_LABEL,PAYANN,RACE_GROUP,RACE_GROUP_LABEL,RCPPDEMP,SEX,SEX_LABEL,YIBSZFI,YIBSZFI_LABEL,FIRMPDEMP&for=us:* \n",
      "\n"
     ]
    }
   ],
   "source": [
    "links = [\n",
    "    f'https://api.census.gov/data/2018/abscs?get={variable_dict[0]}&for=state:*',\n",
    "    f'https://api.census.gov/data/2018/abscb?get={variable_dict[1]}&for=state:*',\n",
    "    f'https://api.census.gov/data/2018/abscbo?get={variable_dict[2]}&for=us:*&for=QDESC_LABEL=YRACQBUS',\n",
    "    f'https://api.census.gov/data/2018/abstcb?get={variable_dict[3]}&for=state:*',\n",
    "    f'https://api.census.gov/data/2018/abscbo?get={variable_dict[2]}&for=state:*&OWNCHAR=CG&NAICS2017=00&QDESC=O02',\n",
    "    f'https://api.census.gov/data/2018/abscs?get={variable_dict[0]},FIRMPDEMP&for=us:*'  #JAKE ADDED THIS\n",
    "]\n",
    "\n",
    "def get_data_frame(url):\n",
    "    print(\"If the operation fails, click the link to see the error.\")\n",
    "    print(url,'\\n')\n",
    "    return pd.read_csv(url)\n",
    "\n",
    "comp_sum_df = get_data_frame(links[0]) # Company Summary\n",
    "bus_char_df = get_data_frame(links[1]) # Business Characteristics\n",
    "bus_own_df = get_data_frame(links[2]) # Business Owners (National Level)\n",
    "bus_tech_df = get_data_frame(links[3]) # Business Tech   \n",
    "slbo = get_data_frame(links[4]) # Business Owners (State Level)\n",
    "comp_sum_natl_df = get_data_frame(links[5]) #Company Summary National   JAKE ADDED THIS"
   ]
  },
  {
   "cell_type": "code",
   "execution_count": 8,
   "metadata": {},
   "outputs": [],
   "source": [
    "df_collection = [comp_sum_df, bus_char_df, bus_own_df, bus_tech_df, slbo, comp_sum_natl_df]      #JAKE ADDED TO THIS LIST\n",
    "df_names = ['comp_sum_df', 'bus_char_df', 'bus_own_df', 'bus_tech_df','slbo', 'comp_sum_natl_df']   "
   ]
  },
  {
   "cell_type": "markdown",
   "metadata": {},
   "source": [
    "### Transformation\n",
    "> Once we had gathered the datasets that we were interested in, we needed to clean the data<br>\n",
    "so that it could be useful for analysis. \n",
    "\n",
    "> We first created a list of columns that could be dropped. These were present because they were<br> \n",
    "required for the actual call in order to get a related column.\n",
    "\n",
    "> We then iterated through our collection of dataframes and cleaned columns that had artifacts from<br>\n",
    "the method of the api call. \n",
    "\n",
    "> Finally, we renamed some ambiguous columns so that their contents would be more clear.\n"
   ]
  },
  {
   "cell_type": "markdown",
   "metadata": {},
   "source": [
    "### Clean DataFrames"
   ]
  },
  {
   "cell_type": "code",
   "execution_count": 9,
   "metadata": {},
   "outputs": [],
   "source": [
    "drop_list = [\n",
    "    'race_group','sex','yibszfi','qdesc','buschar',\n",
    "    'owner_race','owner_sex','us','ownchar'\n",
    "]\n",
    "\n",
    "for df in df_collection:\n",
    "    column_names = [_ for _ in df.columns.tolist()]\n",
    "    new_column_names = [\n",
    "        _.replace(\"[[\",\"\")\n",
    "         .replace('\"',\"\")\n",
    "         .replace(\"]\",\"\")\n",
    "         .lower() for _ in column_names\n",
    "    ]\n",
    "\n",
    "    df.columns = new_column_names\n",
    "    df.drop(columns = [_ for _ in new_column_names if ('unnamed' in _ or _ in drop_list)],inplace = True)\n",
    "    df['name'] = df['name'].apply(lambda x: x.replace(\"[\",\"\").replace('\"',\"\"))\n",
    "    \n",
    "    if 'sex_label' in df.columns:\n",
    "        df.rename(columns = {'sex_label': 'gender'}, inplace = True)\n",
    "    \n",
    "    if 'owner_sex_label' in df.columns:\n",
    "        df.rename(columns = {'owner_sex_label': 'gender'}, inplace = True)\n",
    "    \n",
    "    if 'naics2017_label' in df.columns:\n",
    "        df.rename(columns = {'naics2017_label': 'industry'}, inplace = True)\n",
    "        \n",
    "    if 'naics2017' in df.columns:\n",
    "        df.rename(columns = {'naics2017': 'industry_code'}, inplace = True)"
   ]
  },
  {
   "cell_type": "markdown",
   "metadata": {},
   "source": [
    "### Display some info about dataframes and save data"
   ]
  },
  {
   "cell_type": "code",
   "execution_count": 10,
   "metadata": {},
   "outputs": [
    {
     "name": "stdout",
     "output_type": "stream",
     "text": [
      "\n",
      "############# NEW DATAFRAME ################\n",
      "Displaying column value counts where there are fewer than 10 unique values in the column.\n",
      "\n",
      "---  DataFrame: comp_sum_df ---------------------\n",
      "Columns: name, emp, firmpdemp, geo_id, industry_code, industry, payann, race_group_label, rcppdemp, gender, yibszfi_label, state\n",
      "\n",
      "00       11454\n",
      "54        4933\n",
      "31-33     4553\n",
      "44-45     4500\n",
      "62        4485\n",
      "72        4444\n",
      "23        4361\n",
      "48-49     4356\n",
      "56        4301\n",
      "42        4220\n",
      "81        4213\n",
      "51        4050\n",
      "53        3881\n",
      "52        3653\n",
      "71        3403\n",
      "61        3297\n",
      "99        2936\n",
      "21        2453\n",
      "11        2310\n",
      "55        2269\n",
      "22        2120\n",
      "Name: industry_code, dtype: int64\n",
      "\n",
      "Total for all sectors                                                       11454\n",
      "Professional, scientific, and technical services                             4933\n",
      "Manufacturing                                                                4553\n",
      "Retail trade                                                                 4500\n",
      "Health care and social assistance                                            4485\n",
      "Accommodation and food services                                              4444\n",
      "Construction                                                                 4361\n",
      "Transportation and warehousing                                               4356\n",
      "Administrative and support and waste management and remediation services     4301\n",
      "Wholesale trade                                                              4220\n",
      "Other services (except public administration)                                4213\n",
      "Information                                                                  4050\n",
      "Real estate and rental and leasing                                           3881\n",
      "Finance and insurance                                                        3653\n",
      "Arts, entertainment, and recreation                                          3403\n",
      "Educational services                                                         3297\n",
      "Industries not classified                                                    2936\n",
      "Mining, quarrying, and oil and gas extraction                                2453\n",
      "Agriculture, forestry, fishing and hunting                                   2310\n",
      "Management of companies and enterprises                                      2269\n",
      "Utilities                                                                    2120\n",
      "Name: industry, dtype: int64\n",
      "\n",
      "Total                                         27311\n",
      "White                                         11327\n",
      "Nonminority                                   11320\n",
      "Minority                                       9285\n",
      "Asian                                          7748\n",
      "Black or African American                      6433\n",
      "Equally minority/nonminority                   6133\n",
      "American Indian and Alaska Native              4509\n",
      "Native Hawaiian and Other Pacific Islander     2126\n",
      "Name: race_group_label, dtype: int64\n",
      "\n",
      "Total                  44001\n",
      "Male                   15588\n",
      "Female                 13737\n",
      "Equally male/female    12866\n",
      "Name: gender, dtype: int64\n",
      "\n",
      "All firms                                   27090\n",
      "Firms with less than 2 years in business    10764\n",
      "Firms with 16 or more years in business     10629\n",
      "Firms with 6 to 10 years in business         9755\n",
      "Firms with 11 to 15 years in business        9602\n",
      "Firms with 2 to 3 years in business          9367\n",
      "Firms with 4 to 5 years in business          8985\n",
      "Name: yibszfi_label, dtype: int64\n",
      "\n",
      "############# END OF DATAFRAME INFO ################\n",
      "\n",
      "\n",
      "\n",
      "############# NEW DATAFRAME ################\n",
      "Displaying column value counts where there are fewer than 10 unique values in the column.\n",
      "\n",
      "---  DataFrame: bus_char_df ---------------------\n",
      "Columns: name, buschar_label, emp, firmpdemp, geo_id, industry_code, industry, payann, qdesc_label, race_group_label, rcppdemp, gender, yibszfi_label, state\n",
      "\n",
      "WORKERS     510\n",
      "OWNRNUM     408\n",
      "SPOUSES     408\n",
      "CUST        408\n",
      "FAMOWN      306\n",
      "CEASEOPS    255\n",
      "Name: qdesc_label, dtype: int64\n",
      "\n",
      "############# END OF DATAFRAME INFO ################\n",
      "\n",
      "\n",
      "\n",
      "############# NEW DATAFRAME ################\n",
      "Displaying column value counts where there are fewer than 10 unique values in the column.\n",
      "\n",
      "---  DataFrame: bus_own_df ---------------------\n",
      "Columns: name, geo_id, industry_code, industry, ownchar_label, owner_race_label, gender, ownpdemp, qdesc_label\n",
      "\n",
      "00       2532\n",
      "54       2507\n",
      "31-33    2430\n",
      "62       2397\n",
      "72       2390\n",
      "44-45    2378\n",
      "23       2376\n",
      "42       2372\n",
      "48-49    2334\n",
      "56       2330\n",
      "81       2314\n",
      "51       2295\n",
      "52       2264\n",
      "53       2259\n",
      "71       2091\n",
      "99       2034\n",
      "61       2005\n",
      "21       1881\n",
      "55       1805\n",
      "11       1578\n",
      "22       1526\n",
      "Name: industry_code, dtype: int64\n",
      "\n",
      "Total for all sectors                                                       2532\n",
      "Professional, scientific, and technical services                            2507\n",
      "Manufacturing                                                               2430\n",
      "Health care and social assistance                                           2397\n",
      "Accommodation and food services                                             2390\n",
      "Retail trade                                                                2378\n",
      "Construction                                                                2376\n",
      "Wholesale trade                                                             2372\n",
      "Transportation and warehousing                                              2334\n",
      "Administrative and support and waste management and remediation services    2330\n",
      "Other services (except public administration)                               2314\n",
      "Information                                                                 2295\n",
      "Finance and insurance                                                       2264\n",
      "Real estate and rental and leasing                                          2259\n",
      "Arts, entertainment, and recreation                                         2091\n",
      "Industries not classified                                                   2034\n",
      "Educational services                                                        2005\n",
      "Mining, quarrying, and oil and gas extraction                               1881\n",
      "Management of companies and enterprises                                     1805\n",
      "Agriculture, forestry, fishing and hunting                                  1578\n",
      "Utilities                                                                   1526\n",
      "Name: industry, dtype: int64\n",
      "\n",
      "All owners of respondent firms                6644\n",
      "White                                         6639\n",
      "Nonminority                                   6638\n",
      "Minority                                      6345\n",
      "Asian                                         5963\n",
      "Black or African American                     5406\n",
      "American Indian and Alaska Native             4905\n",
      "Native Hawaiian and Other Pacific Islander    3558\n",
      "Name: owner_race_label, dtype: int64\n",
      "\n",
      "All owners of respondent firms    15923\n",
      "Male                              15512\n",
      "Female                            14663\n",
      "Name: gender, dtype: int64\n",
      "\n",
      "REASONOWN      17732\n",
      "FLDEDUC         7102\n",
      "EDUC            4684\n",
      "YRACQBUS        4308\n",
      "OWNRAGE         3478\n",
      "PRIORBUSTAT     3307\n",
      "PRIMINC         1859\n",
      "USBORN          1843\n",
      "USCITIZEN       1785\n",
      "Name: qdesc_label, dtype: int64\n",
      "\n",
      "############# END OF DATAFRAME INFO ################\n",
      "\n",
      "\n",
      "\n",
      "############# NEW DATAFRAME ################\n",
      "Displaying column value counts where there are fewer than 10 unique values in the column.\n",
      "\n",
      "---  DataFrame: bus_tech_df ---------------------\n",
      "Columns: name, emp, firmpdemp, geo_id, industry_code, industry, nsfszfi, nsfszfi_label, payann, race_group_label, rcppdemp, gender, techuse, techuse_label, state\n",
      "\n",
      "23       2040\n",
      "44-45    2040\n",
      "55       2040\n",
      "99       2040\n",
      "00       2040\n",
      "61       2040\n",
      "81       2040\n",
      "21       2040\n",
      "56       2040\n",
      "11       2040\n",
      "52       2040\n",
      "42       2040\n",
      "62       2040\n",
      "22       2040\n",
      "48-49    2040\n",
      "71       2040\n",
      "31-33    2040\n",
      "51       2040\n",
      "72       2040\n",
      "54       2040\n",
      "53       2040\n",
      "Name: industry_code, dtype: int64\n",
      "\n",
      "Total for all sectors                                                       2040\n",
      "Transportation and warehousing                                              2040\n",
      "Construction                                                                2040\n",
      "Retail trade                                                                2040\n",
      "Management of companies and enterprises                                     2040\n",
      "Professional, scientific, and technical services                            2040\n",
      "Mining, quarrying, and oil and gas extraction                               2040\n",
      "Health care and social assistance                                           2040\n",
      "Arts, entertainment, and recreation                                         2040\n",
      "Other services (except public administration)                               2040\n",
      "Wholesale trade                                                             2040\n",
      "Administrative and support and waste management and remediation services    2040\n",
      "Utilities                                                                   2040\n",
      "Information                                                                 2040\n",
      "Manufacturing                                                               2040\n",
      "Agriculture, forestry, fishing and hunting                                  2040\n",
      "Finance and insurance                                                       2040\n",
      "Accommodation and food services                                             2040\n",
      "Educational services                                                        2040\n",
      "Industries not classified                                                   2040\n",
      "Real estate and rental and leasing                                          2040\n",
      "Name: industry, dtype: int64\n",
      "\n",
      "############# END OF DATAFRAME INFO ################\n",
      "\n",
      "\n",
      "\n",
      "############# NEW DATAFRAME ################\n",
      "Displaying column value counts where there are fewer than 10 unique values in the column.\n",
      "\n",
      "---  DataFrame: slbo ---------------------\n",
      "Columns: name, geo_id, industry_code, industry, ownchar_label, owner_race_label, gender, ownpdemp, qdesc_label, ownchar.1, naics2017.1, qdesc.1, state\n",
      "\n",
      "############# END OF DATAFRAME INFO ################\n",
      "\n",
      "\n",
      "\n",
      "############# NEW DATAFRAME ################\n",
      "Displaying column value counts where there are fewer than 10 unique values in the column.\n",
      "\n",
      "---  DataFrame: comp_sum_natl_df ---------------------\n",
      "Columns: name, emp, firmpdemp, geo_id, industry_code, industry, payann, race_group_label, rcppdemp, gender, yibszfi_label, firmpdemp.1\n",
      "\n",
      "00       252\n",
      "54       251\n",
      "31-33    247\n",
      "23       246\n",
      "62       246\n",
      "48-49    246\n",
      "56       245\n",
      "72       245\n",
      "44-45    244\n",
      "42       241\n",
      "81       240\n",
      "53       238\n",
      "51       237\n",
      "52       236\n",
      "71       227\n",
      "61       215\n",
      "99       211\n",
      "21       207\n",
      "11       193\n",
      "55       188\n",
      "22       168\n",
      "Name: industry_code, dtype: int64\n",
      "\n",
      "Total for all sectors                                                       252\n",
      "Professional, scientific, and technical services                            251\n",
      "Manufacturing                                                               247\n",
      "Health care and social assistance                                           246\n",
      "Construction                                                                246\n",
      "Transportation and warehousing                                              246\n",
      "Accommodation and food services                                             245\n",
      "Administrative and support and waste management and remediation services    245\n",
      "Retail trade                                                                244\n",
      "Wholesale trade                                                             241\n",
      "Other services (except public administration)                               240\n",
      "Real estate and rental and leasing                                          238\n",
      "Information                                                                 237\n",
      "Finance and insurance                                                       236\n",
      "Arts, entertainment, and recreation                                         227\n",
      "Educational services                                                        215\n",
      "Industries not classified                                                   211\n",
      "Mining, quarrying, and oil and gas extraction                               207\n",
      "Agriculture, forestry, fishing and hunting                                  193\n",
      "Management of companies and enterprises                                     188\n",
      "Utilities                                                                   168\n",
      "Name: industry, dtype: int64\n",
      "\n",
      "Nonminority                                   588\n",
      "Total                                         588\n",
      "White                                         588\n",
      "Minority                                      581\n",
      "Asian                                         551\n",
      "Black or African American                     528\n",
      "Equally minority/nonminority                  520\n",
      "American Indian and Alaska Native             487\n",
      "Native Hawaiian and Other Pacific Islander    392\n",
      "Name: race_group_label, dtype: int64\n",
      "\n",
      "Total                  1286\n",
      "Male                   1263\n",
      "Female                 1179\n",
      "Equally male/female    1095\n",
      "Name: gender, dtype: int64\n",
      "\n",
      "All firms                                   736\n",
      "Firms with 16 or more years in business     696\n",
      "Firms with less than 2 years in business    692\n",
      "Firms with 6 to 10 years in business        683\n",
      "Firms with 11 to 15 years in business       676\n",
      "Firms with 4 to 5 years in business         670\n",
      "Firms with 2 to 3 years in business         670\n",
      "Name: yibszfi_label, dtype: int64\n",
      "\n",
      "############# END OF DATAFRAME INFO ################\n",
      "\n",
      "\n"
     ]
    }
   ],
   "source": [
    "for i,df in enumerate(df_collection):\n",
    "    try:\n",
    "        df.to_csv(f'data/{df_names[i]}.csv', index = False)\n",
    "    except:\n",
    "        print(\"Data directory is not present - skipping save\")\n",
    "        \n",
    "    print('\\n############# NEW DATAFRAME ################')\n",
    "    print('Displaying column value counts where there are fewer than 10 unique values in the column.')\n",
    "    print(f'\\n---  DataFrame: {df_names[i]} ---------------------')\n",
    "    print(f'Columns: {\", \".join(df.columns.tolist())}\\n')\n",
    "    for column in df:\n",
    "        unique_values = len(df[column].unique().tolist())\n",
    "        if (unique_values < 30 and unique_values > 1):\n",
    "            print(df[column].value_counts())\n",
    "            print(\"\")\n",
    "    print('############# END OF DATAFRAME INFO ################\\n\\n')"
   ]
  },
  {
   "cell_type": "markdown",
   "metadata": {},
   "source": [
    "## All Tables Merge\n",
    " - We certainly had a substantial amount of difficulty with this merge because it was difficult to find ways<br>\n",
    "     that the the data could be useful when fully merged. <br><br> \n",
    "     In this merge set, we are looking at the level of artificial intelligence in all sectors in Minnesota, <br>\n",
    "     and how it relates to how long the company has been in business, and whether it is a family owned business.\n",
    "\n",
    "### Steps:\n",
    "\n",
    "1. Limit table data to \"Total for all sectors\"."
   ]
  },
  {
   "cell_type": "code",
   "execution_count": 12,
   "metadata": {},
   "outputs": [],
   "source": [
    "total_bus_tech_df = bus_tech_df[(bus_tech_df['industry'] == 'Total for all sectors')]\n",
    "total_bus_own_df = bus_own_df[(bus_own_df['industry'] == 'Total for all sectors')]\n",
    "total_comp_sum_df = comp_sum_df[(comp_sum_df['industry'] == 'Total for all sectors')]\n",
    "total_bus_char_df = bus_char_df[(bus_char_df['industry'] == 'Total for all sectors')]\n",
    "total_slbo = slbo[(slbo['industry'] == 'Total for all sectors')]"
   ]
  },
  {
   "cell_type": "markdown",
   "metadata": {},
   "source": [
    "2. Further filter the table data and remove unnecessary columns."
   ]
  },
  {
   "cell_type": "code",
   "execution_count": 13,
   "metadata": {},
   "outputs": [],
   "source": [
    "robotics_in_mn = total_bus_tech_df[(~total_bus_tech_df['techuse_label'].str.contains('Total')) & (total_bus_tech_df['name'] == 'Minnesota') & (total_bus_tech_df['techuse_label'].str.contains('Artificial'))]\n",
    "robotics_in_mn = robotics_in_mn[['name','techuse_label','firmpdemp']]\n",
    "\n",
    "years_in_biz_mn = total_comp_sum_df[(total_comp_sum_df.name == 'Minnesota') & (total_comp_sum_df['yibszfi_label'] != 'All firms') & (total_comp_sum_df['gender'] != 'Total')]\n",
    "years_in_biz_mn = years_in_biz_mn[['name','gender','yibszfi_label','firmpdemp']].drop_duplicates()\n",
    "\n",
    "bus_char_mn = total_bus_char_df[(total_bus_char_df.name == 'Minnesota') & (total_bus_char_df['buschar_label'] != 'All firms')& (total_bus_char_df['buschar_label'] != 'Total reporting') & (total_bus_char_df['qdesc_label'] == 'FAMOWN')]\n",
    "bus_char_mn = bus_char_mn[['name','qdesc_label','buschar_label','firmpdemp']]\n",
    "\n",
    "total_slbo = total_slbo[(total_slbo.name == 'Minnesota')]\n",
    "total_slbo = total_slbo[['name','ownchar_label','ownpdemp']]"
   ]
  },
  {
   "cell_type": "markdown",
   "metadata": {},
   "source": [
    "3. Rename similar columns so that they are meaningfull after the merge."
   ]
  },
  {
   "cell_type": "code",
   "execution_count": 14,
   "metadata": {},
   "outputs": [],
   "source": [
    "years_in_biz_mn.rename(columns = {'firmpdemp': 'yib_num_firms'}, inplace = True)\n",
    "robotics_in_mn.rename(columns = {'firmpdemp': 'robin_mn_num_firms'}, inplace = True)\n",
    "bus_char_mn.rename(columns = {'firmpdemp': 'bus_char_num_firms'}, inplace = True)"
   ]
  },
  {
   "cell_type": "markdown",
   "metadata": {},
   "source": [
    "4. Merge tables using outer merge to retain all records."
   ]
  },
  {
   "cell_type": "code",
   "execution_count": 15,
   "metadata": {},
   "outputs": [
    {
     "data": {
      "text/html": [
       "<div>\n",
       "<style scoped>\n",
       "    .dataframe tbody tr th:only-of-type {\n",
       "        vertical-align: middle;\n",
       "    }\n",
       "\n",
       "    .dataframe tbody tr th {\n",
       "        vertical-align: top;\n",
       "    }\n",
       "\n",
       "    .dataframe thead th {\n",
       "        text-align: right;\n",
       "    }\n",
       "</style>\n",
       "<table border=\"1\" class=\"dataframe\">\n",
       "  <thead>\n",
       "    <tr style=\"text-align: right;\">\n",
       "      <th></th>\n",
       "      <th>name</th>\n",
       "      <th>gender</th>\n",
       "      <th>yibszfi_label</th>\n",
       "      <th>yib_num_firms</th>\n",
       "      <th>techuse_label</th>\n",
       "      <th>robin_mn_num_firms</th>\n",
       "      <th>qdesc_label</th>\n",
       "      <th>buschar_label</th>\n",
       "      <th>bus_char_num_firms</th>\n",
       "      <th>ownchar_label</th>\n",
       "      <th>ownpdemp</th>\n",
       "    </tr>\n",
       "  </thead>\n",
       "  <tbody>\n",
       "    <tr>\n",
       "      <th>1870</th>\n",
       "      <td>Minnesota</td>\n",
       "      <td>Equally male/female</td>\n",
       "      <td>Firms with less than 2 years in business</td>\n",
       "      <td>0</td>\n",
       "      <td>Artificial Intelligence: Don't know</td>\n",
       "      <td>4105</td>\n",
       "      <td>FAMOWN</td>\n",
       "      <td>Item not reported</td>\n",
       "      <td>2293</td>\n",
       "      <td>Before 1980</td>\n",
       "      <td>3210</td>\n",
       "    </tr>\n",
       "    <tr>\n",
       "      <th>1871</th>\n",
       "      <td>Minnesota</td>\n",
       "      <td>Equally male/female</td>\n",
       "      <td>Firms with less than 2 years in business</td>\n",
       "      <td>0</td>\n",
       "      <td>Artificial Intelligence: Don't know</td>\n",
       "      <td>4105</td>\n",
       "      <td>FAMOWN</td>\n",
       "      <td>Not applicable</td>\n",
       "      <td>3158</td>\n",
       "      <td>Before 1980</td>\n",
       "      <td>3210</td>\n",
       "    </tr>\n",
       "    <tr>\n",
       "      <th>1872</th>\n",
       "      <td>Minnesota</td>\n",
       "      <td>Equally male/female</td>\n",
       "      <td>Firms with 16 or more years in business</td>\n",
       "      <td>272</td>\n",
       "      <td>Artificial Intelligence: Did not use</td>\n",
       "      <td>95053</td>\n",
       "      <td>FAMOWN</td>\n",
       "      <td>Family-owned</td>\n",
       "      <td>17863</td>\n",
       "      <td>Before 1980</td>\n",
       "      <td>3210</td>\n",
       "    </tr>\n",
       "    <tr>\n",
       "      <th>1873</th>\n",
       "      <td>Minnesota</td>\n",
       "      <td>Equally male/female</td>\n",
       "      <td>Firms with 16 or more years in business</td>\n",
       "      <td>272</td>\n",
       "      <td>Artificial Intelligence: Did not use</td>\n",
       "      <td>95053</td>\n",
       "      <td>FAMOWN</td>\n",
       "      <td>Not family-owned</td>\n",
       "      <td>40870</td>\n",
       "      <td>Before 1980</td>\n",
       "      <td>3210</td>\n",
       "    </tr>\n",
       "    <tr>\n",
       "      <th>1874</th>\n",
       "      <td>Minnesota</td>\n",
       "      <td>Equally male/female</td>\n",
       "      <td>Firms with 16 or more years in business</td>\n",
       "      <td>272</td>\n",
       "      <td>Artificial Intelligence: Did not use</td>\n",
       "      <td>95053</td>\n",
       "      <td>FAMOWN</td>\n",
       "      <td>Item not reported</td>\n",
       "      <td>2293</td>\n",
       "      <td>Before 1980</td>\n",
       "      <td>3210</td>\n",
       "    </tr>\n",
       "    <tr>\n",
       "      <th>1875</th>\n",
       "      <td>Minnesota</td>\n",
       "      <td>Equally male/female</td>\n",
       "      <td>Firms with 16 or more years in business</td>\n",
       "      <td>272</td>\n",
       "      <td>Artificial Intelligence: Did not use</td>\n",
       "      <td>95053</td>\n",
       "      <td>FAMOWN</td>\n",
       "      <td>Not applicable</td>\n",
       "      <td>3158</td>\n",
       "      <td>Before 1980</td>\n",
       "      <td>3210</td>\n",
       "    </tr>\n",
       "  </tbody>\n",
       "</table>\n",
       "</div>"
      ],
      "text/plain": [
       "           name               gender  \\\n",
       "1870  Minnesota  Equally male/female   \n",
       "1871  Minnesota  Equally male/female   \n",
       "1872  Minnesota  Equally male/female   \n",
       "1873  Minnesota  Equally male/female   \n",
       "1874  Minnesota  Equally male/female   \n",
       "1875  Minnesota  Equally male/female   \n",
       "\n",
       "                                 yibszfi_label  yib_num_firms  \\\n",
       "1870  Firms with less than 2 years in business              0   \n",
       "1871  Firms with less than 2 years in business              0   \n",
       "1872   Firms with 16 or more years in business            272   \n",
       "1873   Firms with 16 or more years in business            272   \n",
       "1874   Firms with 16 or more years in business            272   \n",
       "1875   Firms with 16 or more years in business            272   \n",
       "\n",
       "                             techuse_label  robin_mn_num_firms qdesc_label  \\\n",
       "1870   Artificial Intelligence: Don't know                4105      FAMOWN   \n",
       "1871   Artificial Intelligence: Don't know                4105      FAMOWN   \n",
       "1872  Artificial Intelligence: Did not use               95053      FAMOWN   \n",
       "1873  Artificial Intelligence: Did not use               95053      FAMOWN   \n",
       "1874  Artificial Intelligence: Did not use               95053      FAMOWN   \n",
       "1875  Artificial Intelligence: Did not use               95053      FAMOWN   \n",
       "\n",
       "          buschar_label  bus_char_num_firms ownchar_label  ownpdemp  \n",
       "1870  Item not reported                2293   Before 1980      3210  \n",
       "1871     Not applicable                3158   Before 1980      3210  \n",
       "1872       Family-owned               17863   Before 1980      3210  \n",
       "1873   Not family-owned               40870   Before 1980      3210  \n",
       "1874  Item not reported                2293   Before 1980      3210  \n",
       "1875     Not applicable                3158   Before 1980      3210  "
      ]
     },
     "execution_count": 15,
     "metadata": {},
     "output_type": "execute_result"
    }
   ],
   "source": [
    "joined_tables = pd.merge(years_in_biz_mn, robotics_in_mn, left_on = 'name', right_on = 'name', how = 'outer')\n",
    "joined_tables = pd.merge(joined_tables, bus_char_mn, left_on = 'name', right_on = 'name', how = 'outer')\n",
    "joined_tables = pd.merge(joined_tables, total_slbo, left_on = 'name', right_on = 'name', how = 'outer')\n",
    "\n",
    "# Just to display a subset of the data\n",
    "joined_tables.iloc[[_ for _ in range(1870,1876)]]"
   ]
  },
  {
   "cell_type": "markdown",
   "metadata": {},
   "source": [
    "****\n",
    "# Analysis and Visualizations\n",
    "> This section contains the code that was used to further transform the data as needed<br>\n",
    "for visualizations and build visualizations."
   ]
  },
  {
   "cell_type": "code",
   "execution_count": null,
   "metadata": {},
   "outputs": [],
   "source": []
  },
  {
   "cell_type": "code",
   "execution_count": 20,
   "metadata": {},
   "outputs": [
    {
     "name": "stdout",
     "output_type": "stream",
     "text": [
      "Jed's Maps Successfully Exported to HTML -- Filename: 'company_pay_maps.html'\n",
      "Jed's Bar Chart Built and Saved -- Filename: 'pop_tech.png'\n"
     ]
    },
    {
     "name": "stderr",
     "output_type": "stream",
     "text": [
      "C:\\Users\\Work\\anaconda3\\lib\\site-packages\\pandas\\core\\frame.py:3641: SettingWithCopyWarning:\n",
      "\n",
      "\n",
      "A value is trying to be set on a copy of a slice from a DataFrame.\n",
      "Try using .loc[row_indexer,col_indexer] = value instead\n",
      "\n",
      "See the caveats in the documentation: https://pandas.pydata.org/pandas-docs/stable/user_guide/indexing.html#returning-a-view-versus-a-copy\n",
      "\n",
      "C:\\Users\\Work\\anaconda3\\lib\\site-packages\\pandas\\util\\_decorators.py:311: SettingWithCopyWarning:\n",
      "\n",
      "\n",
      "A value is trying to be set on a copy of a slice from a DataFrame\n",
      "\n",
      "See the caveats in the documentation: https://pandas.pydata.org/pandas-docs/stable/user_guide/indexing.html#returning-a-view-versus-a-copy\n",
      "\n",
      "C:\\Users\\Work\\anaconda3\\lib\\site-packages\\pandas\\core\\frame.py:5039: SettingWithCopyWarning:\n",
      "\n",
      "\n",
      "A value is trying to be set on a copy of a slice from a DataFrame\n",
      "\n",
      "See the caveats in the documentation: https://pandas.pydata.org/pandas-docs/stable/user_guide/indexing.html#returning-a-view-versus-a-copy\n",
      "\n",
      "C:\\Users\\Work\\AppData\\Local\\Temp/ipykernel_29584/3438619766.py:63: SettingWithCopyWarning:\n",
      "\n",
      "\n",
      "A value is trying to be set on a copy of a slice from a DataFrame.\n",
      "Try using .loc[row_indexer,col_indexer] = value instead\n",
      "\n",
      "See the caveats in the documentation: https://pandas.pydata.org/pandas-docs/stable/user_guide/indexing.html#returning-a-view-versus-a-copy\n",
      "\n"
     ]
    },
    {
     "name": "stdout",
     "output_type": "stream",
     "text": [
      "< - Balance work and family - ->\n",
      "<  - Best avenue for ideas -  ->\n",
      "< - Carry on family business - >\n",
      "<-  - Couldn't find a job -  -->\n",
      "<-  -  - Flexible hours -  -  ->\n",
      "< Friend or family role model ->\n",
      "<-  -  - Greater income -  -  ->\n",
      "< -  - Help my community -  - ->\n",
      "< -  -  -  - Other -  -  -  - ->\n",
      "<  - Start my own business -  ->\n",
      "< - Wanted to be my own boss - >\n",
      "<-  -  - Work for self -  -  -->\n",
      "Jed's Stacked Bar Chart Successfully exported to HTML - Filename: 'stacked_reasons.html'\n"
     ]
    }
   ],
   "source": [
    "# I suggest wrapping your entire visualization process in a function while we work on integrating. \n",
    "\n",
    "# For example. \n",
    "\n",
    "def jeds_visuals():\n",
    "    today = dt.datetime.strftime(dt.datetime.today().date(), '%b %d, %Y')\n",
    "    state_code_path = 'https://raw.githubusercontent.com/jedc4xer/abs_group_assessment/main/data/state_codes.csv'\n",
    "    state_codes = pd.read_csv(state_code_path)\n",
    "    \n",
    "    \n",
    "    def stacked_bar():\n",
    "        reason_owned = bus_own_df[\n",
    "            (bus_own_df['qdesc_label'] == 'REASONOWN') &\n",
    "            (~bus_own_df['industry'].str.contains('Total')) &\n",
    "            (~bus_own_df['gender'].str.contains('All')) &\n",
    "            (bus_own_df['ownchar_label'].str.contains(':'))]\n",
    "\n",
    "        reason_owned[['reason','importance']] = reason_owned.apply(\n",
    "            lambda row: row['ownchar_label'].split(\":\"), axis = 1, result_type = 'expand'\n",
    "        )\n",
    "\n",
    "        reason_owned = reason_owned[['industry','gender','reason','importance','ownpdemp']]\n",
    "\n",
    "        grouped_reason = reason_owned.groupby(\n",
    "            by = ['industry','reason','importance'])[['ownpdemp']].agg(\n",
    "            responses = ('ownpdemp', 'sum')\n",
    "        )\n",
    "\n",
    "        grouped_reason['ratio'] = 100 * (grouped_reason['responses'] / grouped_reason.groupby(level = [0,1])['responses'].transform('sum'))\n",
    "        grouped_reason['ratio'] = grouped_reason['ratio'].round(2)\n",
    "        grouped_reason.reset_index(inplace = True)\n",
    "\n",
    "        accom_subset = grouped_reason[(grouped_reason['industry'].str.contains('inanc|ducati'))]\n",
    "        accom_subset.sort_values(by = ['importance','ratio'], ascending = False, inplace = True)\n",
    "        accom_subset.rename(columns = {'ratio': 'Percent of Total'}, inplace = True)\n",
    "        picked_industry = accom_subset['industry'].unique().tolist()\n",
    "\n",
    "        reasons = grouped_reason.reason.unique().tolist()\n",
    "        longest_reason = max(reasons, key = len)\n",
    "        longest_reason = \"<\" + longest_reason + \">\"\n",
    "        longest_reason = len(longest_reason)\n",
    "        new_reasons = {}\n",
    "        for reason in reasons:\n",
    "            old_reason = reason\n",
    "            if len(reason) != longest_reason:\n",
    "                reason = \" \" + reason + \" \"\n",
    "                cntr = 0\n",
    "            while len(reason) < longest_reason:\n",
    "                if cntr % 3 == 0:\n",
    "                    reason = \"-\" + reason + \"-\"\n",
    "                else:\n",
    "                    reason = \" \" + reason + \" \"\n",
    "                cntr += 1\n",
    "\n",
    "            if len(reason) < 30:\n",
    "                reason = reason + \"-\"\n",
    "            reason = \"<\" + reason + \">\"\n",
    "\n",
    "            new_reasons[old_reason] = reason\n",
    "\n",
    "        for key in new_reasons.keys():\n",
    "            print(new_reasons[key])\n",
    "        accom_subset['reason'] = accom_subset['reason'].apply(lambda x: new_reasons[x])\n",
    "        \n",
    "        fig = px.bar(accom_subset, x = 'Percent of Total', y = 'reason', color = 'importance',\n",
    "                    width = 1300, height = 600, orientation = 'h',\n",
    "                    hover_data = ['responses','Percent of Total'], text = 'Percent of Total', facet_col = 'industry',\n",
    "                    facet_col_spacing=0.18\n",
    "                )\n",
    "        fig.update_layout(title = 'Reasons for Starting a Company')\n",
    "        fig.update_layout(yaxis_title = None)\n",
    "\n",
    "        fig.update_traces(textposition = 'inside', insidetextanchor = 'middle', textfont = {'color': 'white'})\n",
    "        fig.update_yaxes(side = 'right')\n",
    "        fig.update_xaxes(ticks = 'outside')\n",
    "        fig.update_layout(title_y = .98, title_x = 0.003, title_font_size = 22)\n",
    "        fig.update_layout(xaxis_title = \"Percent of Total\", uniformtext_minsize = 13,\n",
    "                         uniformtext_mode = 'hide', paper_bgcolor = 'white', plot_bgcolor = 'white',\n",
    "                         legend = dict(orientation = 'h', x=0,y=1.15, font = dict(size=13)))\n",
    "        fig.update_layout(margin={\"r\":0,\"t\":90,\"l\":0,\"b\": 90}, dragmode = False)\n",
    "\n",
    "        fig.for_each_annotation(lambda a: a.update(text=a.text.split(\"=\")[1]))\n",
    "\n",
    "        fig.add_annotation(\n",
    "                text = (f\"Created by: Jed Dryer | {today} | Source: US Census - 2019 ABS\"),\n",
    "                showarrow=False,\n",
    "                x = .70,\n",
    "                y = -.19,\n",
    "                xref='paper',\n",
    "                yref='paper' ,\n",
    "                xanchor='left',\n",
    "                yanchor='bottom',\n",
    "                xshift=-1,\n",
    "                yshift=-3,\n",
    "                font=dict(size=10, color=\"grey\"),\n",
    "                align=\"right\",\n",
    "                )\n",
    "\n",
    "        fig.write_html('stacked_reasons.html')\n",
    "        print(\"Jed's Stacked Bar Chart Successfully exported to HTML - Filename: 'stacked_reasons.html'\")\n",
    "    \n",
    "    def build_bar_chart():\n",
    "        subset = bus_tech_df[(bus_tech_df['industry'] == 'Total for all sectors')][['name','firmpdemp','techuse_label']]\n",
    "        subset[['tech','usage']] = subset.apply(lambda row: row['techuse_label'].split(\":\"), axis = 1, result_type = 'expand')\n",
    "        subset = subset[(subset['usage'].str.contains('Total R|High'))]\n",
    "        subset = subset[(subset['name']) == 'Minnesota'][['firmpdemp','tech','usage']]\n",
    "        subset['total_respondents'] = subset.groupby(by = ['tech'])['firmpdemp'].transform('max')\n",
    "        subset = subset[(subset['usage'].str.contains('High use'))]\n",
    "        subset['rate_of_high_use'] = 100 * (subset['firmpdemp'] / subset['total_respondents'])\n",
    "        subset.sort_values(by = 'rate_of_high_use', ascending = False, inplace = True)\n",
    "\n",
    "        fig = plt.figure(figsize = (18,5))\n",
    "\n",
    "        plt.title('Popular Tech Solutions in Minnesota', fontsize = 20, loc = 'left')\n",
    "        ax = sns.barplot(data = subset, x = 'rate_of_high_use', y = 'tech', palette = 'flare',\n",
    "                        edgecolor = 'grey')\n",
    "        ax.set_ylabel('')\n",
    "        ax.set_xlabel('')\n",
    "        ax.set_yticklabels(ax.get_yticklabels(), size = 12)\n",
    "        ax.tick_params(bottom = False)\n",
    "        for c in ax.containers:\n",
    "            labels = []\n",
    "            for v in c:\n",
    "                if (h := v.get_width()) > 14:\n",
    "                    lab = f'{(h/100)*100:0.1f}% of reporting companies'\n",
    "                elif (h := v.get_width()) > .8:\n",
    "                    lab = f'{(h/100)*100:0.1f}%'\n",
    "                else:\n",
    "                    lab = f'{\" \"*16}- {(h/100)*100:0.2f}%'\n",
    "                labels.append(lab)\n",
    "\n",
    "            ax.bar_label(c,labels=labels,label_type = 'center',fontsize = 18,color= 'black', weight = 'bold')\n",
    "        ax.set(xticklabels = [])\n",
    "        sns.despine(left = True, bottom = True)\n",
    "        fig.savefig('pop_tech.png')\n",
    "        plt.close()\n",
    "        print(\"Jed's Bar Chart Built and Saved -- Filename: 'pop_tech.png'\")\n",
    "    \n",
    "    def clean_for_map(df, target = 'industry'):\n",
    "        if target not in ['gender','race_group_label','industry']:\n",
    "            possible = \", \".join(['gender','race_group_label','industry'])\n",
    "            print(f'You must choose one of: {possible}')\n",
    "            return\n",
    "        label = {'gender': 'Owner Gender','race_group_label': 'Owner Race','industry':'Industry'}[target]\n",
    "\n",
    "        subset = df[(df.payann != 0) & (df.gender != 'Total') & (df.race_group_label != 'Total') & (df.industry_code != '00')]\n",
    "        subset = subset[['name','geo_id',target,'payann','firmpdemp','emp']]\n",
    "        subset['payann'] = subset['payann'] * 1000\n",
    "        subset['avg_pay'] = subset.apply(lambda row: row.payann/row.emp, axis = 1)\n",
    "\n",
    "        subset_agg = subset.groupby(\n",
    "            by = ['name']\n",
    "                )[['avg_pay']].agg(max_pay = ('avg_pay','max'))\n",
    "\n",
    "        subset_agg.reset_index(inplace = True)\n",
    "\n",
    "        grouped = pd.merge(subset, subset_agg, left_on = 'name', right_on = 'name', how = 'left')\n",
    "\n",
    "        grouped = grouped[(grouped.avg_pay == grouped.max_pay)].reset_index(drop = True)\n",
    "        grouped = grouped.sort_values(by = 'name').reset_index(drop = True)\n",
    "        grouped = grouped.drop_duplicates().reset_index(drop = True)\n",
    "\n",
    "        grouped = pd.merge(grouped,state_codes, left_on = 'name', right_on = 'State', how = 'left')\n",
    "\n",
    "        grouped = grouped[['name',target,'avg_pay','Postal Abbr.']]\n",
    "\n",
    "        diffs = set(subset_agg.name.tolist()) - set(grouped.name.tolist())\n",
    "        if len(diffs) > 0:\n",
    "            print('There are some states missing.')\n",
    "        return grouped, target, label\n",
    "    \n",
    "    def plot_maps(grouped, target):\n",
    "        grouped, target, label = clean_for_map(grouped, target)\n",
    "\n",
    "        if target == 'gender':\n",
    "            color_scheme = px.colors.qualitative.Plotly[2:]\n",
    "        else:\n",
    "            color_scheme = px.colors.qualitative.Bold\n",
    "\n",
    "        customdata = np.stack((grouped['name'],grouped[target]),axis = -1)\n",
    "\n",
    "        mapfig = px.choropleth(grouped, \n",
    "                               title = f'Highest Average Pay based on {label}',\n",
    "                               locations = 'Postal Abbr.',\n",
    "                               locationmode = \"USA-states\",\n",
    "                               scope = 'usa',\n",
    "                               color = target,\n",
    "                               hover_data = ['name',target,'avg_pay'],\n",
    "                               color_discrete_sequence = color_scheme,\n",
    "                               height = 600,\n",
    "                               width = 1300,\n",
    "                               )\n",
    "\n",
    "        mapfig.add_annotation(\n",
    "            text = (f\"Created by: Jed Dryer<br>{today}<br>Source: US Census - 2019 ABS\"),\n",
    "            showarrow=False,\n",
    "            x = .54,\n",
    "            y = .01,\n",
    "            xref='paper',\n",
    "            yref='paper' ,\n",
    "            xanchor='left',\n",
    "            yanchor='bottom',\n",
    "            xshift=-1,\n",
    "            yshift=-3,\n",
    "            font=dict(size=10, color=\"grey\"),\n",
    "            align=\"right\",\n",
    "            )\n",
    "\n",
    "        mapfig.update_layout(margin={\"r\":3,\"t\":30,\"l\":0,\"b\":10}, dragmode = False)\n",
    "        mapfig.update_layout(title_y = 0.95, title_x = 0.25, title_font_size = 18,\n",
    "                            legend = dict(x=0.9,y=0.6))\n",
    "        mapfig.update_traces(hovertemplate = '<b>State: %{customdata[0]}</b><br>Value: %{customdata[1]}')\n",
    "        mapfig.update_geos(resolution=50,showlakes=True, lakecolor=\"Lightblue\", subunitcolor = 'black')\n",
    "        #save_label = \"\".join(_.lower() for _ in label if _.isalpha())\n",
    "        #mapfig.write_html(f'highest_avg_pay_{save_label}.html')\n",
    "        #mapfig.show()\n",
    "        return mapfig\n",
    "    \n",
    "    def build_maps():\n",
    "        reasons = ['gender','race_group_label','industry']\n",
    "        maps = []\n",
    "        for reason in reasons:\n",
    "            maps.append(plot_maps(comp_sum_df, reason))\n",
    "\n",
    "        with open('company_pay_maps.html', 'w') as mapfile:\n",
    "            for fig in maps:\n",
    "                mapfile.write(fig.to_html(full_html = False, include_plotlyjs='cdn'))\n",
    "            mapfile.close()\n",
    "        print(\"Jed's Maps Successfully Exported to HTML -- Filename: 'company_pay_maps.html'\")\n",
    "        \n",
    "    build_maps()    \n",
    "    build_bar_chart()\n",
    "    stacked_bar()\n",
    "    \n",
    "    \n",
    "# run my visual function and pass in the dataframe\n",
    "jeds_visuals() # <--- This is the code to create my visuals"
   ]
  },
  {
   "cell_type": "code",
   "execution_count": null,
   "metadata": {},
   "outputs": [],
   "source": [
    "# I suggest wrapping your entire visualization process in a function while we work on integrating. \n",
    "\n",
    "# For example. \n",
    "\n",
    "def marjeas_visuals(needed_data_frames):\n",
    "    # muddy_code\n",
    "    \n",
    "    \n",
    "    pass\n"
   ]
  },
  {
   "cell_type": "code",
   "execution_count": 39,
   "metadata": {},
   "outputs": [
    {
     "name": "stderr",
     "output_type": "stream",
     "text": [
      "<ipython-input-39-9e2e6ad39a90>:125: SettingWithCopyWarning:\n",
      "\n",
      "\n",
      "A value is trying to be set on a copy of a slice from a DataFrame\n",
      "\n",
      "See the caveats in the documentation: https://pandas.pydata.org/pandas-docs/stable/user_guide/indexing.html#returning-a-view-versus-a-copy\n",
      "\n",
      "<ipython-input-39-9e2e6ad39a90>:130: SettingWithCopyWarning:\n",
      "\n",
      "\n",
      "A value is trying to be set on a copy of a slice from a DataFrame\n",
      "\n",
      "See the caveats in the documentation: https://pandas.pydata.org/pandas-docs/stable/user_guide/indexing.html#returning-a-view-versus-a-copy\n",
      "\n",
      "<ipython-input-39-9e2e6ad39a90>:132: SettingWithCopyWarning:\n",
      "\n",
      "\n",
      "A value is trying to be set on a copy of a slice from a DataFrame\n",
      "\n",
      "See the caveats in the documentation: https://pandas.pydata.org/pandas-docs/stable/user_guide/indexing.html#returning-a-view-versus-a-copy\n",
      "\n"
     ]
    },
    {
     "data": {
      "application/vnd.plotly.v1+json": {
       "config": {
        "plotlyServerURL": "https://plot.ly"
       },
       "data": [
        {
         "coloraxis": "coloraxis",
         "geo": "geo",
         "hovertemplate": "Code=%{location}<br>% of Firms < Two Years Old=%{z}<extra></extra>",
         "locationmode": "USA-states",
         "locations": [
          "AL",
          "AR",
          "CA",
          "CO",
          "CT",
          "DC",
          "FL",
          "GA",
          "HI",
          "ID",
          "IN",
          "IA",
          "KS",
          "KY",
          "LA",
          "ME",
          "MD",
          "MA",
          "MI",
          "MN",
          "MS",
          "MO",
          "MT",
          "NH",
          "NJ",
          "NY",
          "NC",
          "OH",
          "PA",
          "RI",
          "SC",
          "SD",
          "TN",
          "TX",
          "UT",
          "VT",
          "VA",
          "WA",
          "WV",
          "WI"
         ],
         "name": "",
         "type": "choropleth",
         "z": [
          21.515173782055992,
          20.050434595986694,
          34.82981891855303,
          31.80834245409218,
          17.263697089260376,
          24.58312696054152,
          39.478122996997605,
          29.919200663708835,
          17.78850796716562,
          25.879580726415863,
          19.846743295019156,
          16.68769836717525,
          20.88727076591154,
          21.15894792693095,
          21.469560055405314,
          18.878357030015795,
          22.914059507087217,
          20.822552336837536,
          19.529124571697476,
          21.306862591839927,
          19.90795447478077,
          20.974061876487415,
          26.59844146089569,
          19.849948120360764,
          24.076006289770305,
          30.8112792935428,
          28.224677980696782,
          18.64736472985669,
          20.181646211525532,
          14.727452923686817,
          24.353259280912017,
          19.554513481828838,
          23.87892706769131,
          35.356814849427195,
          33.812409502869095,
          14.665825977301386,
          26.11303390230473,
          33.28871338375387,
          14.537991599847269,
          18.350868607780768
         ]
        },
        {
         "locationmode": "USA-states",
         "locations": [
          "AL",
          "AR",
          "CA",
          "CO",
          "CT",
          "DC",
          "FL",
          "GA",
          "HI",
          "ID",
          "IN",
          "IA",
          "KS",
          "KY",
          "LA",
          "ME",
          "MD",
          "MA",
          "MI",
          "MN",
          "MS",
          "MO",
          "MT",
          "NH",
          "NJ",
          "NY",
          "NC",
          "OH",
          "PA",
          "RI",
          "SC",
          "SD",
          "TN",
          "TX",
          "UT",
          "VT",
          "VA",
          "WA",
          "WV",
          "WI"
         ],
         "mode": "text",
         "text": [
          "AL",
          "AR",
          "CA",
          "CO",
          "CT",
          "DC",
          "FL",
          "GA",
          "HI",
          "ID",
          "IN",
          "IA",
          "KS",
          "KY",
          "LA",
          "ME",
          "MD",
          "MA",
          "MI",
          "MN",
          "MS",
          "MO",
          "MT",
          "NH",
          "NJ",
          "NY",
          "NC",
          "OH",
          "PA",
          "RI",
          "SC",
          "SD",
          "TN",
          "TX",
          "UT",
          "VT",
          "VA",
          "WA",
          "WV",
          "WI"
         ],
         "type": "scattergeo"
        }
       ],
       "layout": {
        "coloraxis": {
         "colorbar": {
          "title": {
           "text": "% of Firms < Two Years Old"
          }
         },
         "colorscale": [
          [
           0,
           "rgb(94,79,162)"
          ],
          [
           0.1,
           "rgb(50,136,189)"
          ],
          [
           0.2,
           "rgb(102,194,165)"
          ],
          [
           0.3,
           "rgb(171,221,164)"
          ],
          [
           0.4,
           "rgb(230,245,152)"
          ],
          [
           0.5,
           "rgb(255,255,191)"
          ],
          [
           0.6,
           "rgb(254,224,139)"
          ],
          [
           0.7,
           "rgb(253,174,97)"
          ],
          [
           0.8,
           "rgb(244,109,67)"
          ],
          [
           0.9,
           "rgb(213,62,79)"
          ],
          [
           1,
           "rgb(158,1,66)"
          ]
         ]
        },
        "geo": {
         "center": {},
         "domain": {
          "x": [
           0,
           1
          ],
          "y": [
           0,
           1
          ]
         },
         "scope": "usa"
        },
        "legend": {
         "tracegroupgap": 0
        },
        "margin": {
         "t": 60
        },
        "template": {
         "data": {
          "bar": [
           {
            "error_x": {
             "color": "#2a3f5f"
            },
            "error_y": {
             "color": "#2a3f5f"
            },
            "marker": {
             "line": {
              "color": "#E5ECF6",
              "width": 0.5
             },
             "pattern": {
              "fillmode": "overlay",
              "size": 10,
              "solidity": 0.2
             }
            },
            "type": "bar"
           }
          ],
          "barpolar": [
           {
            "marker": {
             "line": {
              "color": "#E5ECF6",
              "width": 0.5
             },
             "pattern": {
              "fillmode": "overlay",
              "size": 10,
              "solidity": 0.2
             }
            },
            "type": "barpolar"
           }
          ],
          "carpet": [
           {
            "aaxis": {
             "endlinecolor": "#2a3f5f",
             "gridcolor": "white",
             "linecolor": "white",
             "minorgridcolor": "white",
             "startlinecolor": "#2a3f5f"
            },
            "baxis": {
             "endlinecolor": "#2a3f5f",
             "gridcolor": "white",
             "linecolor": "white",
             "minorgridcolor": "white",
             "startlinecolor": "#2a3f5f"
            },
            "type": "carpet"
           }
          ],
          "choropleth": [
           {
            "colorbar": {
             "outlinewidth": 0,
             "ticks": ""
            },
            "type": "choropleth"
           }
          ],
          "contour": [
           {
            "colorbar": {
             "outlinewidth": 0,
             "ticks": ""
            },
            "colorscale": [
             [
              0,
              "#0d0887"
             ],
             [
              0.1111111111111111,
              "#46039f"
             ],
             [
              0.2222222222222222,
              "#7201a8"
             ],
             [
              0.3333333333333333,
              "#9c179e"
             ],
             [
              0.4444444444444444,
              "#bd3786"
             ],
             [
              0.5555555555555556,
              "#d8576b"
             ],
             [
              0.6666666666666666,
              "#ed7953"
             ],
             [
              0.7777777777777778,
              "#fb9f3a"
             ],
             [
              0.8888888888888888,
              "#fdca26"
             ],
             [
              1,
              "#f0f921"
             ]
            ],
            "type": "contour"
           }
          ],
          "contourcarpet": [
           {
            "colorbar": {
             "outlinewidth": 0,
             "ticks": ""
            },
            "type": "contourcarpet"
           }
          ],
          "heatmap": [
           {
            "colorbar": {
             "outlinewidth": 0,
             "ticks": ""
            },
            "colorscale": [
             [
              0,
              "#0d0887"
             ],
             [
              0.1111111111111111,
              "#46039f"
             ],
             [
              0.2222222222222222,
              "#7201a8"
             ],
             [
              0.3333333333333333,
              "#9c179e"
             ],
             [
              0.4444444444444444,
              "#bd3786"
             ],
             [
              0.5555555555555556,
              "#d8576b"
             ],
             [
              0.6666666666666666,
              "#ed7953"
             ],
             [
              0.7777777777777778,
              "#fb9f3a"
             ],
             [
              0.8888888888888888,
              "#fdca26"
             ],
             [
              1,
              "#f0f921"
             ]
            ],
            "type": "heatmap"
           }
          ],
          "heatmapgl": [
           {
            "colorbar": {
             "outlinewidth": 0,
             "ticks": ""
            },
            "colorscale": [
             [
              0,
              "#0d0887"
             ],
             [
              0.1111111111111111,
              "#46039f"
             ],
             [
              0.2222222222222222,
              "#7201a8"
             ],
             [
              0.3333333333333333,
              "#9c179e"
             ],
             [
              0.4444444444444444,
              "#bd3786"
             ],
             [
              0.5555555555555556,
              "#d8576b"
             ],
             [
              0.6666666666666666,
              "#ed7953"
             ],
             [
              0.7777777777777778,
              "#fb9f3a"
             ],
             [
              0.8888888888888888,
              "#fdca26"
             ],
             [
              1,
              "#f0f921"
             ]
            ],
            "type": "heatmapgl"
           }
          ],
          "histogram": [
           {
            "marker": {
             "pattern": {
              "fillmode": "overlay",
              "size": 10,
              "solidity": 0.2
             }
            },
            "type": "histogram"
           }
          ],
          "histogram2d": [
           {
            "colorbar": {
             "outlinewidth": 0,
             "ticks": ""
            },
            "colorscale": [
             [
              0,
              "#0d0887"
             ],
             [
              0.1111111111111111,
              "#46039f"
             ],
             [
              0.2222222222222222,
              "#7201a8"
             ],
             [
              0.3333333333333333,
              "#9c179e"
             ],
             [
              0.4444444444444444,
              "#bd3786"
             ],
             [
              0.5555555555555556,
              "#d8576b"
             ],
             [
              0.6666666666666666,
              "#ed7953"
             ],
             [
              0.7777777777777778,
              "#fb9f3a"
             ],
             [
              0.8888888888888888,
              "#fdca26"
             ],
             [
              1,
              "#f0f921"
             ]
            ],
            "type": "histogram2d"
           }
          ],
          "histogram2dcontour": [
           {
            "colorbar": {
             "outlinewidth": 0,
             "ticks": ""
            },
            "colorscale": [
             [
              0,
              "#0d0887"
             ],
             [
              0.1111111111111111,
              "#46039f"
             ],
             [
              0.2222222222222222,
              "#7201a8"
             ],
             [
              0.3333333333333333,
              "#9c179e"
             ],
             [
              0.4444444444444444,
              "#bd3786"
             ],
             [
              0.5555555555555556,
              "#d8576b"
             ],
             [
              0.6666666666666666,
              "#ed7953"
             ],
             [
              0.7777777777777778,
              "#fb9f3a"
             ],
             [
              0.8888888888888888,
              "#fdca26"
             ],
             [
              1,
              "#f0f921"
             ]
            ],
            "type": "histogram2dcontour"
           }
          ],
          "mesh3d": [
           {
            "colorbar": {
             "outlinewidth": 0,
             "ticks": ""
            },
            "type": "mesh3d"
           }
          ],
          "parcoords": [
           {
            "line": {
             "colorbar": {
              "outlinewidth": 0,
              "ticks": ""
             }
            },
            "type": "parcoords"
           }
          ],
          "pie": [
           {
            "automargin": true,
            "type": "pie"
           }
          ],
          "scatter": [
           {
            "fillpattern": {
             "fillmode": "overlay",
             "size": 10,
             "solidity": 0.2
            },
            "type": "scatter"
           }
          ],
          "scatter3d": [
           {
            "line": {
             "colorbar": {
              "outlinewidth": 0,
              "ticks": ""
             }
            },
            "marker": {
             "colorbar": {
              "outlinewidth": 0,
              "ticks": ""
             }
            },
            "type": "scatter3d"
           }
          ],
          "scattercarpet": [
           {
            "marker": {
             "colorbar": {
              "outlinewidth": 0,
              "ticks": ""
             }
            },
            "type": "scattercarpet"
           }
          ],
          "scattergeo": [
           {
            "marker": {
             "colorbar": {
              "outlinewidth": 0,
              "ticks": ""
             }
            },
            "type": "scattergeo"
           }
          ],
          "scattergl": [
           {
            "marker": {
             "colorbar": {
              "outlinewidth": 0,
              "ticks": ""
             }
            },
            "type": "scattergl"
           }
          ],
          "scattermapbox": [
           {
            "marker": {
             "colorbar": {
              "outlinewidth": 0,
              "ticks": ""
             }
            },
            "type": "scattermapbox"
           }
          ],
          "scatterpolar": [
           {
            "marker": {
             "colorbar": {
              "outlinewidth": 0,
              "ticks": ""
             }
            },
            "type": "scatterpolar"
           }
          ],
          "scatterpolargl": [
           {
            "marker": {
             "colorbar": {
              "outlinewidth": 0,
              "ticks": ""
             }
            },
            "type": "scatterpolargl"
           }
          ],
          "scatterternary": [
           {
            "marker": {
             "colorbar": {
              "outlinewidth": 0,
              "ticks": ""
             }
            },
            "type": "scatterternary"
           }
          ],
          "surface": [
           {
            "colorbar": {
             "outlinewidth": 0,
             "ticks": ""
            },
            "colorscale": [
             [
              0,
              "#0d0887"
             ],
             [
              0.1111111111111111,
              "#46039f"
             ],
             [
              0.2222222222222222,
              "#7201a8"
             ],
             [
              0.3333333333333333,
              "#9c179e"
             ],
             [
              0.4444444444444444,
              "#bd3786"
             ],
             [
              0.5555555555555556,
              "#d8576b"
             ],
             [
              0.6666666666666666,
              "#ed7953"
             ],
             [
              0.7777777777777778,
              "#fb9f3a"
             ],
             [
              0.8888888888888888,
              "#fdca26"
             ],
             [
              1,
              "#f0f921"
             ]
            ],
            "type": "surface"
           }
          ],
          "table": [
           {
            "cells": {
             "fill": {
              "color": "#EBF0F8"
             },
             "line": {
              "color": "white"
             }
            },
            "header": {
             "fill": {
              "color": "#C8D4E3"
             },
             "line": {
              "color": "white"
             }
            },
            "type": "table"
           }
          ]
         },
         "layout": {
          "annotationdefaults": {
           "arrowcolor": "#2a3f5f",
           "arrowhead": 0,
           "arrowwidth": 1
          },
          "autotypenumbers": "strict",
          "coloraxis": {
           "colorbar": {
            "outlinewidth": 0,
            "ticks": ""
           }
          },
          "colorscale": {
           "diverging": [
            [
             0,
             "#8e0152"
            ],
            [
             0.1,
             "#c51b7d"
            ],
            [
             0.2,
             "#de77ae"
            ],
            [
             0.3,
             "#f1b6da"
            ],
            [
             0.4,
             "#fde0ef"
            ],
            [
             0.5,
             "#f7f7f7"
            ],
            [
             0.6,
             "#e6f5d0"
            ],
            [
             0.7,
             "#b8e186"
            ],
            [
             0.8,
             "#7fbc41"
            ],
            [
             0.9,
             "#4d9221"
            ],
            [
             1,
             "#276419"
            ]
           ],
           "sequential": [
            [
             0,
             "#0d0887"
            ],
            [
             0.1111111111111111,
             "#46039f"
            ],
            [
             0.2222222222222222,
             "#7201a8"
            ],
            [
             0.3333333333333333,
             "#9c179e"
            ],
            [
             0.4444444444444444,
             "#bd3786"
            ],
            [
             0.5555555555555556,
             "#d8576b"
            ],
            [
             0.6666666666666666,
             "#ed7953"
            ],
            [
             0.7777777777777778,
             "#fb9f3a"
            ],
            [
             0.8888888888888888,
             "#fdca26"
            ],
            [
             1,
             "#f0f921"
            ]
           ],
           "sequentialminus": [
            [
             0,
             "#0d0887"
            ],
            [
             0.1111111111111111,
             "#46039f"
            ],
            [
             0.2222222222222222,
             "#7201a8"
            ],
            [
             0.3333333333333333,
             "#9c179e"
            ],
            [
             0.4444444444444444,
             "#bd3786"
            ],
            [
             0.5555555555555556,
             "#d8576b"
            ],
            [
             0.6666666666666666,
             "#ed7953"
            ],
            [
             0.7777777777777778,
             "#fb9f3a"
            ],
            [
             0.8888888888888888,
             "#fdca26"
            ],
            [
             1,
             "#f0f921"
            ]
           ]
          },
          "colorway": [
           "#636efa",
           "#EF553B",
           "#00cc96",
           "#ab63fa",
           "#FFA15A",
           "#19d3f3",
           "#FF6692",
           "#B6E880",
           "#FF97FF",
           "#FECB52"
          ],
          "font": {
           "color": "#2a3f5f"
          },
          "geo": {
           "bgcolor": "white",
           "lakecolor": "white",
           "landcolor": "#E5ECF6",
           "showlakes": true,
           "showland": true,
           "subunitcolor": "white"
          },
          "hoverlabel": {
           "align": "left"
          },
          "hovermode": "closest",
          "mapbox": {
           "style": "light"
          },
          "paper_bgcolor": "white",
          "plot_bgcolor": "#E5ECF6",
          "polar": {
           "angularaxis": {
            "gridcolor": "white",
            "linecolor": "white",
            "ticks": ""
           },
           "bgcolor": "#E5ECF6",
           "radialaxis": {
            "gridcolor": "white",
            "linecolor": "white",
            "ticks": ""
           }
          },
          "scene": {
           "xaxis": {
            "backgroundcolor": "#E5ECF6",
            "gridcolor": "white",
            "gridwidth": 2,
            "linecolor": "white",
            "showbackground": true,
            "ticks": "",
            "zerolinecolor": "white"
           },
           "yaxis": {
            "backgroundcolor": "#E5ECF6",
            "gridcolor": "white",
            "gridwidth": 2,
            "linecolor": "white",
            "showbackground": true,
            "ticks": "",
            "zerolinecolor": "white"
           },
           "zaxis": {
            "backgroundcolor": "#E5ECF6",
            "gridcolor": "white",
            "gridwidth": 2,
            "linecolor": "white",
            "showbackground": true,
            "ticks": "",
            "zerolinecolor": "white"
           }
          },
          "shapedefaults": {
           "line": {
            "color": "#2a3f5f"
           }
          },
          "ternary": {
           "aaxis": {
            "gridcolor": "white",
            "linecolor": "white",
            "ticks": ""
           },
           "baxis": {
            "gridcolor": "white",
            "linecolor": "white",
            "ticks": ""
           },
           "bgcolor": "#E5ECF6",
           "caxis": {
            "gridcolor": "white",
            "linecolor": "white",
            "ticks": ""
           }
          },
          "title": {
           "x": 0.05
          },
          "xaxis": {
           "automargin": true,
           "gridcolor": "white",
           "linecolor": "white",
           "ticks": "",
           "title": {
            "standoff": 15
           },
           "zerolinecolor": "white",
           "zerolinewidth": 2
          },
          "yaxis": {
           "automargin": true,
           "gridcolor": "white",
           "linecolor": "white",
           "ticks": "",
           "title": {
            "standoff": 15
           },
           "zerolinecolor": "white",
           "zerolinewidth": 2
          }
         }
        },
        "title": {
         "text": "Percentage of Total Businesses Less Than Two Years Old by State",
         "x": 0.5,
         "xanchor": "center",
         "yanchor": "top"
        }
       }
      },
      "text/html": [
       "<div>                            <div id=\"6a93af14-1fe5-41b5-978e-158049023b1b\" class=\"plotly-graph-div\" style=\"height:525px; width:100%;\"></div>            <script type=\"text/javascript\">                require([\"plotly\"], function(Plotly) {                    window.PLOTLYENV=window.PLOTLYENV || {};                                    if (document.getElementById(\"6a93af14-1fe5-41b5-978e-158049023b1b\")) {                    Plotly.newPlot(                        \"6a93af14-1fe5-41b5-978e-158049023b1b\",                        [{\"coloraxis\":\"coloraxis\",\"geo\":\"geo\",\"hovertemplate\":\"Code=%{location}<br>% of Firms < Two Years Old=%{z}<extra></extra>\",\"locationmode\":\"USA-states\",\"locations\":[\"AL\",\"AR\",\"CA\",\"CO\",\"CT\",\"DC\",\"FL\",\"GA\",\"HI\",\"ID\",\"IN\",\"IA\",\"KS\",\"KY\",\"LA\",\"ME\",\"MD\",\"MA\",\"MI\",\"MN\",\"MS\",\"MO\",\"MT\",\"NH\",\"NJ\",\"NY\",\"NC\",\"OH\",\"PA\",\"RI\",\"SC\",\"SD\",\"TN\",\"TX\",\"UT\",\"VT\",\"VA\",\"WA\",\"WV\",\"WI\"],\"name\":\"\",\"z\":[21.515173782055992,20.050434595986694,34.82981891855303,31.80834245409218,17.263697089260376,24.58312696054152,39.478122996997605,29.919200663708835,17.78850796716562,25.879580726415863,19.846743295019156,16.68769836717525,20.88727076591154,21.15894792693095,21.469560055405314,18.878357030015795,22.914059507087217,20.822552336837536,19.529124571697476,21.306862591839927,19.90795447478077,20.974061876487415,26.59844146089569,19.849948120360764,24.076006289770305,30.8112792935428,28.224677980696782,18.64736472985669,20.181646211525532,14.727452923686817,24.353259280912017,19.554513481828838,23.87892706769131,35.356814849427195,33.812409502869095,14.665825977301386,26.11303390230473,33.28871338375387,14.537991599847269,18.350868607780768],\"type\":\"choropleth\"},{\"locationmode\":\"USA-states\",\"locations\":[\"AL\",\"AR\",\"CA\",\"CO\",\"CT\",\"DC\",\"FL\",\"GA\",\"HI\",\"ID\",\"IN\",\"IA\",\"KS\",\"KY\",\"LA\",\"ME\",\"MD\",\"MA\",\"MI\",\"MN\",\"MS\",\"MO\",\"MT\",\"NH\",\"NJ\",\"NY\",\"NC\",\"OH\",\"PA\",\"RI\",\"SC\",\"SD\",\"TN\",\"TX\",\"UT\",\"VT\",\"VA\",\"WA\",\"WV\",\"WI\"],\"mode\":\"text\",\"text\":[\"AL\",\"AR\",\"CA\",\"CO\",\"CT\",\"DC\",\"FL\",\"GA\",\"HI\",\"ID\",\"IN\",\"IA\",\"KS\",\"KY\",\"LA\",\"ME\",\"MD\",\"MA\",\"MI\",\"MN\",\"MS\",\"MO\",\"MT\",\"NH\",\"NJ\",\"NY\",\"NC\",\"OH\",\"PA\",\"RI\",\"SC\",\"SD\",\"TN\",\"TX\",\"UT\",\"VT\",\"VA\",\"WA\",\"WV\",\"WI\"],\"type\":\"scattergeo\"}],                        {\"template\":{\"data\":{\"histogram2dcontour\":[{\"type\":\"histogram2dcontour\",\"colorbar\":{\"outlinewidth\":0,\"ticks\":\"\"},\"colorscale\":[[0.0,\"#0d0887\"],[0.1111111111111111,\"#46039f\"],[0.2222222222222222,\"#7201a8\"],[0.3333333333333333,\"#9c179e\"],[0.4444444444444444,\"#bd3786\"],[0.5555555555555556,\"#d8576b\"],[0.6666666666666666,\"#ed7953\"],[0.7777777777777778,\"#fb9f3a\"],[0.8888888888888888,\"#fdca26\"],[1.0,\"#f0f921\"]]}],\"choropleth\":[{\"type\":\"choropleth\",\"colorbar\":{\"outlinewidth\":0,\"ticks\":\"\"}}],\"histogram2d\":[{\"type\":\"histogram2d\",\"colorbar\":{\"outlinewidth\":0,\"ticks\":\"\"},\"colorscale\":[[0.0,\"#0d0887\"],[0.1111111111111111,\"#46039f\"],[0.2222222222222222,\"#7201a8\"],[0.3333333333333333,\"#9c179e\"],[0.4444444444444444,\"#bd3786\"],[0.5555555555555556,\"#d8576b\"],[0.6666666666666666,\"#ed7953\"],[0.7777777777777778,\"#fb9f3a\"],[0.8888888888888888,\"#fdca26\"],[1.0,\"#f0f921\"]]}],\"heatmap\":[{\"type\":\"heatmap\",\"colorbar\":{\"outlinewidth\":0,\"ticks\":\"\"},\"colorscale\":[[0.0,\"#0d0887\"],[0.1111111111111111,\"#46039f\"],[0.2222222222222222,\"#7201a8\"],[0.3333333333333333,\"#9c179e\"],[0.4444444444444444,\"#bd3786\"],[0.5555555555555556,\"#d8576b\"],[0.6666666666666666,\"#ed7953\"],[0.7777777777777778,\"#fb9f3a\"],[0.8888888888888888,\"#fdca26\"],[1.0,\"#f0f921\"]]}],\"heatmapgl\":[{\"type\":\"heatmapgl\",\"colorbar\":{\"outlinewidth\":0,\"ticks\":\"\"},\"colorscale\":[[0.0,\"#0d0887\"],[0.1111111111111111,\"#46039f\"],[0.2222222222222222,\"#7201a8\"],[0.3333333333333333,\"#9c179e\"],[0.4444444444444444,\"#bd3786\"],[0.5555555555555556,\"#d8576b\"],[0.6666666666666666,\"#ed7953\"],[0.7777777777777778,\"#fb9f3a\"],[0.8888888888888888,\"#fdca26\"],[1.0,\"#f0f921\"]]}],\"contourcarpet\":[{\"type\":\"contourcarpet\",\"colorbar\":{\"outlinewidth\":0,\"ticks\":\"\"}}],\"contour\":[{\"type\":\"contour\",\"colorbar\":{\"outlinewidth\":0,\"ticks\":\"\"},\"colorscale\":[[0.0,\"#0d0887\"],[0.1111111111111111,\"#46039f\"],[0.2222222222222222,\"#7201a8\"],[0.3333333333333333,\"#9c179e\"],[0.4444444444444444,\"#bd3786\"],[0.5555555555555556,\"#d8576b\"],[0.6666666666666666,\"#ed7953\"],[0.7777777777777778,\"#fb9f3a\"],[0.8888888888888888,\"#fdca26\"],[1.0,\"#f0f921\"]]}],\"surface\":[{\"type\":\"surface\",\"colorbar\":{\"outlinewidth\":0,\"ticks\":\"\"},\"colorscale\":[[0.0,\"#0d0887\"],[0.1111111111111111,\"#46039f\"],[0.2222222222222222,\"#7201a8\"],[0.3333333333333333,\"#9c179e\"],[0.4444444444444444,\"#bd3786\"],[0.5555555555555556,\"#d8576b\"],[0.6666666666666666,\"#ed7953\"],[0.7777777777777778,\"#fb9f3a\"],[0.8888888888888888,\"#fdca26\"],[1.0,\"#f0f921\"]]}],\"mesh3d\":[{\"type\":\"mesh3d\",\"colorbar\":{\"outlinewidth\":0,\"ticks\":\"\"}}],\"scatter\":[{\"fillpattern\":{\"fillmode\":\"overlay\",\"size\":10,\"solidity\":0.2},\"type\":\"scatter\"}],\"parcoords\":[{\"type\":\"parcoords\",\"line\":{\"colorbar\":{\"outlinewidth\":0,\"ticks\":\"\"}}}],\"scatterpolargl\":[{\"type\":\"scatterpolargl\",\"marker\":{\"colorbar\":{\"outlinewidth\":0,\"ticks\":\"\"}}}],\"bar\":[{\"error_x\":{\"color\":\"#2a3f5f\"},\"error_y\":{\"color\":\"#2a3f5f\"},\"marker\":{\"line\":{\"color\":\"#E5ECF6\",\"width\":0.5},\"pattern\":{\"fillmode\":\"overlay\",\"size\":10,\"solidity\":0.2}},\"type\":\"bar\"}],\"scattergeo\":[{\"type\":\"scattergeo\",\"marker\":{\"colorbar\":{\"outlinewidth\":0,\"ticks\":\"\"}}}],\"scatterpolar\":[{\"type\":\"scatterpolar\",\"marker\":{\"colorbar\":{\"outlinewidth\":0,\"ticks\":\"\"}}}],\"histogram\":[{\"marker\":{\"pattern\":{\"fillmode\":\"overlay\",\"size\":10,\"solidity\":0.2}},\"type\":\"histogram\"}],\"scattergl\":[{\"type\":\"scattergl\",\"marker\":{\"colorbar\":{\"outlinewidth\":0,\"ticks\":\"\"}}}],\"scatter3d\":[{\"type\":\"scatter3d\",\"line\":{\"colorbar\":{\"outlinewidth\":0,\"ticks\":\"\"}},\"marker\":{\"colorbar\":{\"outlinewidth\":0,\"ticks\":\"\"}}}],\"scattermapbox\":[{\"type\":\"scattermapbox\",\"marker\":{\"colorbar\":{\"outlinewidth\":0,\"ticks\":\"\"}}}],\"scatterternary\":[{\"type\":\"scatterternary\",\"marker\":{\"colorbar\":{\"outlinewidth\":0,\"ticks\":\"\"}}}],\"scattercarpet\":[{\"type\":\"scattercarpet\",\"marker\":{\"colorbar\":{\"outlinewidth\":0,\"ticks\":\"\"}}}],\"carpet\":[{\"aaxis\":{\"endlinecolor\":\"#2a3f5f\",\"gridcolor\":\"white\",\"linecolor\":\"white\",\"minorgridcolor\":\"white\",\"startlinecolor\":\"#2a3f5f\"},\"baxis\":{\"endlinecolor\":\"#2a3f5f\",\"gridcolor\":\"white\",\"linecolor\":\"white\",\"minorgridcolor\":\"white\",\"startlinecolor\":\"#2a3f5f\"},\"type\":\"carpet\"}],\"table\":[{\"cells\":{\"fill\":{\"color\":\"#EBF0F8\"},\"line\":{\"color\":\"white\"}},\"header\":{\"fill\":{\"color\":\"#C8D4E3\"},\"line\":{\"color\":\"white\"}},\"type\":\"table\"}],\"barpolar\":[{\"marker\":{\"line\":{\"color\":\"#E5ECF6\",\"width\":0.5},\"pattern\":{\"fillmode\":\"overlay\",\"size\":10,\"solidity\":0.2}},\"type\":\"barpolar\"}],\"pie\":[{\"automargin\":true,\"type\":\"pie\"}]},\"layout\":{\"autotypenumbers\":\"strict\",\"colorway\":[\"#636efa\",\"#EF553B\",\"#00cc96\",\"#ab63fa\",\"#FFA15A\",\"#19d3f3\",\"#FF6692\",\"#B6E880\",\"#FF97FF\",\"#FECB52\"],\"font\":{\"color\":\"#2a3f5f\"},\"hovermode\":\"closest\",\"hoverlabel\":{\"align\":\"left\"},\"paper_bgcolor\":\"white\",\"plot_bgcolor\":\"#E5ECF6\",\"polar\":{\"bgcolor\":\"#E5ECF6\",\"angularaxis\":{\"gridcolor\":\"white\",\"linecolor\":\"white\",\"ticks\":\"\"},\"radialaxis\":{\"gridcolor\":\"white\",\"linecolor\":\"white\",\"ticks\":\"\"}},\"ternary\":{\"bgcolor\":\"#E5ECF6\",\"aaxis\":{\"gridcolor\":\"white\",\"linecolor\":\"white\",\"ticks\":\"\"},\"baxis\":{\"gridcolor\":\"white\",\"linecolor\":\"white\",\"ticks\":\"\"},\"caxis\":{\"gridcolor\":\"white\",\"linecolor\":\"white\",\"ticks\":\"\"}},\"coloraxis\":{\"colorbar\":{\"outlinewidth\":0,\"ticks\":\"\"}},\"colorscale\":{\"sequential\":[[0.0,\"#0d0887\"],[0.1111111111111111,\"#46039f\"],[0.2222222222222222,\"#7201a8\"],[0.3333333333333333,\"#9c179e\"],[0.4444444444444444,\"#bd3786\"],[0.5555555555555556,\"#d8576b\"],[0.6666666666666666,\"#ed7953\"],[0.7777777777777778,\"#fb9f3a\"],[0.8888888888888888,\"#fdca26\"],[1.0,\"#f0f921\"]],\"sequentialminus\":[[0.0,\"#0d0887\"],[0.1111111111111111,\"#46039f\"],[0.2222222222222222,\"#7201a8\"],[0.3333333333333333,\"#9c179e\"],[0.4444444444444444,\"#bd3786\"],[0.5555555555555556,\"#d8576b\"],[0.6666666666666666,\"#ed7953\"],[0.7777777777777778,\"#fb9f3a\"],[0.8888888888888888,\"#fdca26\"],[1.0,\"#f0f921\"]],\"diverging\":[[0,\"#8e0152\"],[0.1,\"#c51b7d\"],[0.2,\"#de77ae\"],[0.3,\"#f1b6da\"],[0.4,\"#fde0ef\"],[0.5,\"#f7f7f7\"],[0.6,\"#e6f5d0\"],[0.7,\"#b8e186\"],[0.8,\"#7fbc41\"],[0.9,\"#4d9221\"],[1,\"#276419\"]]},\"xaxis\":{\"gridcolor\":\"white\",\"linecolor\":\"white\",\"ticks\":\"\",\"title\":{\"standoff\":15},\"zerolinecolor\":\"white\",\"automargin\":true,\"zerolinewidth\":2},\"yaxis\":{\"gridcolor\":\"white\",\"linecolor\":\"white\",\"ticks\":\"\",\"title\":{\"standoff\":15},\"zerolinecolor\":\"white\",\"automargin\":true,\"zerolinewidth\":2},\"scene\":{\"xaxis\":{\"backgroundcolor\":\"#E5ECF6\",\"gridcolor\":\"white\",\"linecolor\":\"white\",\"showbackground\":true,\"ticks\":\"\",\"zerolinecolor\":\"white\",\"gridwidth\":2},\"yaxis\":{\"backgroundcolor\":\"#E5ECF6\",\"gridcolor\":\"white\",\"linecolor\":\"white\",\"showbackground\":true,\"ticks\":\"\",\"zerolinecolor\":\"white\",\"gridwidth\":2},\"zaxis\":{\"backgroundcolor\":\"#E5ECF6\",\"gridcolor\":\"white\",\"linecolor\":\"white\",\"showbackground\":true,\"ticks\":\"\",\"zerolinecolor\":\"white\",\"gridwidth\":2}},\"shapedefaults\":{\"line\":{\"color\":\"#2a3f5f\"}},\"annotationdefaults\":{\"arrowcolor\":\"#2a3f5f\",\"arrowhead\":0,\"arrowwidth\":1},\"geo\":{\"bgcolor\":\"white\",\"landcolor\":\"#E5ECF6\",\"subunitcolor\":\"white\",\"showland\":true,\"showlakes\":true,\"lakecolor\":\"white\"},\"title\":{\"x\":0.05},\"mapbox\":{\"style\":\"light\"}}},\"geo\":{\"domain\":{\"x\":[0.0,1.0],\"y\":[0.0,1.0]},\"center\":{},\"scope\":\"usa\"},\"coloraxis\":{\"colorbar\":{\"title\":{\"text\":\"% of Firms < Two Years Old\"}},\"colorscale\":[[0.0,\"rgb(94,79,162)\"],[0.1,\"rgb(50,136,189)\"],[0.2,\"rgb(102,194,165)\"],[0.3,\"rgb(171,221,164)\"],[0.4,\"rgb(230,245,152)\"],[0.5,\"rgb(255,255,191)\"],[0.6,\"rgb(254,224,139)\"],[0.7,\"rgb(253,174,97)\"],[0.8,\"rgb(244,109,67)\"],[0.9,\"rgb(213,62,79)\"],[1.0,\"rgb(158,1,66)\"]]},\"legend\":{\"tracegroupgap\":0},\"margin\":{\"t\":60},\"title\":{\"text\":\"Percentage of Total Businesses Less Than Two Years Old by State\",\"xanchor\":\"center\",\"yanchor\":\"top\",\"x\":0.5}},                        {\"responsive\": true}                    ).then(function(){\n",
       "                            \n",
       "var gd = document.getElementById('6a93af14-1fe5-41b5-978e-158049023b1b');\n",
       "var x = new MutationObserver(function (mutations, observer) {{\n",
       "        var display = window.getComputedStyle(gd).display;\n",
       "        if (!display || display === 'none') {{\n",
       "            console.log([gd, 'removed!']);\n",
       "            Plotly.purge(gd);\n",
       "            observer.disconnect();\n",
       "        }}\n",
       "}});\n",
       "\n",
       "// Listen for the removal of the full notebook cells\n",
       "var notebookContainer = gd.closest('#notebook-container');\n",
       "if (notebookContainer) {{\n",
       "    x.observe(notebookContainer, {childList: true});\n",
       "}}\n",
       "\n",
       "// Listen for the clearing of the current output cell\n",
       "var outputEl = gd.closest('.output');\n",
       "if (outputEl) {{\n",
       "    x.observe(outputEl, {childList: true});\n",
       "}}\n",
       "\n",
       "                        })                };                });            </script>        </div>"
      ]
     },
     "metadata": {},
     "output_type": "display_data"
    },
    {
     "data": {
      "image/png": "[encoded data removed]",
      "text/plain": [
       "<Figure size 1296x504 with 1 Axes>"
      ]
     },
     "metadata": {
      "needs_background": "light"
     },
     "output_type": "display_data"
    },
    {
     "data": {
      "image/png": "[encoded data removed]",
      "text/plain": [
       "<Figure size 1440x720 with 1 Axes>"
      ]
     },
     "metadata": {
      "needs_background": "light"
     },
     "output_type": "display_data"
    }
   ],
   "source": [
    "# I suggest wrapping your entire visualization process in a function while we work on integrating. \n",
    "\n",
    "# For example. \n",
    "\n",
    "def ryans_visuals(comp_sum_df):\n",
    "    working_df=comp_sum_df\n",
    "    \n",
    "    #Dropping unnccessary rows\n",
    "    working_df = working_df[working_df.race_group_label == 'Total']\n",
    "    working_df = working_df[working_df.industry == 'Total for all sectors']\n",
    "    working_df = working_df[working_df.gender == 'Total']\n",
    "    working_df = working_df[working_df.yibszfi_label != 'All firms']\n",
    "    \n",
    "    #Dropping unneccessary columns\n",
    "    working_df = working_df.drop(['geo_id','industry_code','industry','race_group_label','gender','state'], axis = 1)\n",
    "    \n",
    "    #Getting % of businesses under 2 years old of total\n",
    "    working_min = working_df.groupby(by = ['name'])[['firmpdemp']].agg('min')\n",
    "    working_max = working_df.groupby(by = ['name'])[['firmpdemp']].agg('max')\n",
    "    workingfinal = ((working_min / working_max) * 100)\n",
    "    \n",
    "    #Dropping States with nulls/zeroes for under 2 year businesses\n",
    "    workingfinal = workingfinal[~(workingfinal == 0).all(axis=1)]\n",
    "    workingfinal.reset_index(inplace=True)\n",
    "    workingfinal2 = workingfinal\n",
    "    workingfinal.rename(columns = {'firmpdemp':'% of Firms < Two Years Old'}, inplace = True)\n",
    "    #State codes for converting to map form\n",
    "    code = {'Alabama': 'AL',\n",
    "        'Alaska': 'AK',\n",
    "        'Arizona': 'AZ',\n",
    "        'Arkansas': 'AR',\n",
    "        'California': 'CA',\n",
    "        'Colorado': 'CO',\n",
    "        'Connecticut': 'CT',\n",
    "        'Delaware': 'DE',\n",
    "        'District of Columbia': 'DC',\n",
    "        'Florida': 'FL',\n",
    "        'Georgia': 'GA',\n",
    "        'Hawaii': 'HI',\n",
    "        'Idaho': 'ID',\n",
    "        'Illinois': 'IL',\n",
    "        'Indiana': 'IN',\n",
    "        'Iowa': 'IA',\n",
    "        'Kansas': 'KS',\n",
    "        'Kentucky': 'KY',\n",
    "        'Louisiana': 'LA',\n",
    "        'Maine': 'ME',\n",
    "        'Maryland': 'MD',\n",
    "        'Massachusetts': 'MA',\n",
    "        'Michigan': 'MI',\n",
    "        'Minnesota': 'MN',\n",
    "        'Mississippi': 'MS',\n",
    "        'Missouri': 'MO',\n",
    "        'Montana': 'MT',\n",
    "        'Nebraska': 'NE',\n",
    "        'Nevada': 'NV',\n",
    "        'New Hampshire': 'NH',\n",
    "        'New Jersey': 'NJ',\n",
    "        'New Mexico': 'NM',\n",
    "        'New York': 'NY',\n",
    "        'North Carolina': 'NC',\n",
    "        'North Dakota': 'ND',\n",
    "        'Ohio': 'OH',\n",
    "        'Oklahoma': 'OK',\n",
    "        'Oregon': 'OR',\n",
    "        'Pennsylvania': 'PA',\n",
    "        'Rhode Island': 'RI',\n",
    "        'South Carolina': 'SC',\n",
    "        'South Dakota': 'SD',\n",
    "        'Tennessee': 'TN',\n",
    "        'Texas': 'TX',\n",
    "        'Utah': 'UT',\n",
    "        'Vermont': 'VT',\n",
    "        'Virginia': 'VA',\n",
    "        'Washington': 'WA',\n",
    "        'West Virginia': 'WV',\n",
    "        'Wisconsin': 'WI',\n",
    "        'Wyoming': 'WY'}\n",
    "    #Updating states with map code\n",
    "    workingfinal['Code'] = workingfinal['name'].map(code)\n",
    "    \n",
    "    #Map information\n",
    "    fig = px.choropleth(workingfinal,\n",
    "                    locations='Code',\n",
    "                    color='% of Firms < Two Years Old',\n",
    "                    color_continuous_scale='spectral_r',\n",
    "                    locationmode='USA-states',\n",
    "                    scope='usa')\n",
    "    fig.add_scattergeo(\n",
    "        locations=workingfinal['Code'],\n",
    "        locationmode='USA-states',\n",
    "        text=workingfinal['Code'],\n",
    "        mode='text')\n",
    "\n",
    "    fig.update_layout(\n",
    "        title={'text':'Percentage of Total Businesses Less Than Two Years Old by State',\n",
    "               'xanchor':'center',\n",
    "               'yanchor':'top',\n",
    "               'x':0.5})\n",
    "    fig\n",
    "    #Second plot ETL\n",
    "    working_df=comp_sum_df\n",
    "    \n",
    "    #Row removal\n",
    "    working_df = working_df[working_df.race_group_label == 'Total']\n",
    "    working_df = working_df[working_df.industry == 'Total for all sectors']\n",
    "    working_df = working_df[working_df.gender == 'Total']\n",
    "    working_df = working_df[working_df.yibszfi_label != 'All firms']\n",
    "    \n",
    "    #Split to two states\n",
    "    working_df1 = working_df[working_df.name == 'Florida']\n",
    "    working_df2 = working_df[working_df.name == 'West Virginia']\n",
    "    \n",
    "    #Dropping columns\n",
    "    working_df1 = working_df1.drop(['geo_id','industry_code','industry','race_group_label','gender','state'], axis = 1)\n",
    "    working_df2 = working_df2.drop(['geo_id','industry_code','industry','race_group_label','gender','state'], axis = 1)\n",
    "    \n",
    "    #Changing from int to float type for aggregates\n",
    "    working_df2['firmpdemp'] = working_df2['firmpdemp'].astype(float)\n",
    "    working_df1['firmpdemp'] = working_df1['firmpdemp'].astype(float)\n",
    "    \n",
    "    #Updating values for average by index\n",
    "    i = 60339\n",
    "    while i < 60345:\n",
    "        working_df1['firmpdemp'][i] = (working_df1['firmpdemp'][i] * .000223532620)\n",
    "        i = i + 1\n",
    "    \n",
    "    i = 40817\n",
    "    while i < 40822:\n",
    "        working_df2['firmpdemp'][i] = (working_df2['firmpdemp'][i] * 0.004279356384)\n",
    "        i = i + 1\n",
    "    working_df2['firmpdemp'][40900] = (working_df2['firmpdemp'][40900] * 0.004279356384)\n",
    "    \n",
    "    #Renaming columns\n",
    "    working_df1.rename(columns = {'yibszfi_label':'Years in Business', 'name':'State'}, inplace = True)\n",
    "    working_df2.rename(columns = {'yibszfi_label':'Years in Business', 'name':'State'}, inplace = True)\n",
    "    \n",
    "    #Creating pivots for chart\n",
    "    pivot_df = working_df1.pivot(index='State', columns='Years in Business', values='firmpdemp')\n",
    "    pivot_df1 = working_df2.pivot(index='State', columns='Years in Business', values='firmpdemp')\n",
    "    \n",
    "    #Merging back to one table\n",
    "    pivot_df2 = pd.concat([pivot_df1, pivot_df], axis = 0)\n",
    "    \n",
    "    #Plot info\n",
    "    ordered_df2 = pivot_df2.loc[:,['Firms with less than 2 years in business','Firms with 2 to 3 years in business','Firms with 4 to 5 years in business','Firms with 6 to 10 years in business','Firms with 11 to 15 years in business','Firms with 16 or more years in business']]\n",
    "    fig2 = ordered_df2.plot.bar(alpha = 0.4, ylabel= 'Percentage of Firms', title='Years in Business Percent for Florida and West Virginia',stacked=True, figsize=(18,7))\n",
    "    \n",
    "    #Third plot ETL\n",
    "    working_df=comp_sum_df\n",
    "    \n",
    "    #Dropping rows\n",
    "    working_df = working_df[working_df.race_group_label == 'Total']\n",
    "    working_df = working_df[working_df.industry != 'Total for all sectors']\n",
    "    working_df = working_df[working_df.gender == 'Total']\n",
    "    working_df = working_df[working_df.yibszfi_label != 'Firms with 2 to 3 years in business']\n",
    "    working_df = working_df[working_df.yibszfi_label != 'Firms with 4 to 5 years in business']\n",
    "    working_df = working_df[working_df.yibszfi_label != 'Firms with 6 to 10 years in business']\n",
    "    working_df = working_df[working_df.yibszfi_label != 'Firms with 11 to 15 years in business']\n",
    "    working_df = working_df[working_df.yibszfi_label != 'Firms with 16 or more years in business']\n",
    "    \n",
    "    #Dropping columns\n",
    "    working_df5 = working_df.drop(['geo_id','industry_code','race_group_label','gender','state','name'], axis = 1)\n",
    "    \n",
    "    #Splitting\n",
    "    working_df6 = working_df5[working_df.yibszfi_label != 'All firms']\n",
    "    working_df7 = working_df5[working_df.yibszfi_label == 'All firms']\n",
    "    \n",
    "    #Getting industry sums for each firm attribute\n",
    "    working_df6 = working_df6.groupby(by = ['industry'])[['firmpdemp']].agg('sum')\n",
    "    working_df7 = working_df7.groupby(by = ['industry'])[['firmpdemp']].agg('sum')\n",
    "    \n",
    "    #Merging with percent\n",
    "    working_df8 = working_df6 / working_df7 * 100\n",
    "    \n",
    "    \n",
    "    #Renaming columns\n",
    "    working_df8.rename(columns = {'firmpdemp':'% of Firms < 2 Years Old'}, inplace = True)\n",
    "    \n",
    "    #Sort\n",
    "    working_df8.sort_values(by = ['% of Firms < 2 Years Old'], inplace = True)\n",
    "    \n",
    "    #Plot\n",
    "    ax = working_df8.plot(figsize = (20,10), title = 'Percentage of Total Businesses Less Than Two Years Old by Industry',kind='bar')\n",
    "    plt.rc('axes',labelsize = 22)\n",
    "    plt.rc('axes',titlesize = 25)\n",
    "    plt.rc('xtick', labelsize=20)\n",
    "    ax.set_ylabel('% of Firms Less than two years old')\n",
    "    ax.set_xlabel('Industry')\n",
    "    plt.xticks(rotation = 45, ha='right')\n",
    "    ax\n",
    "    return fig\n",
    "\n",
    "fig = ryans_visuals(comp_sum_df)\n",
    "fig\n",
    "\n"
   ]
  },
  {
   "cell_type": "code",
   "execution_count": 19,
   "metadata": {},
   "outputs": [
    {
     "data": {
      "image/png": "[encoded data removed]",
      "text/plain": [
       "<Figure size 1080x1440 with 1 Axes>"
      ]
     },
     "metadata": {
      "needs_background": "light"
     },
     "output_type": "display_data"
    },
    {
     "data": {
      "image/png": "[encoded data removed]",
      "text/plain": [
       "<Figure size 1080x1080 with 1 Axes>"
      ]
     },
     "metadata": {
      "needs_background": "light"
     },
     "output_type": "display_data"
    },
    {
     "data": {
      "image/png": "[encoded data removed]",
      "text/plain": [
       "<Figure size 1080x360 with 1 Axes>"
      ]
     },
     "metadata": {
      "needs_background": "light"
     },
     "output_type": "display_data"
    }
   ],
   "source": [
    "def jakes_visuals():\n",
    "    #Visual 1: National Firms by Industry and Gender\n",
    "    \n",
    "    workingDF = df_collection[5].copy()\n",
    "    \n",
    "    #I filtered values to look at number of firms by industries, broken down by gender.\n",
    "    #To do this I had to filter to look at 'Total' values for race groups and time the firm was open\n",
    "    workingDF = workingDF[workingDF['firmpdemp'] != 0]\n",
    "    workingDF = workingDF[workingDF['yibszfi_label'] == 'All firms']\n",
    "    workingDF = workingDF[workingDF['race_group_label'] == 'Total']\n",
    "    workingDF = workingDF[workingDF['industry'] != 'Industries not classified']\n",
    "    workingDF = workingDF[workingDF['gender'] != 'Total']\n",
    "    workingDF = workingDF[workingDF['industry'] != 'Total for all sectors']\n",
    "    \n",
    "    #After filtering, unneeded columns are dropped\n",
    "    workingDF.drop(['geo_id', 'name', 'industry_code', 'race_group_label', 'yibszfi_label'], axis = 1, inplace = True)\n",
    "    workingDF = workingDF.sort_values(by = 'firmpdemp', ascending = False)\n",
    "    \n",
    "    #This creates labels for the visual. I generated them separate from the visual so I could add a word-wrap\n",
    "    labels = workingDF['industry'].unique()\n",
    "    labels = [ '\\n'.join(wrap(l, 30)) for l in labels ]\n",
    "    \n",
    "    #Making the plot\n",
    "    plt.figure(figsize=(15, 20))\n",
    "    ax = sns.barplot(data = workingDF, y = 'industry', x = 'firmpdemp', hue = 'gender')\n",
    "    ax.set(xlabel =\"Number of Firms\", ylabel = \"Industry\", title ='Majority Ownership of US Firms by Industry and Gender')\n",
    "    ax.set_yticklabels(labels)\n",
    "    plt.show()\n",
    "    \n",
    "    #Visual 2: National Firms by Industry and Minority Status\n",
    "    workingDF3 = df_collection[5].copy()\n",
    "    \n",
    "    #Filtering values to for firm age and gender, here I'm only interested in minority status and industry\n",
    "    workingDF3 = workingDF3[workingDF3['firmpdemp'] != 0]\n",
    "    workingDF3 = workingDF3[workingDF3['yibszfi_label'] == 'All firms']\n",
    "    workingDF3 = workingDF3[workingDF3['gender'] == 'Total']\n",
    "    workingDF3 = workingDF3[workingDF3['industry'] != 'Industries not classified']\n",
    "    workingDF3 = workingDF3.query('race_group_label  in (\"Nonminority\", \"Minority\")')\n",
    "    workingDF3 = workingDF3[workingDF3['industry'] != 'Total for all sectors']\n",
    "    \n",
    "    #Dropping unneeded columns after using them to filter\n",
    "    workingDF3.drop(['geo_id', 'name', 'industry_code', 'gender', 'yibszfi_label'], axis = 1, inplace = True)\n",
    "    workingDF3 = workingDF3.sort_values(by = 'firmpdemp', ascending = False)\n",
    "    \n",
    "    #Generating labels for the plot and using word wrap\n",
    "    labels3 = workingDF3['industry'].unique()\n",
    "    labels3 = [ '\\n'.join(wrap(l, 30)) for l in labels ]\n",
    "    \n",
    "    #Making the plot\n",
    "    plt.figure(figsize=(15, 15))\n",
    "    ax3 = sns.barplot(data = workingDF3, y = 'industry', x = 'firmpdemp', hue = 'race_group_label')\n",
    "    ax3.set_yticklabels(labels3)\n",
    "    ax3.set(xlabel =\"Number of Firms\", ylabel = \"Industry\", title ='Majority Ownership of US Firms by Industry and Minority Status')\n",
    "    plt.legend(loc = 'lower right')\n",
    "    plt.show()\n",
    "    \n",
    "    \n",
    "    #Visual 3: Ratio of Gender Ownership by State for Construction\n",
    "    state_df = df_collection[0].copy()\n",
    "    \n",
    "    #Filtering columns to control for firm age and race group, \n",
    "    #I'm looking at difference in firm ownership by gender and state for the construction industry\n",
    "    state_df = state_df[state_df['industry'] == 'Construction']\n",
    "    state_df = state_df[state_df['gender'] != 'Total']\n",
    "    state_df = state_df[state_df['gender'] != 'Equally male/female']\n",
    "    state_df = state_df[state_df['race_group_label'] == 'Total']\n",
    "    state_df = state_df[state_df['yibszfi_label'] == 'All firms']\n",
    "    \n",
    "    #Dropping unneeded columns\n",
    "    state_df.drop(['geo_id','industry', 'race_group_label','yibszfi_label', 'state', 'emp', 'industry_code', 'payann', 'rcppdemp'], axis = 1, inplace=True)\n",
    "    state_df.sort_values('name', inplace=True)\n",
    "    \n",
    "    #I'm breaking the gender column into 2 separate dataframes\n",
    "    male_df = state_df[state_df['gender'] == 'Male'].copy()\n",
    "    female_df = state_df[state_df['gender'] == 'Female'].copy()\n",
    "    male_df.reset_index(inplace=True)\n",
    "    female_df.reset_index(inplace=True)\n",
    "    \n",
    "    #Making a new dataframe with columns for #male-owned firms and #female-owned firms\n",
    "    newdf = male_df.copy()\n",
    "    newdf.drop('gender', axis = 1, inplace=True)\n",
    "    female_df.drop('gender', axis = 1, inplace=True)\n",
    "    newdf.rename(columns = {'firmpdemp':'Male'}, inplace = True)\n",
    "    female_df.rename(columns = {'firmpdemp':'Female'}, inplace = True)\n",
    "    \n",
    "    #Adding the female-owned firms column\n",
    "    newdf = newdf.merge(female_df, on = 'name')\n",
    "    newdf = newdf[newdf['Male'] != 0]\n",
    "    \n",
    "    #Generating a new column to find the ratio of female-owned firms to male-owned firms\n",
    "    newdf = newdf.assign(RatioFemaleToMale=lambda y: (y['Female'] / y['Male']))\n",
    "    newdf.sort_values('RatioFemaleToMale', ascending = False, inplace = True)\n",
    "    \n",
    "    #Drop unneeded columns\n",
    "    newdf.drop(['Male', 'Female'], axis = 1, inplace = True)\n",
    "    newdf = newdf.head(16)\n",
    "    \n",
    "    #Making the plot\n",
    "    plt.figure(figsize=(15, 5))\n",
    "    ax4 = sns.barplot(data = newdf, y = 'name', x = 'RatioFemaleToMale', color = 'orange')\n",
    "    ax4.set(xlabel =\"Ratio of Female Owned Firms to Male Owned Firms\", \n",
    "    ylabel = \"State\", title ='Majority Ownership of US Firms by Gender and State')\n",
    "    plt.show()\n",
    "jakes_visuals()"
   ]
  },
  {
   "cell_type": "code",
   "execution_count": null,
   "metadata": {},
   "outputs": [],
   "source": []
  },
  {
   "cell_type": "code",
   "execution_count": null,
   "metadata": {},
   "outputs": [],
   "source": []
  },
  {
   "cell_type": "code",
   "execution_count": null,
   "metadata": {},
   "outputs": [],
   "source": []
  }
 ],
 "metadata": {
  "kernelspec": {
   "display_name": "Python 3",
   "language": "python",
   "name": "python3"
  },
  "language_info": {
   "codemirror_mode": {
    "name": "ipython",
    "version": 3
   },
   "file_extension": ".py",
   "mimetype": "text/x-python",
   "name": "python",
   "nbconvert_exporter": "python",
   "pygments_lexer": "ipython3",
   "version": "3.8.5"
  }
 },
 "nbformat": 4,
 "nbformat_minor": 5
}
